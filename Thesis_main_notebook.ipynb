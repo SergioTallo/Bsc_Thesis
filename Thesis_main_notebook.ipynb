{
 "cells": [
  {
   "cell_type": "markdown",
   "source": [
    "# Multivariate Time Series Prediction Using Transformers Architecture\n",
    "\n",
    "The following Notebook shows the coding part of my Bachelor Thesis for the Information and Communication Systems and Services bachelor degree in the University of Applied Science Technikum Wien.\n",
    "\n",
    "Author: Sergio Tallo Torres\n",
    "Date: April 2022"
   ],
   "metadata": {
    "id": "EFhSljeOCnRw",
    "pycharm": {
     "name": "#%% md\n"
    }
   }
  },
  {
   "cell_type": "markdown",
   "metadata": {
    "id": "0esqvQHT2922",
    "pycharm": {
     "name": "#%% md\n"
    }
   },
   "source": [
    "# First: load imports needed for the project and project preparation"
   ]
  },
  {
   "cell_type": "code",
   "source": [
    "# This cell is necessary to use this notebook in google colab\n",
    "# If you are running this notebook in colab, please change colab to True\n",
    "\n",
    "import os\n",
    "\n",
    "colab = False\n",
    "cwd = os.getcwd()\n",
    "\n",
    "if colab is True and cwd != \"/content/Bsc_Thesis\":\n",
    "    from google.colab import files\n",
    "    ! git clone https://github.com/SergioTallo/Bsc_Thesis.git\n",
    "    % cd Bsc_Thesis\n",
    "\n",
    "print(cwd)"
   ],
   "metadata": {
    "colab": {
     "base_uri": "https://localhost:8080/"
    },
    "id": "adt0VN_ojbV1",
    "outputId": "5be8e51d-9226-4afc-c418-db0116eaa4b3",
    "pycharm": {
     "name": "#%%\n"
    }
   },
   "execution_count": 41,
   "outputs": [
    {
     "name": "stdout",
     "output_type": "stream",
     "text": [
      "/Users/sergiotallotorres/PycharmProjects/JKU/Multivariate_Time_Series_Prediction_Transformers\n"
     ]
    }
   ]
  },
  {
   "cell_type": "code",
   "execution_count": 45,
   "metadata": {
    "id": "VCwEuYFk2923",
    "scrolled": true,
    "colab": {
     "base_uri": "https://localhost:8080/"
    },
    "outputId": "91e29c4e-d9d5-45f2-b48b-14ac3eecee60",
    "pycharm": {
     "name": "#%%\n"
    }
   },
   "outputs": [
    {
     "name": "stdout",
     "output_type": "stream",
     "text": [
      "Device: CPU\n"
     ]
    }
   ],
   "source": [
    "import pandas as pd\n",
    "import seaborn as sns\n",
    "import numpy as np\n",
    "import matplotlib.pyplot as plt\n",
    "import torch.nn as nn\n",
    "\n",
    "import statistics\n",
    "import torch\n",
    "import math\n",
    "import sklearn\n",
    "import scipy\n",
    "\n",
    "from sklearn.model_selection import train_test_split\n",
    "from sklearn.decomposition import PCA\n",
    "from datetime import datetime\n",
    "from tqdm import tqdm\n",
    "from scipy import stats\n",
    "from platform import python_version\n",
    "from torch import Tensor, float32, sin, cos\n",
    "\n",
    "import utils_bsc\n",
    "\n",
    "if torch.cuda.is_available():\n",
    "  device = torch.device('cuda:0')\n",
    "  print('Device: GPU =', torch.cuda.get_device_name(0))\n",
    "else:\n",
    "  device = torch.device('cpu')\n",
    "  print('Device: CPU')\n"
   ]
  },
  {
   "cell_type": "code",
   "execution_count": null,
   "metadata": {
    "colab": {
     "base_uri": "https://localhost:8080/"
    },
    "id": "AQPvc4I-4LY5",
    "outputId": "052b7da9-3231-483d-e501-7280a9072a4a",
    "pycharm": {
     "name": "#%%\n"
    }
   },
   "outputs": [],
   "source": [
    "print('versions of packages:')\n",
    "print(f'Python: {python_version()}')\n",
    "print(f'Pandas: {pd.__version__}')\n",
    "print(f'Numpy: {np.__version__}')\n",
    "print(f'PyTorch: {torch.__version__}')\n",
    "print(f'Sklearn: {sklearn.__version__}')\n",
    "print(f'seaborn: {sns.__version__}')\n",
    "print(f'scipy: {scipy.__version__}')"
   ]
  },
  {
   "cell_type": "markdown",
   "metadata": {
    "id": "ICcfWNfajDhn",
    "pycharm": {
     "name": "#%% md\n"
    }
   },
   "source": [
    "# Data loading and preparation"
   ]
  },
  {
   "cell_type": "markdown",
   "metadata": {
    "collapsed": true,
    "id": "bjUFrMX32925",
    "pycharm": {
     "name": "#%% md\n"
    }
   },
   "source": [
    "Now, we should create a dataset with all the data stored in the .csv file\n",
    "\n",
    "Description of the data:\n",
    "\n",
    "*   time: Timestamp (YYYY-MM-DD HH:MM:SS)\n",
    "*   PLN1: Power in the phase 1 (W)\n",
    "*   PLN2: Power in the phase 2 (W)\n",
    "*   PLN3: Power in the phase 3 (W)\n",
    "*   ULL1: Current Voltage between 2 phases (V)\n",
    "*   ULL2: Current Voltage between 2 phases (V)\n",
    "*   ULL3: Current Voltage between 2 phases (V)\n",
    "*   COS_PHI1: Phase shift (Cos)\n",
    "*   COS_PHI2: Phase shift (Cos)\n",
    "*   COS_PHI3: Phase shift (Cos)\n",
    "*   FREQ: Electricity Frequency (Hz)\n",
    "*   RC_DC: Fault currents\n",
    "*   RC_AC: Fault currents\n",
    "*   RC_50Hz: Fault currents\n",
    "*   RC_150Hz: Fault currents\n",
    "*   RC_<100Hz: Fault currents\n",
    "*   RC_100Hz-1kHz: Fault currents\n",
    "*   RC_>10kHz: Fault currents\n"
   ]
  },
  {
   "cell_type": "code",
   "execution_count": 10,
   "metadata": {
    "colab": {
     "base_uri": "https://localhost:8080/",
     "height": 0
    },
    "id": "qIhc9bwK2926",
    "outputId": "16fab2a2-ac4f-445f-d10d-3f40d7bbd684",
    "scrolled": true,
    "pycharm": {
     "name": "#%%\n"
    }
   },
   "outputs": [
    {
     "data": {
      "text/plain": "                  time       PLN1      PLN2      PLN3      ULL1      ULL2  \\\n0  2020-06-01 00:00:00  1141.0819  519.5034  482.9381  398.8613  400.1982   \n1  2020-06-01 00:01:00  1145.1162  519.1807  491.4436  398.6934  400.1579   \n2  2020-06-01 00:02:00  1140.9558  743.3837  484.9942  398.4367  400.1205   \n3  2020-06-01 00:03:00  1151.9409  741.4836  487.4224  398.9800  400.4375   \n4  2020-06-01 00:04:00  1142.1594  741.9858  486.7629  398.7133  400.3145   \n\n       ULL3  COS_PHI1  COS_PHI2  COS_PHI3     FREQ  RC_DC  RC_AC  RC_50Hz  \\\n0  395.6010    0.8091    0.6864    0.4875  49.9927    4.0   91.0     10.0   \n1  395.5431    0.8080    0.6903    0.4904  49.9779    5.0   64.0      7.0   \n2  395.5259    0.8113    0.9274    0.4806  49.9782    4.0   64.0      7.0   \n3  395.8621    0.8249    0.9123    0.4778  49.9850    5.0   66.0      8.0   \n4  395.6446    0.8081    0.9291    0.4552  49.9856    4.0   85.0     11.0   \n\n   RC_150Hz  RC_<100Hz  RC_100Hz-1kHz  RC_>1kHz  RC_>10kHz  \n0      39.0       36.0           86.0      82.0        7.0  \n1      27.0       25.0           60.0      55.0        2.0  \n2      27.0       25.0           60.0      55.0        2.0  \n3      28.0       25.0           61.0      57.0        2.0  \n4      45.0       41.0           75.0      68.0        6.0  ",
      "text/html": "<div>\n<style scoped>\n    .dataframe tbody tr th:only-of-type {\n        vertical-align: middle;\n    }\n\n    .dataframe tbody tr th {\n        vertical-align: top;\n    }\n\n    .dataframe thead th {\n        text-align: right;\n    }\n</style>\n<table border=\"1\" class=\"dataframe\">\n  <thead>\n    <tr style=\"text-align: right;\">\n      <th></th>\n      <th>time</th>\n      <th>PLN1</th>\n      <th>PLN2</th>\n      <th>PLN3</th>\n      <th>ULL1</th>\n      <th>ULL2</th>\n      <th>ULL3</th>\n      <th>COS_PHI1</th>\n      <th>COS_PHI2</th>\n      <th>COS_PHI3</th>\n      <th>FREQ</th>\n      <th>RC_DC</th>\n      <th>RC_AC</th>\n      <th>RC_50Hz</th>\n      <th>RC_150Hz</th>\n      <th>RC_&lt;100Hz</th>\n      <th>RC_100Hz-1kHz</th>\n      <th>RC_&gt;1kHz</th>\n      <th>RC_&gt;10kHz</th>\n    </tr>\n  </thead>\n  <tbody>\n    <tr>\n      <th>0</th>\n      <td>2020-06-01 00:00:00</td>\n      <td>1141.0819</td>\n      <td>519.5034</td>\n      <td>482.9381</td>\n      <td>398.8613</td>\n      <td>400.1982</td>\n      <td>395.6010</td>\n      <td>0.8091</td>\n      <td>0.6864</td>\n      <td>0.4875</td>\n      <td>49.9927</td>\n      <td>4.0</td>\n      <td>91.0</td>\n      <td>10.0</td>\n      <td>39.0</td>\n      <td>36.0</td>\n      <td>86.0</td>\n      <td>82.0</td>\n      <td>7.0</td>\n    </tr>\n    <tr>\n      <th>1</th>\n      <td>2020-06-01 00:01:00</td>\n      <td>1145.1162</td>\n      <td>519.1807</td>\n      <td>491.4436</td>\n      <td>398.6934</td>\n      <td>400.1579</td>\n      <td>395.5431</td>\n      <td>0.8080</td>\n      <td>0.6903</td>\n      <td>0.4904</td>\n      <td>49.9779</td>\n      <td>5.0</td>\n      <td>64.0</td>\n      <td>7.0</td>\n      <td>27.0</td>\n      <td>25.0</td>\n      <td>60.0</td>\n      <td>55.0</td>\n      <td>2.0</td>\n    </tr>\n    <tr>\n      <th>2</th>\n      <td>2020-06-01 00:02:00</td>\n      <td>1140.9558</td>\n      <td>743.3837</td>\n      <td>484.9942</td>\n      <td>398.4367</td>\n      <td>400.1205</td>\n      <td>395.5259</td>\n      <td>0.8113</td>\n      <td>0.9274</td>\n      <td>0.4806</td>\n      <td>49.9782</td>\n      <td>4.0</td>\n      <td>64.0</td>\n      <td>7.0</td>\n      <td>27.0</td>\n      <td>25.0</td>\n      <td>60.0</td>\n      <td>55.0</td>\n      <td>2.0</td>\n    </tr>\n    <tr>\n      <th>3</th>\n      <td>2020-06-01 00:03:00</td>\n      <td>1151.9409</td>\n      <td>741.4836</td>\n      <td>487.4224</td>\n      <td>398.9800</td>\n      <td>400.4375</td>\n      <td>395.8621</td>\n      <td>0.8249</td>\n      <td>0.9123</td>\n      <td>0.4778</td>\n      <td>49.9850</td>\n      <td>5.0</td>\n      <td>66.0</td>\n      <td>8.0</td>\n      <td>28.0</td>\n      <td>25.0</td>\n      <td>61.0</td>\n      <td>57.0</td>\n      <td>2.0</td>\n    </tr>\n    <tr>\n      <th>4</th>\n      <td>2020-06-01 00:04:00</td>\n      <td>1142.1594</td>\n      <td>741.9858</td>\n      <td>486.7629</td>\n      <td>398.7133</td>\n      <td>400.3145</td>\n      <td>395.6446</td>\n      <td>0.8081</td>\n      <td>0.9291</td>\n      <td>0.4552</td>\n      <td>49.9856</td>\n      <td>4.0</td>\n      <td>85.0</td>\n      <td>11.0</td>\n      <td>45.0</td>\n      <td>41.0</td>\n      <td>75.0</td>\n      <td>68.0</td>\n      <td>6.0</td>\n    </tr>\n  </tbody>\n</table>\n</div>"
     },
     "execution_count": 10,
     "metadata": {},
     "output_type": "execute_result"
    }
   ],
   "source": [
    "dataset = pd.read_csv('data_factory.csv')\n",
    "dataset.head()"
   ]
  },
  {
   "cell_type": "markdown",
   "metadata": {
    "id": "tZAyQ-cA2926",
    "pycharm": {
     "name": "#%% md\n"
    }
   },
   "source": [
    "Once we have the dataset, we should prepare it. Finding the missing or the NaN values and replace them with suitable values (in this case we use the value of the previous elemnt in the sequence)."
   ]
  },
  {
   "cell_type": "code",
   "execution_count": 11,
   "metadata": {
    "colab": {
     "base_uri": "https://localhost:8080/"
    },
    "id": "BNTHq6mO2927",
    "outputId": "d4f84d71-5ca1-4e70-9a2d-1c38490013e0",
    "scrolled": true,
    "pycharm": {
     "name": "#%%\n"
    }
   },
   "outputs": [
    {
     "name": "stdout",
     "output_type": "stream",
     "text": [
      "Number of rows with NaN values before cleaning: 2546\n",
      "Number of rows with NaN values after cleaning: 0\n",
      "Total number of samples: 63360\n",
      "Number of features: 19\n"
     ]
    }
   ],
   "source": [
    "# Replace all mising values with NaN\n",
    "dataset = dataset.replace(' ', np.nan)\n",
    "# Search for all the rows with NaN values\n",
    "nan_values = dataset[dataset.isna().any(axis=1)]\n",
    "# Print the shape to know how many are there\n",
    "print(f'Number of rows with NaN values before cleaning: {nan_values.shape[0]}') \n",
    "\n",
    "# Fill all NaN values with the previous row value\n",
    "dataset_clean = dataset.fillna(method='ffill')\n",
    "\n",
    "# Check that there isn't any NaN values\n",
    "nan_values = dataset_clean[dataset_clean.isna().any(axis=1)]\n",
    "# Print the shape to know how many are there\n",
    "print(f'Number of rows with NaN values after cleaning: {nan_values.shape[0]}') \n",
    "\n",
    "#Total number of samples\n",
    "print(f'Total number of samples: {dataset_clean.shape[0]}')\n",
    "print(f'Number of features: {dataset_clean.shape[1]}')"
   ]
  },
  {
   "cell_type": "markdown",
   "metadata": {
    "id": "d44xLGPbjDhp",
    "pycharm": {
     "name": "#%% md\n"
    }
   },
   "source": [
    "# Distribution of the data"
   ]
  },
  {
   "cell_type": "markdown",
   "metadata": {
    "id": "A6R7YF-T2928",
    "pycharm": {
     "name": "#%% md\n"
    }
   },
   "source": [
    "Now we look at the distribution of the different features of the data over different time intervals.\n",
    "First we take a look of the min and max values, mean and median value and the standard deviation of every feature."
   ]
  },
  {
   "cell_type": "code",
   "source": [
    "print_data = False\n",
    "print_graphs = False"
   ],
   "metadata": {
    "id": "mxwdhBtX9XId",
    "pycharm": {
     "name": "#%%\n"
    }
   },
   "execution_count": 12,
   "outputs": []
  },
  {
   "cell_type": "code",
   "source": [
    "if print_data is True:\n",
    "  for column in dataset_clean.columns:\n",
    "    if column == 'time':\n",
    "      print(column)\n",
    "      print('Min value: ', dataset_clean[column].min())\n",
    "      print('Max value: ', dataset_clean[column].max())\n",
    "      print('')\n",
    "    else:\n",
    "      print(column)\n",
    "      print('Min value: ', dataset_clean[column].min())\n",
    "      print('Max value: ', dataset_clean[column].max())\n",
    "      print('Mean value: ', dataset_clean[column].mean())\n",
    "      print('Median value: ', dataset_clean[column].median())\n",
    "      print('Standard deviation: ', dataset_clean[column].std())\n",
    "      print('')"
   ],
   "metadata": {
    "id": "pseEB_3qChk4",
    "pycharm": {
     "name": "#%%\n"
    }
   },
   "execution_count": 13,
   "outputs": []
  },
  {
   "cell_type": "code",
   "execution_count": 14,
   "metadata": {
    "id": "tQ0vhNNv2928",
    "scrolled": false,
    "pycharm": {
     "name": "#%%\n"
    }
   },
   "outputs": [],
   "source": [
    "if print_graphs is True:\n",
    "\n",
    "  for i, column in enumerate(dataset_clean.columns):\n",
    "    if i > 0:\n",
    "      # Feature in a weekly interval\n",
    "      utils_bsc.week_plot(dataset_clean, i, column)\n",
    "      # Feature in a daily interval (only the values of weekdays between 4:00 and 19:30)\n",
    "      utils_bsc.daily_plot(dataset_clean, i, column)"
   ]
  },
  {
   "cell_type": "code",
   "source": [
    "# We print some graphs showing the density distribution of every feature\n",
    "if print_graphs is True:\n",
    "  for column in tqdm(dataset_clean.columns):\n",
    "    if column != 'time':\n",
    "      sns.displot(dataset_clean, x=column, kind=\"kde\")"
   ],
   "metadata": {
    "id": "sJIFPsqkiezx",
    "pycharm": {
     "name": "#%%\n"
    }
   },
   "execution_count": 15,
   "outputs": []
  },
  {
   "cell_type": "markdown",
   "source": [
    "After looking to the different data graphs i notice there two very different \"time slots\" when the data differs. One is Weekdays between 4:00 and 19:30. The other is Weekdays bewteen 19:30 and 4:00 and Weekends."
   ],
   "metadata": {
    "id": "cWFCmrIH5oA9",
    "pycharm": {
     "name": "#%% md\n"
    }
   }
  },
  {
   "cell_type": "code",
   "source": [
    "# We create two extra data sets, one with the weekdays between 4:00 and 18:30 and one with the rest.\n",
    "dataset_clean_time = pd.to_datetime(dataset_clean['time'])\n",
    "\n",
    "day_mask = dataset_clean_time.dt.day_name()\n",
    "\n",
    "time_mask = (dataset_clean_time.dt.hour >= 4) & ((dataset_clean_time.dt.hour < 19) | ((dataset_clean_time.dt.hour == 19) & (dataset_clean_time.dt.minute <= 30))) & ((day_mask == ('Monday')) | (day_mask == ('Tuesday')) | (day_mask == ('Wednesday')) | (day_mask == ('Thursday')) | (day_mask == ('Friday')))\n",
    "\n",
    "dataset_weekdays = dataset_clean[time_mask]\n",
    "\n",
    "for i in range(len(time_mask)):\n",
    "  if time_mask[i] == False:\n",
    "    time_mask[i] = True\n",
    "  elif time_mask[i] == True:\n",
    "    time_mask[i] = False\n",
    "\n",
    "dataset_weekend = dataset_clean[time_mask]\n",
    "\n",
    "print(f'Weekdays dataset size: {len(dataset_weekdays)}')\n",
    "print(f'Weekend dataset size: {len(dataset_weekend)}')"
   ],
   "metadata": {
    "id": "hVOHl2YDmFV9",
    "colab": {
     "base_uri": "https://localhost:8080/"
    },
    "outputId": "ec22b508-7c9b-4cf8-e369-72162afc76a1",
    "pycharm": {
     "name": "#%%\n"
    }
   },
   "execution_count": 16,
   "outputs": [
    {
     "name": "stdout",
     "output_type": "stream",
     "text": [
      "Weekdays dataset size: 29792\n",
      "Weekend dataset size: 33568\n"
     ]
    }
   ]
  },
  {
   "cell_type": "code",
   "source": [
    "if print_graphs is True:\n",
    "  for column in tqdm(dataset_weekdays.columns):\n",
    "    if column != 'time':\n",
    "      sns.displot(dataset_weekdays, x=column, kind=\"kde\")"
   ],
   "metadata": {
    "id": "jYbGTF6mSz5v",
    "pycharm": {
     "name": "#%%\n"
    }
   },
   "execution_count": 17,
   "outputs": []
  },
  {
   "cell_type": "code",
   "source": [
    "if print_graphs is True:\n",
    "  for column in tqdm(dataset_weekend.columns):\n",
    "    if column != 'time':\n",
    "      sns.displot(dataset_weekend, x=column, kind=\"kde\")"
   ],
   "metadata": {
    "id": "hqupNsJw6bzH",
    "pycharm": {
     "name": "#%%\n"
    }
   },
   "execution_count": 18,
   "outputs": []
  },
  {
   "cell_type": "markdown",
   "source": [
    "At this time we have three different datasets:\n",
    "\n",
    "* dataset_clean (Whole dataset)\n",
    "* dataset_weekdays (Entries from weekdays from 4:00 to 19:30)\n",
    "* dataset_weekend (Entries from Weekends and from weekdays from 19:30 to 4:00)\n",
    "\n"
   ],
   "metadata": {
    "id": "mgEydMmqTHtJ",
    "pycharm": {
     "name": "#%% md\n"
    }
   }
  },
  {
   "cell_type": "markdown",
   "source": [
    "# Dataset normalisation\n",
    "\n",
    "The scale of the data of the different features is very different. Its better to have all of the features in the same scale. Therefore we perform a data normalisation. We choose to do a mean/stddev normalisation. We substract from every value the mean value of the feature and divide the result value by the std dev of this specific feature to have feature values with mean 0 and stddev of 1."
   ],
   "metadata": {
    "id": "B6iRPxmuJzVK",
    "pycharm": {
     "name": "#%% md\n"
    }
   }
  },
  {
   "cell_type": "code",
   "source": [
    "# apply the mean / stddev scaling in Pandas using the .mean() and .std() methods\n",
    "def normalize_mean_std_dataset(df):\n",
    "    # copy the dataframe\n",
    "    df_norm = df.copy()\n",
    "    # apply mean / stddev scaling\n",
    "    for column in tqdm(df_norm.columns):\n",
    "      if column != 'time':\n",
    "        df_norm[column] = (df_norm[column] - df_norm[column].mean()) / df_norm[column].std()\n",
    "    return df_norm"
   ],
   "metadata": {
    "id": "HBGfdNkAxxbN",
    "pycharm": {
     "name": "#%%\n"
    }
   },
   "execution_count": 19,
   "outputs": []
  },
  {
   "cell_type": "code",
   "source": [
    "# Perform the data normalisation in the whole dataset. We can print the distribution of the data if we want.\n",
    "dataset_norm = normalize_mean_std_dataset(dataset_clean)\n",
    "\n",
    "print_graphs = False\n",
    "\n",
    "if print_graphs is True:\n",
    "  for column in tqdm(dataset_norm.columns):\n",
    "    if column != 'time':\n",
    "      sns.displot(dataset_norm, x=column, kind=\"kde\")"
   ],
   "metadata": {
    "id": "1VhzsSn37b_0",
    "outputId": "feac8d56-6c89-4712-c442-e8369f47466e",
    "colab": {
     "base_uri": "https://localhost:8080/"
    },
    "pycharm": {
     "name": "#%%\n"
    }
   },
   "execution_count": 20,
   "outputs": [
    {
     "name": "stderr",
     "output_type": "stream",
     "text": [
      "100%|██████████| 19/19 [00:00<00:00, 839.15it/s]\n"
     ]
    }
   ]
  },
  {
   "cell_type": "code",
   "source": [
    "# Perform the data normalisation in the weekdays dataset. We can print the distribution of the data if we want.\n",
    "dataset_weekdays_norm = normalize_mean_std_dataset(dataset_weekdays)\n",
    "\n",
    "print_graphs = False\n",
    "\n",
    "if print_graphs is True:\n",
    "  for column in tqdm(dataset_weekdays_norm.columns):\n",
    "    if column != 'time':\n",
    "      sns.displot(dataset_weekdays_norm, x=column, kind=\"kde\")"
   ],
   "metadata": {
    "id": "SuS8dhouVCec",
    "outputId": "ae2a84c9-4e57-47e3-fa35-e804e8d5cf31",
    "colab": {
     "base_uri": "https://localhost:8080/"
    },
    "pycharm": {
     "name": "#%%\n"
    }
   },
   "execution_count": 21,
   "outputs": [
    {
     "name": "stderr",
     "output_type": "stream",
     "text": [
      "100%|██████████| 19/19 [00:00<00:00, 1583.48it/s]\n"
     ]
    }
   ]
  },
  {
   "cell_type": "code",
   "source": [
    "# Perform the data normalisation in the weekdays dataset. We can print the distribution of the data if we want.\n",
    "dataset_weekend_norm = normalize_mean_std_dataset(dataset_weekend)\n",
    "\n",
    "print_graphs = False\n",
    "\n",
    "if print_graphs is True:\n",
    "  for column in tqdm(dataset_weekend_norm.columns):\n",
    "    if column != 'time':\n",
    "      sns.displot(dataset_weekend_norm, x=column, kind=\"kde\")"
   ],
   "metadata": {
    "id": "MH07VtqpVdez",
    "outputId": "ee18b892-1945-4972-a5d6-b9ea5eac2aec",
    "colab": {
     "base_uri": "https://localhost:8080/"
    },
    "pycharm": {
     "name": "#%%\n"
    }
   },
   "execution_count": 22,
   "outputs": [
    {
     "name": "stderr",
     "output_type": "stream",
     "text": [
      "100%|██████████| 19/19 [00:00<00:00, 1693.12it/s]\n"
     ]
    }
   ]
  },
  {
   "cell_type": "code",
   "source": [
    "dataset_norm.head()"
   ],
   "metadata": {
    "id": "FDUnKkascXyI",
    "outputId": "8157c546-d388-465c-a609-2a889bfb50e7",
    "colab": {
     "base_uri": "https://localhost:8080/",
     "height": 0
    },
    "pycharm": {
     "name": "#%%\n"
    }
   },
   "execution_count": 23,
   "outputs": [
    {
     "data": {
      "text/plain": "                  time      PLN1      PLN2      PLN3      ULL1      ULL2  \\\n0  2020-06-01 00:00:00 -1.075593 -1.045021 -1.051232  0.063478 -0.098312   \n1  2020-06-01 00:01:00 -1.074875 -1.045103 -1.048747  0.027004 -0.107515   \n2  2020-06-01 00:02:00 -1.075615 -0.988316 -1.050631 -0.028760 -0.116055   \n3  2020-06-01 00:03:00 -1.073661 -0.988798 -1.049922  0.089264 -0.043667   \n4  2020-06-01 00:04:00 -1.075401 -0.988670 -1.050114  0.031327 -0.071754   \n\n       ULL3  COS_PHI1  COS_PHI2  COS_PHI3      FREQ     RC_DC     RC_AC  \\\n0 -0.618908 -1.868350 -1.835847 -1.500292 -0.345935 -0.817380  0.632551   \n1 -0.632738 -1.884005 -1.803753 -1.486828 -1.139728  0.678985 -0.849829   \n2 -0.636846 -1.837041  0.147415 -1.532327 -1.123638 -0.817380 -0.849829   \n3 -0.556540 -1.643493  0.023152 -1.545327 -0.758922  0.678985 -0.740023   \n4 -0.608493 -1.882582  0.161405 -1.650254 -0.726741 -0.817380  0.303134   \n\n    RC_50Hz  RC_150Hz  RC_<100Hz  RC_100Hz-1kHz  RC_>1kHz  RC_>10kHz  \n0  1.075812  0.995360   1.143832       0.694697  0.747095   2.141318  \n1 -0.918340 -0.792166  -0.630653      -0.822036 -0.777047  -1.175568  \n2 -0.918340 -0.792166  -0.630653      -0.822036 -0.777047  -1.175568  \n3 -0.253623 -0.643206  -0.630653      -0.763700 -0.664147  -1.175568  \n4  1.740530  1.889123   1.950416       0.053002 -0.043201   1.477941  ",
      "text/html": "<div>\n<style scoped>\n    .dataframe tbody tr th:only-of-type {\n        vertical-align: middle;\n    }\n\n    .dataframe tbody tr th {\n        vertical-align: top;\n    }\n\n    .dataframe thead th {\n        text-align: right;\n    }\n</style>\n<table border=\"1\" class=\"dataframe\">\n  <thead>\n    <tr style=\"text-align: right;\">\n      <th></th>\n      <th>time</th>\n      <th>PLN1</th>\n      <th>PLN2</th>\n      <th>PLN3</th>\n      <th>ULL1</th>\n      <th>ULL2</th>\n      <th>ULL3</th>\n      <th>COS_PHI1</th>\n      <th>COS_PHI2</th>\n      <th>COS_PHI3</th>\n      <th>FREQ</th>\n      <th>RC_DC</th>\n      <th>RC_AC</th>\n      <th>RC_50Hz</th>\n      <th>RC_150Hz</th>\n      <th>RC_&lt;100Hz</th>\n      <th>RC_100Hz-1kHz</th>\n      <th>RC_&gt;1kHz</th>\n      <th>RC_&gt;10kHz</th>\n    </tr>\n  </thead>\n  <tbody>\n    <tr>\n      <th>0</th>\n      <td>2020-06-01 00:00:00</td>\n      <td>-1.075593</td>\n      <td>-1.045021</td>\n      <td>-1.051232</td>\n      <td>0.063478</td>\n      <td>-0.098312</td>\n      <td>-0.618908</td>\n      <td>-1.868350</td>\n      <td>-1.835847</td>\n      <td>-1.500292</td>\n      <td>-0.345935</td>\n      <td>-0.817380</td>\n      <td>0.632551</td>\n      <td>1.075812</td>\n      <td>0.995360</td>\n      <td>1.143832</td>\n      <td>0.694697</td>\n      <td>0.747095</td>\n      <td>2.141318</td>\n    </tr>\n    <tr>\n      <th>1</th>\n      <td>2020-06-01 00:01:00</td>\n      <td>-1.074875</td>\n      <td>-1.045103</td>\n      <td>-1.048747</td>\n      <td>0.027004</td>\n      <td>-0.107515</td>\n      <td>-0.632738</td>\n      <td>-1.884005</td>\n      <td>-1.803753</td>\n      <td>-1.486828</td>\n      <td>-1.139728</td>\n      <td>0.678985</td>\n      <td>-0.849829</td>\n      <td>-0.918340</td>\n      <td>-0.792166</td>\n      <td>-0.630653</td>\n      <td>-0.822036</td>\n      <td>-0.777047</td>\n      <td>-1.175568</td>\n    </tr>\n    <tr>\n      <th>2</th>\n      <td>2020-06-01 00:02:00</td>\n      <td>-1.075615</td>\n      <td>-0.988316</td>\n      <td>-1.050631</td>\n      <td>-0.028760</td>\n      <td>-0.116055</td>\n      <td>-0.636846</td>\n      <td>-1.837041</td>\n      <td>0.147415</td>\n      <td>-1.532327</td>\n      <td>-1.123638</td>\n      <td>-0.817380</td>\n      <td>-0.849829</td>\n      <td>-0.918340</td>\n      <td>-0.792166</td>\n      <td>-0.630653</td>\n      <td>-0.822036</td>\n      <td>-0.777047</td>\n      <td>-1.175568</td>\n    </tr>\n    <tr>\n      <th>3</th>\n      <td>2020-06-01 00:03:00</td>\n      <td>-1.073661</td>\n      <td>-0.988798</td>\n      <td>-1.049922</td>\n      <td>0.089264</td>\n      <td>-0.043667</td>\n      <td>-0.556540</td>\n      <td>-1.643493</td>\n      <td>0.023152</td>\n      <td>-1.545327</td>\n      <td>-0.758922</td>\n      <td>0.678985</td>\n      <td>-0.740023</td>\n      <td>-0.253623</td>\n      <td>-0.643206</td>\n      <td>-0.630653</td>\n      <td>-0.763700</td>\n      <td>-0.664147</td>\n      <td>-1.175568</td>\n    </tr>\n    <tr>\n      <th>4</th>\n      <td>2020-06-01 00:04:00</td>\n      <td>-1.075401</td>\n      <td>-0.988670</td>\n      <td>-1.050114</td>\n      <td>0.031327</td>\n      <td>-0.071754</td>\n      <td>-0.608493</td>\n      <td>-1.882582</td>\n      <td>0.161405</td>\n      <td>-1.650254</td>\n      <td>-0.726741</td>\n      <td>-0.817380</td>\n      <td>0.303134</td>\n      <td>1.740530</td>\n      <td>1.889123</td>\n      <td>1.950416</td>\n      <td>0.053002</td>\n      <td>-0.043201</td>\n      <td>1.477941</td>\n    </tr>\n  </tbody>\n</table>\n</div>"
     },
     "execution_count": 23,
     "metadata": {},
     "output_type": "execute_result"
    }
   ]
  },
  {
   "cell_type": "code",
   "source": [
    "dataset_weekdays_norm.head()"
   ],
   "metadata": {
    "id": "mQo9ewweclhz",
    "outputId": "c8315a48-6d38-413f-8228-1ce7ee8c248b",
    "colab": {
     "base_uri": "https://localhost:8080/",
     "height": 0
    },
    "pycharm": {
     "name": "#%%\n"
    }
   },
   "execution_count": 24,
   "outputs": [
    {
     "data": {
      "text/plain": "                    time      PLN1      PLN2      PLN3      ULL1      ULL2  \\\n240  2020-06-01 04:00:00 -3.844526 -2.815111 -3.811858  1.679619  1.570822   \n241  2020-06-01 04:01:00 -3.846186 -3.787824 -3.823188  1.763631  1.696076   \n242  2020-06-01 04:02:00 -3.839272 -1.875102 -2.712874  1.852445  1.730759   \n243  2020-06-01 04:03:00 -3.842709 -3.088604 -3.827000  1.832063  1.744944   \n244  2020-06-01 04:04:00 -3.844287 -2.842539 -3.450520  1.753998  1.623568   \n\n         ULL3  COS_PHI1  COS_PHI2   COS_PHI3      FREQ     RC_DC     RC_AC  \\\n240  1.782563 -1.458455 -0.043591 -11.695581 -0.570289 -0.884008 -3.224201   \n241  1.843617 -1.467086 -2.835547 -11.782866  0.903443  2.133621 -3.224201   \n242  1.917486 -1.557711  0.058113  -1.543490  0.445873  0.624807 -1.273229   \n243  1.905749 -1.475716 -0.716154 -12.237347 -0.219683  0.624807 -1.923553   \n244  1.808403 -1.527502 -0.430725  -5.973931 -0.611886 -0.884008 -1.842262   \n\n      RC_50Hz  RC_150Hz  RC_<100Hz  RC_100Hz-1kHz  RC_>1kHz  RC_>10kHz  \n240 -1.568103 -1.701045  -1.466370      -3.271799 -2.865462  -1.695805  \n241 -1.568103 -1.701045  -1.466370      -3.357651 -2.939190  -1.695805  \n242 -0.765503 -1.118658  -0.885575      -1.211362 -0.948518  -0.928865  \n243 -1.568103 -1.312787  -1.272772      -2.069878 -1.538347  -0.928865  \n244 -0.765503 -1.312787  -1.272772      -2.069878 -1.464618  -0.928865  ",
      "text/html": "<div>\n<style scoped>\n    .dataframe tbody tr th:only-of-type {\n        vertical-align: middle;\n    }\n\n    .dataframe tbody tr th {\n        vertical-align: top;\n    }\n\n    .dataframe thead th {\n        text-align: right;\n    }\n</style>\n<table border=\"1\" class=\"dataframe\">\n  <thead>\n    <tr style=\"text-align: right;\">\n      <th></th>\n      <th>time</th>\n      <th>PLN1</th>\n      <th>PLN2</th>\n      <th>PLN3</th>\n      <th>ULL1</th>\n      <th>ULL2</th>\n      <th>ULL3</th>\n      <th>COS_PHI1</th>\n      <th>COS_PHI2</th>\n      <th>COS_PHI3</th>\n      <th>FREQ</th>\n      <th>RC_DC</th>\n      <th>RC_AC</th>\n      <th>RC_50Hz</th>\n      <th>RC_150Hz</th>\n      <th>RC_&lt;100Hz</th>\n      <th>RC_100Hz-1kHz</th>\n      <th>RC_&gt;1kHz</th>\n      <th>RC_&gt;10kHz</th>\n    </tr>\n  </thead>\n  <tbody>\n    <tr>\n      <th>240</th>\n      <td>2020-06-01 04:00:00</td>\n      <td>-3.844526</td>\n      <td>-2.815111</td>\n      <td>-3.811858</td>\n      <td>1.679619</td>\n      <td>1.570822</td>\n      <td>1.782563</td>\n      <td>-1.458455</td>\n      <td>-0.043591</td>\n      <td>-11.695581</td>\n      <td>-0.570289</td>\n      <td>-0.884008</td>\n      <td>-3.224201</td>\n      <td>-1.568103</td>\n      <td>-1.701045</td>\n      <td>-1.466370</td>\n      <td>-3.271799</td>\n      <td>-2.865462</td>\n      <td>-1.695805</td>\n    </tr>\n    <tr>\n      <th>241</th>\n      <td>2020-06-01 04:01:00</td>\n      <td>-3.846186</td>\n      <td>-3.787824</td>\n      <td>-3.823188</td>\n      <td>1.763631</td>\n      <td>1.696076</td>\n      <td>1.843617</td>\n      <td>-1.467086</td>\n      <td>-2.835547</td>\n      <td>-11.782866</td>\n      <td>0.903443</td>\n      <td>2.133621</td>\n      <td>-3.224201</td>\n      <td>-1.568103</td>\n      <td>-1.701045</td>\n      <td>-1.466370</td>\n      <td>-3.357651</td>\n      <td>-2.939190</td>\n      <td>-1.695805</td>\n    </tr>\n    <tr>\n      <th>242</th>\n      <td>2020-06-01 04:02:00</td>\n      <td>-3.839272</td>\n      <td>-1.875102</td>\n      <td>-2.712874</td>\n      <td>1.852445</td>\n      <td>1.730759</td>\n      <td>1.917486</td>\n      <td>-1.557711</td>\n      <td>0.058113</td>\n      <td>-1.543490</td>\n      <td>0.445873</td>\n      <td>0.624807</td>\n      <td>-1.273229</td>\n      <td>-0.765503</td>\n      <td>-1.118658</td>\n      <td>-0.885575</td>\n      <td>-1.211362</td>\n      <td>-0.948518</td>\n      <td>-0.928865</td>\n    </tr>\n    <tr>\n      <th>243</th>\n      <td>2020-06-01 04:03:00</td>\n      <td>-3.842709</td>\n      <td>-3.088604</td>\n      <td>-3.827000</td>\n      <td>1.832063</td>\n      <td>1.744944</td>\n      <td>1.905749</td>\n      <td>-1.475716</td>\n      <td>-0.716154</td>\n      <td>-12.237347</td>\n      <td>-0.219683</td>\n      <td>0.624807</td>\n      <td>-1.923553</td>\n      <td>-1.568103</td>\n      <td>-1.312787</td>\n      <td>-1.272772</td>\n      <td>-2.069878</td>\n      <td>-1.538347</td>\n      <td>-0.928865</td>\n    </tr>\n    <tr>\n      <th>244</th>\n      <td>2020-06-01 04:04:00</td>\n      <td>-3.844287</td>\n      <td>-2.842539</td>\n      <td>-3.450520</td>\n      <td>1.753998</td>\n      <td>1.623568</td>\n      <td>1.808403</td>\n      <td>-1.527502</td>\n      <td>-0.430725</td>\n      <td>-5.973931</td>\n      <td>-0.611886</td>\n      <td>-0.884008</td>\n      <td>-1.842262</td>\n      <td>-0.765503</td>\n      <td>-1.312787</td>\n      <td>-1.272772</td>\n      <td>-2.069878</td>\n      <td>-1.464618</td>\n      <td>-0.928865</td>\n    </tr>\n  </tbody>\n</table>\n</div>"
     },
     "execution_count": 24,
     "metadata": {},
     "output_type": "execute_result"
    }
   ]
  },
  {
   "cell_type": "code",
   "source": [
    "dataset_weekend_norm.head()"
   ],
   "metadata": {
    "id": "TBgx07hRcodl",
    "outputId": "38a11bda-3d0a-4439-8d7f-7c306f38d006",
    "colab": {
     "base_uri": "https://localhost:8080/",
     "height": 0
    },
    "pycharm": {
     "name": "#%%\n"
    }
   },
   "execution_count": 25,
   "outputs": [
    {
     "data": {
      "text/plain": "                  time      PLN1      PLN2      PLN3      ULL1      ULL2  \\\n0  2020-06-01 00:00:00 -0.520051 -0.469417 -0.491179 -0.852017 -1.003068   \n1  2020-06-01 00:01:00 -0.518390 -0.469592 -0.485656 -0.905465 -1.016009   \n2  2020-06-01 00:02:00 -0.520102 -0.348132 -0.489844 -0.987181 -1.028018   \n3  2020-06-01 00:03:00 -0.515582 -0.349161 -0.488267 -0.814230 -0.926227   \n4  2020-06-01 00:04:00 -0.519607 -0.348889 -0.488696 -0.899130 -0.965723   \n\n       ULL3  COS_PHI1  COS_PHI2  COS_PHI3      FREQ     RC_DC     RC_AC  \\\n0 -1.783292 -1.338808 -1.189834 -0.885658 -0.479759 -0.761410  1.276387   \n1 -1.803094 -1.356629 -1.159350 -0.870606 -1.233069  0.728477 -0.330467   \n2 -1.808977 -1.303165  0.693881 -0.921471 -1.217799 -0.761410 -0.330467   \n3 -1.693993 -1.082826  0.575856 -0.936003 -0.871684  0.728477 -0.211441   \n4 -1.768380 -1.355009  0.707168 -1.053303 -0.841144 -0.761410  0.919308   \n\n    RC_50Hz  RC_150Hz  RC_<100Hz  RC_100Hz-1kHz  RC_>1kHz  RC_>10kHz  \n0  1.388355  1.509262   1.555410       1.427389  1.381491   2.307679  \n1 -0.570467 -0.350376  -0.254028      -0.283821 -0.298828  -0.881879  \n2 -0.570467 -0.350376  -0.254028      -0.283821 -0.298828  -0.881879  \n3  0.082473 -0.195407  -0.254028      -0.218005 -0.174360  -0.881879  \n4  2.041296  2.439081   2.377882       0.703416  0.510214   1.669767  ",
      "text/html": "<div>\n<style scoped>\n    .dataframe tbody tr th:only-of-type {\n        vertical-align: middle;\n    }\n\n    .dataframe tbody tr th {\n        vertical-align: top;\n    }\n\n    .dataframe thead th {\n        text-align: right;\n    }\n</style>\n<table border=\"1\" class=\"dataframe\">\n  <thead>\n    <tr style=\"text-align: right;\">\n      <th></th>\n      <th>time</th>\n      <th>PLN1</th>\n      <th>PLN2</th>\n      <th>PLN3</th>\n      <th>ULL1</th>\n      <th>ULL2</th>\n      <th>ULL3</th>\n      <th>COS_PHI1</th>\n      <th>COS_PHI2</th>\n      <th>COS_PHI3</th>\n      <th>FREQ</th>\n      <th>RC_DC</th>\n      <th>RC_AC</th>\n      <th>RC_50Hz</th>\n      <th>RC_150Hz</th>\n      <th>RC_&lt;100Hz</th>\n      <th>RC_100Hz-1kHz</th>\n      <th>RC_&gt;1kHz</th>\n      <th>RC_&gt;10kHz</th>\n    </tr>\n  </thead>\n  <tbody>\n    <tr>\n      <th>0</th>\n      <td>2020-06-01 00:00:00</td>\n      <td>-0.520051</td>\n      <td>-0.469417</td>\n      <td>-0.491179</td>\n      <td>-0.852017</td>\n      <td>-1.003068</td>\n      <td>-1.783292</td>\n      <td>-1.338808</td>\n      <td>-1.189834</td>\n      <td>-0.885658</td>\n      <td>-0.479759</td>\n      <td>-0.761410</td>\n      <td>1.276387</td>\n      <td>1.388355</td>\n      <td>1.509262</td>\n      <td>1.555410</td>\n      <td>1.427389</td>\n      <td>1.381491</td>\n      <td>2.307679</td>\n    </tr>\n    <tr>\n      <th>1</th>\n      <td>2020-06-01 00:01:00</td>\n      <td>-0.518390</td>\n      <td>-0.469592</td>\n      <td>-0.485656</td>\n      <td>-0.905465</td>\n      <td>-1.016009</td>\n      <td>-1.803094</td>\n      <td>-1.356629</td>\n      <td>-1.159350</td>\n      <td>-0.870606</td>\n      <td>-1.233069</td>\n      <td>0.728477</td>\n      <td>-0.330467</td>\n      <td>-0.570467</td>\n      <td>-0.350376</td>\n      <td>-0.254028</td>\n      <td>-0.283821</td>\n      <td>-0.298828</td>\n      <td>-0.881879</td>\n    </tr>\n    <tr>\n      <th>2</th>\n      <td>2020-06-01 00:02:00</td>\n      <td>-0.520102</td>\n      <td>-0.348132</td>\n      <td>-0.489844</td>\n      <td>-0.987181</td>\n      <td>-1.028018</td>\n      <td>-1.808977</td>\n      <td>-1.303165</td>\n      <td>0.693881</td>\n      <td>-0.921471</td>\n      <td>-1.217799</td>\n      <td>-0.761410</td>\n      <td>-0.330467</td>\n      <td>-0.570467</td>\n      <td>-0.350376</td>\n      <td>-0.254028</td>\n      <td>-0.283821</td>\n      <td>-0.298828</td>\n      <td>-0.881879</td>\n    </tr>\n    <tr>\n      <th>3</th>\n      <td>2020-06-01 00:03:00</td>\n      <td>-0.515582</td>\n      <td>-0.349161</td>\n      <td>-0.488267</td>\n      <td>-0.814230</td>\n      <td>-0.926227</td>\n      <td>-1.693993</td>\n      <td>-1.082826</td>\n      <td>0.575856</td>\n      <td>-0.936003</td>\n      <td>-0.871684</td>\n      <td>0.728477</td>\n      <td>-0.211441</td>\n      <td>0.082473</td>\n      <td>-0.195407</td>\n      <td>-0.254028</td>\n      <td>-0.218005</td>\n      <td>-0.174360</td>\n      <td>-0.881879</td>\n    </tr>\n    <tr>\n      <th>4</th>\n      <td>2020-06-01 00:04:00</td>\n      <td>-0.519607</td>\n      <td>-0.348889</td>\n      <td>-0.488696</td>\n      <td>-0.899130</td>\n      <td>-0.965723</td>\n      <td>-1.768380</td>\n      <td>-1.355009</td>\n      <td>0.707168</td>\n      <td>-1.053303</td>\n      <td>-0.841144</td>\n      <td>-0.761410</td>\n      <td>0.919308</td>\n      <td>2.041296</td>\n      <td>2.439081</td>\n      <td>2.377882</td>\n      <td>0.703416</td>\n      <td>0.510214</td>\n      <td>1.669767</td>\n    </tr>\n  </tbody>\n</table>\n</div>"
     },
     "execution_count": 25,
     "metadata": {},
     "output_type": "execute_result"
    }
   ]
  },
  {
   "cell_type": "markdown",
   "source": [
    "At this moment we have six different datasets to use:\n",
    "* dataset_clean (Whole dataset)\n",
    "* dataset_weekdays (Entries from weekdays from 4:00 to 19:30)\n",
    "* dataset_weekend (Entries from Weekends and from weekdays from 19:30 to 4:00)\n",
    "* dataset_norm (Whole dataset, mean/stddev normalised)\n",
    "* dataset_weekdays_norm (Entries from weekdays from 4:00 to 19:30, mean/stddev normalised)\n",
    "* dataset_weekend_norm (Entries from Weekends and from weekdays from 19:30 to 4:00, mean/stddev normalised)"
   ],
   "metadata": {
    "id": "hnu9AcwDW8ZH",
    "pycharm": {
     "name": "#%% md\n"
    }
   }
  },
  {
   "cell_type": "markdown",
   "source": [
    "Covariance matrix of all features"
   ],
   "metadata": {
    "id": "AqX61PrGpaxu",
    "pycharm": {
     "name": "#%% md\n"
    }
   }
  },
  {
   "cell_type": "code",
   "source": [
    "import matplotlib.pyplot as plt\n",
    "\n",
    "set_ = dataset_norm.iloc[:,1:].values\n",
    "\n",
    "print(set_.shape)\n",
    "print(type(set_[0][0]))\n",
    "\n",
    "np.set_printoptions(formatter={'float': lambda x: \"{0:0.3f}\".format(x)})\n",
    "cov_matrix = np.cov(set_.T)\n",
    "\n",
    "fig = plt.figure(figsize=(15, 15))\n",
    "\n",
    "# Adds subplot on position 1\n",
    "ax = fig.add_subplot(121)\n",
    "ax.matshow(cov_matrix)\n",
    "plt.show()\n",
    "\n",
    "eigenvalues, eigenvectors = np.linalg.eig(cov_matrix)\n",
    "\n",
    "print(eigenvalues)\n",
    "\n",
    "explained_variance = []\n",
    "\n",
    "for i in eigenvalues:\n",
    "    explained_variance.append(i/sum(eigenvalues))\n",
    "\n",
    "print(explained_variance)"
   ],
   "metadata": {
    "id": "wRWPIDDnpWhW",
    "outputId": "5d30f208-b573-4a61-b32f-6fca5d8d22bc",
    "colab": {
     "base_uri": "https://localhost:8080/",
     "height": 0
    },
    "pycharm": {
     "name": "#%%\n"
    }
   },
   "execution_count": 26,
   "outputs": [
    {
     "name": "stdout",
     "output_type": "stream",
     "text": [
      "(63360, 18)\n",
      "<class 'numpy.float64'>\n"
     ]
    },
    {
     "data": {
      "text/plain": "<Figure size 1080x1080 with 1 Axes>",
      "image/png": "[encoded data removed]"
     },
     "metadata": {},
     "output_type": "display_data"
    },
    {
     "name": "stdout",
     "output_type": "stream",
     "text": [
      "[9.572 2.940 1.352 0.989 0.970 0.891 0.405 0.251 0.230 0.177 0.072 0.052\n",
      " 0.039 0.031 0.012 0.004 0.004 0.007]\n",
      "[0.5317647804810274, 0.1633573929865348, 0.07511546472382986, 0.05492162706802842, 0.05390616867076578, 0.049522326617393524, 0.022486349463995556, 0.013932731902136355, 0.012792662672300316, 0.009829012007199088, 0.0040249264269557865, 0.002893959610103347, 0.002163271201445866, 0.001741116222641524, 0.0006928432299862812, 0.0002182633742610308, 0.00023351820917083175, 0.00040358513222439943]\n"
     ]
    }
   ]
  },
  {
   "cell_type": "markdown",
   "source": [
    "# Correlation between features"
   ],
   "metadata": {
    "id": "NmsxwI9r9qM4",
    "pycharm": {
     "name": "#%% md\n"
    }
   }
  },
  {
   "cell_type": "code",
   "source": [
    "correlations = []\n",
    "matrix = []\n",
    "\n",
    "for i in dataset_norm.columns[1:]:\n",
    "  feature = []\n",
    "  for j in dataset_norm.columns[1:]:\n",
    "    print(f'Correlation between {i} and {j}')\n",
    "    correlation = stats.pearsonr(dataset_norm[i], dataset_norm[j])[0]\n",
    "    if i != j:\n",
    "      correlations.append(abs(correlation))\n",
    "      feature.append(abs(correlation))\n",
    "      print(correlation)\n",
    "  print(f'Mean of {i} correlations: {np.mean(feature)}')\n",
    "  print('')\n",
    "  matrix.append(feature)\n",
    "\n",
    "print(f'Mean of all correlations: {np.mean(correlations)}')"
   ],
   "metadata": {
    "id": "-5qjvKw79pJ0",
    "outputId": "590c127d-ab25-40f0-e8f2-538aeab56dbe",
    "colab": {
     "base_uri": "https://localhost:8080/"
    },
    "pycharm": {
     "name": "#%%\n"
    }
   },
   "execution_count": 27,
   "outputs": [
    {
     "name": "stdout",
     "output_type": "stream",
     "text": [
      "Correlation between PLN1 and PLN1\n",
      "Correlation between PLN1 and PLN2\n",
      "0.953063892768616\n",
      "Correlation between PLN1 and PLN3\n",
      "0.9606664987977854\n",
      "Correlation between PLN1 and ULL1\n",
      "-0.7274016376341782\n",
      "Correlation between PLN1 and ULL2\n",
      "-0.6955282277514699\n",
      "Correlation between PLN1 and ULL3\n",
      "-0.7030835410050382\n",
      "Correlation between PLN1 and COS_PHI1\n",
      "0.8410401295195357\n",
      "Correlation between PLN1 and COS_PHI2\n",
      "0.6731338062873107\n",
      "Correlation between PLN1 and COS_PHI3\n",
      "0.812237030919215\n",
      "Correlation between PLN1 and FREQ\n",
      "-0.1545159794969927\n",
      "Correlation between PLN1 and RC_DC\n",
      "0.04144790238090616\n",
      "Correlation between PLN1 and RC_AC\n",
      "0.6311099014117807\n",
      "Correlation between PLN1 and RC_50Hz\n",
      "0.3688113546135111\n",
      "Correlation between PLN1 and RC_150Hz\n",
      "0.5078743784519381\n",
      "Correlation between PLN1 and RC_<100Hz\n",
      "0.43093253308676593\n",
      "Correlation between PLN1 and RC_100Hz-1kHz\n",
      "0.6585953463453893\n",
      "Correlation between PLN1 and RC_>1kHz\n",
      "0.5928797475823844\n",
      "Correlation between PLN1 and RC_>10kHz\n",
      "0.31619183414655383\n",
      "Mean of PLN1 correlations: 0.5922655142470219\n",
      "\n",
      "Correlation between PLN2 and PLN1\n",
      "0.953063892768616\n",
      "Correlation between PLN2 and PLN2\n",
      "Correlation between PLN2 and PLN3\n",
      "0.9452605980705133\n",
      "Correlation between PLN2 and ULL1\n",
      "-0.6920070109902806\n",
      "Correlation between PLN2 and ULL2\n",
      "-0.6704566233203502\n",
      "Correlation between PLN2 and ULL3\n",
      "-0.6734582119423181\n",
      "Correlation between PLN2 and COS_PHI1\n",
      "0.7986365971843632\n",
      "Correlation between PLN2 and COS_PHI2\n",
      "0.7023352006830497\n",
      "Correlation between PLN2 and COS_PHI3\n",
      "0.8038123821731533\n",
      "Correlation between PLN2 and FREQ\n",
      "-0.14213527867385345\n",
      "Correlation between PLN2 and RC_DC\n",
      "0.0392077627338981\n",
      "Correlation between PLN2 and RC_AC\n",
      "0.6232451337648504\n",
      "Correlation between PLN2 and RC_50Hz\n",
      "0.358995472175193\n",
      "Correlation between PLN2 and RC_150Hz\n",
      "0.4908468912124751\n",
      "Correlation between PLN2 and RC_<100Hz\n",
      "0.4172313931163452\n",
      "Correlation between PLN2 and RC_100Hz-1kHz\n",
      "0.6488235868701703\n",
      "Correlation between PLN2 and RC_>1kHz\n",
      "0.5891663952522227\n",
      "Correlation between PLN2 and RC_>10kHz\n",
      "0.31188438312240324\n",
      "Mean of PLN2 correlations: 0.5800333420031798\n",
      "\n",
      "Correlation between PLN3 and PLN1\n",
      "0.9606664987977854\n",
      "Correlation between PLN3 and PLN2\n",
      "0.9452605980705133\n",
      "Correlation between PLN3 and PLN3\n",
      "Correlation between PLN3 and ULL1\n",
      "-0.7002177438968473\n",
      "Correlation between PLN3 and ULL2\n",
      "-0.6722798995076357\n",
      "Correlation between PLN3 and ULL3\n",
      "-0.6821156558367123\n",
      "Correlation between PLN3 and COS_PHI1\n",
      "0.8022338627218529\n",
      "Correlation between PLN3 and COS_PHI2\n",
      "0.669458233835898\n",
      "Correlation between PLN3 and COS_PHI3\n",
      "0.8313797068885322\n",
      "Correlation between PLN3 and FREQ\n",
      "-0.14967487104652202\n",
      "Correlation between PLN3 and RC_DC\n",
      "0.04088450891644738\n",
      "Correlation between PLN3 and RC_AC\n",
      "0.6281657734892848\n",
      "Correlation between PLN3 and RC_50Hz\n",
      "0.36563522876627114\n",
      "Correlation between PLN3 and RC_150Hz\n",
      "0.4989635979541187\n",
      "Correlation between PLN3 and RC_<100Hz\n",
      "0.4239534499789889\n",
      "Correlation between PLN3 and RC_100Hz-1kHz\n",
      "0.6539236685512879\n",
      "Correlation between PLN3 and RC_>1kHz\n",
      "0.5911138593179589\n",
      "Correlation between PLN3 and RC_>10kHz\n",
      "0.3178124150627787\n",
      "Mean of PLN3 correlations: 0.5843376219199667\n",
      "\n",
      "Correlation between ULL1 and PLN1\n",
      "-0.7274016376341782\n",
      "Correlation between ULL1 and PLN2\n",
      "-0.6920070109902806\n",
      "Correlation between ULL1 and PLN3\n",
      "-0.7002177438968473\n",
      "Correlation between ULL1 and ULL1\n",
      "Correlation between ULL1 and ULL2\n",
      "0.9939941350683599\n",
      "Correlation between ULL1 and ULL3\n",
      "0.9618955396414085\n",
      "Correlation between ULL1 and COS_PHI1\n",
      "-0.6035602236966964\n",
      "Correlation between ULL1 and COS_PHI2\n",
      "-0.4998011468511349\n",
      "Correlation between ULL1 and COS_PHI3\n",
      "-0.5935572901249868\n",
      "Correlation between ULL1 and FREQ\n",
      "0.13197327822064747\n",
      "Correlation between ULL1 and RC_DC\n",
      "-0.01942276944563966\n",
      "Correlation between ULL1 and RC_AC\n",
      "-0.42241206935632863\n",
      "Correlation between ULL1 and RC_50Hz\n",
      "-0.27779168346606625\n",
      "Correlation between ULL1 and RC_150Hz\n",
      "-0.39202737581282204\n",
      "Correlation between ULL1 and RC_<100Hz\n",
      "-0.3294053564807617\n",
      "Correlation between ULL1 and RC_100Hz-1kHz\n",
      "-0.43980057374684045\n",
      "Correlation between ULL1 and RC_>1kHz\n",
      "-0.37447740688167575\n",
      "Correlation between ULL1 and RC_>10kHz\n",
      "-0.2542047546423485\n",
      "Mean of ULL1 correlations: 0.4949382350562954\n",
      "\n",
      "Correlation between ULL2 and PLN1\n",
      "-0.6955282277514699\n",
      "Correlation between ULL2 and PLN2\n",
      "-0.6704566233203502\n",
      "Correlation between ULL2 and PLN3\n",
      "-0.6722798995076357\n",
      "Correlation between ULL2 and ULL1\n",
      "0.9939941350683599\n",
      "Correlation between ULL2 and ULL2\n",
      "Correlation between ULL2 and ULL3\n",
      "0.9679344064619084\n",
      "Correlation between ULL2 and COS_PHI1\n",
      "-0.5720923780407855\n",
      "Correlation between ULL2 and COS_PHI2\n",
      "-0.4793783108265882\n",
      "Correlation between ULL2 and COS_PHI3\n",
      "-0.5677001126696042\n",
      "Correlation between ULL2 and FREQ\n",
      "0.1223444971347323\n",
      "Correlation between ULL2 and RC_DC\n",
      "-0.015685463412389886\n",
      "Correlation between ULL2 and RC_AC\n",
      "-0.40423600542104854\n",
      "Correlation between ULL2 and RC_50Hz\n",
      "-0.2726948807281373\n",
      "Correlation between ULL2 and RC_150Hz\n",
      "-0.3823625567194395\n",
      "Correlation between ULL2 and RC_<100Hz\n",
      "-0.32256670279212485\n",
      "Correlation between ULL2 and RC_100Hz-1kHz\n",
      "-0.4200868940113775\n",
      "Correlation between ULL2 and RC_>1kHz\n",
      "-0.357674370583852\n",
      "Correlation between ULL2 and RC_>10kHz\n",
      "-0.2492468841154237\n",
      "Mean of ULL2 correlations: 0.48036837344501343\n",
      "\n",
      "Correlation between ULL3 and PLN1\n",
      "-0.7030835410050382\n",
      "Correlation between ULL3 and PLN2\n",
      "-0.6734582119423181\n",
      "Correlation between ULL3 and PLN3\n",
      "-0.6821156558367123\n",
      "Correlation between ULL3 and ULL1\n",
      "0.9618955396414085\n",
      "Correlation between ULL3 and ULL2\n",
      "0.9679344064619084\n",
      "Correlation between ULL3 and ULL3\n",
      "Correlation between ULL3 and COS_PHI1\n",
      "-0.5631552795349813\n",
      "Correlation between ULL3 and COS_PHI2\n",
      "-0.4605683549411024\n",
      "Correlation between ULL3 and COS_PHI3\n",
      "-0.567874649932713\n",
      "Correlation between ULL3 and FREQ\n",
      "0.11732253505588483\n",
      "Correlation between ULL3 and RC_DC\n",
      "-0.018546293523528327\n",
      "Correlation between ULL3 and RC_AC\n",
      "-0.4237420880482717\n",
      "Correlation between ULL3 and RC_50Hz\n",
      "-0.29724585371272094\n",
      "Correlation between ULL3 and RC_150Hz\n",
      "-0.41496205820273907\n",
      "Correlation between ULL3 and RC_<100Hz\n",
      "-0.35093038054779224\n",
      "Correlation between ULL3 and RC_100Hz-1kHz\n",
      "-0.4408591978999194\n",
      "Correlation between ULL3 and RC_>1kHz\n",
      "-0.37485212788432204\n",
      "Correlation between ULL3 and RC_>10kHz\n",
      "-0.2427669277249783\n",
      "Mean of ULL3 correlations: 0.48595959422919643\n",
      "\n",
      "Correlation between COS_PHI1 and PLN1\n",
      "0.8410401295195357\n",
      "Correlation between COS_PHI1 and PLN2\n",
      "0.7986365971843632\n",
      "Correlation between COS_PHI1 and PLN3\n",
      "0.8022338627218529\n",
      "Correlation between COS_PHI1 and ULL1\n",
      "-0.6035602236966964\n",
      "Correlation between COS_PHI1 and ULL2\n",
      "-0.5720923780407855\n",
      "Correlation between COS_PHI1 and ULL3\n",
      "-0.5631552795349813\n",
      "Correlation between COS_PHI1 and COS_PHI1\n",
      "Correlation between COS_PHI1 and COS_PHI2\n",
      "0.6721486971436306\n",
      "Correlation between COS_PHI1 and COS_PHI3\n",
      "0.7679288479423109\n",
      "Correlation between COS_PHI1 and FREQ\n",
      "-0.14703514716770288\n",
      "Correlation between COS_PHI1 and RC_DC\n",
      "0.028560806482742705\n",
      "Correlation between COS_PHI1 and RC_AC\n",
      "0.5224505954850466\n",
      "Correlation between COS_PHI1 and RC_50Hz\n",
      "0.28598483106508704\n",
      "Correlation between COS_PHI1 and RC_150Hz\n",
      "0.40690341488990645\n",
      "Correlation between COS_PHI1 and RC_<100Hz\n",
      "0.34506225421962533\n",
      "Correlation between COS_PHI1 and RC_100Hz-1kHz\n",
      "0.544358785353723\n",
      "Correlation between COS_PHI1 and RC_>1kHz\n",
      "0.4936793319894298\n",
      "Correlation between COS_PHI1 and RC_>10kHz\n",
      "0.27038433727544176\n",
      "Mean of COS_PHI1 correlations: 0.5097185599831096\n",
      "\n",
      "Correlation between COS_PHI2 and PLN1\n",
      "0.6731338062873107\n",
      "Correlation between COS_PHI2 and PLN2\n",
      "0.7023352006830497\n",
      "Correlation between COS_PHI2 and PLN3\n",
      "0.669458233835898\n",
      "Correlation between COS_PHI2 and ULL1\n",
      "-0.4998011468511349\n",
      "Correlation between COS_PHI2 and ULL2\n",
      "-0.4793783108265882\n",
      "Correlation between COS_PHI2 and ULL3\n",
      "-0.4605683549411024\n",
      "Correlation between COS_PHI2 and COS_PHI1\n",
      "0.6721486971436306\n",
      "Correlation between COS_PHI2 and COS_PHI2\n",
      "Correlation between COS_PHI2 and COS_PHI3\n",
      "0.6853907893926218\n",
      "Correlation between COS_PHI2 and FREQ\n",
      "-0.11239331571367381\n",
      "Correlation between COS_PHI2 and RC_DC\n",
      "0.024512304278753654\n",
      "Correlation between COS_PHI2 and RC_AC\n",
      "0.4295743933735343\n",
      "Correlation between COS_PHI2 and RC_50Hz\n",
      "0.25029130339434136\n",
      "Correlation between COS_PHI2 and RC_150Hz\n",
      "0.34492310440673424\n",
      "Correlation between COS_PHI2 and RC_<100Hz\n",
      "0.29451321192232677\n",
      "Correlation between COS_PHI2 and RC_100Hz-1kHz\n",
      "0.44658403290924636\n",
      "Correlation between COS_PHI2 and RC_>1kHz\n",
      "0.4054288913063591\n",
      "Correlation between COS_PHI2 and RC_>10kHz\n",
      "0.23200703950807847\n",
      "Mean of COS_PHI2 correlations: 0.4342613021631991\n",
      "\n",
      "Correlation between COS_PHI3 and PLN1\n",
      "0.812237030919215\n",
      "Correlation between COS_PHI3 and PLN2\n",
      "0.8038123821731533\n",
      "Correlation between COS_PHI3 and PLN3\n",
      "0.8313797068885322\n",
      "Correlation between COS_PHI3 and ULL1\n",
      "-0.5935572901249868\n",
      "Correlation between COS_PHI3 and ULL2\n",
      "-0.5677001126696042\n",
      "Correlation between COS_PHI3 and ULL3\n",
      "-0.567874649932713\n",
      "Correlation between COS_PHI3 and COS_PHI1\n",
      "0.7679288479423109\n",
      "Correlation between COS_PHI3 and COS_PHI2\n",
      "0.6853907893926218\n",
      "Correlation between COS_PHI3 and COS_PHI3\n",
      "Correlation between COS_PHI3 and FREQ\n",
      "-0.1359345809832145\n",
      "Correlation between COS_PHI3 and RC_DC\n",
      "0.037707015409477136\n",
      "Correlation between COS_PHI3 and RC_AC\n",
      "0.5128776647152186\n",
      "Correlation between COS_PHI3 and RC_50Hz\n",
      "0.29540041121751887\n",
      "Correlation between COS_PHI3 and RC_150Hz\n",
      "0.4161431739321744\n",
      "Correlation between COS_PHI3 and RC_<100Hz\n",
      "0.35102886682817214\n",
      "Correlation between COS_PHI3 and RC_100Hz-1kHz\n",
      "0.5325198797906968\n",
      "Correlation between COS_PHI3 and RC_>1kHz\n",
      "0.4825962763757615\n",
      "Correlation between COS_PHI3 and RC_>10kHz\n",
      "0.25910230165711357\n",
      "Mean of COS_PHI3 correlations: 0.5090112341736757\n",
      "\n",
      "Correlation between FREQ and PLN1\n",
      "-0.1545159794969927\n",
      "Correlation between FREQ and PLN2\n",
      "-0.14213527867385345\n",
      "Correlation between FREQ and PLN3\n",
      "-0.14967487104652202\n",
      "Correlation between FREQ and ULL1\n",
      "0.13197327822064747\n",
      "Correlation between FREQ and ULL2\n",
      "0.1223444971347323\n",
      "Correlation between FREQ and ULL3\n",
      "0.11732253505588483\n",
      "Correlation between FREQ and COS_PHI1\n",
      "-0.14703514716770288\n",
      "Correlation between FREQ and COS_PHI2\n",
      "-0.11239331571367381\n",
      "Correlation between FREQ and COS_PHI3\n",
      "-0.1359345809832145\n",
      "Correlation between FREQ and FREQ\n",
      "Correlation between FREQ and RC_DC\n",
      "-0.010809999367105874\n",
      "Correlation between FREQ and RC_AC\n",
      "-0.10768675608573991\n",
      "Correlation between FREQ and RC_50Hz\n",
      "-0.05995406174004523\n",
      "Correlation between FREQ and RC_150Hz\n",
      "-0.07462007247264733\n",
      "Correlation between FREQ and RC_<100Hz\n",
      "-0.05897914444129211\n",
      "Correlation between FREQ and RC_100Hz-1kHz\n",
      "-0.11163642547386086\n",
      "Correlation between FREQ and RC_>1kHz\n",
      "-0.101356326938774\n",
      "Correlation between FREQ and RC_>10kHz\n",
      "-0.044164438899609276\n",
      "Mean of FREQ correlations: 0.10485510052425286\n",
      "\n",
      "Correlation between RC_DC and PLN1\n",
      "0.04144790238090616\n",
      "Correlation between RC_DC and PLN2\n",
      "0.0392077627338981\n",
      "Correlation between RC_DC and PLN3\n",
      "0.04088450891644738\n",
      "Correlation between RC_DC and ULL1\n",
      "-0.01942276944563966\n",
      "Correlation between RC_DC and ULL2\n",
      "-0.015685463412389886\n",
      "Correlation between RC_DC and ULL3\n",
      "-0.018546293523528327\n",
      "Correlation between RC_DC and COS_PHI1\n",
      "0.028560806482742705\n",
      "Correlation between RC_DC and COS_PHI2\n",
      "0.024512304278753654\n",
      "Correlation between RC_DC and COS_PHI3\n",
      "0.037707015409477136\n",
      "Correlation between RC_DC and FREQ\n",
      "-0.010809999367105874\n",
      "Correlation between RC_DC and RC_DC\n",
      "Correlation between RC_DC and RC_AC\n",
      "0.009408275400609241\n",
      "Correlation between RC_DC and RC_50Hz\n",
      "-0.06680533222156992\n",
      "Correlation between RC_DC and RC_150Hz\n",
      "-0.06653181935938078\n",
      "Correlation between RC_DC and RC_<100Hz\n",
      "-0.08081309086755868\n",
      "Correlation between RC_DC and RC_100Hz-1kHz\n",
      "0.015733176445022118\n",
      "Correlation between RC_DC and RC_>1kHz\n",
      "0.011862953683483874\n",
      "Correlation between RC_DC and RC_>10kHz\n",
      "-0.07707048019590797\n",
      "Mean of RC_DC correlations: 0.03558882083084832\n",
      "\n",
      "Correlation between RC_AC and PLN1\n",
      "0.6311099014117807\n",
      "Correlation between RC_AC and PLN2\n",
      "0.6232451337648504\n",
      "Correlation between RC_AC and PLN3\n",
      "0.6281657734892848\n",
      "Correlation between RC_AC and ULL1\n",
      "-0.42241206935632863\n",
      "Correlation between RC_AC and ULL2\n",
      "-0.40423600542104854\n",
      "Correlation between RC_AC and ULL3\n",
      "-0.4237420880482717\n",
      "Correlation between RC_AC and COS_PHI1\n",
      "0.5224505954850466\n",
      "Correlation between RC_AC and COS_PHI2\n",
      "0.4295743933735343\n",
      "Correlation between RC_AC and COS_PHI3\n",
      "0.5128776647152186\n",
      "Correlation between RC_AC and FREQ\n",
      "-0.10768675608573991\n",
      "Correlation between RC_AC and RC_DC\n",
      "0.009408275400609241\n",
      "Correlation between RC_AC and RC_AC\n",
      "Correlation between RC_AC and RC_50Hz\n",
      "0.5988353180559397\n",
      "Correlation between RC_AC and RC_150Hz\n",
      "0.6870800166525871\n",
      "Correlation between RC_AC and RC_<100Hz\n",
      "0.6478497540541007\n",
      "Correlation between RC_AC and RC_100Hz-1kHz\n",
      "0.9937633088247751\n",
      "Correlation between RC_AC and RC_>1kHz\n",
      "0.9856775813519925\n",
      "Correlation between RC_AC and RC_>10kHz\n",
      "0.6405906580239058\n",
      "Mean of RC_AC correlations: 0.5452179584420597\n",
      "\n",
      "Correlation between RC_50Hz and PLN1\n",
      "0.3688113546135111\n",
      "Correlation between RC_50Hz and PLN2\n",
      "0.358995472175193\n",
      "Correlation between RC_50Hz and PLN3\n",
      "0.36563522876627114\n",
      "Correlation between RC_50Hz and ULL1\n",
      "-0.27779168346606625\n",
      "Correlation between RC_50Hz and ULL2\n",
      "-0.2726948807281373\n",
      "Correlation between RC_50Hz and ULL3\n",
      "-0.29724585371272094\n",
      "Correlation between RC_50Hz and COS_PHI1\n",
      "0.28598483106508704\n",
      "Correlation between RC_50Hz and COS_PHI2\n",
      "0.25029130339434136\n",
      "Correlation between RC_50Hz and COS_PHI3\n",
      "0.29540041121751887\n",
      "Correlation between RC_50Hz and FREQ\n",
      "-0.05995406174004523\n",
      "Correlation between RC_50Hz and RC_DC\n",
      "-0.06680533222156992\n",
      "Correlation between RC_50Hz and RC_AC\n",
      "0.5988353180559397\n",
      "Correlation between RC_50Hz and RC_50Hz\n",
      "Correlation between RC_50Hz and RC_150Hz\n",
      "0.9325844626970938\n",
      "Correlation between RC_50Hz and RC_<100Hz\n",
      "0.9378468651085963\n",
      "Correlation between RC_50Hz and RC_100Hz-1kHz\n",
      "0.5680814090699114\n",
      "Correlation between RC_50Hz and RC_>1kHz\n",
      "0.5226845889912003\n",
      "Correlation between RC_50Hz and RC_>10kHz\n",
      "0.8215943251700448\n",
      "Mean of RC_50Hz correlations: 0.4283080813054852\n",
      "\n",
      "Correlation between RC_150Hz and PLN1\n",
      "0.5078743784519381\n",
      "Correlation between RC_150Hz and PLN2\n",
      "0.4908468912124751\n",
      "Correlation between RC_150Hz and PLN3\n",
      "0.4989635979541187\n",
      "Correlation between RC_150Hz and ULL1\n",
      "-0.39202737581282204\n",
      "Correlation between RC_150Hz and ULL2\n",
      "-0.3823625567194395\n",
      "Correlation between RC_150Hz and ULL3\n",
      "-0.41496205820273907\n",
      "Correlation between RC_150Hz and COS_PHI1\n",
      "0.40690341488990645\n",
      "Correlation between RC_150Hz and COS_PHI2\n",
      "0.34492310440673424\n",
      "Correlation between RC_150Hz and COS_PHI3\n",
      "0.4161431739321744\n",
      "Correlation between RC_150Hz and FREQ\n",
      "-0.07462007247264733\n",
      "Correlation between RC_150Hz and RC_DC\n",
      "-0.06653181935938078\n",
      "Correlation between RC_150Hz and RC_AC\n",
      "0.6870800166525871\n",
      "Correlation between RC_150Hz and RC_50Hz\n",
      "0.9325844626970938\n",
      "Correlation between RC_150Hz and RC_150Hz\n",
      "Correlation between RC_150Hz and RC_<100Hz\n",
      "0.986943158578294\n",
      "Correlation between RC_150Hz and RC_100Hz-1kHz\n",
      "0.6594755799243148\n",
      "Correlation between RC_150Hz and RC_>1kHz\n",
      "0.6031328223115222\n",
      "Correlation between RC_150Hz and RC_>10kHz\n",
      "0.8525990801808153\n",
      "Mean of RC_150Hz correlations: 0.5128219743387649\n",
      "\n",
      "Correlation between RC_<100Hz and PLN1\n",
      "0.43093253308676593\n",
      "Correlation between RC_<100Hz and PLN2\n",
      "0.4172313931163452\n",
      "Correlation between RC_<100Hz and PLN3\n",
      "0.4239534499789889\n",
      "Correlation between RC_<100Hz and ULL1\n",
      "-0.3294053564807617\n",
      "Correlation between RC_<100Hz and ULL2\n",
      "-0.32256670279212485\n",
      "Correlation between RC_<100Hz and ULL3\n",
      "-0.35093038054779224\n",
      "Correlation between RC_<100Hz and COS_PHI1\n",
      "0.34506225421962533\n",
      "Correlation between RC_<100Hz and COS_PHI2\n",
      "0.29451321192232677\n",
      "Correlation between RC_<100Hz and COS_PHI3\n",
      "0.35102886682817214\n",
      "Correlation between RC_<100Hz and FREQ\n",
      "-0.05897914444129211\n",
      "Correlation between RC_<100Hz and RC_DC\n",
      "-0.08081309086755868\n",
      "Correlation between RC_<100Hz and RC_AC\n",
      "0.6478497540541007\n",
      "Correlation between RC_<100Hz and RC_50Hz\n",
      "0.9378468651085963\n",
      "Correlation between RC_<100Hz and RC_150Hz\n",
      "0.986943158578294\n",
      "Correlation between RC_<100Hz and RC_<100Hz\n",
      "Correlation between RC_<100Hz and RC_100Hz-1kHz\n",
      "0.6163156439742203\n",
      "Correlation between RC_<100Hz and RC_>1kHz\n",
      "0.5681934410881461\n",
      "Correlation between RC_<100Hz and RC_>10kHz\n",
      "0.8697462185366112\n",
      "Mean of RC_<100Hz correlations: 0.4724889097424543\n",
      "\n",
      "Correlation between RC_100Hz-1kHz and PLN1\n",
      "0.6585953463453893\n",
      "Correlation between RC_100Hz-1kHz and PLN2\n",
      "0.6488235868701703\n",
      "Correlation between RC_100Hz-1kHz and PLN3\n",
      "0.6539236685512879\n",
      "Correlation between RC_100Hz-1kHz and ULL1\n",
      "-0.43980057374684045\n",
      "Correlation between RC_100Hz-1kHz and ULL2\n",
      "-0.4200868940113775\n",
      "Correlation between RC_100Hz-1kHz and ULL3\n",
      "-0.4408591978999194\n",
      "Correlation between RC_100Hz-1kHz and COS_PHI1\n",
      "0.544358785353723\n",
      "Correlation between RC_100Hz-1kHz and COS_PHI2\n",
      "0.44658403290924636\n",
      "Correlation between RC_100Hz-1kHz and COS_PHI3\n",
      "0.5325198797906968\n",
      "Correlation between RC_100Hz-1kHz and FREQ\n",
      "-0.11163642547386086\n",
      "Correlation between RC_100Hz-1kHz and RC_DC\n",
      "0.015733176445022118\n",
      "Correlation between RC_100Hz-1kHz and RC_AC\n",
      "0.9937633088247751\n",
      "Correlation between RC_100Hz-1kHz and RC_50Hz\n",
      "0.5680814090699114\n",
      "Correlation between RC_100Hz-1kHz and RC_150Hz\n",
      "0.6594755799243148\n",
      "Correlation between RC_100Hz-1kHz and RC_<100Hz\n",
      "0.6163156439742203\n",
      "Correlation between RC_100Hz-1kHz and RC_100Hz-1kHz\n",
      "Correlation between RC_100Hz-1kHz and RC_>1kHz\n",
      "0.9842987879976377\n",
      "Correlation between RC_100Hz-1kHz and RC_>10kHz\n",
      "0.6079125821841562\n",
      "Mean of RC_100Hz-1kHz correlations: 0.5495746399630912\n",
      "\n",
      "Correlation between RC_>1kHz and PLN1\n",
      "0.5928797475823844\n",
      "Correlation between RC_>1kHz and PLN2\n",
      "0.5891663952522227\n",
      "Correlation between RC_>1kHz and PLN3\n",
      "0.5911138593179589\n",
      "Correlation between RC_>1kHz and ULL1\n",
      "-0.37447740688167575\n",
      "Correlation between RC_>1kHz and ULL2\n",
      "-0.357674370583852\n",
      "Correlation between RC_>1kHz and ULL3\n",
      "-0.37485212788432204\n",
      "Correlation between RC_>1kHz and COS_PHI1\n",
      "0.4936793319894298\n",
      "Correlation between RC_>1kHz and COS_PHI2\n",
      "0.4054288913063591\n",
      "Correlation between RC_>1kHz and COS_PHI3\n",
      "0.4825962763757615\n",
      "Correlation between RC_>1kHz and FREQ\n",
      "-0.101356326938774\n",
      "Correlation between RC_>1kHz and RC_DC\n",
      "0.011862953683483874\n",
      "Correlation between RC_>1kHz and RC_AC\n",
      "0.9856775813519925\n",
      "Correlation between RC_>1kHz and RC_50Hz\n",
      "0.5226845889912003\n",
      "Correlation between RC_>1kHz and RC_150Hz\n",
      "0.6031328223115222\n",
      "Correlation between RC_>1kHz and RC_<100Hz\n",
      "0.5681934410881461\n",
      "Correlation between RC_>1kHz and RC_100Hz-1kHz\n",
      "0.9842987879976377\n",
      "Correlation between RC_>1kHz and RC_>1kHz\n",
      "Correlation between RC_>1kHz and RC_>10kHz\n",
      "0.5866515939691286\n",
      "Mean of RC_>1kHz correlations: 0.5073956766768147\n",
      "\n",
      "Correlation between RC_>10kHz and PLN1\n",
      "0.31619183414655383\n",
      "Correlation between RC_>10kHz and PLN2\n",
      "0.31188438312240324\n",
      "Correlation between RC_>10kHz and PLN3\n",
      "0.3178124150627787\n",
      "Correlation between RC_>10kHz and ULL1\n",
      "-0.2542047546423485\n",
      "Correlation between RC_>10kHz and ULL2\n",
      "-0.2492468841154237\n",
      "Correlation between RC_>10kHz and ULL3\n",
      "-0.2427669277249783\n",
      "Correlation between RC_>10kHz and COS_PHI1\n",
      "0.27038433727544176\n",
      "Correlation between RC_>10kHz and COS_PHI2\n",
      "0.23200703950807847\n",
      "Correlation between RC_>10kHz and COS_PHI3\n",
      "0.25910230165711357\n",
      "Correlation between RC_>10kHz and FREQ\n",
      "-0.044164438899609276\n",
      "Correlation between RC_>10kHz and RC_DC\n",
      "-0.07707048019590797\n",
      "Correlation between RC_>10kHz and RC_AC\n",
      "0.6405906580239058\n",
      "Correlation between RC_>10kHz and RC_50Hz\n",
      "0.8215943251700448\n",
      "Correlation between RC_>10kHz and RC_150Hz\n",
      "0.8525990801808153\n",
      "Correlation between RC_>10kHz and RC_<100Hz\n",
      "0.8697462185366112\n",
      "Correlation between RC_>10kHz and RC_100Hz-1kHz\n",
      "0.6079125821841562\n",
      "Correlation between RC_>10kHz and RC_>1kHz\n",
      "0.5866515939691286\n",
      "Correlation between RC_>10kHz and RC_>10kHz\n",
      "Mean of RC_>10kHz correlations: 0.4090547208479588\n",
      "\n",
      "Mean of all correlations: 0.45756664777179923\n"
     ]
    }
   ]
  },
  {
   "cell_type": "code",
   "source": [
    "# Covariance matrix, eigenvalues and explained variance\n",
    "\n",
    "covmatrix = dataset_norm.cov()\n",
    "eigenvalues, eigenvectors = np.linalg.eig(covmatrix)\n",
    "\n",
    "acc = 0\n",
    "\n",
    "for i, eigen in enumerate(eigenvalues):\n",
    "  acc += eigen/np.sum(eigenvalues)\n",
    "  print(f'Explained_variance {i +1} principal component: {eigen/np.sum(eigenvalues)} (accumulated {round(acc, 4)})')"
   ],
   "metadata": {
    "id": "b56cCzEd2dVc",
    "outputId": "66cfea58-2be4-43c2-8b38-a59fd64dda94",
    "colab": {
     "base_uri": "https://localhost:8080/"
    },
    "pycharm": {
     "name": "#%%\n"
    }
   },
   "execution_count": 28,
   "outputs": [
    {
     "name": "stdout",
     "output_type": "stream",
     "text": [
      "Explained_variance 1 principal component: 0.5317647804810273 (accumulated 0.5318)\n",
      "Explained_variance 2 principal component: 0.16335739298653476 (accumulated 0.6951)\n",
      "Explained_variance 3 principal component: 0.07511546472382985 (accumulated 0.7702)\n",
      "Explained_variance 4 principal component: 0.0549216270680284 (accumulated 0.8252)\n",
      "Explained_variance 5 principal component: 0.053906168670765774 (accumulated 0.8791)\n",
      "Explained_variance 6 principal component: 0.04952232661739351 (accumulated 0.9286)\n",
      "Explained_variance 7 principal component: 0.022486349463995553 (accumulated 0.9511)\n",
      "Explained_variance 8 principal component: 0.013932731902136352 (accumulated 0.965)\n",
      "Explained_variance 9 principal component: 0.012792662672300312 (accumulated 0.9778)\n",
      "Explained_variance 10 principal component: 0.009829012007199087 (accumulated 0.9876)\n",
      "Explained_variance 11 principal component: 0.004024926426955786 (accumulated 0.9917)\n",
      "Explained_variance 12 principal component: 0.0028939596101033465 (accumulated 0.9945)\n",
      "Explained_variance 13 principal component: 0.0021632712014458657 (accumulated 0.9967)\n",
      "Explained_variance 14 principal component: 0.0017411162226415235 (accumulated 0.9985)\n",
      "Explained_variance 15 principal component: 0.0006928432299862811 (accumulated 0.9991)\n",
      "Explained_variance 16 principal component: 0.00021826337426103076 (accumulated 0.9994)\n",
      "Explained_variance 17 principal component: 0.00023351820917083172 (accumulated 0.9996)\n",
      "Explained_variance 18 principal component: 0.0004035851322243994 (accumulated 1.0)\n"
     ]
    }
   ]
  },
  {
   "cell_type": "code",
   "source": [
    "# Features correlations heat map\n",
    "\n",
    "corr = dataset_norm.corr()\n",
    "sns.heatmap(corr, cmap=\"Blues\")"
   ],
   "metadata": {
    "colab": {
     "base_uri": "https://localhost:8080/",
     "height": 0
    },
    "id": "HdCyFpRClakq",
    "outputId": "4dba2205-eb28-4467-aad2-3db8734fa278",
    "pycharm": {
     "name": "#%%\n"
    }
   },
   "execution_count": 29,
   "outputs": [
    {
     "data": {
      "text/plain": "<AxesSubplot:>"
     },
     "execution_count": 29,
     "metadata": {},
     "output_type": "execute_result"
    },
    {
     "data": {
      "text/plain": "<Figure size 432x288 with 2 Axes>",
      "image/png": "[encoded data removed]"
     },
     "metadata": {},
     "output_type": "display_data"
    }
   ]
  },
  {
   "cell_type": "markdown",
   "source": [
    "# Data loaders for the training"
   ],
   "metadata": {
    "id": "9IqI9imdvoXo",
    "pycharm": {
     "name": "#%% md\n"
    }
   }
  },
  {
   "cell_type": "code",
   "source": [
    "def create_sequece_dataloaders_new(dataset_norm, seq_length, batch_size):\n",
    "\n",
    "  # Create a dataset with pairs data / next /Target (in this case data is one \n",
    "  # sequence of seq_length measures (18 features), next is the next value in the sequence \n",
    "  # and target is the following value with the\n",
    "  # measurements (18 features)). When you plug in one measurement, the model should out the next measurement\n",
    "\n",
    "  assert seq_length > 1, f\"sequence length should be greater than 1 expected, got: {seq_length}\"\n",
    "\n",
    "  pair_set = []\n",
    "\n",
    "  for i in tqdm(range(len(dataset_norm) - (seq_length +1))):    \n",
    "    data = np.array(dataset_norm.iloc[i:i+seq_length, 1:])\n",
    "    next = np.array(dataset_norm.iloc[i+seq_length, 1:], dtype= float)\n",
    "    target = np.array(dataset_norm.iloc[i+(seq_length + 1), 1:], dtype= float)\n",
    "    \n",
    "    pair_set.append((data, next, target))\n",
    "\n",
    "  dataset_pairs = np.array(pair_set)\n",
    "\n",
    "  training_data_pairs, testing_data_pairs = train_test_split(dataset_pairs, test_size=0.1)\n",
    "\n",
    "  data = []\n",
    "  next = []\n",
    "  target = []\n",
    "\n",
    "  for i in training_data_pairs:\n",
    "    data.append(i[0])\n",
    "    next.append(i[1])\n",
    "    target.append(i[2])\n",
    "\n",
    "  training_data = torch.from_numpy(np.array(data)).float().to(device)\n",
    "  training_next = torch.from_numpy(np.array(next)).float().to(device)\n",
    "  training_target = torch.from_numpy(np.array(target)).float().to(device)\n",
    "\n",
    "  data = []\n",
    "  next = []\n",
    "  target = []\n",
    "\n",
    "  for i in testing_data_pairs:\n",
    "    data.append(i[0])\n",
    "    next.append(i[1])\n",
    "    target.append(i[2])\n",
    "\n",
    "  test_data = torch.from_numpy(np.array(data)).float().to(device)\n",
    "  test_next = torch.from_numpy(np.array(next)).float().to(device)\n",
    "  test_target = torch.from_numpy(np.array(target)).float().to(device)\n",
    "\n",
    "  print(f'length of training set (whole dataset): {training_data.shape[0]}')\n",
    "  print(f'length of test set (whole dataset): {test_data.shape[0]}')\n",
    "  print('\\n')\n",
    "\n",
    "  # Create data loader to feed the model in mini batches\n",
    "  loader_train = torch.utils.data.DataLoader(\n",
    "      dataset=torch.utils.data.TensorDataset(training_data, training_next, training_target),\n",
    "      batch_size=batch_size,\n",
    "      shuffle=True\n",
    "  )\n",
    "\n",
    "  # Create data loader for testing the model\n",
    "  loader_test = torch.utils.data.DataLoader(\n",
    "      dataset=torch.utils.data.TensorDataset(test_data, test_next, test_target),\n",
    "      batch_size=batch_size,\n",
    "      shuffle=True\n",
    "  )\n",
    "\n",
    "  return loader_train, loader_test"
   ],
   "metadata": {
    "id": "WwMseS768zdK",
    "pycharm": {
     "name": "#%%\n"
    }
   },
   "execution_count": 30,
   "outputs": []
  },
  {
   "cell_type": "code",
   "source": [
    "loader_train_seq, loader_test_seq = create_sequece_dataloaders_new(dataset_norm, 30, 16)"
   ],
   "metadata": {
    "colab": {
     "base_uri": "https://localhost:8080/"
    },
    "id": "d2Qov2aC9Ixf",
    "outputId": "79cc52ad-eb3b-4188-a131-de61d3703a8f",
    "pycharm": {
     "name": "#%%\n"
    }
   },
   "execution_count": 31,
   "outputs": [
    {
     "name": "stderr",
     "output_type": "stream",
     "text": [
      "100%|██████████| 63329/63329 [00:20<00:00, 3124.00it/s]\n",
      "/var/folders/2s/vg97_p793_97vgjwtr42qdm80000gn/T/ipykernel_40021/2047477399.py:19: VisibleDeprecationWarning: Creating an ndarray from ragged nested sequences (which is a list-or-tuple of lists-or-tuples-or ndarrays with different lengths or shapes) is deprecated. If you meant to do this, you must specify 'dtype=object' when creating the ndarray.\n",
      "  dataset_pairs = np.array(pair_set)\n"
     ]
    },
    {
     "ename": "NameError",
     "evalue": "name 'device' is not defined",
     "output_type": "error",
     "traceback": [
      "\u001B[0;31m---------------------------------------------------------------------------\u001B[0m",
      "\u001B[0;31mNameError\u001B[0m                                 Traceback (most recent call last)",
      "\u001B[0;32m/var/folders/2s/vg97_p793_97vgjwtr42qdm80000gn/T/ipykernel_40021/2746992952.py\u001B[0m in \u001B[0;36m<module>\u001B[0;34m\u001B[0m\n\u001B[0;32m----> 1\u001B[0;31m \u001B[0mloader_train_seq\u001B[0m\u001B[0;34m,\u001B[0m \u001B[0mloader_test_seq\u001B[0m \u001B[0;34m=\u001B[0m \u001B[0mcreate_sequece_dataloaders_new\u001B[0m\u001B[0;34m(\u001B[0m\u001B[0mdataset_norm\u001B[0m\u001B[0;34m,\u001B[0m \u001B[0;36m30\u001B[0m\u001B[0;34m,\u001B[0m \u001B[0;36m16\u001B[0m\u001B[0;34m)\u001B[0m\u001B[0;34m\u001B[0m\u001B[0;34m\u001B[0m\u001B[0m\n\u001B[0m",
      "\u001B[0;32m/var/folders/2s/vg97_p793_97vgjwtr42qdm80000gn/T/ipykernel_40021/2047477399.py\u001B[0m in \u001B[0;36mcreate_sequece_dataloaders_new\u001B[0;34m(dataset_norm, seq_length, batch_size)\u001B[0m\n\u001B[1;32m     30\u001B[0m     \u001B[0mtarget\u001B[0m\u001B[0;34m.\u001B[0m\u001B[0mappend\u001B[0m\u001B[0;34m(\u001B[0m\u001B[0mi\u001B[0m\u001B[0;34m[\u001B[0m\u001B[0;36m2\u001B[0m\u001B[0;34m]\u001B[0m\u001B[0;34m)\u001B[0m\u001B[0;34m\u001B[0m\u001B[0;34m\u001B[0m\u001B[0m\n\u001B[1;32m     31\u001B[0m \u001B[0;34m\u001B[0m\u001B[0m\n\u001B[0;32m---> 32\u001B[0;31m   \u001B[0mtraining_data\u001B[0m \u001B[0;34m=\u001B[0m \u001B[0mtorch\u001B[0m\u001B[0;34m.\u001B[0m\u001B[0mfrom_numpy\u001B[0m\u001B[0;34m(\u001B[0m\u001B[0mnp\u001B[0m\u001B[0;34m.\u001B[0m\u001B[0marray\u001B[0m\u001B[0;34m(\u001B[0m\u001B[0mdata\u001B[0m\u001B[0;34m)\u001B[0m\u001B[0;34m)\u001B[0m\u001B[0;34m.\u001B[0m\u001B[0mfloat\u001B[0m\u001B[0;34m(\u001B[0m\u001B[0;34m)\u001B[0m\u001B[0;34m.\u001B[0m\u001B[0mto\u001B[0m\u001B[0;34m(\u001B[0m\u001B[0mdevice\u001B[0m\u001B[0;34m)\u001B[0m\u001B[0;34m\u001B[0m\u001B[0;34m\u001B[0m\u001B[0m\n\u001B[0m\u001B[1;32m     33\u001B[0m   \u001B[0mtraining_next\u001B[0m \u001B[0;34m=\u001B[0m \u001B[0mtorch\u001B[0m\u001B[0;34m.\u001B[0m\u001B[0mfrom_numpy\u001B[0m\u001B[0;34m(\u001B[0m\u001B[0mnp\u001B[0m\u001B[0;34m.\u001B[0m\u001B[0marray\u001B[0m\u001B[0;34m(\u001B[0m\u001B[0mnext\u001B[0m\u001B[0;34m)\u001B[0m\u001B[0;34m)\u001B[0m\u001B[0;34m.\u001B[0m\u001B[0mfloat\u001B[0m\u001B[0;34m(\u001B[0m\u001B[0;34m)\u001B[0m\u001B[0;34m.\u001B[0m\u001B[0mto\u001B[0m\u001B[0;34m(\u001B[0m\u001B[0mdevice\u001B[0m\u001B[0;34m)\u001B[0m\u001B[0;34m\u001B[0m\u001B[0;34m\u001B[0m\u001B[0m\n\u001B[1;32m     34\u001B[0m   \u001B[0mtraining_target\u001B[0m \u001B[0;34m=\u001B[0m \u001B[0mtorch\u001B[0m\u001B[0;34m.\u001B[0m\u001B[0mfrom_numpy\u001B[0m\u001B[0;34m(\u001B[0m\u001B[0mnp\u001B[0m\u001B[0;34m.\u001B[0m\u001B[0marray\u001B[0m\u001B[0;34m(\u001B[0m\u001B[0mtarget\u001B[0m\u001B[0;34m)\u001B[0m\u001B[0;34m)\u001B[0m\u001B[0;34m.\u001B[0m\u001B[0mfloat\u001B[0m\u001B[0;34m(\u001B[0m\u001B[0;34m)\u001B[0m\u001B[0;34m.\u001B[0m\u001B[0mto\u001B[0m\u001B[0;34m(\u001B[0m\u001B[0mdevice\u001B[0m\u001B[0;34m)\u001B[0m\u001B[0;34m\u001B[0m\u001B[0;34m\u001B[0m\u001B[0m\n",
      "\u001B[0;31mNameError\u001B[0m: name 'device' is not defined"
     ]
    }
   ]
  },
  {
   "cell_type": "markdown",
   "source": [
    "# Create a Baseline Model\n",
    "\n",
    "I am taking the Last step as prediction of all features to create a baselinemodel. I will use this baseline model to compare the results of the actual model with it. Everything that works better than this baseline model could be an improvement."
   ],
   "metadata": {
    "id": "VazanvM-f9cL",
    "pycharm": {
     "name": "#%% md\n"
    }
   }
  },
  {
   "cell_type": "code",
   "source": [
    "def create_dataloaders_new(dataset_norm):\n",
    "\n",
    "  # Create a dataset with pairs data / Target (in this case data is one measure (18 features) and target is the next measure (18 features))\n",
    "  # When you plug in one measure, the model should out the next measure\n",
    "\n",
    "  pair_set = []\n",
    "\n",
    "  for i in tqdm(range(len(dataset_norm) -1)):\n",
    "    data = np.array([j for j in dataset_norm.iloc[i, 1:]])\n",
    "    target = np.array([j for j in dataset_norm.iloc[i+1, 1:]])\n",
    "    \n",
    "    pair_set.append((data, target))\n",
    "\n",
    "  dataset_pairs = np.array(pair_set)\n",
    "\n",
    "  training_data_pairs, testing_data_pairs = train_test_split(dataset_pairs, test_size=0.1)\n",
    "\n",
    "  data = []\n",
    "  target = []\n",
    "  for i in training_data_pairs:\n",
    "    data.append(i[0])\n",
    "    target.append(i[1])\n",
    "\n",
    "  training_data = torch.from_numpy(np.array(data)).float().to(device)\n",
    "  training_target = torch.from_numpy(np.array(target)).float().to(device)\n",
    "\n",
    "  data = []\n",
    "  target = []\n",
    "  for i in testing_data_pairs:\n",
    "    data.append(i[0])\n",
    "    target.append(i[1])\n",
    "\n",
    "  test_data = torch.from_numpy(np.array(data)).float().to(device)\n",
    "  test_target = torch.from_numpy(np.array(target)).float().to(device)\n",
    "\n",
    "  print(f'length of training set (whole dataset): {training_data.shape[0]}')\n",
    "  print(f'length of test set (whole dataset): {test_data.shape[0]}')\n",
    "  print('\\n')\n",
    "\n",
    "  # Create data loader to feed the FFN in mini batches\n",
    "\n",
    "  loader_train = torch.utils.data.DataLoader(\n",
    "      dataset=torch.utils.data.TensorDataset(training_data, training_target),\n",
    "      batch_size=16,\n",
    "      shuffle=True\n",
    "  )\n",
    "\n",
    "  # Create data loader for testing the model\n",
    "  loader_test = torch.utils.data.DataLoader(\n",
    "      dataset=torch.utils.data.TensorDataset(test_data, test_target),\n",
    "      batch_size=16,\n",
    "      shuffle=True\n",
    "  )\n",
    "\n",
    "  return loader_train, loader_test"
   ],
   "metadata": {
    "id": "MkDvYhcMk8Qz",
    "pycharm": {
     "name": "#%%\n"
    }
   },
   "execution_count": 42,
   "outputs": []
  },
  {
   "cell_type": "code",
   "source": [
    "loader_train, loader_test = create_dataloaders_new(dataset_norm)"
   ],
   "metadata": {
    "colab": {
     "base_uri": "https://localhost:8080/"
    },
    "id": "uCgdn3T3k-Hd",
    "outputId": "1d42af68-eab6-401e-8cb7-b5ef9e94770a",
    "pycharm": {
     "name": "#%%\n"
    }
   },
   "execution_count": 43,
   "outputs": [
    {
     "name": "stderr",
     "output_type": "stream",
     "text": [
      "100%|██████████| 63359/63359 [00:12<00:00, 5211.42it/s]\n"
     ]
    },
    {
     "ename": "NameError",
     "evalue": "name 'device' is not defined",
     "output_type": "error",
     "traceback": [
      "\u001B[0;31m---------------------------------------------------------------------------\u001B[0m",
      "\u001B[0;31mNameError\u001B[0m                                 Traceback (most recent call last)",
      "\u001B[0;32m/var/folders/2s/vg97_p793_97vgjwtr42qdm80000gn/T/ipykernel_40021/1887784572.py\u001B[0m in \u001B[0;36m<module>\u001B[0;34m\u001B[0m\n\u001B[0;32m----> 1\u001B[0;31m \u001B[0mloader_train\u001B[0m\u001B[0;34m,\u001B[0m \u001B[0mloader_test\u001B[0m \u001B[0;34m=\u001B[0m \u001B[0mcreate_dataloaders_new\u001B[0m\u001B[0;34m(\u001B[0m\u001B[0mdataset_norm\u001B[0m\u001B[0;34m)\u001B[0m\u001B[0;34m\u001B[0m\u001B[0;34m\u001B[0m\u001B[0m\n\u001B[0m",
      "\u001B[0;32m/var/folders/2s/vg97_p793_97vgjwtr42qdm80000gn/T/ipykernel_40021/2184571859.py\u001B[0m in \u001B[0;36mcreate_dataloaders_new\u001B[0;34m(dataset_norm)\u001B[0m\n\u001B[1;32m     22\u001B[0m     \u001B[0mtarget\u001B[0m\u001B[0;34m.\u001B[0m\u001B[0mappend\u001B[0m\u001B[0;34m(\u001B[0m\u001B[0mi\u001B[0m\u001B[0;34m[\u001B[0m\u001B[0;36m1\u001B[0m\u001B[0;34m]\u001B[0m\u001B[0;34m)\u001B[0m\u001B[0;34m\u001B[0m\u001B[0;34m\u001B[0m\u001B[0m\n\u001B[1;32m     23\u001B[0m \u001B[0;34m\u001B[0m\u001B[0m\n\u001B[0;32m---> 24\u001B[0;31m   \u001B[0mtraining_data\u001B[0m \u001B[0;34m=\u001B[0m \u001B[0mtorch\u001B[0m\u001B[0;34m.\u001B[0m\u001B[0mfrom_numpy\u001B[0m\u001B[0;34m(\u001B[0m\u001B[0mnp\u001B[0m\u001B[0;34m.\u001B[0m\u001B[0marray\u001B[0m\u001B[0;34m(\u001B[0m\u001B[0mdata\u001B[0m\u001B[0;34m)\u001B[0m\u001B[0;34m)\u001B[0m\u001B[0;34m.\u001B[0m\u001B[0mfloat\u001B[0m\u001B[0;34m(\u001B[0m\u001B[0;34m)\u001B[0m\u001B[0;34m.\u001B[0m\u001B[0mto\u001B[0m\u001B[0;34m(\u001B[0m\u001B[0mdevice\u001B[0m\u001B[0;34m)\u001B[0m\u001B[0;34m\u001B[0m\u001B[0;34m\u001B[0m\u001B[0m\n\u001B[0m\u001B[1;32m     25\u001B[0m   \u001B[0mtraining_target\u001B[0m \u001B[0;34m=\u001B[0m \u001B[0mtorch\u001B[0m\u001B[0;34m.\u001B[0m\u001B[0mfrom_numpy\u001B[0m\u001B[0;34m(\u001B[0m\u001B[0mnp\u001B[0m\u001B[0;34m.\u001B[0m\u001B[0marray\u001B[0m\u001B[0;34m(\u001B[0m\u001B[0mtarget\u001B[0m\u001B[0;34m)\u001B[0m\u001B[0;34m)\u001B[0m\u001B[0;34m.\u001B[0m\u001B[0mfloat\u001B[0m\u001B[0;34m(\u001B[0m\u001B[0;34m)\u001B[0m\u001B[0;34m.\u001B[0m\u001B[0mto\u001B[0m\u001B[0;34m(\u001B[0m\u001B[0mdevice\u001B[0m\u001B[0;34m)\u001B[0m\u001B[0;34m\u001B[0m\u001B[0;34m\u001B[0m\u001B[0m\n\u001B[1;32m     26\u001B[0m \u001B[0;34m\u001B[0m\u001B[0m\n",
      "\u001B[0;31mNameError\u001B[0m: name 'device' is not defined"
     ]
    }
   ]
  },
  {
   "cell_type": "code",
   "source": [
    "criterion = nn.MSELoss()\n",
    "\n",
    "losses_train = []\n",
    "\n",
    "for i in loader_train:\n",
    "  output = i[0]\n",
    "  target = i[1]\n",
    "  loss = criterion(output, target)\n",
    "  losses_train.append(loss.item())\n",
    "\n",
    "losses_test = []\n",
    "\n",
    "for i in loader_test:\n",
    "  output = i[0]\n",
    "  target = i[1]\n",
    "  loss = criterion(output, target)\n",
    "  losses_test.append(loss.item())\n",
    "\n",
    "print(\"Training set\")\n",
    "print(\"Mean Loss of baselinemodel: \", np.mean(losses_train))\n",
    "print(\"Standard deviation Loss of baselinemodel: \", np.std(losses_train))\n",
    "print('\\n')\n",
    "print(\"Test set\")\n",
    "print(\"Mean Loss of baselinemodel: \", np.mean(losses_test))\n",
    "print(\"Standard deviation Loss of baselinemodel: \", np.std(losses_test))\n",
    "print('\\n')\n",
    "\n",
    "# save to npy file\n",
    "if False:\n",
    "  np.save('baseline_train.npy', losses_train)\n",
    "  np.save('baseline_test.npy', losses_test)"
   ],
   "metadata": {
    "colab": {
     "base_uri": "https://localhost:8080/"
    },
    "id": "abayckrZejd1",
    "outputId": "53c5cbbd-ae0c-41bd-e115-6fa5b1953ebb",
    "pycharm": {
     "name": "#%%\n"
    }
   },
   "execution_count": null,
   "outputs": []
  },
  {
   "cell_type": "code",
   "source": [
    "class ANN_relu(nn.Module):\n",
    "\n",
    "    def __init__(self, D_in, D_out):\n",
    "        super(ANN_relu, self).__init__()\n",
    "        self.linear1 = nn.Linear(D_in, 180)\n",
    "        self.linear2 = nn.Linear(180, 640)\n",
    "        self.linear3 = nn.Linear(640, 180)\n",
    "        self.linear4 = nn.Linear(180, D_out)\n",
    "\n",
    "        self.relu = torch.nn.ReLU()\n",
    "\n",
    "        self.dropout = torch.nn.Dropout(p=0.2)\n",
    "\n",
    "    def forward(self, x):\n",
    "        x = self.linear1(x)\n",
    "        x = self.relu(x)\n",
    "\n",
    "        x = self.linear2(x)\n",
    "        x = self.relu(x)\n",
    "        x = self.dropout(x)\n",
    "\n",
    "        x = self.linear3(x)\n",
    "        x = self.relu(x)\n",
    "        x = self.dropout(x)\n",
    "\n",
    "        return self.linear4(x)\n",
    "\n",
    "# This function trains the model for one epoch\n",
    "def train(model, criterion, optimizer, train_loader, test_loader, n_epochs):\n",
    "\n",
    "    epoch_loss_train = []\n",
    "    epoch_loss_test = []\n",
    "\n",
    "    for e in range(1, n_epochs +1):\n",
    "      print(f'\\nEpoch {e}:')\n",
    "\n",
    "      print('Train')\n",
    "      model.train()\n",
    "\n",
    "      for i in tqdm(train_loader):\n",
    "\n",
    "        data, target = i[0], i[1]\n",
    "\n",
    "        optimizer.zero_grad()\n",
    "\n",
    "        # Forward Pass\n",
    "        output = model(data)\n",
    "\n",
    "        #Compute loss\n",
    "        loss = criterion(output, target)\n",
    "\n",
    "        #Backpropagation\n",
    "        loss.backward()\n",
    "\n",
    "        #Optimization\n",
    "        optimizer.step()\n",
    "\n",
    "      losses = []\n",
    "\n",
    "      print('\\nTest with training set')\n",
    "      model.eval()\n",
    "      with torch.no_grad():\n",
    "        for i in tqdm(train_loader):\n",
    "\n",
    "          data, target = i[0], i[1]\n",
    "\n",
    "          output = model(data)\n",
    "              \n",
    "          losses.append (float(criterion(output, target).item()))\n",
    "\n",
    "      print('\\nCurrent Mean loss Train: ', np.mean(losses))\n",
    "      epoch_loss_train.append(losses)\n",
    "\n",
    "      losses = []\n",
    "\n",
    "      print('\\nTest with test set')\n",
    "      model.eval()\n",
    "      with torch.no_grad():\n",
    "        for i in tqdm(test_loader):\n",
    "\n",
    "          data, target = i[0], i[1]\n",
    "\n",
    "          output = model(data)\n",
    "            \n",
    "          losses.append (float(criterion(output, target).item()))\n",
    "\n",
    "\n",
    "      print('\\nCurrent Mean loss: ', np.mean(losses))\n",
    "      epoch_loss_test.append(losses)\n",
    "\n",
    "    return model, epoch_loss_train, epoch_loss_test"
   ],
   "metadata": {
    "id": "0uVghWj1f714",
    "pycharm": {
     "name": "#%%\n"
    }
   },
   "execution_count": null,
   "outputs": []
  },
  {
   "cell_type": "code",
   "source": [
    "n_epochs = 200\n",
    "lr=0.01\n",
    "\n",
    "# Create model FFN instance\n",
    "model_FFN = ANN_relu(18, 18).to(device)\n",
    "print(model_FFN)\n",
    "\n",
    "# Define Loss\n",
    "criterion = nn.MSELoss()\n",
    "\n",
    "# Define Optimizer\n",
    "optimizer_whole = torch.optim.SGD(model_FFN.parameters(), lr=lr)\n",
    "\n",
    "\n",
    "train_FFN = False\n",
    "\n",
    "params_not_trained_whole = model_FFN.parameters()\n",
    "\n",
    "start_time = datetime.now()\n",
    "if train_FFN is True:\n",
    "  trained_model_FFN , train_losses_FFN, test_losses_FFN = train(model_FFN, criterion, optimizer_whole, loader_train, loader_test, n_epochs)\n",
    "\n",
    "end_time = datetime.now()\n",
    "time_diff = (end_time - start_time)\n",
    "execution_time = time_diff.total_seconds()\n",
    "\n",
    "print(f'\\nTraining time: {execution_time} seconds')\n",
    "\n",
    "# save to npy file\n",
    "if train_FFN is True:\n",
    "  np.save('FFN_train.npy', losses_train)\n",
    "  np.save('FFN_test.npy', losses_test)"
   ],
   "metadata": {
    "colab": {
     "base_uri": "https://localhost:8080/"
    },
    "id": "s65i9owLgN2K",
    "outputId": "155422f5-417b-499d-e72b-c920069325ec",
    "pycharm": {
     "name": "#%%\n"
    }
   },
   "execution_count": 47,
   "outputs": [
    {
     "name": "stdout",
     "output_type": "stream",
     "text": [
      "ANN_relu(\n",
      "  (linear1): Linear(in_features=18, out_features=180, bias=True)\n",
      "  (linear2): Linear(in_features=180, out_features=640, bias=True)\n",
      "  (linear3): Linear(in_features=640, out_features=180, bias=True)\n",
      "  (linear4): Linear(in_features=180, out_features=18, bias=True)\n",
      "  (relu): ReLU()\n",
      "  (dropout): Dropout(p=0.2, inplace=False)\n",
      ")\n",
      "\n",
      "Training time: 9.4e-05 seconds\n"
     ]
    }
   ]
  },
  {
   "cell_type": "code",
   "source": [
    "if train_FFN is True:\n",
    "\n",
    "  # Show results of the loss function whole\n",
    "\n",
    "  fig = plt.figure(figsize = (10,10))\n",
    "\n",
    "  ax = fig.add_subplot(111)\n",
    "  plt.ion()\n",
    "\n",
    "  fig.show()\n",
    "  fig.canvas.draw()\n",
    "\n",
    "  baseline = [np.mean(losses_train) for i in range(len(train_losses_FFN))]\n",
    "\n",
    "  ax.plot(baseline, label='Baseline')\n",
    "  ax.plot([np.mean(i) for i in train_losses_FFN], label= 'Train_loss')\n",
    "  ax.plot([np.mean(i) for i in test_losses_FFN], label= 'Test_loss')\n",
    "  ax.set_title(\"Full Forward Neural Network (Whole dataset)\")\n",
    "  ax.set_xlabel('Epoch')\n",
    "  ax.set_ylabel('Mean Squared Error')\n",
    "  ax.legend()\n",
    "  fig.canvas.draw()\n",
    "\n",
    "#min values in numpy array\n",
    "minval = np.amin([np.mean(i) for i in test_losses_FFN])\n",
    "print('min value in array:',minval)\n",
    "indice = np.where([np.mean(i) for i in test_losses_FFN] == np.amin([np.mean(i) for i in test_losses_FFN]))\n",
    "print('min value index:',indice[0])"
   ],
   "metadata": {
    "id": "8f4BQIRkj3xp",
    "outputId": "2bb43a36-758e-4944-d22e-6e6ec6c378f7",
    "colab": {
     "base_uri": "https://localhost:8080/",
     "height": 224
    },
    "pycharm": {
     "name": "#%%\n"
    }
   },
   "execution_count": null,
   "outputs": [
    {
     "output_type": "error",
     "ename": "NameError",
     "evalue": "ignored",
     "traceback": [
      "\u001B[0;31m---------------------------------------------------------------------------\u001B[0m",
      "\u001B[0;31mNameError\u001B[0m                                 Traceback (most recent call last)",
      "\u001B[0;32m<ipython-input-31-2c8ab3ad7235>\u001B[0m in \u001B[0;36m<module>\u001B[0;34m()\u001B[0m\n\u001B[1;32m     23\u001B[0m \u001B[0;34m\u001B[0m\u001B[0m\n\u001B[1;32m     24\u001B[0m \u001B[0;31m#min values in numpy array\u001B[0m\u001B[0;34m\u001B[0m\u001B[0;34m\u001B[0m\u001B[0;34m\u001B[0m\u001B[0m\n\u001B[0;32m---> 25\u001B[0;31m \u001B[0mminval\u001B[0m \u001B[0;34m=\u001B[0m \u001B[0mnp\u001B[0m\u001B[0;34m.\u001B[0m\u001B[0mamin\u001B[0m\u001B[0;34m(\u001B[0m\u001B[0;34m[\u001B[0m\u001B[0mnp\u001B[0m\u001B[0;34m.\u001B[0m\u001B[0mmean\u001B[0m\u001B[0;34m(\u001B[0m\u001B[0mi\u001B[0m\u001B[0;34m)\u001B[0m \u001B[0;32mfor\u001B[0m \u001B[0mi\u001B[0m \u001B[0;32min\u001B[0m \u001B[0mtest_losses_FFN\u001B[0m\u001B[0;34m]\u001B[0m\u001B[0;34m)\u001B[0m\u001B[0;34m\u001B[0m\u001B[0;34m\u001B[0m\u001B[0m\n\u001B[0m\u001B[1;32m     26\u001B[0m \u001B[0mprint\u001B[0m\u001B[0;34m(\u001B[0m\u001B[0;34m'min value in array:'\u001B[0m\u001B[0;34m,\u001B[0m\u001B[0mminval\u001B[0m\u001B[0;34m)\u001B[0m\u001B[0;34m\u001B[0m\u001B[0;34m\u001B[0m\u001B[0m\n\u001B[1;32m     27\u001B[0m \u001B[0mindice\u001B[0m \u001B[0;34m=\u001B[0m \u001B[0mnp\u001B[0m\u001B[0;34m.\u001B[0m\u001B[0mwhere\u001B[0m\u001B[0;34m(\u001B[0m\u001B[0;34m[\u001B[0m\u001B[0mnp\u001B[0m\u001B[0;34m.\u001B[0m\u001B[0mmean\u001B[0m\u001B[0;34m(\u001B[0m\u001B[0mi\u001B[0m\u001B[0;34m)\u001B[0m \u001B[0;32mfor\u001B[0m \u001B[0mi\u001B[0m \u001B[0;32min\u001B[0m \u001B[0mtest_losses_FFN\u001B[0m\u001B[0;34m]\u001B[0m \u001B[0;34m==\u001B[0m \u001B[0mnp\u001B[0m\u001B[0;34m.\u001B[0m\u001B[0mamin\u001B[0m\u001B[0;34m(\u001B[0m\u001B[0;34m[\u001B[0m\u001B[0mnp\u001B[0m\u001B[0;34m.\u001B[0m\u001B[0mmean\u001B[0m\u001B[0;34m(\u001B[0m\u001B[0mi\u001B[0m\u001B[0;34m)\u001B[0m \u001B[0;32mfor\u001B[0m \u001B[0mi\u001B[0m \u001B[0;32min\u001B[0m \u001B[0mtest_losses_FFN\u001B[0m\u001B[0;34m]\u001B[0m\u001B[0;34m)\u001B[0m\u001B[0;34m)\u001B[0m\u001B[0;34m\u001B[0m\u001B[0;34m\u001B[0m\u001B[0m\n",
      "\u001B[0;31mNameError\u001B[0m: name 'test_losses_FFN' is not defined"
     ]
    }
   ]
  },
  {
   "cell_type": "markdown",
   "metadata": {
    "id": "IXX8lu3jjDhr",
    "pycharm": {
     "name": "#%% md\n"
    }
   },
   "source": [
    "# Transformer Model settings"
   ]
  },
  {
   "cell_type": "markdown",
   "source": [
    "Now, we define a class with the transformer model that we are going to use:\n",
    "\n",
    "Using the already written pytorch library for Transformers:\n",
    "\n",
    "1) torch.nn.TransformerEncoderLayer (https://pytorch.org/docs/stable/generated/torch.nn.TransformerEncoder.html)\n",
    "\n",
    "*   d_model –> the number of expected features in the input (required).\n",
    "*   nhead –> the number of heads in the multiheadattention models (required).\n",
    "*   dropout –> the dropout value (default=0.1).\n",
    "*   activation –> the activation function of the intermediate layer, can be a string (“relu” or “gelu”) or a unary callable. (default: relu)\n",
    "*   layer_norm_eps –> the eps value in layer normalization components (default=1e-5).\n",
    "*   batch_first –> If True, then the input and output tensors are provided as (batch, seq, feature). (default: False)\n",
    "*   norm_first –> if True, layer norm is done prior to attention and feedforward operations, respectivaly. Otherwise it’s done after. (default: False (after))\n",
    "\n",
    "2) torch.nn.TransformerDecoderLayer\n",
    "\n",
    "* d_model –> the number of expected features in the input (required).\n",
    "* nhead –> the number of heads in the multiheadattention models (required).\n",
    "* dim_feedforward –> the dimension of the feedforward network model (default=2048).\n",
    "* dropout –> the dropout value (default=0.1).\n",
    "* activation –> the activation function of the intermediate layer, can be a string (“relu” or “gelu”) or a unary callable. Default: relu\n",
    "* layer_norm_eps –> the eps value in layer normalization components (default=1e-5).\n",
    "* batch_first –> If True, then the input and output tensors are provided as (batch, seq, feature). Default: False.\n",
    "* norm_first –> if True, layer norm is done prior to self attention, multihead attention and feedforward operations, respectivaly. Otherwise it’s done after. Default: False (after).\n",
    "\n",
    "3) torch.nn.TransformerEncoder\n",
    "\n",
    "* encoder_layer –> an instance of the TransformerEncoderLayer() class (required).\n",
    "* num_layers –> the number of sub-encoder-layers in the encoder (required).\n",
    "* norm –> the layer normalization component (optional).\n",
    "\n",
    "\n",
    "4) torch.nn.TransformerDecoder\n",
    "\n",
    "* decoder_layer – an instance of the TransformerDecoderLayer() class (required).\n",
    "* num_layers – the number of sub-decoder-layers in the decoder (required).\n",
    "* norm – the layer normalization component (optional).\n",
    "\n",
    "We should define an optimizer too.\n",
    "For this, we use the pytorch library:\n",
    "\n",
    "* SGD –> Stochastic gradient descent.\n",
    "\n",
    "1) torch.optim.SDG (https://pytorch.org/docs/stable/generated/torch.optim.SGD.html#torch.optim.SGD)\n",
    "\n",
    "* params (iterable) – iterable of parameters to optimize or dicts defining parameter groups\n",
    "* lr (float) – learning rate\n",
    "* momentum (float, optional) – momentum factor (default: 0)\n",
    "* weight_decay (float, optional) – weight decay (L2 penalty) (default: 0)\n",
    "* dampening (float, optional) – dampening for momentum (default: 0)\n",
    "* nesterov (bool, optional) – enables Nesterov momentum (default: False)"
   ],
   "metadata": {
    "id": "E8meEXlA_2k2",
    "pycharm": {
     "name": "#%% md\n"
    }
   }
  },
  {
   "cell_type": "code",
   "source": [
    "class Transformer(nn.Module):\n",
    "    def __init__(self, feature_size, output_size, num_encoder_layers, num_heads, num_decoder_layers, device, dim_feedforward: int=2048, dropout: float =0.1, batch_first: bool = False):\n",
    "        super(Transformer, self).__init__()\n",
    "        \n",
    "        encoder_layer = nn.TransformerEncoderLayer(d_model= feature_size, nhead= num_heads, dim_feedforward=dim_feedforward, dropout=dropout, device=device, batch_first=batch_first)\n",
    "        decoder_layer = nn.TransformerDecoderLayer(d_model= feature_size, nhead= num_heads, dim_feedforward=dim_feedforward, dropout=dropout, device=device, batch_first=batch_first)\n",
    "        \n",
    "        self.encoder = nn.TransformerEncoder(encoder_layer, num_layers= num_encoder_layers)\n",
    "        self.decoder = nn.TransformerDecoder(decoder_layer, num_layers= num_decoder_layers)\n",
    "\n",
    "        self.output_size = output_size\n",
    "        self.device = device\n",
    "\n",
    "    def generate_square_mask(self, dim):\n",
    "        return torch.triu(torch.ones(dim, dim) * float('-inf'), diagonal=1).to(self.device)\n",
    "\n",
    "    def positional_encoding(self, seq_len: int, dim_model: int, device):\n",
    "\n",
    "        position_encoding = torch.zeros(seq_len, dim_model)\n",
    "\n",
    "        for pos in range(seq_len):\n",
    "          for i in range(0, int(dim_model / 2)):\n",
    "            position_encoding[pos, 2 * i] = math.sin(pos / (10000 ** ((2 * i)/dim_model)))\n",
    "            position_encoding[pos, (2 * i) + 1] = math.cos(pos / (10000 ** ((2 * i)/dim_model)))\n",
    "\n",
    "        position_encoding = position_encoding.to(device)\n",
    "\n",
    "        return position_encoding\n",
    "        \n",
    "    def forward (self, enc_input, dec_input):\n",
    "        \n",
    "        memory_mask = self.generate_square_mask(len(enc_input))\n",
    "\n",
    "        src_pos_enc = enc_input + self.positional_encoding(seq_len= enc_input.shape[1], dim_model= enc_input.shape[2], device= self.device)\n",
    "        src_pos_dec = dec_input + self.positional_encoding(seq_len= dec_input.shape[1], dim_model= dec_input.shape[2], device= self.device)\n",
    "\n",
    "        output = self.encoder (src= src_pos_enc, mask=None)\n",
    "        output = self.decoder (tgt= src_pos_dec, memory= output, tgt_mask=None, memory_mask=None)\n",
    "        \n",
    "        return output"
   ],
   "metadata": {
    "id": "xr9FCWDk616J",
    "pycharm": {
     "name": "#%%\n"
    }
   },
   "execution_count": 48,
   "outputs": []
  },
  {
   "cell_type": "code",
   "source": [
    "def training_transformer(model, optimizer, criterion, train_loader, test_loader, n_epochs, device):\n",
    "  epoch_loss_train = []\n",
    "  epoch_loss_test = []\n",
    "\n",
    "  for e in range(1, n_epochs + 1):\n",
    "\n",
    "    print(f'Epoch: {e} of {n_epochs}')\n",
    "    print('Training...')\n",
    "    model.train()\n",
    "\n",
    "    for i in tqdm(train_loader):\n",
    "\n",
    "      input = i[0]\n",
    "      out = i[1].unsqueeze(0).permute(1,0,2)\n",
    "      target = i[2].unsqueeze(0).permute(1,0,2)\n",
    "\n",
    "      net_out = model.forward(input, out)\n",
    "\n",
    "      #Compute loss\n",
    "      loss = criterion(net_out, target)\n",
    "\n",
    "      optimizer.zero_grad()\n",
    "\n",
    "      #Backpropagation\n",
    "      loss.backward()\n",
    "\n",
    "      torch.nn.utils.clip_grad_norm_(model.parameters(), 0.5)\n",
    "\n",
    "      #Optimization\n",
    "      optimizer.step()\n",
    "\n",
    "\n",
    "    print('\\nTest with training set')\n",
    "    losses_train = []\n",
    "    model.eval()\n",
    "    with torch.no_grad():\n",
    "      for i in tqdm(train_loader):\n",
    "\n",
    "        input = i[0]\n",
    "        out = i[1].unsqueeze(0).permute(1,0,2)\n",
    "        target = i[2].unsqueeze(0).permute(1,0,2)\n",
    "\n",
    "        net_out = model.forward(input, out)\n",
    "\n",
    "        #Compute loss\n",
    "        losses_train.append (float(criterion(net_out, target).item()))\n",
    "\n",
    "    \n",
    "    print('\\nCurrent Mean loss Train Set: ', np.mean(losses_train))\n",
    "    epoch_loss_train.append(losses_train)\n",
    "\n",
    "    print('\\nTest with test set')\n",
    "    losses_test = []\n",
    "    model.eval()\n",
    "\n",
    "    \n",
    "    with torch.no_grad():\n",
    "      for i in tqdm(test_loader):\n",
    "      \n",
    "        input = i[0]\n",
    "        out = i[1].unsqueeze(0).permute(1,0,2)\n",
    "        target = i[2].unsqueeze(0).permute(1,0,2)\n",
    "\n",
    "        net_out = model.forward(input, out)\n",
    "\n",
    "        #Compute loss\n",
    "        losses_test.append (float(criterion(net_out, target).item()))\n",
    "\n",
    "    print('\\nCurrent Mean loss Test Set: ', np.mean(losses_test))\n",
    "    epoch_loss_test.append(losses_test)\n",
    "\n",
    "    print('\\n')\n",
    "\n",
    "  return model, epoch_loss_train, epoch_loss_test"
   ],
   "metadata": {
    "id": "EU0PmQy97HeW",
    "pycharm": {
     "name": "#%%\n"
    }
   },
   "execution_count": 49,
   "outputs": []
  },
  {
   "cell_type": "code",
   "source": [
    "# Initialize Transformer Model and Optimizer\n",
    "start_time = datetime.now()\n",
    "continue_training = False\n",
    "\n",
    "if continue_training is False:\n",
    "  model_transformer = Transformer (num_encoder_layers=6,\n",
    "                      num_decoder_layers=1,\n",
    "                      feature_size=18,\n",
    "                      output_size=18,\n",
    "                      num_heads=6,\n",
    "                      dim_feedforward=2048,\n",
    "                      device = device,\n",
    "                      batch_first=True)\n",
    "\n",
    "n_epochs = 200\n",
    "\n",
    "print('Setup model Ok')\n",
    "\n",
    "optimizer = torch.optim.SGD(model_transformer.parameters(), lr=0.01)\n",
    "criterion = nn.MSELoss()\n",
    "\n",
    "print('Setup optimizer Ok')\n",
    "\n",
    "train_transformer = False\n",
    "\n",
    "if train_transformer is True:\n",
    "  trained_model_transformer_1, train_losses_1, test_losses_1 = training_transformer(\n",
    "      model= model_transformer, \n",
    "      optimizer= optimizer, \n",
    "      criterion= criterion, \n",
    "      train_loader= loader_train_seq, \n",
    "      test_loader= loader_test_seq, \n",
    "      n_epochs= n_epochs,\n",
    "      device=device)\n",
    "  \n",
    "end_time = datetime.now()\n",
    "time_diff = (end_time - start_time)\n",
    "execution_time = time_diff.total_seconds()\n",
    "\n",
    "print(f'Training time: {execution_time} seconds')\n",
    "\n",
    "# save to npy file\n",
    "if False:\n",
    "  np.save('Transformer_Vanilla_train.npy', train_losses_1)\n",
    "  np.save('Transformer_Vanilla_test.npy', test_losses_1)"
   ],
   "metadata": {
    "id": "L3KHLhnA7dUd",
    "pycharm": {
     "name": "#%%\n"
    }
   },
   "execution_count": 50,
   "outputs": [
    {
     "name": "stdout",
     "output_type": "stream",
     "text": [
      "Setup model Ok\n",
      "Setup optimizer Ok\n",
      "Training time: 0.015425 seconds\n"
     ]
    }
   ]
  },
  {
   "cell_type": "code",
   "source": [
    "if train_transformer is True:\n",
    "\n",
    "  # Show results of the loss function\n",
    "\n",
    "  fig = plt.figure(figsize = (15,15))\n",
    "\n",
    "  ax = fig.add_subplot(111)\n",
    "  plt.ion()\n",
    "\n",
    "  fig.show()\n",
    "  fig.canvas.draw()\n",
    "\n",
    "  ax.plot([np.mean(i) for i in test_losses_FFN], label= 'Train Loss Baseline model')\n",
    "\n",
    "  ax.plot([np.mean(i) for i in train_losses_1], label= 'Train_loss Transformer model')\n",
    "  ax.plot([np.mean(i) for i in test_losses_1], label= 'Test_loss Transformer model')\n",
    "  ax.set_title(\"Training results Transformer (6 encoder layers, 1 decoder layer, 6 heads. SGD\")\n",
    "  ax.set_xlabel('Epoch')\n",
    "  ax.set_ylabel('Mean Squared Error')\n",
    "  ax.legend()\n",
    "  fig.canvas.draw()"
   ],
   "metadata": {
    "id": "J36L18IlkOCd",
    "pycharm": {
     "name": "#%%\n"
    }
   },
   "execution_count": null,
   "outputs": []
  },
  {
   "cell_type": "code",
   "source": [
    "# Initialize Transformer Model and Optimizer\n",
    "start_time = datetime.now()\n",
    "continue_training = False\n",
    "\n",
    "if continue_training is False:\n",
    "  model_transformer = Transformer (num_encoder_layers=6,\n",
    "                      num_decoder_layers=1,\n",
    "                      feature_size=18,\n",
    "                      output_size=18,\n",
    "                      num_heads=6,\n",
    "                      dim_feedforward=2048,\n",
    "                      device = device,\n",
    "                      batch_first=True)\n",
    "\n",
    "n_epochs = 200\n",
    "\n",
    "print('Setup model Ok')\n",
    "\n",
    "optimizer = torch.optim.Adam(model_transformer.parameters(), lr=0.001)\n",
    "criterion = nn.MSELoss()\n",
    "\n",
    "print('Setup optimizer Ok')\n",
    "\n",
    "train_transformer = False\n",
    "\n",
    "if train_transformer is True:\n",
    "  trained_model_transformer_2, train_losses_2, test_losses_2 = training_transformer(\n",
    "      model= model_transformer, \n",
    "      optimizer= optimizer, \n",
    "      criterion= criterion, \n",
    "      train_loader= loader_train_seq, \n",
    "      test_loader= loader_test_seq, \n",
    "      n_epochs= n_epochs,\n",
    "      device=device)\n",
    "  \n",
    "end_time = datetime.now()\n",
    "time_diff = (end_time - start_time)\n",
    "execution_time = time_diff.total_seconds() * 1000\n",
    "\n",
    "print(f'{execution_time} miliseconds')\n",
    "\n",
    "# save to npy file\n",
    "if train_transformer is True:\n",
    "  np.save('Transformer_ADAM_train.npy', train_losses_2)\n",
    "  np.save('Transformer_ADAM_test.npy', test_losses_2)"
   ],
   "metadata": {
    "id": "YahRD7pCkjQe",
    "pycharm": {
     "name": "#%%\n"
    }
   },
   "execution_count": null,
   "outputs": []
  },
  {
   "cell_type": "code",
   "source": [
    "if train_transformer is True:\n",
    "\n",
    "  # Show results of the loss function\n",
    "\n",
    "  fig = plt.figure(figsize = (15,15))\n",
    "\n",
    "  ax = fig.add_subplot(111)\n",
    "  plt.ion()\n",
    "\n",
    "  fig.show()\n",
    "  fig.canvas.draw()\n",
    "\n",
    "  ax.plot([np.mean(i) for i in test_losses_1], label= 'Test Loss Vanila Transformer model')\n",
    "\n",
    "  ax.plot([np.mean(i) for i in train_losses_2], label= 'Train_loss Transformer model')\n",
    "  ax.plot([np.mean(i) for i in test_losses_2], label= 'Test_loss Transformer model')\n",
    "  ax.set_title(\"Training results Transformer (6 encoder layers, 1 decoder layer, 6 heads. ADAM\")\n",
    "  ax.set_xlabel('Epoch')\n",
    "  ax.set_ylabel('Mean Squared Error')\n",
    "  ax.legend()\n",
    "  fig.canvas.draw()"
   ],
   "metadata": {
    "id": "Yz6hz7i_kmR-",
    "pycharm": {
     "name": "#%%\n"
    }
   },
   "execution_count": null,
   "outputs": []
  },
  {
   "cell_type": "code",
   "source": [
    "# Initialize Transformer Model and Optimizer\n",
    "start_time = datetime.now()\n",
    "continue_training = False\n",
    "\n",
    "if continue_training is False:\n",
    "  model_transformer = Transformer (num_encoder_layers=6,\n",
    "                      num_decoder_layers=1,\n",
    "                      feature_size=18,\n",
    "                      output_size=18,\n",
    "                      num_heads=6,\n",
    "                      dim_feedforward=2048,\n",
    "                      device = device,\n",
    "                      batch_first=True)\n",
    "\n",
    "n_epochs = 200\n",
    "\n",
    "print('Setup model Ok')\n",
    "\n",
    "optimizer = torch.optim.SGD(model_transformer.parameters(), lr=0.01, momentum= 0.9)\n",
    "criterion = nn.MSELoss()\n",
    "\n",
    "print('Setup optimizer Ok')\n",
    "\n",
    "train_transformer = True\n",
    "\n",
    "if train_transformer is True:\n",
    "  trained_model_transformer_3, train_losses_3, test_losses_3 = training_transformer(\n",
    "      model= model_transformer, \n",
    "      optimizer= optimizer, \n",
    "      criterion= criterion, \n",
    "      train_loader= loader_train_seq, \n",
    "      test_loader= loader_test_seq, \n",
    "      n_epochs= n_epochs,\n",
    "      device=device)\n",
    "  \n",
    "end_time = datetime.now()\n",
    "time_diff = (end_time - start_time)\n",
    "execution_time = time_diff.total_seconds() * 1000\n",
    "\n",
    "print(f'{execution_time} miliseconds')\n",
    "\n",
    "# save to npy file\n",
    "if True:\n",
    "  np.save('Transformer_SGDmom_train.npy', train_losses_3)\n",
    "  np.save('Transformer_SGDmom_test.npy', test_losses_3)\n",
    "  files.download('Transformer_SGDmom_train.npy') \n",
    "  files.download('Transformer_SGDmom_test.npy') "
   ],
   "metadata": {
    "id": "4pbaZtVXk4p0",
    "colab": {
     "base_uri": "https://localhost:8080/",
     "height": 1000
    },
    "outputId": "f978baa3-e243-4642-b63d-8ca7b097a963",
    "pycharm": {
     "name": "#%%\n"
    }
   },
   "execution_count": 64,
   "outputs": [
    {
     "metadata": {
      "tags": null
     },
     "name": "stdout",
     "output_type": "stream",
     "text": [
      "Setup model Ok\n",
      "Setup optimizer Ok\n",
      "Epoch: 1 of 200\n",
      "Training...\n"
     ]
    },
    {
     "metadata": {
      "tags": null
     },
     "name": "stderr",
     "output_type": "stream",
     "text": [
      "100%|██████████| 3563/3563 [01:50<00:00, 32.36it/s]\n"
     ]
    },
    {
     "metadata": {
      "tags": null
     },
     "name": "stdout",
     "output_type": "stream",
     "text": [
      "\n",
      "Test with training set\n"
     ]
    },
    {
     "metadata": {
      "tags": null
     },
     "name": "stderr",
     "output_type": "stream",
     "text": [
      "100%|██████████| 3563/3563 [00:34<00:00, 102.42it/s]\n"
     ]
    },
    {
     "metadata": {
      "tags": null
     },
     "name": "stdout",
     "output_type": "stream",
     "text": [
      "\n",
      "Current Mean loss Train Set:  0.35455235590885903\n",
      "\n",
      "Test with test set\n"
     ]
    },
    {
     "metadata": {
      "tags": null
     },
     "name": "stderr",
     "output_type": "stream",
     "text": [
      "100%|██████████| 396/396 [00:03<00:00, 102.51it/s]\n"
     ]
    },
    {
     "metadata": {
      "tags": null
     },
     "name": "stdout",
     "output_type": "stream",
     "text": [
      "\n",
      "Current Mean loss Test Set:  0.36299624564972793\n",
      "\n",
      "\n",
      "Epoch: 2 of 200\n",
      "Training...\n"
     ]
    },
    {
     "metadata": {
      "tags": null
     },
     "name": "stderr",
     "output_type": "stream",
     "text": [
      "100%|██████████| 3563/3563 [01:48<00:00, 32.94it/s]\n"
     ]
    },
    {
     "metadata": {
      "tags": null
     },
     "name": "stdout",
     "output_type": "stream",
     "text": [
      "\n",
      "Test with training set\n"
     ]
    },
    {
     "metadata": {
      "tags": null
     },
     "name": "stderr",
     "output_type": "stream",
     "text": [
      "100%|██████████| 3563/3563 [00:34<00:00, 103.28it/s]\n"
     ]
    },
    {
     "metadata": {
      "tags": null
     },
     "name": "stdout",
     "output_type": "stream",
     "text": [
      "\n",
      "Current Mean loss Train Set:  0.3413375794402408\n",
      "\n",
      "Test with test set\n"
     ]
    },
    {
     "metadata": {
      "tags": null
     },
     "name": "stderr",
     "output_type": "stream",
     "text": [
      "100%|██████████| 396/396 [00:03<00:00, 103.59it/s]\n"
     ]
    },
    {
     "metadata": {
      "tags": null
     },
     "name": "stdout",
     "output_type": "stream",
     "text": [
      "\n",
      "Current Mean loss Test Set:  0.34956692072628726\n",
      "\n",
      "\n",
      "Epoch: 3 of 200\n",
      "Training...\n"
     ]
    },
    {
     "metadata": {
      "tags": null
     },
     "name": "stderr",
     "output_type": "stream",
     "text": [
      "100%|██████████| 3563/3563 [01:47<00:00, 33.25it/s]\n"
     ]
    },
    {
     "metadata": {
      "tags": null
     },
     "name": "stdout",
     "output_type": "stream",
     "text": [
      "\n",
      "Test with training set\n"
     ]
    },
    {
     "metadata": {
      "tags": null
     },
     "name": "stderr",
     "output_type": "stream",
     "text": [
      "100%|██████████| 3563/3563 [00:34<00:00, 104.03it/s]\n"
     ]
    },
    {
     "metadata": {
      "tags": null
     },
     "name": "stdout",
     "output_type": "stream",
     "text": [
      "\n",
      "Current Mean loss Train Set:  0.33264936092292663\n",
      "\n",
      "Test with test set\n"
     ]
    },
    {
     "metadata": {
      "tags": null
     },
     "name": "stderr",
     "output_type": "stream",
     "text": [
      "100%|██████████| 396/396 [00:03<00:00, 103.93it/s]\n"
     ]
    },
    {
     "metadata": {
      "tags": null
     },
     "name": "stdout",
     "output_type": "stream",
     "text": [
      "\n",
      "Current Mean loss Test Set:  0.3402695669369264\n",
      "\n",
      "\n",
      "Epoch: 4 of 200\n",
      "Training...\n"
     ]
    },
    {
     "metadata": {
      "tags": null
     },
     "name": "stderr",
     "output_type": "stream",
     "text": [
      "100%|██████████| 3563/3563 [01:47<00:00, 33.28it/s]\n"
     ]
    },
    {
     "metadata": {
      "tags": null
     },
     "name": "stdout",
     "output_type": "stream",
     "text": [
      "\n",
      "Test with training set\n"
     ]
    },
    {
     "metadata": {
      "tags": null
     },
     "name": "stderr",
     "output_type": "stream",
     "text": [
      "100%|██████████| 3563/3563 [00:33<00:00, 104.99it/s]\n"
     ]
    },
    {
     "metadata": {
      "tags": null
     },
     "name": "stdout",
     "output_type": "stream",
     "text": [
      "\n",
      "Current Mean loss Train Set:  0.31629573011160766\n",
      "\n",
      "Test with test set\n"
     ]
    },
    {
     "metadata": {
      "tags": null
     },
     "name": "stderr",
     "output_type": "stream",
     "text": [
      "100%|██████████| 396/396 [00:03<00:00, 103.56it/s]\n"
     ]
    },
    {
     "metadata": {
      "tags": null
     },
     "name": "stdout",
     "output_type": "stream",
     "text": [
      "\n",
      "Current Mean loss Test Set:  0.3217611018982198\n",
      "\n",
      "\n",
      "Epoch: 5 of 200\n",
      "Training...\n"
     ]
    },
    {
     "metadata": {
      "tags": null
     },
     "name": "stderr",
     "output_type": "stream",
     "text": [
      "100%|██████████| 3563/3563 [01:46<00:00, 33.32it/s]\n"
     ]
    },
    {
     "metadata": {
      "tags": null
     },
     "name": "stdout",
     "output_type": "stream",
     "text": [
      "\n",
      "Test with training set\n"
     ]
    },
    {
     "metadata": {
      "tags": null
     },
     "name": "stderr",
     "output_type": "stream",
     "text": [
      "100%|██████████| 3563/3563 [00:34<00:00, 104.38it/s]\n"
     ]
    },
    {
     "metadata": {
      "tags": null
     },
     "name": "stdout",
     "output_type": "stream",
     "text": [
      "\n",
      "Current Mean loss Train Set:  0.3138207645938867\n",
      "\n",
      "Test with test set\n"
     ]
    },
    {
     "metadata": {
      "tags": null
     },
     "name": "stderr",
     "output_type": "stream",
     "text": [
      "100%|██████████| 396/396 [00:03<00:00, 105.62it/s]\n"
     ]
    },
    {
     "metadata": {
      "tags": null
     },
     "name": "stdout",
     "output_type": "stream",
     "text": [
      "\n",
      "Current Mean loss Test Set:  0.3202352596428057\n",
      "\n",
      "\n",
      "Epoch: 6 of 200\n",
      "Training...\n"
     ]
    },
    {
     "metadata": {
      "tags": null
     },
     "name": "stderr",
     "output_type": "stream",
     "text": [
      "100%|██████████| 3563/3563 [01:46<00:00, 33.34it/s]\n"
     ]
    },
    {
     "metadata": {
      "tags": null
     },
     "name": "stdout",
     "output_type": "stream",
     "text": [
      "\n",
      "Test with training set\n"
     ]
    },
    {
     "metadata": {
      "tags": null
     },
     "name": "stderr",
     "output_type": "stream",
     "text": [
      "100%|██████████| 3563/3563 [00:34<00:00, 104.47it/s]\n"
     ]
    },
    {
     "metadata": {
      "tags": null
     },
     "name": "stdout",
     "output_type": "stream",
     "text": [
      "\n",
      "Current Mean loss Train Set:  0.29326423390792256\n",
      "\n",
      "Test with test set\n"
     ]
    },
    {
     "metadata": {
      "tags": null
     },
     "name": "stderr",
     "output_type": "stream",
     "text": [
      "100%|██████████| 396/396 [00:03<00:00, 103.86it/s]\n"
     ]
    },
    {
     "metadata": {
      "tags": null
     },
     "name": "stdout",
     "output_type": "stream",
     "text": [
      "\n",
      "Current Mean loss Test Set:  0.29886065382096505\n",
      "\n",
      "\n",
      "Epoch: 7 of 200\n",
      "Training...\n"
     ]
    },
    {
     "metadata": {
      "tags": null
     },
     "name": "stderr",
     "output_type": "stream",
     "text": [
      "100%|██████████| 3563/3563 [01:46<00:00, 33.33it/s]\n"
     ]
    },
    {
     "metadata": {
      "tags": null
     },
     "name": "stdout",
     "output_type": "stream",
     "text": [
      "\n",
      "Test with training set\n"
     ]
    },
    {
     "metadata": {
      "tags": null
     },
     "name": "stderr",
     "output_type": "stream",
     "text": [
      "100%|██████████| 3563/3563 [00:34<00:00, 104.10it/s]\n"
     ]
    },
    {
     "metadata": {
      "tags": null
     },
     "name": "stdout",
     "output_type": "stream",
     "text": [
      "\n",
      "Current Mean loss Train Set:  0.2984167037345103\n",
      "\n",
      "Test with test set\n"
     ]
    },
    {
     "metadata": {
      "tags": null
     },
     "name": "stderr",
     "output_type": "stream",
     "text": [
      "100%|██████████| 396/396 [00:03<00:00, 105.47it/s]\n"
     ]
    },
    {
     "metadata": {
      "tags": null
     },
     "name": "stdout",
     "output_type": "stream",
     "text": [
      "\n",
      "Current Mean loss Test Set:  0.30434685584270593\n",
      "\n",
      "\n",
      "Epoch: 8 of 200\n",
      "Training...\n"
     ]
    },
    {
     "metadata": {
      "tags": null
     },
     "name": "stderr",
     "output_type": "stream",
     "text": [
      "100%|██████████| 3563/3563 [01:47<00:00, 33.28it/s]\n"
     ]
    },
    {
     "metadata": {
      "tags": null
     },
     "name": "stdout",
     "output_type": "stream",
     "text": [
      "\n",
      "Test with training set\n"
     ]
    },
    {
     "metadata": {
      "tags": null
     },
     "name": "stderr",
     "output_type": "stream",
     "text": [
      "100%|██████████| 3563/3563 [00:34<00:00, 103.71it/s]\n"
     ]
    },
    {
     "metadata": {
      "tags": null
     },
     "name": "stdout",
     "output_type": "stream",
     "text": [
      "\n",
      "Current Mean loss Train Set:  0.28563362694158\n",
      "\n",
      "Test with test set\n"
     ]
    },
    {
     "metadata": {
      "tags": null
     },
     "name": "stderr",
     "output_type": "stream",
     "text": [
      "100%|██████████| 396/396 [00:03<00:00, 103.82it/s]\n"
     ]
    },
    {
     "metadata": {
      "tags": null
     },
     "name": "stdout",
     "output_type": "stream",
     "text": [
      "\n",
      "Current Mean loss Test Set:  0.2908018588116675\n",
      "\n",
      "\n",
      "Epoch: 9 of 200\n",
      "Training...\n"
     ]
    },
    {
     "metadata": {
      "tags": null
     },
     "name": "stderr",
     "output_type": "stream",
     "text": [
      "100%|██████████| 3563/3563 [01:47<00:00, 33.15it/s]\n"
     ]
    },
    {
     "metadata": {
      "tags": null
     },
     "name": "stdout",
     "output_type": "stream",
     "text": [
      "\n",
      "Test with training set\n"
     ]
    },
    {
     "metadata": {
      "tags": null
     },
     "name": "stderr",
     "output_type": "stream",
     "text": [
      "100%|██████████| 3563/3563 [00:34<00:00, 104.23it/s]\n"
     ]
    },
    {
     "metadata": {
      "tags": null
     },
     "name": "stdout",
     "output_type": "stream",
     "text": [
      "\n",
      "Current Mean loss Train Set:  0.28396195229304966\n",
      "\n",
      "Test with test set\n"
     ]
    },
    {
     "metadata": {
      "tags": null
     },
     "name": "stderr",
     "output_type": "stream",
     "text": [
      "100%|██████████| 396/396 [00:03<00:00, 104.63it/s]\n"
     ]
    },
    {
     "metadata": {
      "tags": null
     },
     "name": "stdout",
     "output_type": "stream",
     "text": [
      "\n",
      "Current Mean loss Test Set:  0.28994448328710565\n",
      "\n",
      "\n",
      "Epoch: 10 of 200\n",
      "Training...\n"
     ]
    },
    {
     "metadata": {
      "tags": null
     },
     "name": "stderr",
     "output_type": "stream",
     "text": [
      "100%|██████████| 3563/3563 [01:46<00:00, 33.42it/s]\n"
     ]
    },
    {
     "metadata": {
      "tags": null
     },
     "name": "stdout",
     "output_type": "stream",
     "text": [
      "\n",
      "Test with training set\n"
     ]
    },
    {
     "metadata": {
      "tags": null
     },
     "name": "stderr",
     "output_type": "stream",
     "text": [
      "100%|██████████| 3563/3563 [00:33<00:00, 105.20it/s]\n"
     ]
    },
    {
     "metadata": {
      "tags": null
     },
     "name": "stdout",
     "output_type": "stream",
     "text": [
      "\n",
      "Current Mean loss Train Set:  0.2764734483328958\n",
      "\n",
      "Test with test set\n"
     ]
    },
    {
     "metadata": {
      "tags": null
     },
     "name": "stderr",
     "output_type": "stream",
     "text": [
      "100%|██████████| 396/396 [00:03<00:00, 104.61it/s]\n"
     ]
    },
    {
     "metadata": {
      "tags": null
     },
     "name": "stdout",
     "output_type": "stream",
     "text": [
      "\n",
      "Current Mean loss Test Set:  0.28304579451379147\n",
      "\n",
      "\n",
      "Epoch: 11 of 200\n",
      "Training...\n"
     ]
    },
    {
     "metadata": {
      "tags": null
     },
     "name": "stderr",
     "output_type": "stream",
     "text": [
      "100%|██████████| 3563/3563 [01:46<00:00, 33.48it/s]\n"
     ]
    },
    {
     "metadata": {
      "tags": null
     },
     "name": "stdout",
     "output_type": "stream",
     "text": [
      "\n",
      "Test with training set\n"
     ]
    },
    {
     "metadata": {
      "tags": null
     },
     "name": "stderr",
     "output_type": "stream",
     "text": [
      "100%|██████████| 3563/3563 [00:34<00:00, 104.52it/s]\n"
     ]
    },
    {
     "metadata": {
      "tags": null
     },
     "name": "stdout",
     "output_type": "stream",
     "text": [
      "\n",
      "Current Mean loss Train Set:  0.2737693801990661\n",
      "\n",
      "Test with test set\n"
     ]
    },
    {
     "metadata": {
      "tags": null
     },
     "name": "stderr",
     "output_type": "stream",
     "text": [
      "100%|██████████| 396/396 [00:03<00:00, 104.79it/s]\n"
     ]
    },
    {
     "metadata": {
      "tags": null
     },
     "name": "stdout",
     "output_type": "stream",
     "text": [
      "\n",
      "Current Mean loss Test Set:  0.2817369338990462\n",
      "\n",
      "\n",
      "Epoch: 12 of 200\n",
      "Training...\n"
     ]
    },
    {
     "metadata": {
      "tags": null
     },
     "name": "stderr",
     "output_type": "stream",
     "text": [
      "100%|██████████| 3563/3563 [01:46<00:00, 33.45it/s]\n"
     ]
    },
    {
     "metadata": {
      "tags": null
     },
     "name": "stdout",
     "output_type": "stream",
     "text": [
      "\n",
      "Test with training set\n"
     ]
    },
    {
     "metadata": {
      "tags": null
     },
     "name": "stderr",
     "output_type": "stream",
     "text": [
      "100%|██████████| 3563/3563 [00:33<00:00, 104.92it/s]\n"
     ]
    },
    {
     "metadata": {
      "tags": null
     },
     "name": "stdout",
     "output_type": "stream",
     "text": [
      "\n",
      "Current Mean loss Train Set:  0.2711038654761605\n",
      "\n",
      "Test with test set\n"
     ]
    },
    {
     "metadata": {
      "tags": null
     },
     "name": "stderr",
     "output_type": "stream",
     "text": [
      "100%|██████████| 396/396 [00:03<00:00, 105.96it/s]\n"
     ]
    },
    {
     "metadata": {
      "tags": null
     },
     "name": "stdout",
     "output_type": "stream",
     "text": [
      "\n",
      "Current Mean loss Test Set:  0.27943743421047024\n",
      "\n",
      "\n",
      "Epoch: 13 of 200\n",
      "Training...\n"
     ]
    },
    {
     "metadata": {
      "tags": null
     },
     "name": "stderr",
     "output_type": "stream",
     "text": [
      "100%|██████████| 3563/3563 [01:46<00:00, 33.41it/s]\n"
     ]
    },
    {
     "metadata": {
      "tags": null
     },
     "name": "stdout",
     "output_type": "stream",
     "text": [
      "\n",
      "Test with training set\n"
     ]
    },
    {
     "metadata": {
      "tags": null
     },
     "name": "stderr",
     "output_type": "stream",
     "text": [
      "100%|██████████| 3563/3563 [00:33<00:00, 104.81it/s]\n"
     ]
    },
    {
     "metadata": {
      "tags": null
     },
     "name": "stdout",
     "output_type": "stream",
     "text": [
      "\n",
      "Current Mean loss Train Set:  0.26567205446274333\n",
      "\n",
      "Test with test set\n"
     ]
    },
    {
     "metadata": {
      "tags": null
     },
     "name": "stderr",
     "output_type": "stream",
     "text": [
      "100%|██████████| 396/396 [00:03<00:00, 103.45it/s]\n"
     ]
    },
    {
     "metadata": {
      "tags": null
     },
     "name": "stdout",
     "output_type": "stream",
     "text": [
      "\n",
      "Current Mean loss Test Set:  0.2738732874318205\n",
      "\n",
      "\n",
      "Epoch: 14 of 200\n",
      "Training...\n"
     ]
    },
    {
     "metadata": {
      "tags": null
     },
     "name": "stderr",
     "output_type": "stream",
     "text": [
      "100%|██████████| 3563/3563 [01:46<00:00, 33.49it/s]\n"
     ]
    },
    {
     "metadata": {
      "tags": null
     },
     "name": "stdout",
     "output_type": "stream",
     "text": [
      "\n",
      "Test with training set\n"
     ]
    },
    {
     "metadata": {
      "tags": null
     },
     "name": "stderr",
     "output_type": "stream",
     "text": [
      "100%|██████████| 3563/3563 [00:33<00:00, 105.61it/s]\n"
     ]
    },
    {
     "metadata": {
      "tags": null
     },
     "name": "stdout",
     "output_type": "stream",
     "text": [
      "\n",
      "Current Mean loss Train Set:  0.26328192637261466\n",
      "\n",
      "Test with test set\n"
     ]
    },
    {
     "metadata": {
      "tags": null
     },
     "name": "stderr",
     "output_type": "stream",
     "text": [
      "100%|██████████| 396/396 [00:03<00:00, 103.88it/s]\n"
     ]
    },
    {
     "metadata": {
      "tags": null
     },
     "name": "stdout",
     "output_type": "stream",
     "text": [
      "\n",
      "Current Mean loss Test Set:  0.27203465682087524\n",
      "\n",
      "\n",
      "Epoch: 15 of 200\n",
      "Training...\n"
     ]
    },
    {
     "metadata": {
      "tags": null
     },
     "name": "stderr",
     "output_type": "stream",
     "text": [
      "100%|██████████| 3563/3563 [01:46<00:00, 33.51it/s]\n"
     ]
    },
    {
     "metadata": {
      "tags": null
     },
     "name": "stdout",
     "output_type": "stream",
     "text": [
      "\n",
      "Test with training set\n"
     ]
    },
    {
     "metadata": {
      "tags": null
     },
     "name": "stderr",
     "output_type": "stream",
     "text": [
      "100%|██████████| 3563/3563 [00:33<00:00, 105.23it/s]\n"
     ]
    },
    {
     "metadata": {
      "tags": null
     },
     "name": "stdout",
     "output_type": "stream",
     "text": [
      "\n",
      "Current Mean loss Train Set:  0.2557202074054651\n",
      "\n",
      "Test with test set\n"
     ]
    },
    {
     "metadata": {
      "tags": null
     },
     "name": "stderr",
     "output_type": "stream",
     "text": [
      "100%|██████████| 396/396 [00:03<00:00, 106.54it/s]\n"
     ]
    },
    {
     "metadata": {
      "tags": null
     },
     "name": "stdout",
     "output_type": "stream",
     "text": [
      "\n",
      "Current Mean loss Test Set:  0.2639703935369699\n",
      "\n",
      "\n",
      "Epoch: 16 of 200\n",
      "Training...\n"
     ]
    },
    {
     "metadata": {
      "tags": null
     },
     "name": "stderr",
     "output_type": "stream",
     "text": [
      "100%|██████████| 3563/3563 [01:46<00:00, 33.54it/s]\n"
     ]
    },
    {
     "metadata": {
      "tags": null
     },
     "name": "stdout",
     "output_type": "stream",
     "text": [
      "\n",
      "Test with training set\n"
     ]
    },
    {
     "metadata": {
      "tags": null
     },
     "name": "stderr",
     "output_type": "stream",
     "text": [
      "100%|██████████| 3563/3563 [00:33<00:00, 105.12it/s]\n"
     ]
    },
    {
     "metadata": {
      "tags": null
     },
     "name": "stdout",
     "output_type": "stream",
     "text": [
      "\n",
      "Current Mean loss Train Set:  0.24975384889970895\n",
      "\n",
      "Test with test set\n"
     ]
    },
    {
     "metadata": {
      "tags": null
     },
     "name": "stderr",
     "output_type": "stream",
     "text": [
      "100%|██████████| 396/396 [00:03<00:00, 103.31it/s]\n"
     ]
    },
    {
     "metadata": {
      "tags": null
     },
     "name": "stdout",
     "output_type": "stream",
     "text": [
      "\n",
      "Current Mean loss Test Set:  0.25837321483501885\n",
      "\n",
      "\n",
      "Epoch: 17 of 200\n",
      "Training...\n"
     ]
    },
    {
     "metadata": {
      "tags": null
     },
     "name": "stderr",
     "output_type": "stream",
     "text": [
      "100%|██████████| 3563/3563 [01:46<00:00, 33.60it/s]\n"
     ]
    },
    {
     "metadata": {
      "tags": null
     },
     "name": "stdout",
     "output_type": "stream",
     "text": [
      "\n",
      "Test with training set\n"
     ]
    },
    {
     "metadata": {
      "tags": null
     },
     "name": "stderr",
     "output_type": "stream",
     "text": [
      "100%|██████████| 3563/3563 [00:33<00:00, 105.06it/s]\n"
     ]
    },
    {
     "metadata": {
      "tags": null
     },
     "name": "stdout",
     "output_type": "stream",
     "text": [
      "\n",
      "Current Mean loss Train Set:  0.249299782880096\n",
      "\n",
      "Test with test set\n"
     ]
    },
    {
     "metadata": {
      "tags": null
     },
     "name": "stderr",
     "output_type": "stream",
     "text": [
      "100%|██████████| 396/396 [00:03<00:00, 106.33it/s]\n"
     ]
    },
    {
     "metadata": {
      "tags": null
     },
     "name": "stdout",
     "output_type": "stream",
     "text": [
      "\n",
      "Current Mean loss Test Set:  0.2586183325020653\n",
      "\n",
      "\n",
      "Epoch: 18 of 200\n",
      "Training...\n"
     ]
    },
    {
     "metadata": {
      "tags": null
     },
     "name": "stderr",
     "output_type": "stream",
     "text": [
      "100%|██████████| 3563/3563 [01:46<00:00, 33.54it/s]\n"
     ]
    },
    {
     "metadata": {
      "tags": null
     },
     "name": "stdout",
     "output_type": "stream",
     "text": [
      "\n",
      "Test with training set\n"
     ]
    },
    {
     "metadata": {
      "tags": null
     },
     "name": "stderr",
     "output_type": "stream",
     "text": [
      "100%|██████████| 3563/3563 [00:34<00:00, 104.77it/s]\n"
     ]
    },
    {
     "metadata": {
      "tags": null
     },
     "name": "stdout",
     "output_type": "stream",
     "text": [
      "\n",
      "Current Mean loss Train Set:  0.2464478744751712\n",
      "\n",
      "Test with test set\n"
     ]
    },
    {
     "metadata": {
      "tags": null
     },
     "name": "stderr",
     "output_type": "stream",
     "text": [
      "100%|██████████| 396/396 [00:03<00:00, 104.58it/s]\n"
     ]
    },
    {
     "metadata": {
      "tags": null
     },
     "name": "stdout",
     "output_type": "stream",
     "text": [
      "\n",
      "Current Mean loss Test Set:  0.2512914212514656\n",
      "\n",
      "\n",
      "Epoch: 19 of 200\n",
      "Training...\n"
     ]
    },
    {
     "metadata": {
      "tags": null
     },
     "name": "stderr",
     "output_type": "stream",
     "text": [
      "100%|██████████| 3563/3563 [01:49<00:00, 32.63it/s]\n"
     ]
    },
    {
     "metadata": {
      "tags": null
     },
     "name": "stdout",
     "output_type": "stream",
     "text": [
      "\n",
      "Test with training set\n"
     ]
    },
    {
     "metadata": {
      "tags": null
     },
     "name": "stderr",
     "output_type": "stream",
     "text": [
      "100%|██████████| 3563/3563 [00:34<00:00, 102.82it/s]\n"
     ]
    },
    {
     "metadata": {
      "tags": null
     },
     "name": "stdout",
     "output_type": "stream",
     "text": [
      "\n",
      "Current Mean loss Train Set:  0.24368755262185107\n",
      "\n",
      "Test with test set\n"
     ]
    },
    {
     "metadata": {
      "tags": null
     },
     "name": "stderr",
     "output_type": "stream",
     "text": [
      "100%|██████████| 396/396 [00:03<00:00, 100.74it/s]\n"
     ]
    },
    {
     "metadata": {
      "tags": null
     },
     "name": "stdout",
     "output_type": "stream",
     "text": [
      "\n",
      "Current Mean loss Test Set:  0.2515919516521572\n",
      "\n",
      "\n",
      "Epoch: 20 of 200\n",
      "Training...\n"
     ]
    },
    {
     "metadata": {
      "tags": null
     },
     "name": "stderr",
     "output_type": "stream",
     "text": [
      "100%|██████████| 3563/3563 [01:46<00:00, 33.34it/s]\n"
     ]
    },
    {
     "metadata": {
      "tags": null
     },
     "name": "stdout",
     "output_type": "stream",
     "text": [
      "\n",
      "Test with training set\n"
     ]
    },
    {
     "metadata": {
      "tags": null
     },
     "name": "stderr",
     "output_type": "stream",
     "text": [
      "100%|██████████| 3563/3563 [00:33<00:00, 104.99it/s]\n"
     ]
    },
    {
     "metadata": {
      "tags": null
     },
     "name": "stdout",
     "output_type": "stream",
     "text": [
      "\n",
      "Current Mean loss Train Set:  0.24170924895454785\n",
      "\n",
      "Test with test set\n"
     ]
    },
    {
     "metadata": {
      "tags": null
     },
     "name": "stderr",
     "output_type": "stream",
     "text": [
      "100%|██████████| 396/396 [00:03<00:00, 106.07it/s]\n"
     ]
    },
    {
     "metadata": {
      "tags": null
     },
     "name": "stdout",
     "output_type": "stream",
     "text": [
      "\n",
      "Current Mean loss Test Set:  0.24837682023644447\n",
      "\n",
      "\n",
      "Epoch: 21 of 200\n",
      "Training...\n"
     ]
    },
    {
     "metadata": {
      "tags": null
     },
     "name": "stderr",
     "output_type": "stream",
     "text": [
      "100%|██████████| 3563/3563 [01:46<00:00, 33.56it/s]\n"
     ]
    },
    {
     "metadata": {
      "tags": null
     },
     "name": "stdout",
     "output_type": "stream",
     "text": [
      "\n",
      "Test with training set\n"
     ]
    },
    {
     "metadata": {
      "tags": null
     },
     "name": "stderr",
     "output_type": "stream",
     "text": [
      "100%|██████████| 3563/3563 [00:34<00:00, 104.66it/s]\n"
     ]
    },
    {
     "metadata": {
      "tags": null
     },
     "name": "stdout",
     "output_type": "stream",
     "text": [
      "\n",
      "Current Mean loss Train Set:  0.24301973538990274\n",
      "\n",
      "Test with test set\n"
     ]
    },
    {
     "metadata": {
      "tags": null
     },
     "name": "stderr",
     "output_type": "stream",
     "text": [
      "100%|██████████| 396/396 [00:03<00:00, 105.28it/s]\n"
     ]
    },
    {
     "metadata": {
      "tags": null
     },
     "name": "stdout",
     "output_type": "stream",
     "text": [
      "\n",
      "Current Mean loss Test Set:  0.25060314986139837\n",
      "\n",
      "\n",
      "Epoch: 22 of 200\n",
      "Training...\n"
     ]
    },
    {
     "metadata": {
      "tags": null
     },
     "name": "stderr",
     "output_type": "stream",
     "text": [
      "100%|██████████| 3563/3563 [01:48<00:00, 32.80it/s]\n"
     ]
    },
    {
     "metadata": {
      "tags": null
     },
     "name": "stdout",
     "output_type": "stream",
     "text": [
      "\n",
      "Test with training set\n"
     ]
    },
    {
     "metadata": {
      "tags": null
     },
     "name": "stderr",
     "output_type": "stream",
     "text": [
      "100%|██████████| 3563/3563 [00:35<00:00, 101.68it/s]\n"
     ]
    },
    {
     "metadata": {
      "tags": null
     },
     "name": "stdout",
     "output_type": "stream",
     "text": [
      "\n",
      "Current Mean loss Train Set:  0.2403812778906109\n",
      "\n",
      "Test with test set\n"
     ]
    },
    {
     "metadata": {
      "tags": null
     },
     "name": "stderr",
     "output_type": "stream",
     "text": [
      "100%|██████████| 396/396 [00:03<00:00, 102.47it/s]\n"
     ]
    },
    {
     "metadata": {
      "tags": null
     },
     "name": "stdout",
     "output_type": "stream",
     "text": [
      "\n",
      "Current Mean loss Test Set:  0.2460049626727899\n",
      "\n",
      "\n",
      "Epoch: 23 of 200\n",
      "Training...\n"
     ]
    },
    {
     "metadata": {
      "tags": null
     },
     "name": "stderr",
     "output_type": "stream",
     "text": [
      "100%|██████████| 3563/3563 [01:47<00:00, 33.03it/s]\n"
     ]
    },
    {
     "metadata": {
      "tags": null
     },
     "name": "stdout",
     "output_type": "stream",
     "text": [
      "\n",
      "Test with training set\n"
     ]
    },
    {
     "metadata": {
      "tags": null
     },
     "name": "stderr",
     "output_type": "stream",
     "text": [
      "100%|██████████| 3563/3563 [00:34<00:00, 103.79it/s]\n"
     ]
    },
    {
     "metadata": {
      "tags": null
     },
     "name": "stdout",
     "output_type": "stream",
     "text": [
      "\n",
      "Current Mean loss Train Set:  0.23810922423047762\n",
      "\n",
      "Test with test set\n"
     ]
    },
    {
     "metadata": {
      "tags": null
     },
     "name": "stderr",
     "output_type": "stream",
     "text": [
      "100%|██████████| 396/396 [00:03<00:00, 103.29it/s]\n"
     ]
    },
    {
     "metadata": {
      "tags": null
     },
     "name": "stdout",
     "output_type": "stream",
     "text": [
      "\n",
      "Current Mean loss Test Set:  0.24392431645155555\n",
      "\n",
      "\n",
      "Epoch: 24 of 200\n",
      "Training...\n"
     ]
    },
    {
     "metadata": {
      "tags": null
     },
     "name": "stderr",
     "output_type": "stream",
     "text": [
      "100%|██████████| 3563/3563 [01:49<00:00, 32.51it/s]\n"
     ]
    },
    {
     "metadata": {
      "tags": null
     },
     "name": "stdout",
     "output_type": "stream",
     "text": [
      "\n",
      "Test with training set\n"
     ]
    },
    {
     "metadata": {
      "tags": null
     },
     "name": "stderr",
     "output_type": "stream",
     "text": [
      "100%|██████████| 3563/3563 [00:34<00:00, 102.07it/s]\n"
     ]
    },
    {
     "metadata": {
      "tags": null
     },
     "name": "stdout",
     "output_type": "stream",
     "text": [
      "\n",
      "Current Mean loss Train Set:  0.23927795612432298\n",
      "\n",
      "Test with test set\n"
     ]
    },
    {
     "metadata": {
      "tags": null
     },
     "name": "stderr",
     "output_type": "stream",
     "text": [
      "100%|██████████| 396/396 [00:03<00:00, 101.52it/s]\n"
     ]
    },
    {
     "metadata": {
      "tags": null
     },
     "name": "stdout",
     "output_type": "stream",
     "text": [
      "\n",
      "Current Mean loss Test Set:  0.24678841856016656\n",
      "\n",
      "\n",
      "Epoch: 25 of 200\n",
      "Training...\n"
     ]
    },
    {
     "metadata": {
      "tags": null
     },
     "name": "stderr",
     "output_type": "stream",
     "text": [
      "100%|██████████| 3563/3563 [01:47<00:00, 33.19it/s]\n"
     ]
    },
    {
     "metadata": {
      "tags": null
     },
     "name": "stdout",
     "output_type": "stream",
     "text": [
      "\n",
      "Test with training set\n"
     ]
    },
    {
     "metadata": {
      "tags": null
     },
     "name": "stderr",
     "output_type": "stream",
     "text": [
      "100%|██████████| 3563/3563 [00:33<00:00, 104.85it/s]\n"
     ]
    },
    {
     "metadata": {
      "tags": null
     },
     "name": "stdout",
     "output_type": "stream",
     "text": [
      "\n",
      "Current Mean loss Train Set:  0.23949891096908926\n",
      "\n",
      "Test with test set\n"
     ]
    },
    {
     "metadata": {
      "tags": null
     },
     "name": "stderr",
     "output_type": "stream",
     "text": [
      "100%|██████████| 396/396 [00:03<00:00, 104.44it/s]\n"
     ]
    },
    {
     "metadata": {
      "tags": null
     },
     "name": "stdout",
     "output_type": "stream",
     "text": [
      "\n",
      "Current Mean loss Test Set:  0.2435394817342361\n",
      "\n",
      "\n",
      "Epoch: 26 of 200\n",
      "Training...\n"
     ]
    },
    {
     "metadata": {
      "tags": null
     },
     "name": "stderr",
     "output_type": "stream",
     "text": [
      "100%|██████████| 3563/3563 [01:46<00:00, 33.32it/s]\n"
     ]
    },
    {
     "metadata": {
      "tags": null
     },
     "name": "stdout",
     "output_type": "stream",
     "text": [
      "\n",
      "Test with training set\n"
     ]
    },
    {
     "metadata": {
      "tags": null
     },
     "name": "stderr",
     "output_type": "stream",
     "text": [
      "100%|██████████| 3563/3563 [00:34<00:00, 104.67it/s]\n"
     ]
    },
    {
     "metadata": {
      "tags": null
     },
     "name": "stdout",
     "output_type": "stream",
     "text": [
      "\n",
      "Current Mean loss Train Set:  0.23387234953056718\n",
      "\n",
      "Test with test set\n"
     ]
    },
    {
     "metadata": {
      "tags": null
     },
     "name": "stderr",
     "output_type": "stream",
     "text": [
      "100%|██████████| 396/396 [00:03<00:00, 105.58it/s]\n"
     ]
    },
    {
     "metadata": {
      "tags": null
     },
     "name": "stdout",
     "output_type": "stream",
     "text": [
      "\n",
      "Current Mean loss Test Set:  0.24106845918177355\n",
      "\n",
      "\n",
      "Epoch: 27 of 200\n",
      "Training...\n"
     ]
    },
    {
     "metadata": {
      "tags": null
     },
     "name": "stderr",
     "output_type": "stream",
     "text": [
      "100%|██████████| 3563/3563 [01:46<00:00, 33.47it/s]\n"
     ]
    },
    {
     "metadata": {
      "tags": null
     },
     "name": "stdout",
     "output_type": "stream",
     "text": [
      "\n",
      "Test with training set\n"
     ]
    },
    {
     "metadata": {
      "tags": null
     },
     "name": "stderr",
     "output_type": "stream",
     "text": [
      "100%|██████████| 3563/3563 [00:33<00:00, 105.06it/s]\n"
     ]
    },
    {
     "metadata": {
      "tags": null
     },
     "name": "stdout",
     "output_type": "stream",
     "text": [
      "\n",
      "Current Mean loss Train Set:  0.23160876354206286\n",
      "\n",
      "Test with test set\n"
     ]
    },
    {
     "metadata": {
      "tags": null
     },
     "name": "stderr",
     "output_type": "stream",
     "text": [
      "100%|██████████| 396/396 [00:03<00:00, 104.44it/s]\n"
     ]
    },
    {
     "metadata": {
      "tags": null
     },
     "name": "stdout",
     "output_type": "stream",
     "text": [
      "\n",
      "Current Mean loss Test Set:  0.2398610736121132\n",
      "\n",
      "\n",
      "Epoch: 28 of 200\n",
      "Training...\n"
     ]
    },
    {
     "metadata": {
      "tags": null
     },
     "name": "stderr",
     "output_type": "stream",
     "text": [
      "100%|██████████| 3563/3563 [01:46<00:00, 33.57it/s]\n"
     ]
    },
    {
     "metadata": {
      "tags": null
     },
     "name": "stdout",
     "output_type": "stream",
     "text": [
      "\n",
      "Test with training set\n"
     ]
    },
    {
     "metadata": {
      "tags": null
     },
     "name": "stderr",
     "output_type": "stream",
     "text": [
      "100%|██████████| 3563/3563 [00:33<00:00, 105.10it/s]\n"
     ]
    },
    {
     "metadata": {
      "tags": null
     },
     "name": "stdout",
     "output_type": "stream",
     "text": [
      "\n",
      "Current Mean loss Train Set:  0.23445382416499252\n",
      "\n",
      "Test with test set\n"
     ]
    },
    {
     "metadata": {
      "tags": null
     },
     "name": "stderr",
     "output_type": "stream",
     "text": [
      "100%|██████████| 396/396 [00:03<00:00, 104.69it/s]\n"
     ]
    },
    {
     "metadata": {
      "tags": null
     },
     "name": "stdout",
     "output_type": "stream",
     "text": [
      "\n",
      "Current Mean loss Test Set:  0.24229015377961627\n",
      "\n",
      "\n",
      "Epoch: 29 of 200\n",
      "Training...\n"
     ]
    },
    {
     "metadata": {
      "tags": null
     },
     "name": "stderr",
     "output_type": "stream",
     "text": [
      "100%|██████████| 3563/3563 [01:46<00:00, 33.54it/s]\n"
     ]
    },
    {
     "metadata": {
      "tags": null
     },
     "name": "stdout",
     "output_type": "stream",
     "text": [
      "\n",
      "Test with training set\n"
     ]
    },
    {
     "metadata": {
      "tags": null
     },
     "name": "stderr",
     "output_type": "stream",
     "text": [
      "100%|██████████| 3563/3563 [00:33<00:00, 104.99it/s]\n"
     ]
    },
    {
     "metadata": {
      "tags": null
     },
     "name": "stdout",
     "output_type": "stream",
     "text": [
      "\n",
      "Current Mean loss Train Set:  0.2369825246751961\n",
      "\n",
      "Test with test set\n"
     ]
    },
    {
     "metadata": {
      "tags": null
     },
     "name": "stderr",
     "output_type": "stream",
     "text": [
      "100%|██████████| 396/396 [00:03<00:00, 105.53it/s]\n"
     ]
    },
    {
     "metadata": {
      "tags": null
     },
     "name": "stdout",
     "output_type": "stream",
     "text": [
      "\n",
      "Current Mean loss Test Set:  0.24473959606404255\n",
      "\n",
      "\n",
      "Epoch: 30 of 200\n",
      "Training...\n"
     ]
    },
    {
     "metadata": {
      "tags": null
     },
     "name": "stderr",
     "output_type": "stream",
     "text": [
      "100%|██████████| 3563/3563 [01:46<00:00, 33.54it/s]\n"
     ]
    },
    {
     "metadata": {
      "tags": null
     },
     "name": "stdout",
     "output_type": "stream",
     "text": [
      "\n",
      "Test with training set\n"
     ]
    },
    {
     "metadata": {
      "tags": null
     },
     "name": "stderr",
     "output_type": "stream",
     "text": [
      "100%|██████████| 3563/3563 [00:33<00:00, 105.06it/s]\n"
     ]
    },
    {
     "metadata": {
      "tags": null
     },
     "name": "stdout",
     "output_type": "stream",
     "text": [
      "\n",
      "Current Mean loss Train Set:  0.2339947152796034\n",
      "\n",
      "Test with test set\n"
     ]
    },
    {
     "metadata": {
      "tags": null
     },
     "name": "stderr",
     "output_type": "stream",
     "text": [
      "100%|██████████| 396/396 [00:03<00:00, 105.60it/s]\n"
     ]
    },
    {
     "metadata": {
      "tags": null
     },
     "name": "stdout",
     "output_type": "stream",
     "text": [
      "\n",
      "Current Mean loss Test Set:  0.24228270237117705\n",
      "\n",
      "\n",
      "Epoch: 31 of 200\n",
      "Training...\n"
     ]
    },
    {
     "metadata": {
      "tags": null
     },
     "name": "stderr",
     "output_type": "stream",
     "text": [
      "100%|██████████| 3563/3563 [01:46<00:00, 33.50it/s]\n"
     ]
    },
    {
     "metadata": {
      "tags": null
     },
     "name": "stdout",
     "output_type": "stream",
     "text": [
      "\n",
      "Test with training set\n"
     ]
    },
    {
     "metadata": {
      "tags": null
     },
     "name": "stderr",
     "output_type": "stream",
     "text": [
      "100%|██████████| 3563/3563 [00:33<00:00, 104.96it/s]\n"
     ]
    },
    {
     "metadata": {
      "tags": null
     },
     "name": "stdout",
     "output_type": "stream",
     "text": [
      "\n",
      "Current Mean loss Train Set:  0.22984213372595752\n",
      "\n",
      "Test with test set\n"
     ]
    },
    {
     "metadata": {
      "tags": null
     },
     "name": "stderr",
     "output_type": "stream",
     "text": [
      "100%|██████████| 396/396 [00:03<00:00, 104.33it/s]\n"
     ]
    },
    {
     "metadata": {
      "tags": null
     },
     "name": "stdout",
     "output_type": "stream",
     "text": [
      "\n",
      "Current Mean loss Test Set:  0.23915532370558892\n",
      "\n",
      "\n",
      "Epoch: 32 of 200\n",
      "Training...\n"
     ]
    },
    {
     "metadata": {
      "tags": null
     },
     "name": "stderr",
     "output_type": "stream",
     "text": [
      "100%|██████████| 3563/3563 [01:46<00:00, 33.48it/s]\n"
     ]
    },
    {
     "metadata": {
      "tags": null
     },
     "name": "stdout",
     "output_type": "stream",
     "text": [
      "\n",
      "Test with training set\n"
     ]
    },
    {
     "metadata": {
      "tags": null
     },
     "name": "stderr",
     "output_type": "stream",
     "text": [
      "100%|██████████| 3563/3563 [00:34<00:00, 104.41it/s]\n"
     ]
    },
    {
     "metadata": {
      "tags": null
     },
     "name": "stdout",
     "output_type": "stream",
     "text": [
      "\n",
      "Current Mean loss Train Set:  0.2330363385071923\n",
      "\n",
      "Test with test set\n"
     ]
    },
    {
     "metadata": {
      "tags": null
     },
     "name": "stderr",
     "output_type": "stream",
     "text": [
      "100%|██████████| 396/396 [00:03<00:00, 104.59it/s]\n"
     ]
    },
    {
     "metadata": {
      "tags": null
     },
     "name": "stdout",
     "output_type": "stream",
     "text": [
      "\n",
      "Current Mean loss Test Set:  0.23993503859247825\n",
      "\n",
      "\n",
      "Epoch: 33 of 200\n",
      "Training...\n"
     ]
    },
    {
     "metadata": {
      "tags": null
     },
     "name": "stderr",
     "output_type": "stream",
     "text": [
      "100%|██████████| 3563/3563 [01:46<00:00, 33.45it/s]\n"
     ]
    },
    {
     "metadata": {
      "tags": null
     },
     "name": "stdout",
     "output_type": "stream",
     "text": [
      "\n",
      "Test with training set\n"
     ]
    },
    {
     "metadata": {
      "tags": null
     },
     "name": "stderr",
     "output_type": "stream",
     "text": [
      "100%|██████████| 3563/3563 [00:33<00:00, 105.88it/s]\n"
     ]
    },
    {
     "metadata": {
      "tags": null
     },
     "name": "stdout",
     "output_type": "stream",
     "text": [
      "\n",
      "Current Mean loss Train Set:  0.22931748735680527\n",
      "\n",
      "Test with test set\n"
     ]
    },
    {
     "metadata": {
      "tags": null
     },
     "name": "stderr",
     "output_type": "stream",
     "text": [
      "100%|██████████| 396/396 [00:03<00:00, 104.85it/s]\n"
     ]
    },
    {
     "metadata": {
      "tags": null
     },
     "name": "stdout",
     "output_type": "stream",
     "text": [
      "\n",
      "Current Mean loss Test Set:  0.23785624148869755\n",
      "\n",
      "\n",
      "Epoch: 34 of 200\n",
      "Training...\n"
     ]
    },
    {
     "metadata": {
      "tags": null
     },
     "name": "stderr",
     "output_type": "stream",
     "text": [
      "100%|██████████| 3563/3563 [01:46<00:00, 33.56it/s]\n"
     ]
    },
    {
     "metadata": {
      "tags": null
     },
     "name": "stdout",
     "output_type": "stream",
     "text": [
      "\n",
      "Test with training set\n"
     ]
    },
    {
     "metadata": {
      "tags": null
     },
     "name": "stderr",
     "output_type": "stream",
     "text": [
      "100%|██████████| 3563/3563 [00:34<00:00, 104.71it/s]\n"
     ]
    },
    {
     "metadata": {
      "tags": null
     },
     "name": "stdout",
     "output_type": "stream",
     "text": [
      "\n",
      "Current Mean loss Train Set:  0.23175813128673525\n",
      "\n",
      "Test with test set\n"
     ]
    },
    {
     "metadata": {
      "tags": null
     },
     "name": "stderr",
     "output_type": "stream",
     "text": [
      "100%|██████████| 396/396 [00:03<00:00, 103.16it/s]\n"
     ]
    },
    {
     "metadata": {
      "tags": null
     },
     "name": "stdout",
     "output_type": "stream",
     "text": [
      "\n",
      "Current Mean loss Test Set:  0.2413431518532411\n",
      "\n",
      "\n",
      "Epoch: 35 of 200\n",
      "Training...\n"
     ]
    },
    {
     "metadata": {
      "tags": null
     },
     "name": "stderr",
     "output_type": "stream",
     "text": [
      "100%|██████████| 3563/3563 [01:46<00:00, 33.55it/s]\n"
     ]
    },
    {
     "metadata": {
      "tags": null
     },
     "name": "stdout",
     "output_type": "stream",
     "text": [
      "\n",
      "Test with training set\n"
     ]
    },
    {
     "metadata": {
      "tags": null
     },
     "name": "stderr",
     "output_type": "stream",
     "text": [
      "100%|██████████| 3563/3563 [00:33<00:00, 105.18it/s]\n"
     ]
    },
    {
     "metadata": {
      "tags": null
     },
     "name": "stdout",
     "output_type": "stream",
     "text": [
      "\n",
      "Current Mean loss Train Set:  0.22878943112687453\n",
      "\n",
      "Test with test set\n"
     ]
    },
    {
     "metadata": {
      "tags": null
     },
     "name": "stderr",
     "output_type": "stream",
     "text": [
      "100%|██████████| 396/396 [00:03<00:00, 104.44it/s]\n"
     ]
    },
    {
     "metadata": {
      "tags": null
     },
     "name": "stdout",
     "output_type": "stream",
     "text": [
      "\n",
      "Current Mean loss Test Set:  0.23856058647159975\n",
      "\n",
      "\n",
      "Epoch: 36 of 200\n",
      "Training...\n"
     ]
    },
    {
     "metadata": {
      "tags": null
     },
     "name": "stderr",
     "output_type": "stream",
     "text": [
      "100%|██████████| 3563/3563 [01:46<00:00, 33.50it/s]\n"
     ]
    },
    {
     "metadata": {
      "tags": null
     },
     "name": "stdout",
     "output_type": "stream",
     "text": [
      "\n",
      "Test with training set\n"
     ]
    },
    {
     "metadata": {
      "tags": null
     },
     "name": "stderr",
     "output_type": "stream",
     "text": [
      "100%|██████████| 3563/3563 [00:33<00:00, 105.38it/s]\n"
     ]
    },
    {
     "metadata": {
      "tags": null
     },
     "name": "stdout",
     "output_type": "stream",
     "text": [
      "\n",
      "Current Mean loss Train Set:  0.22965612582425338\n",
      "\n",
      "Test with test set\n"
     ]
    },
    {
     "metadata": {
      "tags": null
     },
     "name": "stderr",
     "output_type": "stream",
     "text": [
      "100%|██████████| 396/396 [00:03<00:00, 104.63it/s]\n"
     ]
    },
    {
     "metadata": {
      "tags": null
     },
     "name": "stdout",
     "output_type": "stream",
     "text": [
      "\n",
      "Current Mean loss Test Set:  0.2396261694304871\n",
      "\n",
      "\n",
      "Epoch: 37 of 200\n",
      "Training...\n"
     ]
    },
    {
     "metadata": {
      "tags": null
     },
     "name": "stderr",
     "output_type": "stream",
     "text": [
      "100%|██████████| 3563/3563 [01:46<00:00, 33.47it/s]\n"
     ]
    },
    {
     "metadata": {
      "tags": null
     },
     "name": "stdout",
     "output_type": "stream",
     "text": [
      "\n",
      "Test with training set\n"
     ]
    },
    {
     "metadata": {
      "tags": null
     },
     "name": "stderr",
     "output_type": "stream",
     "text": [
      "100%|██████████| 3563/3563 [00:33<00:00, 104.87it/s]\n"
     ]
    },
    {
     "metadata": {
      "tags": null
     },
     "name": "stdout",
     "output_type": "stream",
     "text": [
      "\n",
      "Current Mean loss Train Set:  0.22747406234048304\n",
      "\n",
      "Test with test set\n"
     ]
    },
    {
     "metadata": {
      "tags": null
     },
     "name": "stderr",
     "output_type": "stream",
     "text": [
      "100%|██████████| 396/396 [00:03<00:00, 106.15it/s]\n"
     ]
    },
    {
     "metadata": {
      "tags": null
     },
     "name": "stdout",
     "output_type": "stream",
     "text": [
      "\n",
      "Current Mean loss Test Set:  0.23694958955501066\n",
      "\n",
      "\n",
      "Epoch: 38 of 200\n",
      "Training...\n"
     ]
    },
    {
     "metadata": {
      "tags": null
     },
     "name": "stderr",
     "output_type": "stream",
     "text": [
      "100%|██████████| 3563/3563 [01:46<00:00, 33.48it/s]\n"
     ]
    },
    {
     "metadata": {
      "tags": null
     },
     "name": "stdout",
     "output_type": "stream",
     "text": [
      "\n",
      "Test with training set\n"
     ]
    },
    {
     "metadata": {
      "tags": null
     },
     "name": "stderr",
     "output_type": "stream",
     "text": [
      "100%|██████████| 3563/3563 [00:33<00:00, 105.00it/s]\n"
     ]
    },
    {
     "metadata": {
      "tags": null
     },
     "name": "stdout",
     "output_type": "stream",
     "text": [
      "\n",
      "Current Mean loss Train Set:  0.22478594148331332\n",
      "\n",
      "Test with test set\n"
     ]
    },
    {
     "metadata": {
      "tags": null
     },
     "name": "stderr",
     "output_type": "stream",
     "text": [
      "100%|██████████| 396/396 [00:03<00:00, 104.26it/s]\n"
     ]
    },
    {
     "metadata": {
      "tags": null
     },
     "name": "stdout",
     "output_type": "stream",
     "text": [
      "\n",
      "Current Mean loss Test Set:  0.23429222864032995\n",
      "\n",
      "\n",
      "Epoch: 39 of 200\n",
      "Training...\n"
     ]
    },
    {
     "metadata": {
      "tags": null
     },
     "name": "stderr",
     "output_type": "stream",
     "text": [
      "100%|██████████| 3563/3563 [01:46<00:00, 33.39it/s]\n"
     ]
    },
    {
     "metadata": {
      "tags": null
     },
     "name": "stdout",
     "output_type": "stream",
     "text": [
      "\n",
      "Test with training set\n"
     ]
    },
    {
     "metadata": {
      "tags": null
     },
     "name": "stderr",
     "output_type": "stream",
     "text": [
      "100%|██████████| 3563/3563 [00:34<00:00, 104.69it/s]\n"
     ]
    },
    {
     "metadata": {
      "tags": null
     },
     "name": "stdout",
     "output_type": "stream",
     "text": [
      "\n",
      "Current Mean loss Train Set:  0.22593683575039797\n",
      "\n",
      "Test with test set\n"
     ]
    },
    {
     "metadata": {
      "tags": null
     },
     "name": "stderr",
     "output_type": "stream",
     "text": [
      "100%|██████████| 396/396 [00:03<00:00, 105.41it/s]\n"
     ]
    },
    {
     "metadata": {
      "tags": null
     },
     "name": "stdout",
     "output_type": "stream",
     "text": [
      "\n",
      "Current Mean loss Test Set:  0.2338082344092504\n",
      "\n",
      "\n",
      "Epoch: 40 of 200\n",
      "Training...\n"
     ]
    },
    {
     "metadata": {
      "tags": null
     },
     "name": "stderr",
     "output_type": "stream",
     "text": [
      "100%|██████████| 3563/3563 [01:46<00:00, 33.49it/s]\n"
     ]
    },
    {
     "metadata": {
      "tags": null
     },
     "name": "stdout",
     "output_type": "stream",
     "text": [
      "\n",
      "Test with training set\n"
     ]
    },
    {
     "metadata": {
      "tags": null
     },
     "name": "stderr",
     "output_type": "stream",
     "text": [
      "100%|██████████| 3563/3563 [00:34<00:00, 104.51it/s]\n"
     ]
    },
    {
     "metadata": {
      "tags": null
     },
     "name": "stdout",
     "output_type": "stream",
     "text": [
      "\n",
      "Current Mean loss Train Set:  0.22459929985567456\n",
      "\n",
      "Test with test set\n"
     ]
    },
    {
     "metadata": {
      "tags": null
     },
     "name": "stderr",
     "output_type": "stream",
     "text": [
      "100%|██████████| 396/396 [00:03<00:00, 104.85it/s]\n"
     ]
    },
    {
     "metadata": {
      "tags": null
     },
     "name": "stdout",
     "output_type": "stream",
     "text": [
      "\n",
      "Current Mean loss Test Set:  0.23545502060365797\n",
      "\n",
      "\n",
      "Epoch: 41 of 200\n",
      "Training...\n"
     ]
    },
    {
     "metadata": {
      "tags": null
     },
     "name": "stderr",
     "output_type": "stream",
     "text": [
      "100%|██████████| 3563/3563 [01:46<00:00, 33.38it/s]\n"
     ]
    },
    {
     "metadata": {
      "tags": null
     },
     "name": "stdout",
     "output_type": "stream",
     "text": [
      "\n",
      "Test with training set\n"
     ]
    },
    {
     "metadata": {
      "tags": null
     },
     "name": "stderr",
     "output_type": "stream",
     "text": [
      "100%|██████████| 3563/3563 [00:34<00:00, 104.26it/s]\n"
     ]
    },
    {
     "metadata": {
      "tags": null
     },
     "name": "stdout",
     "output_type": "stream",
     "text": [
      "\n",
      "Current Mean loss Train Set:  0.22448164446699195\n",
      "\n",
      "Test with test set\n"
     ]
    },
    {
     "metadata": {
      "tags": null
     },
     "name": "stderr",
     "output_type": "stream",
     "text": [
      "100%|██████████| 396/396 [00:03<00:00, 103.74it/s]\n"
     ]
    },
    {
     "metadata": {
      "tags": null
     },
     "name": "stdout",
     "output_type": "stream",
     "text": [
      "\n",
      "Current Mean loss Test Set:  0.23271361653777686\n",
      "\n",
      "\n",
      "Epoch: 42 of 200\n",
      "Training...\n"
     ]
    },
    {
     "metadata": {
      "tags": null
     },
     "name": "stderr",
     "output_type": "stream",
     "text": [
      "100%|██████████| 3563/3563 [01:46<00:00, 33.40it/s]\n"
     ]
    },
    {
     "metadata": {
      "tags": null
     },
     "name": "stdout",
     "output_type": "stream",
     "text": [
      "\n",
      "Test with training set\n"
     ]
    },
    {
     "metadata": {
      "tags": null
     },
     "name": "stderr",
     "output_type": "stream",
     "text": [
      "100%|██████████| 3563/3563 [00:33<00:00, 105.26it/s]\n"
     ]
    },
    {
     "metadata": {
      "tags": null
     },
     "name": "stdout",
     "output_type": "stream",
     "text": [
      "\n",
      "Current Mean loss Train Set:  0.2257264419833897\n",
      "\n",
      "Test with test set\n"
     ]
    },
    {
     "metadata": {
      "tags": null
     },
     "name": "stderr",
     "output_type": "stream",
     "text": [
      "100%|██████████| 396/396 [00:03<00:00, 104.83it/s]\n"
     ]
    },
    {
     "metadata": {
      "tags": null
     },
     "name": "stdout",
     "output_type": "stream",
     "text": [
      "\n",
      "Current Mean loss Test Set:  0.23712955117978232\n",
      "\n",
      "\n",
      "Epoch: 43 of 200\n",
      "Training...\n"
     ]
    },
    {
     "metadata": {
      "tags": null
     },
     "name": "stderr",
     "output_type": "stream",
     "text": [
      "100%|██████████| 3563/3563 [01:46<00:00, 33.42it/s]\n"
     ]
    },
    {
     "metadata": {
      "tags": null
     },
     "name": "stdout",
     "output_type": "stream",
     "text": [
      "\n",
      "Test with training set\n"
     ]
    },
    {
     "metadata": {
      "tags": null
     },
     "name": "stderr",
     "output_type": "stream",
     "text": [
      "100%|██████████| 3563/3563 [00:33<00:00, 104.86it/s]\n"
     ]
    },
    {
     "metadata": {
      "tags": null
     },
     "name": "stdout",
     "output_type": "stream",
     "text": [
      "\n",
      "Current Mean loss Train Set:  0.22767089642929356\n",
      "\n",
      "Test with test set\n"
     ]
    },
    {
     "metadata": {
      "tags": null
     },
     "name": "stderr",
     "output_type": "stream",
     "text": [
      "100%|██████████| 396/396 [00:03<00:00, 104.32it/s]\n"
     ]
    },
    {
     "metadata": {
      "tags": null
     },
     "name": "stdout",
     "output_type": "stream",
     "text": [
      "\n",
      "Current Mean loss Test Set:  0.23712343365104513\n",
      "\n",
      "\n",
      "Epoch: 44 of 200\n",
      "Training...\n"
     ]
    },
    {
     "metadata": {
      "tags": null
     },
     "name": "stderr",
     "output_type": "stream",
     "text": [
      "100%|██████████| 3563/3563 [01:46<00:00, 33.47it/s]\n"
     ]
    },
    {
     "metadata": {
      "tags": null
     },
     "name": "stdout",
     "output_type": "stream",
     "text": [
      "\n",
      "Test with training set\n"
     ]
    },
    {
     "metadata": {
      "tags": null
     },
     "name": "stderr",
     "output_type": "stream",
     "text": [
      "100%|██████████| 3563/3563 [00:34<00:00, 104.47it/s]\n"
     ]
    },
    {
     "metadata": {
      "tags": null
     },
     "name": "stdout",
     "output_type": "stream",
     "text": [
      "\n",
      "Current Mean loss Train Set:  0.22124409695254463\n",
      "\n",
      "Test with test set\n"
     ]
    },
    {
     "metadata": {
      "tags": null
     },
     "name": "stderr",
     "output_type": "stream",
     "text": [
      "100%|██████████| 396/396 [00:03<00:00, 103.34it/s]\n"
     ]
    },
    {
     "metadata": {
      "tags": null
     },
     "name": "stdout",
     "output_type": "stream",
     "text": [
      "\n",
      "Current Mean loss Test Set:  0.23086606504188645\n",
      "\n",
      "\n",
      "Epoch: 45 of 200\n",
      "Training...\n"
     ]
    },
    {
     "metadata": {
      "tags": null
     },
     "name": "stderr",
     "output_type": "stream",
     "text": [
      "100%|██████████| 3563/3563 [01:46<00:00, 33.38it/s]\n"
     ]
    },
    {
     "metadata": {
      "tags": null
     },
     "name": "stdout",
     "output_type": "stream",
     "text": [
      "\n",
      "Test with training set\n"
     ]
    },
    {
     "metadata": {
      "tags": null
     },
     "name": "stderr",
     "output_type": "stream",
     "text": [
      "100%|██████████| 3563/3563 [00:34<00:00, 103.99it/s]\n"
     ]
    },
    {
     "metadata": {
      "tags": null
     },
     "name": "stdout",
     "output_type": "stream",
     "text": [
      "\n",
      "Current Mean loss Train Set:  0.22572807143352155\n",
      "\n",
      "Test with test set\n"
     ]
    },
    {
     "metadata": {
      "tags": null
     },
     "name": "stderr",
     "output_type": "stream",
     "text": [
      "100%|██████████| 396/396 [00:03<00:00, 104.33it/s]\n"
     ]
    },
    {
     "metadata": {
      "tags": null
     },
     "name": "stdout",
     "output_type": "stream",
     "text": [
      "\n",
      "Current Mean loss Test Set:  0.2339917111840814\n",
      "\n",
      "\n",
      "Epoch: 46 of 200\n",
      "Training...\n"
     ]
    },
    {
     "metadata": {
      "tags": null
     },
     "name": "stderr",
     "output_type": "stream",
     "text": [
      "100%|██████████| 3563/3563 [01:46<00:00, 33.41it/s]\n"
     ]
    },
    {
     "metadata": {
      "tags": null
     },
     "name": "stdout",
     "output_type": "stream",
     "text": [
      "\n",
      "Test with training set\n"
     ]
    },
    {
     "metadata": {
      "tags": null
     },
     "name": "stderr",
     "output_type": "stream",
     "text": [
      "100%|██████████| 3563/3563 [00:34<00:00, 104.38it/s]\n"
     ]
    },
    {
     "metadata": {
      "tags": null
     },
     "name": "stdout",
     "output_type": "stream",
     "text": [
      "\n",
      "Current Mean loss Train Set:  0.2289084335943303\n",
      "\n",
      "Test with test set\n"
     ]
    },
    {
     "metadata": {
      "tags": null
     },
     "name": "stderr",
     "output_type": "stream",
     "text": [
      "100%|██████████| 396/396 [00:03<00:00, 104.13it/s]\n"
     ]
    },
    {
     "metadata": {
      "tags": null
     },
     "name": "stdout",
     "output_type": "stream",
     "text": [
      "\n",
      "Current Mean loss Test Set:  0.2420885953864064\n",
      "\n",
      "\n",
      "Epoch: 47 of 200\n",
      "Training...\n"
     ]
    },
    {
     "metadata": {
      "tags": null
     },
     "name": "stderr",
     "output_type": "stream",
     "text": [
      "100%|██████████| 3563/3563 [01:46<00:00, 33.36it/s]\n"
     ]
    },
    {
     "metadata": {
      "tags": null
     },
     "name": "stdout",
     "output_type": "stream",
     "text": [
      "\n",
      "Test with training set\n"
     ]
    },
    {
     "metadata": {
      "tags": null
     },
     "name": "stderr",
     "output_type": "stream",
     "text": [
      "100%|██████████| 3563/3563 [00:34<00:00, 104.20it/s]\n"
     ]
    },
    {
     "metadata": {
      "tags": null
     },
     "name": "stdout",
     "output_type": "stream",
     "text": [
      "\n",
      "Current Mean loss Train Set:  0.22194688947656468\n",
      "\n",
      "Test with test set\n"
     ]
    },
    {
     "metadata": {
      "tags": null
     },
     "name": "stderr",
     "output_type": "stream",
     "text": [
      "100%|██████████| 396/396 [00:03<00:00, 103.57it/s]\n"
     ]
    },
    {
     "metadata": {
      "tags": null
     },
     "name": "stdout",
     "output_type": "stream",
     "text": [
      "\n",
      "Current Mean loss Test Set:  0.2326932939691375\n",
      "\n",
      "\n",
      "Epoch: 48 of 200\n",
      "Training...\n"
     ]
    },
    {
     "metadata": {
      "tags": null
     },
     "name": "stderr",
     "output_type": "stream",
     "text": [
      "100%|██████████| 3563/3563 [01:46<00:00, 33.47it/s]\n"
     ]
    },
    {
     "metadata": {
      "tags": null
     },
     "name": "stdout",
     "output_type": "stream",
     "text": [
      "\n",
      "Test with training set\n"
     ]
    },
    {
     "metadata": {
      "tags": null
     },
     "name": "stderr",
     "output_type": "stream",
     "text": [
      "100%|██████████| 3563/3563 [00:34<00:00, 104.40it/s]\n"
     ]
    },
    {
     "metadata": {
      "tags": null
     },
     "name": "stdout",
     "output_type": "stream",
     "text": [
      "\n",
      "Current Mean loss Train Set:  0.2237357451859365\n",
      "\n",
      "Test with test set\n"
     ]
    },
    {
     "metadata": {
      "tags": null
     },
     "name": "stderr",
     "output_type": "stream",
     "text": [
      "100%|██████████| 396/396 [00:03<00:00, 105.44it/s]\n"
     ]
    },
    {
     "metadata": {
      "tags": null
     },
     "name": "stdout",
     "output_type": "stream",
     "text": [
      "\n",
      "Current Mean loss Test Set:  0.23467654189226603\n",
      "\n",
      "\n",
      "Epoch: 49 of 200\n",
      "Training...\n"
     ]
    },
    {
     "metadata": {
      "tags": null
     },
     "name": "stderr",
     "output_type": "stream",
     "text": [
      "100%|██████████| 3563/3563 [01:46<00:00, 33.56it/s]\n"
     ]
    },
    {
     "metadata": {
      "tags": null
     },
     "name": "stdout",
     "output_type": "stream",
     "text": [
      "\n",
      "Test with training set\n"
     ]
    },
    {
     "metadata": {
      "tags": null
     },
     "name": "stderr",
     "output_type": "stream",
     "text": [
      "100%|██████████| 3563/3563 [00:33<00:00, 105.59it/s]\n"
     ]
    },
    {
     "metadata": {
      "tags": null
     },
     "name": "stdout",
     "output_type": "stream",
     "text": [
      "\n",
      "Current Mean loss Train Set:  0.22004342228676074\n",
      "\n",
      "Test with test set\n"
     ]
    },
    {
     "metadata": {
      "tags": null
     },
     "name": "stderr",
     "output_type": "stream",
     "text": [
      "100%|██████████| 396/396 [00:03<00:00, 105.79it/s]\n"
     ]
    },
    {
     "metadata": {
      "tags": null
     },
     "name": "stdout",
     "output_type": "stream",
     "text": [
      "\n",
      "Current Mean loss Test Set:  0.23194065881949483\n",
      "\n",
      "\n",
      "Epoch: 50 of 200\n",
      "Training...\n"
     ]
    },
    {
     "metadata": {
      "tags": null
     },
     "name": "stderr",
     "output_type": "stream",
     "text": [
      "100%|██████████| 3563/3563 [01:46<00:00, 33.43it/s]\n"
     ]
    },
    {
     "metadata": {
      "tags": null
     },
     "name": "stdout",
     "output_type": "stream",
     "text": [
      "\n",
      "Test with training set\n"
     ]
    },
    {
     "metadata": {
      "tags": null
     },
     "name": "stderr",
     "output_type": "stream",
     "text": [
      "100%|██████████| 3563/3563 [00:34<00:00, 104.58it/s]\n"
     ]
    },
    {
     "metadata": {
      "tags": null
     },
     "name": "stdout",
     "output_type": "stream",
     "text": [
      "\n",
      "Current Mean loss Train Set:  0.22002920937477924\n",
      "\n",
      "Test with test set\n"
     ]
    },
    {
     "metadata": {
      "tags": null
     },
     "name": "stderr",
     "output_type": "stream",
     "text": [
      "100%|██████████| 396/396 [00:03<00:00, 103.90it/s]\n"
     ]
    },
    {
     "metadata": {
      "tags": null
     },
     "name": "stdout",
     "output_type": "stream",
     "text": [
      "\n",
      "Current Mean loss Test Set:  0.2307062279809304\n",
      "\n",
      "\n",
      "Epoch: 51 of 200\n",
      "Training...\n"
     ]
    },
    {
     "metadata": {
      "tags": null
     },
     "name": "stderr",
     "output_type": "stream",
     "text": [
      "100%|██████████| 3563/3563 [01:46<00:00, 33.42it/s]\n"
     ]
    },
    {
     "metadata": {
      "tags": null
     },
     "name": "stdout",
     "output_type": "stream",
     "text": [
      "\n",
      "Test with training set\n"
     ]
    },
    {
     "metadata": {
      "tags": null
     },
     "name": "stderr",
     "output_type": "stream",
     "text": [
      "100%|██████████| 3563/3563 [00:34<00:00, 103.53it/s]\n"
     ]
    },
    {
     "metadata": {
      "tags": null
     },
     "name": "stdout",
     "output_type": "stream",
     "text": [
      "\n",
      "Current Mean loss Train Set:  0.21869713702447421\n",
      "\n",
      "Test with test set\n"
     ]
    },
    {
     "metadata": {
      "tags": null
     },
     "name": "stderr",
     "output_type": "stream",
     "text": [
      "100%|██████████| 396/396 [00:03<00:00, 104.20it/s]\n"
     ]
    },
    {
     "metadata": {
      "tags": null
     },
     "name": "stdout",
     "output_type": "stream",
     "text": [
      "\n",
      "Current Mean loss Test Set:  0.22957186120552847\n",
      "\n",
      "\n",
      "Epoch: 52 of 200\n",
      "Training...\n"
     ]
    },
    {
     "metadata": {
      "tags": null
     },
     "name": "stderr",
     "output_type": "stream",
     "text": [
      "100%|██████████| 3563/3563 [01:48<00:00, 32.77it/s]\n"
     ]
    },
    {
     "metadata": {
      "tags": null
     },
     "name": "stdout",
     "output_type": "stream",
     "text": [
      "\n",
      "Test with training set\n"
     ]
    },
    {
     "metadata": {
      "tags": null
     },
     "name": "stderr",
     "output_type": "stream",
     "text": [
      "100%|██████████| 3563/3563 [00:34<00:00, 104.68it/s]\n"
     ]
    },
    {
     "metadata": {
      "tags": null
     },
     "name": "stdout",
     "output_type": "stream",
     "text": [
      "\n",
      "Current Mean loss Train Set:  0.21802188530083355\n",
      "\n",
      "Test with test set\n"
     ]
    },
    {
     "metadata": {
      "tags": null
     },
     "name": "stderr",
     "output_type": "stream",
     "text": [
      "100%|██████████| 396/396 [00:03<00:00, 103.01it/s]\n"
     ]
    },
    {
     "metadata": {
      "tags": null
     },
     "name": "stdout",
     "output_type": "stream",
     "text": [
      "\n",
      "Current Mean loss Test Set:  0.22991632914753876\n",
      "\n",
      "\n",
      "Epoch: 53 of 200\n",
      "Training...\n"
     ]
    },
    {
     "metadata": {
      "tags": null
     },
     "name": "stderr",
     "output_type": "stream",
     "text": [
      "100%|██████████| 3563/3563 [01:48<00:00, 32.69it/s]\n"
     ]
    },
    {
     "metadata": {
      "tags": null
     },
     "name": "stdout",
     "output_type": "stream",
     "text": [
      "\n",
      "Test with training set\n"
     ]
    },
    {
     "metadata": {
      "tags": null
     },
     "name": "stderr",
     "output_type": "stream",
     "text": [
      "100%|██████████| 3563/3563 [00:34<00:00, 102.22it/s]\n"
     ]
    },
    {
     "metadata": {
      "tags": null
     },
     "name": "stdout",
     "output_type": "stream",
     "text": [
      "\n",
      "Current Mean loss Train Set:  0.22019325000807172\n",
      "\n",
      "Test with test set\n"
     ]
    },
    {
     "metadata": {
      "tags": null
     },
     "name": "stderr",
     "output_type": "stream",
     "text": [
      "100%|██████████| 396/396 [00:03<00:00, 105.05it/s]\n"
     ]
    },
    {
     "metadata": {
      "tags": null
     },
     "name": "stdout",
     "output_type": "stream",
     "text": [
      "\n",
      "Current Mean loss Test Set:  0.23163744216464988\n",
      "\n",
      "\n",
      "Epoch: 54 of 200\n",
      "Training...\n"
     ]
    },
    {
     "metadata": {
      "tags": null
     },
     "name": "stderr",
     "output_type": "stream",
     "text": [
      "100%|██████████| 3563/3563 [01:49<00:00, 32.56it/s]\n"
     ]
    },
    {
     "metadata": {
      "tags": null
     },
     "name": "stdout",
     "output_type": "stream",
     "text": [
      "\n",
      "Test with training set\n"
     ]
    },
    {
     "metadata": {
      "tags": null
     },
     "name": "stderr",
     "output_type": "stream",
     "text": [
      "100%|██████████| 3563/3563 [00:34<00:00, 101.99it/s]\n"
     ]
    },
    {
     "metadata": {
      "tags": null
     },
     "name": "stdout",
     "output_type": "stream",
     "text": [
      "\n",
      "Current Mean loss Train Set:  0.21897460052488962\n",
      "\n",
      "Test with test set\n"
     ]
    },
    {
     "metadata": {
      "tags": null
     },
     "name": "stderr",
     "output_type": "stream",
     "text": [
      "100%|██████████| 396/396 [00:03<00:00, 100.36it/s]\n"
     ]
    },
    {
     "metadata": {
      "tags": null
     },
     "name": "stdout",
     "output_type": "stream",
     "text": [
      "\n",
      "Current Mean loss Test Set:  0.23007761327681517\n",
      "\n",
      "\n",
      "Epoch: 55 of 200\n",
      "Training...\n"
     ]
    },
    {
     "metadata": {
      "tags": null
     },
     "name": "stderr",
     "output_type": "stream",
     "text": [
      "100%|██████████| 3563/3563 [01:49<00:00, 32.54it/s]\n"
     ]
    },
    {
     "metadata": {
      "tags": null
     },
     "name": "stdout",
     "output_type": "stream",
     "text": [
      "\n",
      "Test with training set\n"
     ]
    },
    {
     "metadata": {
      "tags": null
     },
     "name": "stderr",
     "output_type": "stream",
     "text": [
      "100%|██████████| 3563/3563 [00:35<00:00, 101.56it/s]\n"
     ]
    },
    {
     "metadata": {
      "tags": null
     },
     "name": "stdout",
     "output_type": "stream",
     "text": [
      "\n",
      "Current Mean loss Train Set:  0.21831014583636427\n",
      "\n",
      "Test with test set\n"
     ]
    },
    {
     "metadata": {
      "tags": null
     },
     "name": "stderr",
     "output_type": "stream",
     "text": [
      "100%|██████████| 396/396 [00:03<00:00, 101.61it/s]\n"
     ]
    },
    {
     "metadata": {
      "tags": null
     },
     "name": "stdout",
     "output_type": "stream",
     "text": [
      "\n",
      "Current Mean loss Test Set:  0.23061229218964022\n",
      "\n",
      "\n",
      "Epoch: 56 of 200\n",
      "Training...\n"
     ]
    },
    {
     "metadata": {
      "tags": null
     },
     "name": "stderr",
     "output_type": "stream",
     "text": [
      "100%|██████████| 3563/3563 [01:49<00:00, 32.49it/s]\n"
     ]
    },
    {
     "metadata": {
      "tags": null
     },
     "name": "stdout",
     "output_type": "stream",
     "text": [
      "\n",
      "Test with training set\n"
     ]
    },
    {
     "metadata": {
      "tags": null
     },
     "name": "stderr",
     "output_type": "stream",
     "text": [
      "100%|██████████| 3563/3563 [00:35<00:00, 101.18it/s]\n"
     ]
    },
    {
     "metadata": {
      "tags": null
     },
     "name": "stdout",
     "output_type": "stream",
     "text": [
      "\n",
      "Current Mean loss Train Set:  0.22142184666668202\n",
      "\n",
      "Test with test set\n"
     ]
    },
    {
     "metadata": {
      "tags": null
     },
     "name": "stderr",
     "output_type": "stream",
     "text": [
      "100%|██████████| 396/396 [00:03<00:00, 101.43it/s]\n"
     ]
    },
    {
     "metadata": {
      "tags": null
     },
     "name": "stdout",
     "output_type": "stream",
     "text": [
      "\n",
      "Current Mean loss Test Set:  0.23101013460469366\n",
      "\n",
      "\n",
      "Epoch: 57 of 200\n",
      "Training...\n"
     ]
    },
    {
     "metadata": {
      "tags": null
     },
     "name": "stderr",
     "output_type": "stream",
     "text": [
      "100%|██████████| 3563/3563 [01:49<00:00, 32.46it/s]\n"
     ]
    },
    {
     "metadata": {
      "tags": null
     },
     "name": "stdout",
     "output_type": "stream",
     "text": [
      "\n",
      "Test with training set\n"
     ]
    },
    {
     "metadata": {
      "tags": null
     },
     "name": "stderr",
     "output_type": "stream",
     "text": [
      "100%|██████████| 3563/3563 [00:35<00:00, 101.56it/s]\n"
     ]
    },
    {
     "metadata": {
      "tags": null
     },
     "name": "stdout",
     "output_type": "stream",
     "text": [
      "\n",
      "Current Mean loss Train Set:  0.21749904418456698\n",
      "\n",
      "Test with test set\n"
     ]
    },
    {
     "metadata": {
      "tags": null
     },
     "name": "stderr",
     "output_type": "stream",
     "text": [
      "100%|██████████| 396/396 [00:03<00:00, 101.91it/s]\n"
     ]
    },
    {
     "metadata": {
      "tags": null
     },
     "name": "stdout",
     "output_type": "stream",
     "text": [
      "\n",
      "Current Mean loss Test Set:  0.23080106909302148\n",
      "\n",
      "\n",
      "Epoch: 58 of 200\n",
      "Training...\n"
     ]
    },
    {
     "metadata": {
      "tags": null
     },
     "name": "stderr",
     "output_type": "stream",
     "text": [
      "100%|██████████| 3563/3563 [01:49<00:00, 32.50it/s]\n"
     ]
    },
    {
     "metadata": {
      "tags": null
     },
     "name": "stdout",
     "output_type": "stream",
     "text": [
      "\n",
      "Test with training set\n"
     ]
    },
    {
     "metadata": {
      "tags": null
     },
     "name": "stderr",
     "output_type": "stream",
     "text": [
      "100%|██████████| 3563/3563 [00:35<00:00, 101.65it/s]\n"
     ]
    },
    {
     "metadata": {
      "tags": null
     },
     "name": "stdout",
     "output_type": "stream",
     "text": [
      "\n",
      "Current Mean loss Train Set:  0.2178809177104322\n",
      "\n",
      "Test with test set\n"
     ]
    },
    {
     "metadata": {
      "tags": null
     },
     "name": "stderr",
     "output_type": "stream",
     "text": [
      "100%|██████████| 396/396 [00:03<00:00, 102.22it/s]\n"
     ]
    },
    {
     "metadata": {
      "tags": null
     },
     "name": "stdout",
     "output_type": "stream",
     "text": [
      "\n",
      "Current Mean loss Test Set:  0.23154203100788473\n",
      "\n",
      "\n",
      "Epoch: 59 of 200\n",
      "Training...\n"
     ]
    },
    {
     "metadata": {
      "tags": null
     },
     "name": "stderr",
     "output_type": "stream",
     "text": [
      "100%|██████████| 3563/3563 [01:49<00:00, 32.58it/s]\n"
     ]
    },
    {
     "metadata": {
      "tags": null
     },
     "name": "stdout",
     "output_type": "stream",
     "text": [
      "\n",
      "Test with training set\n"
     ]
    },
    {
     "metadata": {
      "tags": null
     },
     "name": "stderr",
     "output_type": "stream",
     "text": [
      "100%|██████████| 3563/3563 [00:35<00:00, 101.39it/s]\n"
     ]
    },
    {
     "metadata": {
      "tags": null
     },
     "name": "stdout",
     "output_type": "stream",
     "text": [
      "\n",
      "Current Mean loss Train Set:  0.21605639775298532\n",
      "\n",
      "Test with test set\n"
     ]
    },
    {
     "metadata": {
      "tags": null
     },
     "name": "stderr",
     "output_type": "stream",
     "text": [
      "100%|██████████| 396/396 [00:03<00:00, 100.03it/s]\n"
     ]
    },
    {
     "metadata": {
      "tags": null
     },
     "name": "stdout",
     "output_type": "stream",
     "text": [
      "\n",
      "Current Mean loss Test Set:  0.22735873257948291\n",
      "\n",
      "\n",
      "Epoch: 60 of 200\n",
      "Training...\n"
     ]
    },
    {
     "metadata": {
      "tags": null
     },
     "name": "stderr",
     "output_type": "stream",
     "text": [
      "100%|██████████| 3563/3563 [01:49<00:00, 32.53it/s]\n"
     ]
    },
    {
     "metadata": {
      "tags": null
     },
     "name": "stdout",
     "output_type": "stream",
     "text": [
      "\n",
      "Test with training set\n"
     ]
    },
    {
     "metadata": {
      "tags": null
     },
     "name": "stderr",
     "output_type": "stream",
     "text": [
      "100%|██████████| 3563/3563 [00:35<00:00, 101.61it/s]\n"
     ]
    },
    {
     "metadata": {
      "tags": null
     },
     "name": "stdout",
     "output_type": "stream",
     "text": [
      "\n",
      "Current Mean loss Train Set:  0.21654751633798142\n",
      "\n",
      "Test with test set\n"
     ]
    },
    {
     "metadata": {
      "tags": null
     },
     "name": "stderr",
     "output_type": "stream",
     "text": [
      "100%|██████████| 396/396 [00:03<00:00, 102.93it/s]\n"
     ]
    },
    {
     "metadata": {
      "tags": null
     },
     "name": "stdout",
     "output_type": "stream",
     "text": [
      "\n",
      "Current Mean loss Test Set:  0.23068153991768456\n",
      "\n",
      "\n",
      "Epoch: 61 of 200\n",
      "Training...\n"
     ]
    },
    {
     "metadata": {
      "tags": null
     },
     "name": "stderr",
     "output_type": "stream",
     "text": [
      "100%|██████████| 3563/3563 [01:49<00:00, 32.57it/s]\n"
     ]
    },
    {
     "metadata": {
      "tags": null
     },
     "name": "stdout",
     "output_type": "stream",
     "text": [
      "\n",
      "Test with training set\n"
     ]
    },
    {
     "metadata": {
      "tags": null
     },
     "name": "stderr",
     "output_type": "stream",
     "text": [
      "100%|██████████| 3563/3563 [00:34<00:00, 102.06it/s]\n"
     ]
    },
    {
     "metadata": {
      "tags": null
     },
     "name": "stdout",
     "output_type": "stream",
     "text": [
      "\n",
      "Current Mean loss Train Set:  0.21606055334306587\n",
      "\n",
      "Test with test set\n"
     ]
    },
    {
     "metadata": {
      "tags": null
     },
     "name": "stderr",
     "output_type": "stream",
     "text": [
      "100%|██████████| 396/396 [00:03<00:00, 102.19it/s]\n"
     ]
    },
    {
     "metadata": {
      "tags": null
     },
     "name": "stdout",
     "output_type": "stream",
     "text": [
      "\n",
      "Current Mean loss Test Set:  0.22707283617270113\n",
      "\n",
      "\n",
      "Epoch: 62 of 200\n",
      "Training...\n"
     ]
    },
    {
     "metadata": {
      "tags": null
     },
     "name": "stderr",
     "output_type": "stream",
     "text": [
      "100%|██████████| 3563/3563 [01:49<00:00, 32.40it/s]\n"
     ]
    },
    {
     "metadata": {
      "tags": null
     },
     "name": "stdout",
     "output_type": "stream",
     "text": [
      "\n",
      "Test with training set\n"
     ]
    },
    {
     "metadata": {
      "tags": null
     },
     "name": "stderr",
     "output_type": "stream",
     "text": [
      "100%|██████████| 3563/3563 [00:34<00:00, 102.00it/s]\n"
     ]
    },
    {
     "metadata": {
      "tags": null
     },
     "name": "stdout",
     "output_type": "stream",
     "text": [
      "\n",
      "Current Mean loss Train Set:  0.21840878653410878\n",
      "\n",
      "Test with test set\n"
     ]
    },
    {
     "metadata": {
      "tags": null
     },
     "name": "stderr",
     "output_type": "stream",
     "text": [
      "100%|██████████| 396/396 [00:03<00:00, 100.99it/s]\n"
     ]
    },
    {
     "metadata": {
      "tags": null
     },
     "name": "stdout",
     "output_type": "stream",
     "text": [
      "\n",
      "Current Mean loss Test Set:  0.23268168398903477\n",
      "\n",
      "\n",
      "Epoch: 63 of 200\n",
      "Training...\n"
     ]
    },
    {
     "metadata": {
      "tags": null
     },
     "name": "stderr",
     "output_type": "stream",
     "text": [
      "100%|██████████| 3563/3563 [01:49<00:00, 32.65it/s]\n"
     ]
    },
    {
     "metadata": {
      "tags": null
     },
     "name": "stdout",
     "output_type": "stream",
     "text": [
      "\n",
      "Test with training set\n"
     ]
    },
    {
     "metadata": {
      "tags": null
     },
     "name": "stderr",
     "output_type": "stream",
     "text": [
      "100%|██████████| 3563/3563 [00:35<00:00, 101.66it/s]\n"
     ]
    },
    {
     "metadata": {
      "tags": null
     },
     "name": "stdout",
     "output_type": "stream",
     "text": [
      "\n",
      "Current Mean loss Train Set:  0.21841977563026144\n",
      "\n",
      "Test with test set\n"
     ]
    },
    {
     "metadata": {
      "tags": null
     },
     "name": "stderr",
     "output_type": "stream",
     "text": [
      "100%|██████████| 396/396 [00:03<00:00, 103.44it/s]\n"
     ]
    },
    {
     "metadata": {
      "tags": null
     },
     "name": "stdout",
     "output_type": "stream",
     "text": [
      "\n",
      "Current Mean loss Test Set:  0.2294209601000102\n",
      "\n",
      "\n",
      "Epoch: 64 of 200\n",
      "Training...\n"
     ]
    },
    {
     "metadata": {
      "tags": null
     },
     "name": "stderr",
     "output_type": "stream",
     "text": [
      "100%|██████████| 3563/3563 [01:49<00:00, 32.50it/s]\n"
     ]
    },
    {
     "metadata": {
      "tags": null
     },
     "name": "stdout",
     "output_type": "stream",
     "text": [
      "\n",
      "Test with training set\n"
     ]
    },
    {
     "metadata": {
      "tags": null
     },
     "name": "stderr",
     "output_type": "stream",
     "text": [
      "100%|██████████| 3563/3563 [00:35<00:00, 101.39it/s]\n"
     ]
    },
    {
     "metadata": {
      "tags": null
     },
     "name": "stdout",
     "output_type": "stream",
     "text": [
      "\n",
      "Current Mean loss Train Set:  0.21572865749004347\n",
      "\n",
      "Test with test set\n"
     ]
    },
    {
     "metadata": {
      "tags": null
     },
     "name": "stderr",
     "output_type": "stream",
     "text": [
      "100%|██████████| 396/396 [00:03<00:00, 101.66it/s]\n"
     ]
    },
    {
     "metadata": {
      "tags": null
     },
     "name": "stdout",
     "output_type": "stream",
     "text": [
      "\n",
      "Current Mean loss Test Set:  0.22905767063676108\n",
      "\n",
      "\n",
      "Epoch: 65 of 200\n",
      "Training...\n"
     ]
    },
    {
     "metadata": {
      "tags": null
     },
     "name": "stderr",
     "output_type": "stream",
     "text": [
      "100%|██████████| 3563/3563 [01:49<00:00, 32.55it/s]\n"
     ]
    },
    {
     "metadata": {
      "tags": null
     },
     "name": "stdout",
     "output_type": "stream",
     "text": [
      "\n",
      "Test with training set\n"
     ]
    },
    {
     "metadata": {
      "tags": null
     },
     "name": "stderr",
     "output_type": "stream",
     "text": [
      "100%|██████████| 3563/3563 [00:35<00:00, 101.73it/s]\n"
     ]
    },
    {
     "metadata": {
      "tags": null
     },
     "name": "stdout",
     "output_type": "stream",
     "text": [
      "\n",
      "Current Mean loss Train Set:  0.21738662445039988\n",
      "\n",
      "Test with test set\n"
     ]
    },
    {
     "metadata": {
      "tags": null
     },
     "name": "stderr",
     "output_type": "stream",
     "text": [
      "100%|██████████| 396/396 [00:03<00:00, 103.09it/s]\n"
     ]
    },
    {
     "metadata": {
      "tags": null
     },
     "name": "stdout",
     "output_type": "stream",
     "text": [
      "\n",
      "Current Mean loss Test Set:  0.23064433950742688\n",
      "\n",
      "\n",
      "Epoch: 66 of 200\n",
      "Training...\n"
     ]
    },
    {
     "metadata": {
      "tags": null
     },
     "name": "stderr",
     "output_type": "stream",
     "text": [
      "100%|██████████| 3563/3563 [01:49<00:00, 32.50it/s]\n"
     ]
    },
    {
     "metadata": {
      "tags": null
     },
     "name": "stdout",
     "output_type": "stream",
     "text": [
      "\n",
      "Test with training set\n"
     ]
    },
    {
     "metadata": {
      "tags": null
     },
     "name": "stderr",
     "output_type": "stream",
     "text": [
      "100%|██████████| 3563/3563 [00:35<00:00, 101.26it/s]\n"
     ]
    },
    {
     "metadata": {
      "tags": null
     },
     "name": "stdout",
     "output_type": "stream",
     "text": [
      "\n",
      "Current Mean loss Train Set:  0.21515888019814908\n",
      "\n",
      "Test with test set\n"
     ]
    },
    {
     "metadata": {
      "tags": null
     },
     "name": "stderr",
     "output_type": "stream",
     "text": [
      "100%|██████████| 396/396 [00:03<00:00, 101.70it/s]\n"
     ]
    },
    {
     "metadata": {
      "tags": null
     },
     "name": "stdout",
     "output_type": "stream",
     "text": [
      "\n",
      "Current Mean loss Test Set:  0.22917436392545099\n",
      "\n",
      "\n",
      "Epoch: 67 of 200\n",
      "Training...\n"
     ]
    },
    {
     "metadata": {
      "tags": null
     },
     "name": "stderr",
     "output_type": "stream",
     "text": [
      "100%|██████████| 3563/3563 [01:49<00:00, 32.53it/s]\n"
     ]
    },
    {
     "metadata": {
      "tags": null
     },
     "name": "stdout",
     "output_type": "stream",
     "text": [
      "\n",
      "Test with training set\n"
     ]
    },
    {
     "metadata": {
      "tags": null
     },
     "name": "stderr",
     "output_type": "stream",
     "text": [
      "100%|██████████| 3563/3563 [00:35<00:00, 101.61it/s]\n"
     ]
    },
    {
     "metadata": {
      "tags": null
     },
     "name": "stdout",
     "output_type": "stream",
     "text": [
      "\n",
      "Current Mean loss Train Set:  0.21302510253873863\n",
      "\n",
      "Test with test set\n"
     ]
    },
    {
     "metadata": {
      "tags": null
     },
     "name": "stderr",
     "output_type": "stream",
     "text": [
      "100%|██████████| 396/396 [00:03<00:00, 100.95it/s]\n"
     ]
    },
    {
     "metadata": {
      "tags": null
     },
     "name": "stdout",
     "output_type": "stream",
     "text": [
      "\n",
      "Current Mean loss Test Set:  0.22462724847248708\n",
      "\n",
      "\n",
      "Epoch: 68 of 200\n",
      "Training...\n"
     ]
    },
    {
     "metadata": {
      "tags": null
     },
     "name": "stderr",
     "output_type": "stream",
     "text": [
      "100%|██████████| 3563/3563 [01:47<00:00, 33.28it/s]\n"
     ]
    },
    {
     "metadata": {
      "tags": null
     },
     "name": "stdout",
     "output_type": "stream",
     "text": [
      "\n",
      "Test with training set\n"
     ]
    },
    {
     "metadata": {
      "tags": null
     },
     "name": "stderr",
     "output_type": "stream",
     "text": [
      "100%|██████████| 3563/3563 [00:35<00:00, 101.47it/s]\n"
     ]
    },
    {
     "metadata": {
      "tags": null
     },
     "name": "stdout",
     "output_type": "stream",
     "text": [
      "\n",
      "Current Mean loss Train Set:  0.21654244676470724\n",
      "\n",
      "Test with test set\n"
     ]
    },
    {
     "metadata": {
      "tags": null
     },
     "name": "stderr",
     "output_type": "stream",
     "text": [
      "100%|██████████| 396/396 [00:03<00:00, 100.68it/s]\n"
     ]
    },
    {
     "metadata": {
      "tags": null
     },
     "name": "stdout",
     "output_type": "stream",
     "text": [
      "\n",
      "Current Mean loss Test Set:  0.22854404636856282\n",
      "\n",
      "\n",
      "Epoch: 69 of 200\n",
      "Training...\n"
     ]
    },
    {
     "metadata": {
      "tags": null
     },
     "name": "stderr",
     "output_type": "stream",
     "text": [
      "100%|██████████| 3563/3563 [01:49<00:00, 32.41it/s]\n"
     ]
    },
    {
     "metadata": {
      "tags": null
     },
     "name": "stdout",
     "output_type": "stream",
     "text": [
      "\n",
      "Test with training set\n"
     ]
    },
    {
     "metadata": {
      "tags": null
     },
     "name": "stderr",
     "output_type": "stream",
     "text": [
      "100%|██████████| 3563/3563 [00:35<00:00, 101.04it/s]\n"
     ]
    },
    {
     "metadata": {
      "tags": null
     },
     "name": "stdout",
     "output_type": "stream",
     "text": [
      "\n",
      "Current Mean loss Train Set:  0.21926662680090997\n",
      "\n",
      "Test with test set\n"
     ]
    },
    {
     "metadata": {
      "tags": null
     },
     "name": "stderr",
     "output_type": "stream",
     "text": [
      "100%|██████████| 396/396 [00:03<00:00, 101.38it/s]\n"
     ]
    },
    {
     "metadata": {
      "tags": null
     },
     "name": "stdout",
     "output_type": "stream",
     "text": [
      "\n",
      "Current Mean loss Test Set:  0.2320859707854312\n",
      "\n",
      "\n",
      "Epoch: 70 of 200\n",
      "Training...\n"
     ]
    },
    {
     "metadata": {
      "tags": null
     },
     "name": "stderr",
     "output_type": "stream",
     "text": [
      "100%|██████████| 3563/3563 [01:49<00:00, 32.42it/s]\n"
     ]
    },
    {
     "metadata": {
      "tags": null
     },
     "name": "stdout",
     "output_type": "stream",
     "text": [
      "\n",
      "Test with training set\n"
     ]
    },
    {
     "metadata": {
      "tags": null
     },
     "name": "stderr",
     "output_type": "stream",
     "text": [
      "100%|██████████| 3563/3563 [00:35<00:00, 100.99it/s]\n"
     ]
    },
    {
     "metadata": {
      "tags": null
     },
     "name": "stdout",
     "output_type": "stream",
     "text": [
      "\n",
      "Current Mean loss Train Set:  0.21256924913257755\n",
      "\n",
      "Test with test set\n"
     ]
    },
    {
     "metadata": {
      "tags": null
     },
     "name": "stderr",
     "output_type": "stream",
     "text": [
      "100%|██████████| 396/396 [00:03<00:00, 100.75it/s]\n"
     ]
    },
    {
     "metadata": {
      "tags": null
     },
     "name": "stdout",
     "output_type": "stream",
     "text": [
      "\n",
      "Current Mean loss Test Set:  0.2242167614814308\n",
      "\n",
      "\n",
      "Epoch: 71 of 200\n",
      "Training...\n"
     ]
    },
    {
     "metadata": {
      "tags": null
     },
     "name": "stderr",
     "output_type": "stream",
     "text": [
      "100%|██████████| 3563/3563 [01:49<00:00, 32.41it/s]\n"
     ]
    },
    {
     "metadata": {
      "tags": null
     },
     "name": "stdout",
     "output_type": "stream",
     "text": [
      "\n",
      "Test with training set\n"
     ]
    },
    {
     "metadata": {
      "tags": null
     },
     "name": "stderr",
     "output_type": "stream",
     "text": [
      "100%|██████████| 3563/3563 [00:35<00:00, 101.79it/s]\n"
     ]
    },
    {
     "metadata": {
      "tags": null
     },
     "name": "stdout",
     "output_type": "stream",
     "text": [
      "\n",
      "Current Mean loss Train Set:  0.21632429404085418\n",
      "\n",
      "Test with test set\n"
     ]
    },
    {
     "metadata": {
      "tags": null
     },
     "name": "stderr",
     "output_type": "stream",
     "text": [
      "100%|██████████| 396/396 [00:03<00:00, 101.38it/s]\n"
     ]
    },
    {
     "metadata": {
      "tags": null
     },
     "name": "stdout",
     "output_type": "stream",
     "text": [
      "\n",
      "Current Mean loss Test Set:  0.2308395193381743\n",
      "\n",
      "\n",
      "Epoch: 72 of 200\n",
      "Training...\n"
     ]
    },
    {
     "metadata": {
      "tags": null
     },
     "name": "stderr",
     "output_type": "stream",
     "text": [
      "100%|██████████| 3563/3563 [01:49<00:00, 32.41it/s]\n"
     ]
    },
    {
     "metadata": {
      "tags": null
     },
     "name": "stdout",
     "output_type": "stream",
     "text": [
      "\n",
      "Test with training set\n"
     ]
    },
    {
     "metadata": {
      "tags": null
     },
     "name": "stderr",
     "output_type": "stream",
     "text": [
      "100%|██████████| 3563/3563 [00:34<00:00, 102.02it/s]\n"
     ]
    },
    {
     "metadata": {
      "tags": null
     },
     "name": "stdout",
     "output_type": "stream",
     "text": [
      "\n",
      "Current Mean loss Train Set:  0.21226675763052902\n",
      "\n",
      "Test with test set\n"
     ]
    },
    {
     "metadata": {
      "tags": null
     },
     "name": "stderr",
     "output_type": "stream",
     "text": [
      "100%|██████████| 396/396 [00:03<00:00, 102.15it/s]\n"
     ]
    },
    {
     "metadata": {
      "tags": null
     },
     "name": "stdout",
     "output_type": "stream",
     "text": [
      "\n",
      "Current Mean loss Test Set:  0.22677400708198547\n",
      "\n",
      "\n",
      "Epoch: 73 of 200\n",
      "Training...\n"
     ]
    },
    {
     "metadata": {
      "tags": null
     },
     "name": "stderr",
     "output_type": "stream",
     "text": [
      "100%|██████████| 3563/3563 [01:49<00:00, 32.55it/s]\n"
     ]
    },
    {
     "metadata": {
      "tags": null
     },
     "name": "stdout",
     "output_type": "stream",
     "text": [
      "\n",
      "Test with training set\n"
     ]
    },
    {
     "metadata": {
      "tags": null
     },
     "name": "stderr",
     "output_type": "stream",
     "text": [
      "100%|██████████| 3563/3563 [00:35<00:00, 101.74it/s]\n"
     ]
    },
    {
     "metadata": {
      "tags": null
     },
     "name": "stdout",
     "output_type": "stream",
     "text": [
      "\n",
      "Current Mean loss Train Set:  0.21184761987002151\n",
      "\n",
      "Test with test set\n"
     ]
    },
    {
     "metadata": {
      "tags": null
     },
     "name": "stderr",
     "output_type": "stream",
     "text": [
      "100%|██████████| 396/396 [00:03<00:00, 100.44it/s]\n"
     ]
    },
    {
     "metadata": {
      "tags": null
     },
     "name": "stdout",
     "output_type": "stream",
     "text": [
      "\n",
      "Current Mean loss Test Set:  0.22681501639461277\n",
      "\n",
      "\n",
      "Epoch: 74 of 200\n",
      "Training...\n"
     ]
    },
    {
     "metadata": {
      "tags": null
     },
     "name": "stderr",
     "output_type": "stream",
     "text": [
      "100%|██████████| 3563/3563 [01:49<00:00, 32.48it/s]\n"
     ]
    },
    {
     "metadata": {
      "tags": null
     },
     "name": "stdout",
     "output_type": "stream",
     "text": [
      "\n",
      "Test with training set\n"
     ]
    },
    {
     "metadata": {
      "tags": null
     },
     "name": "stderr",
     "output_type": "stream",
     "text": [
      "100%|██████████| 3563/3563 [00:35<00:00, 101.54it/s]\n"
     ]
    },
    {
     "metadata": {
      "tags": null
     },
     "name": "stdout",
     "output_type": "stream",
     "text": [
      "\n",
      "Current Mean loss Train Set:  0.2132643228174594\n",
      "\n",
      "Test with test set\n"
     ]
    },
    {
     "metadata": {
      "tags": null
     },
     "name": "stderr",
     "output_type": "stream",
     "text": [
      "100%|██████████| 396/396 [00:03<00:00, 101.72it/s]\n"
     ]
    },
    {
     "metadata": {
      "tags": null
     },
     "name": "stdout",
     "output_type": "stream",
     "text": [
      "\n",
      "Current Mean loss Test Set:  0.22751549911694696\n",
      "\n",
      "\n",
      "Epoch: 75 of 200\n",
      "Training...\n"
     ]
    },
    {
     "metadata": {
      "tags": null
     },
     "name": "stderr",
     "output_type": "stream",
     "text": [
      "100%|██████████| 3563/3563 [01:50<00:00, 32.25it/s]\n"
     ]
    },
    {
     "metadata": {
      "tags": null
     },
     "name": "stdout",
     "output_type": "stream",
     "text": [
      "\n",
      "Test with training set\n"
     ]
    },
    {
     "metadata": {
      "tags": null
     },
     "name": "stderr",
     "output_type": "stream",
     "text": [
      "100%|██████████| 3563/3563 [00:35<00:00, 99.22it/s] \n"
     ]
    },
    {
     "metadata": {
      "tags": null
     },
     "name": "stdout",
     "output_type": "stream",
     "text": [
      "\n",
      "Current Mean loss Train Set:  0.21967030520473274\n",
      "\n",
      "Test with test set\n"
     ]
    },
    {
     "metadata": {
      "tags": null
     },
     "name": "stderr",
     "output_type": "stream",
     "text": [
      "100%|██████████| 396/396 [00:04<00:00, 98.85it/s]\n"
     ]
    },
    {
     "metadata": {
      "tags": null
     },
     "name": "stdout",
     "output_type": "stream",
     "text": [
      "\n",
      "Current Mean loss Test Set:  0.23116451351329534\n",
      "\n",
      "\n",
      "Epoch: 76 of 200\n",
      "Training...\n"
     ]
    },
    {
     "metadata": {
      "tags": null
     },
     "name": "stderr",
     "output_type": "stream",
     "text": [
      "100%|██████████| 3563/3563 [01:51<00:00, 31.83it/s]\n"
     ]
    },
    {
     "metadata": {
      "tags": null
     },
     "name": "stdout",
     "output_type": "stream",
     "text": [
      "\n",
      "Test with training set\n"
     ]
    },
    {
     "metadata": {
      "tags": null
     },
     "name": "stderr",
     "output_type": "stream",
     "text": [
      "100%|██████████| 3563/3563 [00:35<00:00, 99.49it/s]\n"
     ]
    },
    {
     "metadata": {
      "tags": null
     },
     "name": "stdout",
     "output_type": "stream",
     "text": [
      "\n",
      "Current Mean loss Train Set:  0.21415352886383232\n",
      "\n",
      "Test with test set\n"
     ]
    },
    {
     "metadata": {
      "tags": null
     },
     "name": "stderr",
     "output_type": "stream",
     "text": [
      "100%|██████████| 396/396 [00:04<00:00, 98.70it/s]\n"
     ]
    },
    {
     "metadata": {
      "tags": null
     },
     "name": "stdout",
     "output_type": "stream",
     "text": [
      "\n",
      "Current Mean loss Test Set:  0.22676264346022196\n",
      "\n",
      "\n",
      "Epoch: 77 of 200\n",
      "Training...\n"
     ]
    },
    {
     "metadata": {
      "tags": null
     },
     "name": "stderr",
     "output_type": "stream",
     "text": [
      "100%|██████████| 3563/3563 [01:52<00:00, 31.78it/s]\n"
     ]
    },
    {
     "metadata": {
      "tags": null
     },
     "name": "stdout",
     "output_type": "stream",
     "text": [
      "\n",
      "Test with training set\n"
     ]
    },
    {
     "metadata": {
      "tags": null
     },
     "name": "stderr",
     "output_type": "stream",
     "text": [
      "100%|██████████| 3563/3563 [00:35<00:00, 99.94it/s]\n"
     ]
    },
    {
     "metadata": {
      "tags": null
     },
     "name": "stdout",
     "output_type": "stream",
     "text": [
      "\n",
      "Current Mean loss Train Set:  0.21689984965635556\n",
      "\n",
      "Test with test set\n"
     ]
    },
    {
     "metadata": {
      "tags": null
     },
     "name": "stderr",
     "output_type": "stream",
     "text": [
      "100%|██████████| 396/396 [00:03<00:00, 99.06it/s] \n"
     ]
    },
    {
     "metadata": {
      "tags": null
     },
     "name": "stdout",
     "output_type": "stream",
     "text": [
      "\n",
      "Current Mean loss Test Set:  0.23422287007549195\n",
      "\n",
      "\n",
      "Epoch: 78 of 200\n",
      "Training...\n"
     ]
    },
    {
     "metadata": {
      "tags": null
     },
     "name": "stderr",
     "output_type": "stream",
     "text": [
      "100%|██████████| 3563/3563 [01:51<00:00, 31.87it/s]\n"
     ]
    },
    {
     "metadata": {
      "tags": null
     },
     "name": "stdout",
     "output_type": "stream",
     "text": [
      "\n",
      "Test with training set\n"
     ]
    },
    {
     "metadata": {
      "tags": null
     },
     "name": "stderr",
     "output_type": "stream",
     "text": [
      "100%|██████████| 3563/3563 [00:35<00:00, 99.57it/s] \n"
     ]
    },
    {
     "metadata": {
      "tags": null
     },
     "name": "stdout",
     "output_type": "stream",
     "text": [
      "\n",
      "Current Mean loss Train Set:  0.21207431659892875\n",
      "\n",
      "Test with test set\n"
     ]
    },
    {
     "metadata": {
      "tags": null
     },
     "name": "stderr",
     "output_type": "stream",
     "text": [
      "100%|██████████| 396/396 [00:03<00:00, 100.35it/s]\n"
     ]
    },
    {
     "metadata": {
      "tags": null
     },
     "name": "stdout",
     "output_type": "stream",
     "text": [
      "\n",
      "Current Mean loss Test Set:  0.2285770271537882\n",
      "\n",
      "\n",
      "Epoch: 79 of 200\n",
      "Training...\n"
     ]
    },
    {
     "metadata": {
      "tags": null
     },
     "name": "stderr",
     "output_type": "stream",
     "text": [
      "100%|██████████| 3563/3563 [01:51<00:00, 31.94it/s]\n"
     ]
    },
    {
     "metadata": {
      "tags": null
     },
     "name": "stdout",
     "output_type": "stream",
     "text": [
      "\n",
      "Test with training set\n"
     ]
    },
    {
     "metadata": {
      "tags": null
     },
     "name": "stderr",
     "output_type": "stream",
     "text": [
      "100%|██████████| 3563/3563 [00:35<00:00, 99.68it/s]\n"
     ]
    },
    {
     "metadata": {
      "tags": null
     },
     "name": "stdout",
     "output_type": "stream",
     "text": [
      "\n",
      "Current Mean loss Train Set:  0.21057355950722156\n",
      "\n",
      "Test with test set\n"
     ]
    },
    {
     "metadata": {
      "tags": null
     },
     "name": "stderr",
     "output_type": "stream",
     "text": [
      "100%|██████████| 396/396 [00:03<00:00, 100.00it/s]\n"
     ]
    },
    {
     "metadata": {
      "tags": null
     },
     "name": "stdout",
     "output_type": "stream",
     "text": [
      "\n",
      "Current Mean loss Test Set:  0.22454103731522054\n",
      "\n",
      "\n",
      "Epoch: 80 of 200\n",
      "Training...\n"
     ]
    },
    {
     "metadata": {
      "tags": null
     },
     "name": "stderr",
     "output_type": "stream",
     "text": [
      "100%|██████████| 3563/3563 [01:51<00:00, 32.01it/s]\n"
     ]
    },
    {
     "metadata": {
      "tags": null
     },
     "name": "stdout",
     "output_type": "stream",
     "text": [
      "\n",
      "Test with training set\n"
     ]
    },
    {
     "metadata": {
      "tags": null
     },
     "name": "stderr",
     "output_type": "stream",
     "text": [
      "100%|██████████| 3563/3563 [00:35<00:00, 100.14it/s]\n"
     ]
    },
    {
     "metadata": {
      "tags": null
     },
     "name": "stdout",
     "output_type": "stream",
     "text": [
      "\n",
      "Current Mean loss Train Set:  0.21201632747548435\n",
      "\n",
      "Test with test set\n"
     ]
    },
    {
     "metadata": {
      "tags": null
     },
     "name": "stderr",
     "output_type": "stream",
     "text": [
      "100%|██████████| 396/396 [00:03<00:00, 100.12it/s]\n"
     ]
    },
    {
     "metadata": {
      "tags": null
     },
     "name": "stdout",
     "output_type": "stream",
     "text": [
      "\n",
      "Current Mean loss Test Set:  0.2265559116547758\n",
      "\n",
      "\n",
      "Epoch: 81 of 200\n",
      "Training...\n"
     ]
    },
    {
     "metadata": {
      "tags": null
     },
     "name": "stderr",
     "output_type": "stream",
     "text": [
      "100%|██████████| 3563/3563 [01:51<00:00, 32.01it/s]\n"
     ]
    },
    {
     "metadata": {
      "tags": null
     },
     "name": "stdout",
     "output_type": "stream",
     "text": [
      "\n",
      "Test with training set\n"
     ]
    },
    {
     "metadata": {
      "tags": null
     },
     "name": "stderr",
     "output_type": "stream",
     "text": [
      "100%|██████████| 3563/3563 [00:35<00:00, 100.10it/s]\n"
     ]
    },
    {
     "metadata": {
      "tags": null
     },
     "name": "stdout",
     "output_type": "stream",
     "text": [
      "\n",
      "Current Mean loss Train Set:  0.21064039414689475\n",
      "\n",
      "Test with test set\n"
     ]
    },
    {
     "metadata": {
      "tags": null
     },
     "name": "stderr",
     "output_type": "stream",
     "text": [
      "100%|██████████| 396/396 [00:03<00:00, 100.19it/s]\n"
     ]
    },
    {
     "metadata": {
      "tags": null
     },
     "name": "stdout",
     "output_type": "stream",
     "text": [
      "\n",
      "Current Mean loss Test Set:  0.224512599201666\n",
      "\n",
      "\n",
      "Epoch: 82 of 200\n",
      "Training...\n"
     ]
    },
    {
     "metadata": {
      "tags": null
     },
     "name": "stderr",
     "output_type": "stream",
     "text": [
      "100%|██████████| 3563/3563 [01:51<00:00, 32.10it/s]\n"
     ]
    },
    {
     "metadata": {
      "tags": null
     },
     "name": "stdout",
     "output_type": "stream",
     "text": [
      "\n",
      "Test with training set\n"
     ]
    },
    {
     "metadata": {
      "tags": null
     },
     "name": "stderr",
     "output_type": "stream",
     "text": [
      "100%|██████████| 3563/3563 [00:35<00:00, 99.87it/s] \n"
     ]
    },
    {
     "metadata": {
      "tags": null
     },
     "name": "stdout",
     "output_type": "stream",
     "text": [
      "\n",
      "Current Mean loss Train Set:  0.21558375461505364\n",
      "\n",
      "Test with test set\n"
     ]
    },
    {
     "metadata": {
      "tags": null
     },
     "name": "stderr",
     "output_type": "stream",
     "text": [
      "100%|██████████| 396/396 [00:03<00:00, 99.50it/s] \n"
     ]
    },
    {
     "metadata": {
      "tags": null
     },
     "name": "stdout",
     "output_type": "stream",
     "text": [
      "\n",
      "Current Mean loss Test Set:  0.23011390230797155\n",
      "\n",
      "\n",
      "Epoch: 83 of 200\n",
      "Training...\n"
     ]
    },
    {
     "metadata": {
      "tags": null
     },
     "name": "stderr",
     "output_type": "stream",
     "text": [
      "100%|██████████| 3563/3563 [01:51<00:00, 32.03it/s]\n"
     ]
    },
    {
     "metadata": {
      "tags": null
     },
     "name": "stdout",
     "output_type": "stream",
     "text": [
      "\n",
      "Test with training set\n"
     ]
    },
    {
     "metadata": {
      "tags": null
     },
     "name": "stderr",
     "output_type": "stream",
     "text": [
      "100%|██████████| 3563/3563 [00:35<00:00, 100.12it/s]\n"
     ]
    },
    {
     "metadata": {
      "tags": null
     },
     "name": "stdout",
     "output_type": "stream",
     "text": [
      "\n",
      "Current Mean loss Train Set:  0.21030427788604086\n",
      "\n",
      "Test with test set\n"
     ]
    },
    {
     "metadata": {
      "tags": null
     },
     "name": "stderr",
     "output_type": "stream",
     "text": [
      "100%|██████████| 396/396 [00:03<00:00, 100.60it/s]\n"
     ]
    },
    {
     "metadata": {
      "tags": null
     },
     "name": "stdout",
     "output_type": "stream",
     "text": [
      "\n",
      "Current Mean loss Test Set:  0.2279014497656714\n",
      "\n",
      "\n",
      "Epoch: 84 of 200\n",
      "Training...\n"
     ]
    },
    {
     "metadata": {
      "tags": null
     },
     "name": "stderr",
     "output_type": "stream",
     "text": [
      "100%|██████████| 3563/3563 [01:50<00:00, 32.10it/s]\n"
     ]
    },
    {
     "metadata": {
      "tags": null
     },
     "name": "stdout",
     "output_type": "stream",
     "text": [
      "\n",
      "Test with training set\n"
     ]
    },
    {
     "metadata": {
      "tags": null
     },
     "name": "stderr",
     "output_type": "stream",
     "text": [
      "100%|██████████| 3563/3563 [00:35<00:00, 100.25it/s]\n"
     ]
    },
    {
     "metadata": {
      "tags": null
     },
     "name": "stdout",
     "output_type": "stream",
     "text": [
      "\n",
      "Current Mean loss Train Set:  0.20801493374109603\n",
      "\n",
      "Test with test set\n"
     ]
    },
    {
     "metadata": {
      "tags": null
     },
     "name": "stderr",
     "output_type": "stream",
     "text": [
      "100%|██████████| 396/396 [00:03<00:00, 99.43it/s]\n"
     ]
    },
    {
     "metadata": {
      "tags": null
     },
     "name": "stdout",
     "output_type": "stream",
     "text": [
      "\n",
      "Current Mean loss Test Set:  0.2233969931951677\n",
      "\n",
      "\n",
      "Epoch: 85 of 200\n",
      "Training...\n"
     ]
    },
    {
     "metadata": {
      "tags": null
     },
     "name": "stderr",
     "output_type": "stream",
     "text": [
      "100%|██████████| 3563/3563 [01:51<00:00, 31.88it/s]\n"
     ]
    },
    {
     "metadata": {
      "tags": null
     },
     "name": "stdout",
     "output_type": "stream",
     "text": [
      "\n",
      "Test with training set\n"
     ]
    },
    {
     "metadata": {
      "tags": null
     },
     "name": "stderr",
     "output_type": "stream",
     "text": [
      "100%|██████████| 3563/3563 [00:35<00:00, 100.37it/s]\n"
     ]
    },
    {
     "metadata": {
      "tags": null
     },
     "name": "stdout",
     "output_type": "stream",
     "text": [
      "\n",
      "Current Mean loss Train Set:  0.20973108684810868\n",
      "\n",
      "Test with test set\n"
     ]
    },
    {
     "metadata": {
      "tags": null
     },
     "name": "stderr",
     "output_type": "stream",
     "text": [
      "100%|██████████| 396/396 [00:03<00:00, 100.57it/s]\n"
     ]
    },
    {
     "metadata": {
      "tags": null
     },
     "name": "stdout",
     "output_type": "stream",
     "text": [
      "\n",
      "Current Mean loss Test Set:  0.22400392375585407\n",
      "\n",
      "\n",
      "Epoch: 86 of 200\n",
      "Training...\n"
     ]
    },
    {
     "metadata": {
      "tags": null
     },
     "name": "stderr",
     "output_type": "stream",
     "text": [
      "100%|██████████| 3563/3563 [01:51<00:00, 32.01it/s]\n"
     ]
    },
    {
     "metadata": {
      "tags": null
     },
     "name": "stdout",
     "output_type": "stream",
     "text": [
      "\n",
      "Test with training set\n"
     ]
    },
    {
     "metadata": {
      "tags": null
     },
     "name": "stderr",
     "output_type": "stream",
     "text": [
      "100%|██████████| 3563/3563 [00:35<00:00, 100.33it/s]\n"
     ]
    },
    {
     "metadata": {
      "tags": null
     },
     "name": "stdout",
     "output_type": "stream",
     "text": [
      "\n",
      "Current Mean loss Train Set:  0.2088738064684963\n",
      "\n",
      "Test with test set\n"
     ]
    },
    {
     "metadata": {
      "tags": null
     },
     "name": "stderr",
     "output_type": "stream",
     "text": [
      "100%|██████████| 396/396 [00:04<00:00, 98.59it/s] \n"
     ]
    },
    {
     "metadata": {
      "tags": null
     },
     "name": "stdout",
     "output_type": "stream",
     "text": [
      "\n",
      "Current Mean loss Test Set:  0.2260320893479417\n",
      "\n",
      "\n",
      "Epoch: 87 of 200\n",
      "Training...\n"
     ]
    },
    {
     "metadata": {
      "tags": null
     },
     "name": "stderr",
     "output_type": "stream",
     "text": [
      "100%|██████████| 3563/3563 [01:50<00:00, 32.12it/s]\n"
     ]
    },
    {
     "metadata": {
      "tags": null
     },
     "name": "stdout",
     "output_type": "stream",
     "text": [
      "\n",
      "Test with training set\n"
     ]
    },
    {
     "metadata": {
      "tags": null
     },
     "name": "stderr",
     "output_type": "stream",
     "text": [
      "100%|██████████| 3563/3563 [00:35<00:00, 100.68it/s]\n"
     ]
    },
    {
     "metadata": {
      "tags": null
     },
     "name": "stdout",
     "output_type": "stream",
     "text": [
      "\n",
      "Current Mean loss Train Set:  0.20860539361470676\n",
      "\n",
      "Test with test set\n"
     ]
    },
    {
     "metadata": {
      "tags": null
     },
     "name": "stderr",
     "output_type": "stream",
     "text": [
      "100%|██████████| 396/396 [00:04<00:00, 98.70it/s]\n"
     ]
    },
    {
     "metadata": {
      "tags": null
     },
     "name": "stdout",
     "output_type": "stream",
     "text": [
      "\n",
      "Current Mean loss Test Set:  0.22371387175011515\n",
      "\n",
      "\n",
      "Epoch: 88 of 200\n",
      "Training...\n"
     ]
    },
    {
     "metadata": {
      "tags": null
     },
     "name": "stderr",
     "output_type": "stream",
     "text": [
      "100%|██████████| 3563/3563 [01:50<00:00, 32.10it/s]\n"
     ]
    },
    {
     "metadata": {
      "tags": null
     },
     "name": "stdout",
     "output_type": "stream",
     "text": [
      "\n",
      "Test with training set\n"
     ]
    },
    {
     "metadata": {
      "tags": null
     },
     "name": "stderr",
     "output_type": "stream",
     "text": [
      "100%|██████████| 3563/3563 [00:35<00:00, 99.82it/s]\n"
     ]
    },
    {
     "metadata": {
      "tags": null
     },
     "name": "stdout",
     "output_type": "stream",
     "text": [
      "\n",
      "Current Mean loss Train Set:  0.20822784722211019\n",
      "\n",
      "Test with test set\n"
     ]
    },
    {
     "metadata": {
      "tags": null
     },
     "name": "stderr",
     "output_type": "stream",
     "text": [
      "100%|██████████| 396/396 [00:03<00:00, 99.75it/s]\n"
     ]
    },
    {
     "metadata": {
      "tags": null
     },
     "name": "stdout",
     "output_type": "stream",
     "text": [
      "\n",
      "Current Mean loss Test Set:  0.22374096567356827\n",
      "\n",
      "\n",
      "Epoch: 89 of 200\n",
      "Training...\n"
     ]
    },
    {
     "metadata": {
      "tags": null
     },
     "name": "stderr",
     "output_type": "stream",
     "text": [
      "100%|██████████| 3563/3563 [01:51<00:00, 32.07it/s]\n"
     ]
    },
    {
     "metadata": {
      "tags": null
     },
     "name": "stdout",
     "output_type": "stream",
     "text": [
      "\n",
      "Test with training set\n"
     ]
    },
    {
     "metadata": {
      "tags": null
     },
     "name": "stderr",
     "output_type": "stream",
     "text": [
      "100%|██████████| 3563/3563 [00:35<00:00, 100.03it/s]\n"
     ]
    },
    {
     "metadata": {
      "tags": null
     },
     "name": "stdout",
     "output_type": "stream",
     "text": [
      "\n",
      "Current Mean loss Train Set:  0.20900366043161214\n",
      "\n",
      "Test with test set\n"
     ]
    },
    {
     "metadata": {
      "tags": null
     },
     "name": "stderr",
     "output_type": "stream",
     "text": [
      "100%|██████████| 396/396 [00:03<00:00, 100.51it/s]\n"
     ]
    },
    {
     "metadata": {
      "tags": null
     },
     "name": "stdout",
     "output_type": "stream",
     "text": [
      "\n",
      "Current Mean loss Test Set:  0.22426621800269744\n",
      "\n",
      "\n",
      "Epoch: 90 of 200\n",
      "Training...\n"
     ]
    },
    {
     "metadata": {
      "tags": null
     },
     "name": "stderr",
     "output_type": "stream",
     "text": [
      "100%|██████████| 3563/3563 [01:51<00:00, 32.06it/s]\n"
     ]
    },
    {
     "metadata": {
      "tags": null
     },
     "name": "stdout",
     "output_type": "stream",
     "text": [
      "\n",
      "Test with training set\n"
     ]
    },
    {
     "metadata": {
      "tags": null
     },
     "name": "stderr",
     "output_type": "stream",
     "text": [
      "100%|██████████| 3563/3563 [00:35<00:00, 99.63it/s] \n"
     ]
    },
    {
     "metadata": {
      "tags": null
     },
     "name": "stdout",
     "output_type": "stream",
     "text": [
      "\n",
      "Current Mean loss Train Set:  0.20776819530377855\n",
      "\n",
      "Test with test set\n"
     ]
    },
    {
     "metadata": {
      "tags": null
     },
     "name": "stderr",
     "output_type": "stream",
     "text": [
      "100%|██████████| 396/396 [00:03<00:00, 99.50it/s] \n"
     ]
    },
    {
     "metadata": {
      "tags": null
     },
     "name": "stdout",
     "output_type": "stream",
     "text": [
      "\n",
      "Current Mean loss Test Set:  0.22363578140585108\n",
      "\n",
      "\n",
      "Epoch: 91 of 200\n",
      "Training...\n"
     ]
    },
    {
     "metadata": {
      "tags": null
     },
     "name": "stderr",
     "output_type": "stream",
     "text": [
      "100%|██████████| 3563/3563 [01:51<00:00, 32.08it/s]\n"
     ]
    },
    {
     "metadata": {
      "tags": null
     },
     "name": "stdout",
     "output_type": "stream",
     "text": [
      "\n",
      "Test with training set\n"
     ]
    },
    {
     "metadata": {
      "tags": null
     },
     "name": "stderr",
     "output_type": "stream",
     "text": [
      "100%|██████████| 3563/3563 [00:35<00:00, 99.97it/s]\n"
     ]
    },
    {
     "metadata": {
      "tags": null
     },
     "name": "stdout",
     "output_type": "stream",
     "text": [
      "\n",
      "Current Mean loss Train Set:  0.2081456954099307\n",
      "\n",
      "Test with test set\n"
     ]
    },
    {
     "metadata": {
      "tags": null
     },
     "name": "stderr",
     "output_type": "stream",
     "text": [
      "100%|██████████| 396/396 [00:03<00:00, 100.15it/s]\n"
     ]
    },
    {
     "metadata": {
      "tags": null
     },
     "name": "stdout",
     "output_type": "stream",
     "text": [
      "\n",
      "Current Mean loss Test Set:  0.22532557348033996\n",
      "\n",
      "\n",
      "Epoch: 92 of 200\n",
      "Training...\n"
     ]
    },
    {
     "metadata": {
      "tags": null
     },
     "name": "stderr",
     "output_type": "stream",
     "text": [
      "100%|██████████| 3563/3563 [01:50<00:00, 32.15it/s]\n"
     ]
    },
    {
     "metadata": {
      "tags": null
     },
     "name": "stdout",
     "output_type": "stream",
     "text": [
      "\n",
      "Test with training set\n"
     ]
    },
    {
     "metadata": {
      "tags": null
     },
     "name": "stderr",
     "output_type": "stream",
     "text": [
      "100%|██████████| 3563/3563 [00:35<00:00, 100.41it/s]\n"
     ]
    },
    {
     "metadata": {
      "tags": null
     },
     "name": "stdout",
     "output_type": "stream",
     "text": [
      "\n",
      "Current Mean loss Train Set:  0.21063884506391536\n",
      "\n",
      "Test with test set\n"
     ]
    },
    {
     "metadata": {
      "tags": null
     },
     "name": "stderr",
     "output_type": "stream",
     "text": [
      "100%|██████████| 396/396 [00:04<00:00, 98.25it/s] \n"
     ]
    },
    {
     "metadata": {
      "tags": null
     },
     "name": "stdout",
     "output_type": "stream",
     "text": [
      "\n",
      "Current Mean loss Test Set:  0.22620496114320826\n",
      "\n",
      "\n",
      "Epoch: 93 of 200\n",
      "Training...\n"
     ]
    },
    {
     "metadata": {
      "tags": null
     },
     "name": "stderr",
     "output_type": "stream",
     "text": [
      "100%|██████████| 3563/3563 [01:51<00:00, 31.89it/s]\n"
     ]
    },
    {
     "metadata": {
      "tags": null
     },
     "name": "stdout",
     "output_type": "stream",
     "text": [
      "\n",
      "Test with training set\n"
     ]
    },
    {
     "metadata": {
      "tags": null
     },
     "name": "stderr",
     "output_type": "stream",
     "text": [
      "100%|██████████| 3563/3563 [00:35<00:00, 99.42it/s] \n"
     ]
    },
    {
     "metadata": {
      "tags": null
     },
     "name": "stdout",
     "output_type": "stream",
     "text": [
      "\n",
      "Current Mean loss Train Set:  0.20826357325793585\n",
      "\n",
      "Test with test set\n"
     ]
    },
    {
     "metadata": {
      "tags": null
     },
     "name": "stderr",
     "output_type": "stream",
     "text": [
      "100%|██████████| 396/396 [00:03<00:00, 99.23it/s]\n"
     ]
    },
    {
     "metadata": {
      "tags": null
     },
     "name": "stdout",
     "output_type": "stream",
     "text": [
      "\n",
      "Current Mean loss Test Set:  0.22498411196048815\n",
      "\n",
      "\n",
      "Epoch: 94 of 200\n",
      "Training...\n"
     ]
    },
    {
     "metadata": {
      "tags": null
     },
     "name": "stderr",
     "output_type": "stream",
     "text": [
      "100%|██████████| 3563/3563 [01:53<00:00, 31.47it/s]\n"
     ]
    },
    {
     "metadata": {
      "tags": null
     },
     "name": "stdout",
     "output_type": "stream",
     "text": [
      "\n",
      "Test with training set\n"
     ]
    },
    {
     "metadata": {
      "tags": null
     },
     "name": "stderr",
     "output_type": "stream",
     "text": [
      "100%|██████████| 3563/3563 [00:36<00:00, 98.15it/s]\n"
     ]
    },
    {
     "metadata": {
      "tags": null
     },
     "name": "stdout",
     "output_type": "stream",
     "text": [
      "\n",
      "Current Mean loss Train Set:  0.2093918390013748\n",
      "\n",
      "Test with test set\n"
     ]
    },
    {
     "metadata": {
      "tags": null
     },
     "name": "stderr",
     "output_type": "stream",
     "text": [
      "100%|██████████| 396/396 [00:04<00:00, 97.97it/s]\n"
     ]
    },
    {
     "metadata": {
      "tags": null
     },
     "name": "stdout",
     "output_type": "stream",
     "text": [
      "\n",
      "Current Mean loss Test Set:  0.22760816898686115\n",
      "\n",
      "\n",
      "Epoch: 95 of 200\n",
      "Training...\n"
     ]
    },
    {
     "metadata": {
      "tags": null
     },
     "name": "stderr",
     "output_type": "stream",
     "text": [
      "100%|██████████| 3563/3563 [01:53<00:00, 31.44it/s]\n"
     ]
    },
    {
     "metadata": {
      "tags": null
     },
     "name": "stdout",
     "output_type": "stream",
     "text": [
      "\n",
      "Test with training set\n"
     ]
    },
    {
     "metadata": {
      "tags": null
     },
     "name": "stderr",
     "output_type": "stream",
     "text": [
      "100%|██████████| 3563/3563 [00:36<00:00, 98.45it/s]\n"
     ]
    },
    {
     "metadata": {
      "tags": null
     },
     "name": "stdout",
     "output_type": "stream",
     "text": [
      "\n",
      "Current Mean loss Train Set:  0.20869359144443814\n",
      "\n",
      "Test with test set\n"
     ]
    },
    {
     "metadata": {
      "tags": null
     },
     "name": "stderr",
     "output_type": "stream",
     "text": [
      "100%|██████████| 396/396 [00:04<00:00, 98.78it/s]\n"
     ]
    },
    {
     "metadata": {
      "tags": null
     },
     "name": "stdout",
     "output_type": "stream",
     "text": [
      "\n",
      "Current Mean loss Test Set:  0.22354040439758036\n",
      "\n",
      "\n",
      "Epoch: 96 of 200\n",
      "Training...\n"
     ]
    },
    {
     "metadata": {
      "tags": null
     },
     "name": "stderr",
     "output_type": "stream",
     "text": [
      "100%|██████████| 3563/3563 [01:53<00:00, 31.35it/s]\n"
     ]
    },
    {
     "metadata": {
      "tags": null
     },
     "name": "stdout",
     "output_type": "stream",
     "text": [
      "\n",
      "Test with training set\n"
     ]
    },
    {
     "metadata": {
      "tags": null
     },
     "name": "stderr",
     "output_type": "stream",
     "text": [
      "100%|██████████| 3563/3563 [00:36<00:00, 97.87it/s]\n"
     ]
    },
    {
     "metadata": {
      "tags": null
     },
     "name": "stdout",
     "output_type": "stream",
     "text": [
      "\n",
      "Current Mean loss Train Set:  0.20678003806094924\n",
      "\n",
      "Test with test set\n"
     ]
    },
    {
     "metadata": {
      "tags": null
     },
     "name": "stderr",
     "output_type": "stream",
     "text": [
      "100%|██████████| 396/396 [00:04<00:00, 98.42it/s]\n"
     ]
    },
    {
     "metadata": {
      "tags": null
     },
     "name": "stdout",
     "output_type": "stream",
     "text": [
      "\n",
      "Current Mean loss Test Set:  0.22352268924993096\n",
      "\n",
      "\n",
      "Epoch: 97 of 200\n",
      "Training...\n"
     ]
    },
    {
     "metadata": {
      "tags": null
     },
     "name": "stderr",
     "output_type": "stream",
     "text": [
      "100%|██████████| 3563/3563 [01:53<00:00, 31.32it/s]\n"
     ]
    },
    {
     "metadata": {
      "tags": null
     },
     "name": "stdout",
     "output_type": "stream",
     "text": [
      "\n",
      "Test with training set\n"
     ]
    },
    {
     "metadata": {
      "tags": null
     },
     "name": "stderr",
     "output_type": "stream",
     "text": [
      "100%|██████████| 3563/3563 [00:36<00:00, 98.09it/s]\n"
     ]
    },
    {
     "metadata": {
      "tags": null
     },
     "name": "stdout",
     "output_type": "stream",
     "text": [
      "\n",
      "Current Mean loss Train Set:  0.2070320225162617\n",
      "\n",
      "Test with test set\n"
     ]
    },
    {
     "metadata": {
      "tags": null
     },
     "name": "stderr",
     "output_type": "stream",
     "text": [
      "100%|██████████| 396/396 [00:03<00:00, 99.91it/s]\n"
     ]
    },
    {
     "metadata": {
      "tags": null
     },
     "name": "stdout",
     "output_type": "stream",
     "text": [
      "\n",
      "Current Mean loss Test Set:  0.22411971894854849\n",
      "\n",
      "\n",
      "Epoch: 98 of 200\n",
      "Training...\n"
     ]
    },
    {
     "metadata": {
      "tags": null
     },
     "name": "stderr",
     "output_type": "stream",
     "text": [
      "100%|██████████| 3563/3563 [01:52<00:00, 31.80it/s]\n"
     ]
    },
    {
     "metadata": {
      "tags": null
     },
     "name": "stdout",
     "output_type": "stream",
     "text": [
      "\n",
      "Test with training set\n"
     ]
    },
    {
     "metadata": {
      "tags": null
     },
     "name": "stderr",
     "output_type": "stream",
     "text": [
      "100%|██████████| 3563/3563 [00:35<00:00, 100.34it/s]\n"
     ]
    },
    {
     "metadata": {
      "tags": null
     },
     "name": "stdout",
     "output_type": "stream",
     "text": [
      "\n",
      "Current Mean loss Train Set:  0.20567504729141922\n",
      "\n",
      "Test with test set\n"
     ]
    },
    {
     "metadata": {
      "tags": null
     },
     "name": "stderr",
     "output_type": "stream",
     "text": [
      "100%|██████████| 396/396 [00:03<00:00, 99.19it/s]\n"
     ]
    },
    {
     "metadata": {
      "tags": null
     },
     "name": "stdout",
     "output_type": "stream",
     "text": [
      "\n",
      "Current Mean loss Test Set:  0.22270121180800476\n",
      "\n",
      "\n",
      "Epoch: 99 of 200\n",
      "Training...\n"
     ]
    },
    {
     "metadata": {
      "tags": null
     },
     "name": "stderr",
     "output_type": "stream",
     "text": [
      "100%|██████████| 3563/3563 [01:51<00:00, 31.98it/s]\n"
     ]
    },
    {
     "metadata": {
      "tags": null
     },
     "name": "stdout",
     "output_type": "stream",
     "text": [
      "\n",
      "Test with training set\n"
     ]
    },
    {
     "metadata": {
      "tags": null
     },
     "name": "stderr",
     "output_type": "stream",
     "text": [
      "100%|██████████| 3563/3563 [00:35<00:00, 101.06it/s]\n"
     ]
    },
    {
     "metadata": {
      "tags": null
     },
     "name": "stdout",
     "output_type": "stream",
     "text": [
      "\n",
      "Current Mean loss Train Set:  0.20737756615796854\n",
      "\n",
      "Test with test set\n"
     ]
    },
    {
     "metadata": {
      "tags": null
     },
     "name": "stderr",
     "output_type": "stream",
     "text": [
      "100%|██████████| 396/396 [00:03<00:00, 102.19it/s]\n"
     ]
    },
    {
     "metadata": {
      "tags": null
     },
     "name": "stdout",
     "output_type": "stream",
     "text": [
      "\n",
      "Current Mean loss Test Set:  0.22340666536580434\n",
      "\n",
      "\n",
      "Epoch: 100 of 200\n",
      "Training...\n"
     ]
    },
    {
     "metadata": {
      "tags": null
     },
     "name": "stderr",
     "output_type": "stream",
     "text": [
      "100%|██████████| 3563/3563 [01:49<00:00, 32.40it/s]\n"
     ]
    },
    {
     "metadata": {
      "tags": null
     },
     "name": "stdout",
     "output_type": "stream",
     "text": [
      "\n",
      "Test with training set\n"
     ]
    },
    {
     "metadata": {
      "tags": null
     },
     "name": "stderr",
     "output_type": "stream",
     "text": [
      "100%|██████████| 3563/3563 [00:35<00:00, 101.47it/s]\n"
     ]
    },
    {
     "metadata": {
      "tags": null
     },
     "name": "stdout",
     "output_type": "stream",
     "text": [
      "\n",
      "Current Mean loss Train Set:  0.2085448814775045\n",
      "\n",
      "Test with test set\n"
     ]
    },
    {
     "metadata": {
      "tags": null
     },
     "name": "stderr",
     "output_type": "stream",
     "text": [
      "100%|██████████| 396/396 [00:03<00:00, 100.89it/s]\n"
     ]
    },
    {
     "metadata": {
      "tags": null
     },
     "name": "stdout",
     "output_type": "stream",
     "text": [
      "\n",
      "Current Mean loss Test Set:  0.22621732530645047\n",
      "\n",
      "\n",
      "Epoch: 101 of 200\n",
      "Training...\n"
     ]
    },
    {
     "metadata": {
      "tags": null
     },
     "name": "stderr",
     "output_type": "stream",
     "text": [
      "100%|██████████| 3563/3563 [01:49<00:00, 32.44it/s]\n"
     ]
    },
    {
     "metadata": {
      "tags": null
     },
     "name": "stdout",
     "output_type": "stream",
     "text": [
      "\n",
      "Test with training set\n"
     ]
    },
    {
     "metadata": {
      "tags": null
     },
     "name": "stderr",
     "output_type": "stream",
     "text": [
      "100%|██████████| 3563/3563 [00:34<00:00, 101.96it/s]\n"
     ]
    },
    {
     "metadata": {
      "tags": null
     },
     "name": "stdout",
     "output_type": "stream",
     "text": [
      "\n",
      "Current Mean loss Train Set:  0.2065067589659387\n",
      "\n",
      "Test with test set\n"
     ]
    },
    {
     "metadata": {
      "tags": null
     },
     "name": "stderr",
     "output_type": "stream",
     "text": [
      "100%|██████████| 396/396 [00:03<00:00, 102.54it/s]\n"
     ]
    },
    {
     "metadata": {
      "tags": null
     },
     "name": "stdout",
     "output_type": "stream",
     "text": [
      "\n",
      "Current Mean loss Test Set:  0.22321129633546477\n",
      "\n",
      "\n",
      "Epoch: 102 of 200\n",
      "Training...\n"
     ]
    },
    {
     "metadata": {
      "tags": null
     },
     "name": "stderr",
     "output_type": "stream",
     "text": [
      "100%|██████████| 3563/3563 [01:48<00:00, 32.72it/s]\n"
     ]
    },
    {
     "metadata": {
      "tags": null
     },
     "name": "stdout",
     "output_type": "stream",
     "text": [
      "\n",
      "Test with training set\n"
     ]
    },
    {
     "metadata": {
      "tags": null
     },
     "name": "stderr",
     "output_type": "stream",
     "text": [
      "100%|██████████| 3563/3563 [00:34<00:00, 103.22it/s]\n"
     ]
    },
    {
     "metadata": {
      "tags": null
     },
     "name": "stdout",
     "output_type": "stream",
     "text": [
      "\n",
      "Current Mean loss Train Set:  0.20417747655561924\n",
      "\n",
      "Test with test set\n"
     ]
    },
    {
     "metadata": {
      "tags": null
     },
     "name": "stderr",
     "output_type": "stream",
     "text": [
      "100%|██████████| 396/396 [00:03<00:00, 103.72it/s]\n"
     ]
    },
    {
     "metadata": {
      "tags": null
     },
     "name": "stdout",
     "output_type": "stream",
     "text": [
      "\n",
      "Current Mean loss Test Set:  0.22238585772463168\n",
      "\n",
      "\n",
      "Epoch: 103 of 200\n",
      "Training...\n"
     ]
    },
    {
     "metadata": {
      "tags": null
     },
     "name": "stderr",
     "output_type": "stream",
     "text": [
      "100%|██████████| 3563/3563 [01:48<00:00, 32.88it/s]\n"
     ]
    },
    {
     "metadata": {
      "tags": null
     },
     "name": "stdout",
     "output_type": "stream",
     "text": [
      "\n",
      "Test with training set\n"
     ]
    },
    {
     "metadata": {
      "tags": null
     },
     "name": "stderr",
     "output_type": "stream",
     "text": [
      "100%|██████████| 3563/3563 [00:34<00:00, 102.87it/s]\n"
     ]
    },
    {
     "metadata": {
      "tags": null
     },
     "name": "stdout",
     "output_type": "stream",
     "text": [
      "\n",
      "Current Mean loss Train Set:  0.20514289752263687\n",
      "\n",
      "Test with test set\n"
     ]
    },
    {
     "metadata": {
      "tags": null
     },
     "name": "stderr",
     "output_type": "stream",
     "text": [
      "100%|██████████| 396/396 [00:03<00:00, 101.05it/s]\n"
     ]
    },
    {
     "metadata": {
      "tags": null
     },
     "name": "stdout",
     "output_type": "stream",
     "text": [
      "\n",
      "Current Mean loss Test Set:  0.22102553645769754\n",
      "\n",
      "\n",
      "Epoch: 104 of 200\n",
      "Training...\n"
     ]
    },
    {
     "metadata": {
      "tags": null
     },
     "name": "stderr",
     "output_type": "stream",
     "text": [
      "100%|██████████| 3563/3563 [01:48<00:00, 32.99it/s]\n"
     ]
    },
    {
     "metadata": {
      "tags": null
     },
     "name": "stdout",
     "output_type": "stream",
     "text": [
      "\n",
      "Test with training set\n"
     ]
    },
    {
     "metadata": {
      "tags": null
     },
     "name": "stderr",
     "output_type": "stream",
     "text": [
      "100%|██████████| 3563/3563 [00:34<00:00, 103.11it/s]\n"
     ]
    },
    {
     "metadata": {
      "tags": null
     },
     "name": "stdout",
     "output_type": "stream",
     "text": [
      "\n",
      "Current Mean loss Train Set:  0.20825009681796747\n",
      "\n",
      "Test with test set\n"
     ]
    },
    {
     "metadata": {
      "tags": null
     },
     "name": "stderr",
     "output_type": "stream",
     "text": [
      "100%|██████████| 396/396 [00:03<00:00, 103.14it/s]\n"
     ]
    },
    {
     "metadata": {
      "tags": null
     },
     "name": "stdout",
     "output_type": "stream",
     "text": [
      "\n",
      "Current Mean loss Test Set:  0.22480743165795852\n",
      "\n",
      "\n",
      "Epoch: 105 of 200\n",
      "Training...\n"
     ]
    },
    {
     "metadata": {
      "tags": null
     },
     "name": "stderr",
     "output_type": "stream",
     "text": [
      "100%|██████████| 3563/3563 [01:48<00:00, 32.84it/s]\n"
     ]
    },
    {
     "metadata": {
      "tags": null
     },
     "name": "stdout",
     "output_type": "stream",
     "text": [
      "\n",
      "Test with training set\n"
     ]
    },
    {
     "metadata": {
      "tags": null
     },
     "name": "stderr",
     "output_type": "stream",
     "text": [
      "100%|██████████| 3563/3563 [00:34<00:00, 103.04it/s]\n"
     ]
    },
    {
     "metadata": {
      "tags": null
     },
     "name": "stdout",
     "output_type": "stream",
     "text": [
      "\n",
      "Current Mean loss Train Set:  0.20391437977159288\n",
      "\n",
      "Test with test set\n"
     ]
    },
    {
     "metadata": {
      "tags": null
     },
     "name": "stderr",
     "output_type": "stream",
     "text": [
      "100%|██████████| 396/396 [00:03<00:00, 102.44it/s]\n"
     ]
    },
    {
     "metadata": {
      "tags": null
     },
     "name": "stdout",
     "output_type": "stream",
     "text": [
      "\n",
      "Current Mean loss Test Set:  0.2216262642595202\n",
      "\n",
      "\n",
      "Epoch: 106 of 200\n",
      "Training...\n"
     ]
    },
    {
     "metadata": {
      "tags": null
     },
     "name": "stderr",
     "output_type": "stream",
     "text": [
      "100%|██████████| 3563/3563 [01:48<00:00, 32.73it/s]\n"
     ]
    },
    {
     "metadata": {
      "tags": null
     },
     "name": "stdout",
     "output_type": "stream",
     "text": [
      "\n",
      "Test with training set\n"
     ]
    },
    {
     "metadata": {
      "tags": null
     },
     "name": "stderr",
     "output_type": "stream",
     "text": [
      "100%|██████████| 3563/3563 [00:34<00:00, 102.28it/s]\n"
     ]
    },
    {
     "metadata": {
      "tags": null
     },
     "name": "stdout",
     "output_type": "stream",
     "text": [
      "\n",
      "Current Mean loss Train Set:  0.20684452513622295\n",
      "\n",
      "Test with test set\n"
     ]
    },
    {
     "metadata": {
      "tags": null
     },
     "name": "stderr",
     "output_type": "stream",
     "text": [
      "100%|██████████| 396/396 [00:03<00:00, 102.93it/s]\n"
     ]
    },
    {
     "metadata": {
      "tags": null
     },
     "name": "stdout",
     "output_type": "stream",
     "text": [
      "\n",
      "Current Mean loss Test Set:  0.22556323565617956\n",
      "\n",
      "\n",
      "Epoch: 107 of 200\n",
      "Training...\n"
     ]
    },
    {
     "metadata": {
      "tags": null
     },
     "name": "stderr",
     "output_type": "stream",
     "text": [
      "100%|██████████| 3563/3563 [01:48<00:00, 32.79it/s]\n"
     ]
    },
    {
     "metadata": {
      "tags": null
     },
     "name": "stdout",
     "output_type": "stream",
     "text": [
      "\n",
      "Test with training set\n"
     ]
    },
    {
     "metadata": {
      "tags": null
     },
     "name": "stderr",
     "output_type": "stream",
     "text": [
      "100%|██████████| 3563/3563 [00:34<00:00, 102.62it/s]\n"
     ]
    },
    {
     "metadata": {
      "tags": null
     },
     "name": "stdout",
     "output_type": "stream",
     "text": [
      "\n",
      "Current Mean loss Train Set:  0.20822192218918964\n",
      "\n",
      "Test with test set\n"
     ]
    },
    {
     "metadata": {
      "tags": null
     },
     "name": "stderr",
     "output_type": "stream",
     "text": [
      "100%|██████████| 396/396 [00:03<00:00, 102.80it/s]\n"
     ]
    },
    {
     "metadata": {
      "tags": null
     },
     "name": "stdout",
     "output_type": "stream",
     "text": [
      "\n",
      "Current Mean loss Test Set:  0.22670806594418758\n",
      "\n",
      "\n",
      "Epoch: 108 of 200\n",
      "Training...\n"
     ]
    },
    {
     "metadata": {
      "tags": null
     },
     "name": "stderr",
     "output_type": "stream",
     "text": [
      "100%|██████████| 3563/3563 [01:48<00:00, 32.86it/s]\n"
     ]
    },
    {
     "metadata": {
      "tags": null
     },
     "name": "stdout",
     "output_type": "stream",
     "text": [
      "\n",
      "Test with training set\n"
     ]
    },
    {
     "metadata": {
      "tags": null
     },
     "name": "stderr",
     "output_type": "stream",
     "text": [
      "100%|██████████| 3563/3563 [00:34<00:00, 102.83it/s]\n"
     ]
    },
    {
     "metadata": {
      "tags": null
     },
     "name": "stdout",
     "output_type": "stream",
     "text": [
      "\n",
      "Current Mean loss Train Set:  0.20526109417310232\n",
      "\n",
      "Test with test set\n"
     ]
    },
    {
     "metadata": {
      "tags": null
     },
     "name": "stderr",
     "output_type": "stream",
     "text": [
      "100%|██████████| 396/396 [00:03<00:00, 103.60it/s]\n"
     ]
    },
    {
     "metadata": {
      "tags": null
     },
     "name": "stdout",
     "output_type": "stream",
     "text": [
      "\n",
      "Current Mean loss Test Set:  0.2211140530616647\n",
      "\n",
      "\n",
      "Epoch: 109 of 200\n",
      "Training...\n"
     ]
    },
    {
     "metadata": {
      "tags": null
     },
     "name": "stderr",
     "output_type": "stream",
     "text": [
      "100%|██████████| 3563/3563 [01:48<00:00, 32.94it/s]\n"
     ]
    },
    {
     "metadata": {
      "tags": null
     },
     "name": "stdout",
     "output_type": "stream",
     "text": [
      "\n",
      "Test with training set\n"
     ]
    },
    {
     "metadata": {
      "tags": null
     },
     "name": "stderr",
     "output_type": "stream",
     "text": [
      "100%|██████████| 3563/3563 [00:34<00:00, 102.88it/s]\n"
     ]
    },
    {
     "metadata": {
      "tags": null
     },
     "name": "stdout",
     "output_type": "stream",
     "text": [
      "\n",
      "Current Mean loss Train Set:  0.20260979046555272\n",
      "\n",
      "Test with test set\n"
     ]
    },
    {
     "metadata": {
      "tags": null
     },
     "name": "stderr",
     "output_type": "stream",
     "text": [
      "100%|██████████| 396/396 [00:03<00:00, 102.55it/s]\n"
     ]
    },
    {
     "metadata": {
      "tags": null
     },
     "name": "stdout",
     "output_type": "stream",
     "text": [
      "\n",
      "Current Mean loss Test Set:  0.22040076085338087\n",
      "\n",
      "\n",
      "Epoch: 110 of 200\n",
      "Training...\n"
     ]
    },
    {
     "metadata": {
      "tags": null
     },
     "name": "stderr",
     "output_type": "stream",
     "text": [
      "100%|██████████| 3563/3563 [01:49<00:00, 32.55it/s]\n"
     ]
    },
    {
     "metadata": {
      "tags": null
     },
     "name": "stdout",
     "output_type": "stream",
     "text": [
      "\n",
      "Test with training set\n"
     ]
    },
    {
     "metadata": {
      "tags": null
     },
     "name": "stderr",
     "output_type": "stream",
     "text": [
      "100%|██████████| 3563/3563 [00:34<00:00, 101.98it/s]\n"
     ]
    },
    {
     "metadata": {
      "tags": null
     },
     "name": "stdout",
     "output_type": "stream",
     "text": [
      "\n",
      "Current Mean loss Train Set:  0.2045448786073811\n",
      "\n",
      "Test with test set\n"
     ]
    },
    {
     "metadata": {
      "tags": null
     },
     "name": "stderr",
     "output_type": "stream",
     "text": [
      "100%|██████████| 396/396 [00:03<00:00, 101.17it/s]\n"
     ]
    },
    {
     "metadata": {
      "tags": null
     },
     "name": "stdout",
     "output_type": "stream",
     "text": [
      "\n",
      "Current Mean loss Test Set:  0.22246795123198418\n",
      "\n",
      "\n",
      "Epoch: 111 of 200\n",
      "Training...\n"
     ]
    },
    {
     "metadata": {
      "tags": null
     },
     "name": "stderr",
     "output_type": "stream",
     "text": [
      "100%|██████████| 3563/3563 [01:50<00:00, 32.33it/s]\n"
     ]
    },
    {
     "metadata": {
      "tags": null
     },
     "name": "stdout",
     "output_type": "stream",
     "text": [
      "\n",
      "Test with training set\n"
     ]
    },
    {
     "metadata": {
      "tags": null
     },
     "name": "stderr",
     "output_type": "stream",
     "text": [
      "100%|██████████| 3563/3563 [00:34<00:00, 102.05it/s]\n"
     ]
    },
    {
     "metadata": {
      "tags": null
     },
     "name": "stdout",
     "output_type": "stream",
     "text": [
      "\n",
      "Current Mean loss Train Set:  0.20697692086396846\n",
      "\n",
      "Test with test set\n"
     ]
    },
    {
     "metadata": {
      "tags": null
     },
     "name": "stderr",
     "output_type": "stream",
     "text": [
      "100%|██████████| 396/396 [00:03<00:00, 102.27it/s]\n"
     ]
    },
    {
     "metadata": {
      "tags": null
     },
     "name": "stdout",
     "output_type": "stream",
     "text": [
      "\n",
      "Current Mean loss Test Set:  0.22495600229336155\n",
      "\n",
      "\n",
      "Epoch: 112 of 200\n",
      "Training...\n"
     ]
    },
    {
     "metadata": {
      "tags": null
     },
     "name": "stderr",
     "output_type": "stream",
     "text": [
      "100%|██████████| 3563/3563 [01:49<00:00, 32.50it/s]\n"
     ]
    },
    {
     "metadata": {
      "tags": null
     },
     "name": "stdout",
     "output_type": "stream",
     "text": [
      "\n",
      "Test with training set\n"
     ]
    },
    {
     "metadata": {
      "tags": null
     },
     "name": "stderr",
     "output_type": "stream",
     "text": [
      "100%|██████████| 3563/3563 [00:35<00:00, 101.34it/s]\n"
     ]
    },
    {
     "metadata": {
      "tags": null
     },
     "name": "stdout",
     "output_type": "stream",
     "text": [
      "\n",
      "Current Mean loss Train Set:  0.2056952073475868\n",
      "\n",
      "Test with test set\n"
     ]
    },
    {
     "metadata": {
      "tags": null
     },
     "name": "stderr",
     "output_type": "stream",
     "text": [
      "100%|██████████| 396/396 [00:03<00:00, 102.96it/s]\n"
     ]
    },
    {
     "metadata": {
      "tags": null
     },
     "name": "stdout",
     "output_type": "stream",
     "text": [
      "\n",
      "Current Mean loss Test Set:  0.22266208118937833\n",
      "\n",
      "\n",
      "Epoch: 113 of 200\n",
      "Training...\n"
     ]
    },
    {
     "metadata": {
      "tags": null
     },
     "name": "stderr",
     "output_type": "stream",
     "text": [
      "100%|██████████| 3563/3563 [01:49<00:00, 32.41it/s]\n"
     ]
    },
    {
     "metadata": {
      "tags": null
     },
     "name": "stdout",
     "output_type": "stream",
     "text": [
      "\n",
      "Test with training set\n"
     ]
    },
    {
     "metadata": {
      "tags": null
     },
     "name": "stderr",
     "output_type": "stream",
     "text": [
      "100%|██████████| 3563/3563 [00:35<00:00, 101.26it/s]\n"
     ]
    },
    {
     "metadata": {
      "tags": null
     },
     "name": "stdout",
     "output_type": "stream",
     "text": [
      "\n",
      "Current Mean loss Train Set:  0.20290201287815954\n",
      "\n",
      "Test with test set\n"
     ]
    },
    {
     "metadata": {
      "tags": null
     },
     "name": "stderr",
     "output_type": "stream",
     "text": [
      "100%|██████████| 396/396 [00:03<00:00, 102.49it/s]\n"
     ]
    },
    {
     "metadata": {
      "tags": null
     },
     "name": "stdout",
     "output_type": "stream",
     "text": [
      "\n",
      "Current Mean loss Test Set:  0.22246950706749252\n",
      "\n",
      "\n",
      "Epoch: 114 of 200\n",
      "Training...\n"
     ]
    },
    {
     "metadata": {
      "tags": null
     },
     "name": "stderr",
     "output_type": "stream",
     "text": [
      "100%|██████████| 3563/3563 [01:51<00:00, 32.07it/s]\n"
     ]
    },
    {
     "metadata": {
      "tags": null
     },
     "name": "stdout",
     "output_type": "stream",
     "text": [
      "\n",
      "Test with training set\n"
     ]
    },
    {
     "metadata": {
      "tags": null
     },
     "name": "stderr",
     "output_type": "stream",
     "text": [
      "100%|██████████| 3563/3563 [00:35<00:00, 100.77it/s]\n"
     ]
    },
    {
     "metadata": {
      "tags": null
     },
     "name": "stdout",
     "output_type": "stream",
     "text": [
      "\n",
      "Current Mean loss Train Set:  0.20340505434310474\n",
      "\n",
      "Test with test set\n"
     ]
    },
    {
     "metadata": {
      "tags": null
     },
     "name": "stderr",
     "output_type": "stream",
     "text": [
      "100%|██████████| 396/396 [00:03<00:00, 101.83it/s]\n"
     ]
    },
    {
     "metadata": {
      "tags": null
     },
     "name": "stdout",
     "output_type": "stream",
     "text": [
      "\n",
      "Current Mean loss Test Set:  0.22142194412799196\n",
      "\n",
      "\n",
      "Epoch: 115 of 200\n",
      "Training...\n"
     ]
    },
    {
     "metadata": {
      "tags": null
     },
     "name": "stderr",
     "output_type": "stream",
     "text": [
      "100%|██████████| 3563/3563 [01:50<00:00, 32.29it/s]\n"
     ]
    },
    {
     "metadata": {
      "tags": null
     },
     "name": "stdout",
     "output_type": "stream",
     "text": [
      "\n",
      "Test with training set\n"
     ]
    },
    {
     "metadata": {
      "tags": null
     },
     "name": "stderr",
     "output_type": "stream",
     "text": [
      "100%|██████████| 3563/3563 [00:35<00:00, 101.40it/s]\n"
     ]
    },
    {
     "metadata": {
      "tags": null
     },
     "name": "stdout",
     "output_type": "stream",
     "text": [
      "\n",
      "Current Mean loss Train Set:  0.2038146811938674\n",
      "\n",
      "Test with test set\n"
     ]
    },
    {
     "metadata": {
      "tags": null
     },
     "name": "stderr",
     "output_type": "stream",
     "text": [
      "100%|██████████| 396/396 [00:03<00:00, 99.89it/s] \n"
     ]
    },
    {
     "metadata": {
      "tags": null
     },
     "name": "stdout",
     "output_type": "stream",
     "text": [
      "\n",
      "Current Mean loss Test Set:  0.2242818001206174\n",
      "\n",
      "\n",
      "Epoch: 116 of 200\n",
      "Training...\n"
     ]
    },
    {
     "metadata": {
      "tags": null
     },
     "name": "stderr",
     "output_type": "stream",
     "text": [
      "100%|██████████| 3563/3563 [01:50<00:00, 32.27it/s]\n"
     ]
    },
    {
     "metadata": {
      "tags": null
     },
     "name": "stdout",
     "output_type": "stream",
     "text": [
      "\n",
      "Test with training set\n"
     ]
    },
    {
     "metadata": {
      "tags": null
     },
     "name": "stderr",
     "output_type": "stream",
     "text": [
      "100%|██████████| 3563/3563 [00:35<00:00, 101.01it/s]\n"
     ]
    },
    {
     "metadata": {
      "tags": null
     },
     "name": "stdout",
     "output_type": "stream",
     "text": [
      "\n",
      "Current Mean loss Train Set:  0.204520374530241\n",
      "\n",
      "Test with test set\n"
     ]
    },
    {
     "metadata": {
      "tags": null
     },
     "name": "stderr",
     "output_type": "stream",
     "text": [
      "100%|██████████| 396/396 [00:03<00:00, 101.30it/s]\n"
     ]
    },
    {
     "metadata": {
      "tags": null
     },
     "name": "stdout",
     "output_type": "stream",
     "text": [
      "\n",
      "Current Mean loss Test Set:  0.2240137266314993\n",
      "\n",
      "\n",
      "Epoch: 117 of 200\n",
      "Training...\n"
     ]
    },
    {
     "metadata": {
      "tags": null
     },
     "name": "stderr",
     "output_type": "stream",
     "text": [
      "100%|██████████| 3563/3563 [01:50<00:00, 32.37it/s]\n"
     ]
    },
    {
     "metadata": {
      "tags": null
     },
     "name": "stdout",
     "output_type": "stream",
     "text": [
      "\n",
      "Test with training set\n"
     ]
    },
    {
     "metadata": {
      "tags": null
     },
     "name": "stderr",
     "output_type": "stream",
     "text": [
      "100%|██████████| 3563/3563 [00:34<00:00, 102.52it/s]\n"
     ]
    },
    {
     "metadata": {
      "tags": null
     },
     "name": "stdout",
     "output_type": "stream",
     "text": [
      "\n",
      "Current Mean loss Train Set:  0.205203956345929\n",
      "\n",
      "Test with test set\n"
     ]
    },
    {
     "metadata": {
      "tags": null
     },
     "name": "stderr",
     "output_type": "stream",
     "text": [
      "100%|██████████| 396/396 [00:03<00:00, 101.93it/s]\n"
     ]
    },
    {
     "metadata": {
      "tags": null
     },
     "name": "stdout",
     "output_type": "stream",
     "text": [
      "\n",
      "Current Mean loss Test Set:  0.22412198343587042\n",
      "\n",
      "\n",
      "Epoch: 118 of 200\n",
      "Training...\n"
     ]
    },
    {
     "metadata": {
      "tags": null
     },
     "name": "stderr",
     "output_type": "stream",
     "text": [
      "100%|██████████| 3563/3563 [01:48<00:00, 32.87it/s]\n"
     ]
    },
    {
     "metadata": {
      "tags": null
     },
     "name": "stdout",
     "output_type": "stream",
     "text": [
      "\n",
      "Test with training set\n"
     ]
    },
    {
     "metadata": {
      "tags": null
     },
     "name": "stderr",
     "output_type": "stream",
     "text": [
      "100%|██████████| 3563/3563 [00:34<00:00, 102.33it/s]\n"
     ]
    },
    {
     "metadata": {
      "tags": null
     },
     "name": "stdout",
     "output_type": "stream",
     "text": [
      "\n",
      "Current Mean loss Train Set:  0.20337396588070888\n",
      "\n",
      "Test with test set\n"
     ]
    },
    {
     "metadata": {
      "tags": null
     },
     "name": "stderr",
     "output_type": "stream",
     "text": [
      "100%|██████████| 396/396 [00:03<00:00, 101.66it/s]\n"
     ]
    },
    {
     "metadata": {
      "tags": null
     },
     "name": "stdout",
     "output_type": "stream",
     "text": [
      "\n",
      "Current Mean loss Test Set:  0.22129668120407697\n",
      "\n",
      "\n",
      "Epoch: 119 of 200\n",
      "Training...\n"
     ]
    },
    {
     "metadata": {
      "tags": null
     },
     "name": "stderr",
     "output_type": "stream",
     "text": [
      "100%|██████████| 3563/3563 [01:50<00:00, 32.35it/s]\n"
     ]
    },
    {
     "metadata": {
      "tags": null
     },
     "name": "stdout",
     "output_type": "stream",
     "text": [
      "\n",
      "Test with training set\n"
     ]
    },
    {
     "metadata": {
      "tags": null
     },
     "name": "stderr",
     "output_type": "stream",
     "text": [
      "100%|██████████| 3563/3563 [00:34<00:00, 102.34it/s]\n"
     ]
    },
    {
     "metadata": {
      "tags": null
     },
     "name": "stdout",
     "output_type": "stream",
     "text": [
      "\n",
      "Current Mean loss Train Set:  0.20468139121690027\n",
      "\n",
      "Test with test set\n"
     ]
    },
    {
     "metadata": {
      "tags": null
     },
     "name": "stderr",
     "output_type": "stream",
     "text": [
      "100%|██████████| 396/396 [00:03<00:00, 101.47it/s]\n"
     ]
    },
    {
     "metadata": {
      "tags": null
     },
     "name": "stdout",
     "output_type": "stream",
     "text": [
      "\n",
      "Current Mean loss Test Set:  0.22314637026401482\n",
      "\n",
      "\n",
      "Epoch: 120 of 200\n",
      "Training...\n"
     ]
    },
    {
     "metadata": {
      "tags": null
     },
     "name": "stderr",
     "output_type": "stream",
     "text": [
      "100%|██████████| 3563/3563 [01:49<00:00, 32.44it/s]\n"
     ]
    },
    {
     "metadata": {
      "tags": null
     },
     "name": "stdout",
     "output_type": "stream",
     "text": [
      "\n",
      "Test with training set\n"
     ]
    },
    {
     "metadata": {
      "tags": null
     },
     "name": "stderr",
     "output_type": "stream",
     "text": [
      "100%|██████████| 3563/3563 [00:35<00:00, 101.34it/s]\n"
     ]
    },
    {
     "metadata": {
      "tags": null
     },
     "name": "stdout",
     "output_type": "stream",
     "text": [
      "\n",
      "Current Mean loss Train Set:  0.20397168474228503\n",
      "\n",
      "Test with test set\n"
     ]
    },
    {
     "metadata": {
      "tags": null
     },
     "name": "stderr",
     "output_type": "stream",
     "text": [
      "100%|██████████| 396/396 [00:03<00:00, 102.24it/s]\n"
     ]
    },
    {
     "metadata": {
      "tags": null
     },
     "name": "stdout",
     "output_type": "stream",
     "text": [
      "\n",
      "Current Mean loss Test Set:  0.22386040670251606\n",
      "\n",
      "\n",
      "Epoch: 121 of 200\n",
      "Training...\n"
     ]
    },
    {
     "metadata": {
      "tags": null
     },
     "name": "stderr",
     "output_type": "stream",
     "text": [
      "100%|██████████| 3563/3563 [01:49<00:00, 32.43it/s]\n"
     ]
    },
    {
     "metadata": {
      "tags": null
     },
     "name": "stdout",
     "output_type": "stream",
     "text": [
      "\n",
      "Test with training set\n"
     ]
    },
    {
     "metadata": {
      "tags": null
     },
     "name": "stderr",
     "output_type": "stream",
     "text": [
      "100%|██████████| 3563/3563 [00:35<00:00, 101.51it/s]\n"
     ]
    },
    {
     "metadata": {
      "tags": null
     },
     "name": "stdout",
     "output_type": "stream",
     "text": [
      "\n",
      "Current Mean loss Train Set:  0.20022807926056663\n",
      "\n",
      "Test with test set\n"
     ]
    },
    {
     "metadata": {
      "tags": null
     },
     "name": "stderr",
     "output_type": "stream",
     "text": [
      "100%|██████████| 396/396 [00:03<00:00, 101.55it/s]\n"
     ]
    },
    {
     "metadata": {
      "tags": null
     },
     "name": "stdout",
     "output_type": "stream",
     "text": [
      "\n",
      "Current Mean loss Test Set:  0.22217239661499708\n",
      "\n",
      "\n",
      "Epoch: 122 of 200\n",
      "Training...\n"
     ]
    },
    {
     "metadata": {
      "tags": null
     },
     "name": "stderr",
     "output_type": "stream",
     "text": [
      "100%|██████████| 3563/3563 [01:50<00:00, 32.28it/s]\n"
     ]
    },
    {
     "metadata": {
      "tags": null
     },
     "name": "stdout",
     "output_type": "stream",
     "text": [
      "\n",
      "Test with training set\n"
     ]
    },
    {
     "metadata": {
      "tags": null
     },
     "name": "stderr",
     "output_type": "stream",
     "text": [
      "100%|██████████| 3563/3563 [00:35<00:00, 100.98it/s]\n"
     ]
    },
    {
     "metadata": {
      "tags": null
     },
     "name": "stdout",
     "output_type": "stream",
     "text": [
      "\n",
      "Current Mean loss Train Set:  0.20307459990872181\n",
      "\n",
      "Test with test set\n"
     ]
    },
    {
     "metadata": {
      "tags": null
     },
     "name": "stderr",
     "output_type": "stream",
     "text": [
      "100%|██████████| 396/396 [00:03<00:00, 100.79it/s]\n"
     ]
    },
    {
     "metadata": {
      "tags": null
     },
     "name": "stdout",
     "output_type": "stream",
     "text": [
      "\n",
      "Current Mean loss Test Set:  0.2244351850540349\n",
      "\n",
      "\n",
      "Epoch: 123 of 200\n",
      "Training...\n"
     ]
    },
    {
     "metadata": {
      "tags": null
     },
     "name": "stderr",
     "output_type": "stream",
     "text": [
      "100%|██████████| 3563/3563 [01:50<00:00, 32.36it/s]\n"
     ]
    },
    {
     "metadata": {
      "tags": null
     },
     "name": "stdout",
     "output_type": "stream",
     "text": [
      "\n",
      "Test with training set\n"
     ]
    },
    {
     "metadata": {
      "tags": null
     },
     "name": "stderr",
     "output_type": "stream",
     "text": [
      "100%|██████████| 3563/3563 [00:35<00:00, 101.54it/s]\n"
     ]
    },
    {
     "metadata": {
      "tags": null
     },
     "name": "stdout",
     "output_type": "stream",
     "text": [
      "\n",
      "Current Mean loss Train Set:  0.20186558065749338\n",
      "\n",
      "Test with test set\n"
     ]
    },
    {
     "metadata": {
      "tags": null
     },
     "name": "stderr",
     "output_type": "stream",
     "text": [
      "100%|██████████| 396/396 [00:03<00:00, 102.13it/s]\n"
     ]
    },
    {
     "metadata": {
      "tags": null
     },
     "name": "stdout",
     "output_type": "stream",
     "text": [
      "\n",
      "Current Mean loss Test Set:  0.2219173734386762\n",
      "\n",
      "\n",
      "Epoch: 124 of 200\n",
      "Training...\n"
     ]
    },
    {
     "metadata": {
      "tags": null
     },
     "name": "stderr",
     "output_type": "stream",
     "text": [
      "100%|██████████| 3563/3563 [01:50<00:00, 32.35it/s]\n"
     ]
    },
    {
     "metadata": {
      "tags": null
     },
     "name": "stdout",
     "output_type": "stream",
     "text": [
      "\n",
      "Test with training set\n"
     ]
    },
    {
     "metadata": {
      "tags": null
     },
     "name": "stderr",
     "output_type": "stream",
     "text": [
      "100%|██████████| 3563/3563 [00:35<00:00, 101.20it/s]\n"
     ]
    },
    {
     "metadata": {
      "tags": null
     },
     "name": "stdout",
     "output_type": "stream",
     "text": [
      "\n",
      "Current Mean loss Train Set:  0.200588827699197\n",
      "\n",
      "Test with test set\n"
     ]
    },
    {
     "metadata": {
      "tags": null
     },
     "name": "stderr",
     "output_type": "stream",
     "text": [
      "100%|██████████| 396/396 [00:03<00:00, 102.34it/s]\n"
     ]
    },
    {
     "metadata": {
      "tags": null
     },
     "name": "stdout",
     "output_type": "stream",
     "text": [
      "\n",
      "Current Mean loss Test Set:  0.22213993750211566\n",
      "\n",
      "\n",
      "Epoch: 125 of 200\n",
      "Training...\n"
     ]
    },
    {
     "metadata": {
      "tags": null
     },
     "name": "stderr",
     "output_type": "stream",
     "text": [
      "100%|██████████| 3563/3563 [01:49<00:00, 32.45it/s]\n"
     ]
    },
    {
     "metadata": {
      "tags": null
     },
     "name": "stdout",
     "output_type": "stream",
     "text": [
      "\n",
      "Test with training set\n"
     ]
    },
    {
     "metadata": {
      "tags": null
     },
     "name": "stderr",
     "output_type": "stream",
     "text": [
      "100%|██████████| 3563/3563 [00:35<00:00, 101.18it/s]\n"
     ]
    },
    {
     "metadata": {
      "tags": null
     },
     "name": "stdout",
     "output_type": "stream",
     "text": [
      "\n",
      "Current Mean loss Train Set:  0.2034926208286616\n",
      "\n",
      "Test with test set\n"
     ]
    },
    {
     "metadata": {
      "tags": null
     },
     "name": "stderr",
     "output_type": "stream",
     "text": [
      "100%|██████████| 396/396 [00:03<00:00, 100.83it/s]\n"
     ]
    },
    {
     "metadata": {
      "tags": null
     },
     "name": "stdout",
     "output_type": "stream",
     "text": [
      "\n",
      "Current Mean loss Test Set:  0.22509614494864386\n",
      "\n",
      "\n",
      "Epoch: 126 of 200\n",
      "Training...\n"
     ]
    },
    {
     "metadata": {
      "tags": null
     },
     "name": "stderr",
     "output_type": "stream",
     "text": [
      "100%|██████████| 3563/3563 [01:49<00:00, 32.44it/s]\n"
     ]
    },
    {
     "metadata": {
      "tags": null
     },
     "name": "stdout",
     "output_type": "stream",
     "text": [
      "\n",
      "Test with training set\n"
     ]
    },
    {
     "metadata": {
      "tags": null
     },
     "name": "stderr",
     "output_type": "stream",
     "text": [
      "100%|██████████| 3563/3563 [00:35<00:00, 101.20it/s]\n"
     ]
    },
    {
     "metadata": {
      "tags": null
     },
     "name": "stdout",
     "output_type": "stream",
     "text": [
      "\n",
      "Current Mean loss Train Set:  0.20183891638456822\n",
      "\n",
      "Test with test set\n"
     ]
    },
    {
     "metadata": {
      "tags": null
     },
     "name": "stderr",
     "output_type": "stream",
     "text": [
      "100%|██████████| 396/396 [00:03<00:00, 99.87it/s]\n"
     ]
    },
    {
     "metadata": {
      "tags": null
     },
     "name": "stdout",
     "output_type": "stream",
     "text": [
      "\n",
      "Current Mean loss Test Set:  0.22240527333560015\n",
      "\n",
      "\n",
      "Epoch: 127 of 200\n",
      "Training...\n"
     ]
    },
    {
     "metadata": {
      "tags": null
     },
     "name": "stderr",
     "output_type": "stream",
     "text": [
      "100%|██████████| 3563/3563 [01:50<00:00, 32.35it/s]\n"
     ]
    },
    {
     "metadata": {
      "tags": null
     },
     "name": "stdout",
     "output_type": "stream",
     "text": [
      "\n",
      "Test with training set\n"
     ]
    },
    {
     "metadata": {
      "tags": null
     },
     "name": "stderr",
     "output_type": "stream",
     "text": [
      "100%|██████████| 3563/3563 [00:34<00:00, 103.46it/s]\n"
     ]
    },
    {
     "metadata": {
      "tags": null
     },
     "name": "stdout",
     "output_type": "stream",
     "text": [
      "\n",
      "Current Mean loss Train Set:  0.20055050993614776\n",
      "\n",
      "Test with test set\n"
     ]
    },
    {
     "metadata": {
      "tags": null
     },
     "name": "stderr",
     "output_type": "stream",
     "text": [
      "100%|██████████| 396/396 [00:03<00:00, 103.83it/s]\n"
     ]
    },
    {
     "metadata": {
      "tags": null
     },
     "name": "stdout",
     "output_type": "stream",
     "text": [
      "\n",
      "Current Mean loss Test Set:  0.22097796995681945\n",
      "\n",
      "\n",
      "Epoch: 128 of 200\n",
      "Training...\n"
     ]
    },
    {
     "metadata": {
      "tags": null
     },
     "name": "stderr",
     "output_type": "stream",
     "text": [
      "100%|██████████| 3563/3563 [01:48<00:00, 32.75it/s]\n"
     ]
    },
    {
     "metadata": {
      "tags": null
     },
     "name": "stdout",
     "output_type": "stream",
     "text": [
      "\n",
      "Test with training set\n"
     ]
    },
    {
     "metadata": {
      "tags": null
     },
     "name": "stderr",
     "output_type": "stream",
     "text": [
      "100%|██████████| 3563/3563 [00:35<00:00, 101.75it/s]\n"
     ]
    },
    {
     "metadata": {
      "tags": null
     },
     "name": "stdout",
     "output_type": "stream",
     "text": [
      "\n",
      "Current Mean loss Train Set:  0.2031873348653902\n",
      "\n",
      "Test with test set\n"
     ]
    },
    {
     "metadata": {
      "tags": null
     },
     "name": "stderr",
     "output_type": "stream",
     "text": [
      "100%|██████████| 396/396 [00:03<00:00, 102.42it/s]\n"
     ]
    },
    {
     "metadata": {
      "tags": null
     },
     "name": "stdout",
     "output_type": "stream",
     "text": [
      "\n",
      "Current Mean loss Test Set:  0.22373681910561793\n",
      "\n",
      "\n",
      "Epoch: 129 of 200\n",
      "Training...\n"
     ]
    },
    {
     "metadata": {
      "tags": null
     },
     "name": "stderr",
     "output_type": "stream",
     "text": [
      "100%|██████████| 3563/3563 [01:49<00:00, 32.57it/s]\n"
     ]
    },
    {
     "metadata": {
      "tags": null
     },
     "name": "stdout",
     "output_type": "stream",
     "text": [
      "\n",
      "Test with training set\n"
     ]
    },
    {
     "metadata": {
      "tags": null
     },
     "name": "stderr",
     "output_type": "stream",
     "text": [
      "100%|██████████| 3563/3563 [00:34<00:00, 102.46it/s]\n"
     ]
    },
    {
     "metadata": {
      "tags": null
     },
     "name": "stdout",
     "output_type": "stream",
     "text": [
      "\n",
      "Current Mean loss Train Set:  0.20015292379659044\n",
      "\n",
      "Test with test set\n"
     ]
    },
    {
     "metadata": {
      "tags": null
     },
     "name": "stderr",
     "output_type": "stream",
     "text": [
      "100%|██████████| 396/396 [00:03<00:00, 100.73it/s]\n"
     ]
    },
    {
     "metadata": {
      "tags": null
     },
     "name": "stdout",
     "output_type": "stream",
     "text": [
      "\n",
      "Current Mean loss Test Set:  0.22107633412110084\n",
      "\n",
      "\n",
      "Epoch: 130 of 200\n",
      "Training...\n"
     ]
    },
    {
     "metadata": {
      "tags": null
     },
     "name": "stderr",
     "output_type": "stream",
     "text": [
      "100%|██████████| 3563/3563 [01:50<00:00, 32.34it/s]\n"
     ]
    },
    {
     "metadata": {
      "tags": null
     },
     "name": "stdout",
     "output_type": "stream",
     "text": [
      "\n",
      "Test with training set\n"
     ]
    },
    {
     "metadata": {
      "tags": null
     },
     "name": "stderr",
     "output_type": "stream",
     "text": [
      "100%|██████████| 3563/3563 [00:35<00:00, 101.34it/s]\n"
     ]
    },
    {
     "metadata": {
      "tags": null
     },
     "name": "stdout",
     "output_type": "stream",
     "text": [
      "\n",
      "Current Mean loss Train Set:  0.20014317123333858\n",
      "\n",
      "Test with test set\n"
     ]
    },
    {
     "metadata": {
      "tags": null
     },
     "name": "stderr",
     "output_type": "stream",
     "text": [
      "100%|██████████| 396/396 [00:04<00:00, 98.91it/s]\n"
     ]
    },
    {
     "metadata": {
      "tags": null
     },
     "name": "stdout",
     "output_type": "stream",
     "text": [
      "\n",
      "Current Mean loss Test Set:  0.21974106708710844\n",
      "\n",
      "\n",
      "Epoch: 131 of 200\n",
      "Training...\n"
     ]
    },
    {
     "metadata": {
      "tags": null
     },
     "name": "stderr",
     "output_type": "stream",
     "text": [
      "100%|██████████| 3563/3563 [01:49<00:00, 32.39it/s]\n"
     ]
    },
    {
     "metadata": {
      "tags": null
     },
     "name": "stdout",
     "output_type": "stream",
     "text": [
      "\n",
      "Test with training set\n"
     ]
    },
    {
     "metadata": {
      "tags": null
     },
     "name": "stderr",
     "output_type": "stream",
     "text": [
      "100%|██████████| 3563/3563 [00:35<00:00, 101.24it/s]\n"
     ]
    },
    {
     "metadata": {
      "tags": null
     },
     "name": "stdout",
     "output_type": "stream",
     "text": [
      "\n",
      "Current Mean loss Train Set:  0.2049748982471962\n",
      "\n",
      "Test with test set\n"
     ]
    },
    {
     "metadata": {
      "tags": null
     },
     "name": "stderr",
     "output_type": "stream",
     "text": [
      "100%|██████████| 396/396 [00:03<00:00, 101.94it/s]\n"
     ]
    },
    {
     "metadata": {
      "tags": null
     },
     "name": "stdout",
     "output_type": "stream",
     "text": [
      "\n",
      "Current Mean loss Test Set:  0.22491761518999784\n",
      "\n",
      "\n",
      "Epoch: 132 of 200\n",
      "Training...\n"
     ]
    },
    {
     "metadata": {
      "tags": null
     },
     "name": "stderr",
     "output_type": "stream",
     "text": [
      "100%|██████████| 3563/3563 [01:51<00:00, 31.95it/s]\n"
     ]
    },
    {
     "metadata": {
      "tags": null
     },
     "name": "stdout",
     "output_type": "stream",
     "text": [
      "\n",
      "Test with training set\n"
     ]
    },
    {
     "metadata": {
      "tags": null
     },
     "name": "stderr",
     "output_type": "stream",
     "text": [
      "100%|██████████| 3563/3563 [00:35<00:00, 100.59it/s]\n"
     ]
    },
    {
     "metadata": {
      "tags": null
     },
     "name": "stdout",
     "output_type": "stream",
     "text": [
      "\n",
      "Current Mean loss Train Set:  0.20188419400616842\n",
      "\n",
      "Test with test set\n"
     ]
    },
    {
     "metadata": {
      "tags": null
     },
     "name": "stderr",
     "output_type": "stream",
     "text": [
      "100%|██████████| 396/396 [00:03<00:00, 101.66it/s]\n"
     ]
    },
    {
     "metadata": {
      "tags": null
     },
     "name": "stdout",
     "output_type": "stream",
     "text": [
      "\n",
      "Current Mean loss Test Set:  0.22235697536080173\n",
      "\n",
      "\n",
      "Epoch: 133 of 200\n",
      "Training...\n"
     ]
    },
    {
     "metadata": {
      "tags": null
     },
     "name": "stderr",
     "output_type": "stream",
     "text": [
      "100%|██████████| 3563/3563 [01:51<00:00, 32.09it/s]\n"
     ]
    },
    {
     "metadata": {
      "tags": null
     },
     "name": "stdout",
     "output_type": "stream",
     "text": [
      "\n",
      "Test with training set\n"
     ]
    },
    {
     "metadata": {
      "tags": null
     },
     "name": "stderr",
     "output_type": "stream",
     "text": [
      "100%|██████████| 3563/3563 [00:35<00:00, 100.66it/s]\n"
     ]
    },
    {
     "metadata": {
      "tags": null
     },
     "name": "stdout",
     "output_type": "stream",
     "text": [
      "\n",
      "Current Mean loss Train Set:  0.2007126067583393\n",
      "\n",
      "Test with test set\n"
     ]
    },
    {
     "metadata": {
      "tags": null
     },
     "name": "stderr",
     "output_type": "stream",
     "text": [
      "100%|██████████| 396/396 [00:03<00:00, 101.12it/s]\n"
     ]
    },
    {
     "metadata": {
      "tags": null
     },
     "name": "stdout",
     "output_type": "stream",
     "text": [
      "\n",
      "Current Mean loss Test Set:  0.22286218337037347\n",
      "\n",
      "\n",
      "Epoch: 134 of 200\n",
      "Training...\n"
     ]
    },
    {
     "metadata": {
      "tags": null
     },
     "name": "stderr",
     "output_type": "stream",
     "text": [
      "100%|██████████| 3563/3563 [01:50<00:00, 32.23it/s]\n"
     ]
    },
    {
     "metadata": {
      "tags": null
     },
     "name": "stdout",
     "output_type": "stream",
     "text": [
      "\n",
      "Test with training set\n"
     ]
    },
    {
     "metadata": {
      "tags": null
     },
     "name": "stderr",
     "output_type": "stream",
     "text": [
      "100%|██████████| 3563/3563 [00:35<00:00, 100.96it/s]\n"
     ]
    },
    {
     "metadata": {
      "tags": null
     },
     "name": "stdout",
     "output_type": "stream",
     "text": [
      "\n",
      "Current Mean loss Train Set:  0.20285628392242697\n",
      "\n",
      "Test with test set\n"
     ]
    },
    {
     "metadata": {
      "tags": null
     },
     "name": "stderr",
     "output_type": "stream",
     "text": [
      "100%|██████████| 396/396 [00:03<00:00, 103.16it/s]\n"
     ]
    },
    {
     "metadata": {
      "tags": null
     },
     "name": "stdout",
     "output_type": "stream",
     "text": [
      "\n",
      "Current Mean loss Test Set:  0.22479776669331272\n",
      "\n",
      "\n",
      "Epoch: 135 of 200\n",
      "Training...\n"
     ]
    },
    {
     "metadata": {
      "tags": null
     },
     "name": "stderr",
     "output_type": "stream",
     "text": [
      "100%|██████████| 3563/3563 [01:50<00:00, 32.30it/s]\n"
     ]
    },
    {
     "metadata": {
      "tags": null
     },
     "name": "stdout",
     "output_type": "stream",
     "text": [
      "\n",
      "Test with training set\n"
     ]
    },
    {
     "metadata": {
      "tags": null
     },
     "name": "stderr",
     "output_type": "stream",
     "text": [
      "100%|██████████| 3563/3563 [00:34<00:00, 102.75it/s]\n"
     ]
    },
    {
     "metadata": {
      "tags": null
     },
     "name": "stdout",
     "output_type": "stream",
     "text": [
      "\n",
      "Current Mean loss Train Set:  0.19971885273471965\n",
      "\n",
      "Test with test set\n"
     ]
    },
    {
     "metadata": {
      "tags": null
     },
     "name": "stderr",
     "output_type": "stream",
     "text": [
      "100%|██████████| 396/396 [00:03<00:00, 103.98it/s]\n"
     ]
    },
    {
     "metadata": {
      "tags": null
     },
     "name": "stdout",
     "output_type": "stream",
     "text": [
      "\n",
      "Current Mean loss Test Set:  0.22283890111503576\n",
      "\n",
      "\n",
      "Epoch: 136 of 200\n",
      "Training...\n"
     ]
    },
    {
     "metadata": {
      "tags": null
     },
     "name": "stderr",
     "output_type": "stream",
     "text": [
      "100%|██████████| 3563/3563 [01:48<00:00, 32.80it/s]\n"
     ]
    },
    {
     "metadata": {
      "tags": null
     },
     "name": "stdout",
     "output_type": "stream",
     "text": [
      "\n",
      "Test with training set\n"
     ]
    },
    {
     "metadata": {
      "tags": null
     },
     "name": "stderr",
     "output_type": "stream",
     "text": [
      "100%|██████████| 3563/3563 [00:34<00:00, 102.85it/s]\n"
     ]
    },
    {
     "metadata": {
      "tags": null
     },
     "name": "stdout",
     "output_type": "stream",
     "text": [
      "\n",
      "Current Mean loss Train Set:  0.1993683355262097\n",
      "\n",
      "Test with test set\n"
     ]
    },
    {
     "metadata": {
      "tags": null
     },
     "name": "stderr",
     "output_type": "stream",
     "text": [
      "100%|██████████| 396/396 [00:03<00:00, 101.58it/s]\n"
     ]
    },
    {
     "metadata": {
      "tags": null
     },
     "name": "stdout",
     "output_type": "stream",
     "text": [
      "\n",
      "Current Mean loss Test Set:  0.2235223458647126\n",
      "\n",
      "\n",
      "Epoch: 137 of 200\n",
      "Training...\n"
     ]
    },
    {
     "metadata": {
      "tags": null
     },
     "name": "stderr",
     "output_type": "stream",
     "text": [
      "100%|██████████| 3563/3563 [01:48<00:00, 32.82it/s]\n"
     ]
    },
    {
     "metadata": {
      "tags": null
     },
     "name": "stdout",
     "output_type": "stream",
     "text": [
      "\n",
      "Test with training set\n"
     ]
    },
    {
     "metadata": {
      "tags": null
     },
     "name": "stderr",
     "output_type": "stream",
     "text": [
      "100%|██████████| 3563/3563 [00:34<00:00, 102.06it/s]\n"
     ]
    },
    {
     "metadata": {
      "tags": null
     },
     "name": "stdout",
     "output_type": "stream",
     "text": [
      "\n",
      "Current Mean loss Train Set:  0.20186444988603375\n",
      "\n",
      "Test with test set\n"
     ]
    },
    {
     "metadata": {
      "tags": null
     },
     "name": "stderr",
     "output_type": "stream",
     "text": [
      "100%|██████████| 396/396 [00:03<00:00, 102.56it/s]\n"
     ]
    },
    {
     "metadata": {
      "tags": null
     },
     "name": "stdout",
     "output_type": "stream",
     "text": [
      "\n",
      "Current Mean loss Test Set:  0.22558271636565527\n",
      "\n",
      "\n",
      "Epoch: 138 of 200\n",
      "Training...\n"
     ]
    },
    {
     "metadata": {
      "tags": null
     },
     "name": "stderr",
     "output_type": "stream",
     "text": [
      "100%|██████████| 3563/3563 [01:48<00:00, 32.87it/s]\n"
     ]
    },
    {
     "metadata": {
      "tags": null
     },
     "name": "stdout",
     "output_type": "stream",
     "text": [
      "\n",
      "Test with training set\n"
     ]
    },
    {
     "metadata": {
      "tags": null
     },
     "name": "stderr",
     "output_type": "stream",
     "text": [
      "100%|██████████| 3563/3563 [00:34<00:00, 102.87it/s]\n"
     ]
    },
    {
     "metadata": {
      "tags": null
     },
     "name": "stdout",
     "output_type": "stream",
     "text": [
      "\n",
      "Current Mean loss Train Set:  0.19988767631245302\n",
      "\n",
      "Test with test set\n"
     ]
    },
    {
     "metadata": {
      "tags": null
     },
     "name": "stderr",
     "output_type": "stream",
     "text": [
      "100%|██████████| 396/396 [00:03<00:00, 101.95it/s]\n"
     ]
    },
    {
     "metadata": {
      "tags": null
     },
     "name": "stdout",
     "output_type": "stream",
     "text": [
      "\n",
      "Current Mean loss Test Set:  0.22061891372155662\n",
      "\n",
      "\n",
      "Epoch: 139 of 200\n",
      "Training...\n"
     ]
    },
    {
     "metadata": {
      "tags": null
     },
     "name": "stderr",
     "output_type": "stream",
     "text": [
      "100%|██████████| 3563/3563 [01:48<00:00, 32.75it/s]\n"
     ]
    },
    {
     "metadata": {
      "tags": null
     },
     "name": "stdout",
     "output_type": "stream",
     "text": [
      "\n",
      "Test with training set\n"
     ]
    },
    {
     "metadata": {
      "tags": null
     },
     "name": "stderr",
     "output_type": "stream",
     "text": [
      "100%|██████████| 3563/3563 [00:34<00:00, 102.53it/s]\n"
     ]
    },
    {
     "metadata": {
      "tags": null
     },
     "name": "stdout",
     "output_type": "stream",
     "text": [
      "\n",
      "Current Mean loss Train Set:  0.19947107906400774\n",
      "\n",
      "Test with test set\n"
     ]
    },
    {
     "metadata": {
      "tags": null
     },
     "name": "stderr",
     "output_type": "stream",
     "text": [
      "100%|██████████| 396/396 [00:03<00:00, 102.30it/s]\n"
     ]
    },
    {
     "metadata": {
      "tags": null
     },
     "name": "stdout",
     "output_type": "stream",
     "text": [
      "\n",
      "Current Mean loss Test Set:  0.22173823241257307\n",
      "\n",
      "\n",
      "Epoch: 140 of 200\n",
      "Training...\n"
     ]
    },
    {
     "metadata": {
      "tags": null
     },
     "name": "stderr",
     "output_type": "stream",
     "text": [
      "100%|██████████| 3563/3563 [01:48<00:00, 32.69it/s]\n"
     ]
    },
    {
     "metadata": {
      "tags": null
     },
     "name": "stdout",
     "output_type": "stream",
     "text": [
      "\n",
      "Test with training set\n"
     ]
    },
    {
     "metadata": {
      "tags": null
     },
     "name": "stderr",
     "output_type": "stream",
     "text": [
      "100%|██████████| 3563/3563 [00:34<00:00, 101.82it/s]\n"
     ]
    },
    {
     "metadata": {
      "tags": null
     },
     "name": "stdout",
     "output_type": "stream",
     "text": [
      "\n",
      "Current Mean loss Train Set:  0.19814824592295974\n",
      "\n",
      "Test with test set\n"
     ]
    },
    {
     "metadata": {
      "tags": null
     },
     "name": "stderr",
     "output_type": "stream",
     "text": [
      "100%|██████████| 396/396 [00:03<00:00, 100.23it/s]\n"
     ]
    },
    {
     "metadata": {
      "tags": null
     },
     "name": "stdout",
     "output_type": "stream",
     "text": [
      "\n",
      "Current Mean loss Test Set:  0.2197613479625998\n",
      "\n",
      "\n",
      "Epoch: 141 of 200\n",
      "Training...\n"
     ]
    },
    {
     "metadata": {
      "tags": null
     },
     "name": "stderr",
     "output_type": "stream",
     "text": [
      "100%|██████████| 3563/3563 [01:50<00:00, 32.15it/s]\n"
     ]
    },
    {
     "metadata": {
      "tags": null
     },
     "name": "stdout",
     "output_type": "stream",
     "text": [
      "\n",
      "Test with training set\n"
     ]
    },
    {
     "metadata": {
      "tags": null
     },
     "name": "stderr",
     "output_type": "stream",
     "text": [
      "100%|██████████| 3563/3563 [00:35<00:00, 100.97it/s]\n"
     ]
    },
    {
     "metadata": {
      "tags": null
     },
     "name": "stdout",
     "output_type": "stream",
     "text": [
      "\n",
      "Current Mean loss Train Set:  0.19880343043516432\n",
      "\n",
      "Test with test set\n"
     ]
    },
    {
     "metadata": {
      "tags": null
     },
     "name": "stderr",
     "output_type": "stream",
     "text": [
      "100%|██████████| 396/396 [00:03<00:00, 100.71it/s]\n"
     ]
    },
    {
     "metadata": {
      "tags": null
     },
     "name": "stdout",
     "output_type": "stream",
     "text": [
      "\n",
      "Current Mean loss Test Set:  0.22121290288715048\n",
      "\n",
      "\n",
      "Epoch: 142 of 200\n",
      "Training...\n"
     ]
    },
    {
     "metadata": {
      "tags": null
     },
     "name": "stderr",
     "output_type": "stream",
     "text": [
      "100%|██████████| 3563/3563 [01:50<00:00, 32.26it/s]\n"
     ]
    },
    {
     "metadata": {
      "tags": null
     },
     "name": "stdout",
     "output_type": "stream",
     "text": [
      "\n",
      "Test with training set\n"
     ]
    },
    {
     "metadata": {
      "tags": null
     },
     "name": "stderr",
     "output_type": "stream",
     "text": [
      "100%|██████████| 3563/3563 [00:35<00:00, 101.25it/s]\n"
     ]
    },
    {
     "metadata": {
      "tags": null
     },
     "name": "stdout",
     "output_type": "stream",
     "text": [
      "\n",
      "Current Mean loss Train Set:  0.19911570821732175\n",
      "\n",
      "Test with test set\n"
     ]
    },
    {
     "metadata": {
      "tags": null
     },
     "name": "stderr",
     "output_type": "stream",
     "text": [
      "100%|██████████| 396/396 [00:03<00:00, 100.84it/s]\n"
     ]
    },
    {
     "metadata": {
      "tags": null
     },
     "name": "stdout",
     "output_type": "stream",
     "text": [
      "\n",
      "Current Mean loss Test Set:  0.2191225267909091\n",
      "\n",
      "\n",
      "Epoch: 143 of 200\n",
      "Training...\n"
     ]
    },
    {
     "metadata": {
      "tags": null
     },
     "name": "stderr",
     "output_type": "stream",
     "text": [
      "100%|██████████| 3563/3563 [01:51<00:00, 31.95it/s]\n"
     ]
    },
    {
     "metadata": {
      "tags": null
     },
     "name": "stdout",
     "output_type": "stream",
     "text": [
      "\n",
      "Test with training set\n"
     ]
    },
    {
     "metadata": {
      "tags": null
     },
     "name": "stderr",
     "output_type": "stream",
     "text": [
      "100%|██████████| 3563/3563 [00:36<00:00, 97.54it/s] \n"
     ]
    },
    {
     "metadata": {
      "tags": null
     },
     "name": "stdout",
     "output_type": "stream",
     "text": [
      "\n",
      "Current Mean loss Train Set:  0.19986068806787438\n",
      "\n",
      "Test with test set\n"
     ]
    },
    {
     "metadata": {
      "tags": null
     },
     "name": "stderr",
     "output_type": "stream",
     "text": [
      "100%|██████████| 396/396 [00:03<00:00, 99.51it/s] \n"
     ]
    },
    {
     "metadata": {
      "tags": null
     },
     "name": "stdout",
     "output_type": "stream",
     "text": [
      "\n",
      "Current Mean loss Test Set:  0.22164122017119267\n",
      "\n",
      "\n",
      "Epoch: 144 of 200\n",
      "Training...\n"
     ]
    },
    {
     "metadata": {
      "tags": null
     },
     "name": "stderr",
     "output_type": "stream",
     "text": [
      "100%|██████████| 3563/3563 [01:51<00:00, 31.99it/s]\n"
     ]
    },
    {
     "metadata": {
      "tags": null
     },
     "name": "stdout",
     "output_type": "stream",
     "text": [
      "\n",
      "Test with training set\n"
     ]
    },
    {
     "metadata": {
      "tags": null
     },
     "name": "stderr",
     "output_type": "stream",
     "text": [
      "100%|██████████| 3563/3563 [00:35<00:00, 101.65it/s]\n"
     ]
    },
    {
     "metadata": {
      "tags": null
     },
     "name": "stdout",
     "output_type": "stream",
     "text": [
      "\n",
      "Current Mean loss Train Set:  0.19852912974698872\n",
      "\n",
      "Test with test set\n"
     ]
    },
    {
     "metadata": {
      "tags": null
     },
     "name": "stderr",
     "output_type": "stream",
     "text": [
      "100%|██████████| 396/396 [00:03<00:00, 102.13it/s]\n"
     ]
    },
    {
     "metadata": {
      "tags": null
     },
     "name": "stdout",
     "output_type": "stream",
     "text": [
      "\n",
      "Current Mean loss Test Set:  0.2200284952655284\n",
      "\n",
      "\n",
      "Epoch: 145 of 200\n",
      "Training...\n"
     ]
    },
    {
     "metadata": {
      "tags": null
     },
     "name": "stderr",
     "output_type": "stream",
     "text": [
      "100%|██████████| 3563/3563 [01:49<00:00, 32.41it/s]\n"
     ]
    },
    {
     "metadata": {
      "tags": null
     },
     "name": "stdout",
     "output_type": "stream",
     "text": [
      "\n",
      "Test with training set\n"
     ]
    },
    {
     "metadata": {
      "tags": null
     },
     "name": "stderr",
     "output_type": "stream",
     "text": [
      "100%|██████████| 3563/3563 [00:35<00:00, 101.45it/s]\n"
     ]
    },
    {
     "metadata": {
      "tags": null
     },
     "name": "stdout",
     "output_type": "stream",
     "text": [
      "\n",
      "Current Mean loss Train Set:  0.1982705744337306\n",
      "\n",
      "Test with test set\n"
     ]
    },
    {
     "metadata": {
      "tags": null
     },
     "name": "stderr",
     "output_type": "stream",
     "text": [
      "100%|██████████| 396/396 [00:03<00:00, 101.43it/s]\n"
     ]
    },
    {
     "metadata": {
      "tags": null
     },
     "name": "stdout",
     "output_type": "stream",
     "text": [
      "\n",
      "Current Mean loss Test Set:  0.22270836799659513\n",
      "\n",
      "\n",
      "Epoch: 146 of 200\n",
      "Training...\n"
     ]
    },
    {
     "metadata": {
      "tags": null
     },
     "name": "stderr",
     "output_type": "stream",
     "text": [
      "100%|██████████| 3563/3563 [01:49<00:00, 32.45it/s]\n"
     ]
    },
    {
     "metadata": {
      "tags": null
     },
     "name": "stdout",
     "output_type": "stream",
     "text": [
      "\n",
      "Test with training set\n"
     ]
    },
    {
     "metadata": {
      "tags": null
     },
     "name": "stderr",
     "output_type": "stream",
     "text": [
      "100%|██████████| 3563/3563 [00:34<00:00, 102.56it/s]\n"
     ]
    },
    {
     "metadata": {
      "tags": null
     },
     "name": "stdout",
     "output_type": "stream",
     "text": [
      "\n",
      "Current Mean loss Train Set:  0.19848536994645946\n",
      "\n",
      "Test with test set\n"
     ]
    },
    {
     "metadata": {
      "tags": null
     },
     "name": "stderr",
     "output_type": "stream",
     "text": [
      "100%|██████████| 396/396 [00:03<00:00, 103.00it/s]\n"
     ]
    },
    {
     "metadata": {
      "tags": null
     },
     "name": "stdout",
     "output_type": "stream",
     "text": [
      "\n",
      "Current Mean loss Test Set:  0.22352244260937276\n",
      "\n",
      "\n",
      "Epoch: 147 of 200\n",
      "Training...\n"
     ]
    },
    {
     "metadata": {
      "tags": null
     },
     "name": "stderr",
     "output_type": "stream",
     "text": [
      "100%|██████████| 3563/3563 [01:49<00:00, 32.50it/s]\n"
     ]
    },
    {
     "metadata": {
      "tags": null
     },
     "name": "stdout",
     "output_type": "stream",
     "text": [
      "\n",
      "Test with training set\n"
     ]
    },
    {
     "metadata": {
      "tags": null
     },
     "name": "stderr",
     "output_type": "stream",
     "text": [
      "100%|██████████| 3563/3563 [00:34<00:00, 103.70it/s]\n"
     ]
    },
    {
     "metadata": {
      "tags": null
     },
     "name": "stdout",
     "output_type": "stream",
     "text": [
      "\n",
      "Current Mean loss Train Set:  0.19779715637477502\n",
      "\n",
      "Test with test set\n"
     ]
    },
    {
     "metadata": {
      "tags": null
     },
     "name": "stderr",
     "output_type": "stream",
     "text": [
      "100%|██████████| 396/396 [00:03<00:00, 103.66it/s]\n"
     ]
    },
    {
     "metadata": {
      "tags": null
     },
     "name": "stdout",
     "output_type": "stream",
     "text": [
      "\n",
      "Current Mean loss Test Set:  0.2224315894071502\n",
      "\n",
      "\n",
      "Epoch: 148 of 200\n",
      "Training...\n"
     ]
    },
    {
     "metadata": {
      "tags": null
     },
     "name": "stderr",
     "output_type": "stream",
     "text": [
      "100%|██████████| 3563/3563 [01:48<00:00, 32.85it/s]\n"
     ]
    },
    {
     "metadata": {
      "tags": null
     },
     "name": "stdout",
     "output_type": "stream",
     "text": [
      "\n",
      "Test with training set\n"
     ]
    },
    {
     "metadata": {
      "tags": null
     },
     "name": "stderr",
     "output_type": "stream",
     "text": [
      "100%|██████████| 3563/3563 [00:34<00:00, 103.53it/s]\n"
     ]
    },
    {
     "metadata": {
      "tags": null
     },
     "name": "stdout",
     "output_type": "stream",
     "text": [
      "\n",
      "Current Mean loss Train Set:  0.19851131475426795\n",
      "\n",
      "Test with test set\n"
     ]
    },
    {
     "metadata": {
      "tags": null
     },
     "name": "stderr",
     "output_type": "stream",
     "text": [
      "100%|██████████| 396/396 [00:03<00:00, 100.81it/s]\n"
     ]
    },
    {
     "metadata": {
      "tags": null
     },
     "name": "stdout",
     "output_type": "stream",
     "text": [
      "\n",
      "Current Mean loss Test Set:  0.22212356191617671\n",
      "\n",
      "\n",
      "Epoch: 149 of 200\n",
      "Training...\n"
     ]
    },
    {
     "metadata": {
      "tags": null
     },
     "name": "stderr",
     "output_type": "stream",
     "text": [
      "100%|██████████| 3563/3563 [01:50<00:00, 32.26it/s]\n"
     ]
    },
    {
     "metadata": {
      "tags": null
     },
     "name": "stdout",
     "output_type": "stream",
     "text": [
      "\n",
      "Test with training set\n"
     ]
    },
    {
     "metadata": {
      "tags": null
     },
     "name": "stderr",
     "output_type": "stream",
     "text": [
      "100%|██████████| 3563/3563 [00:35<00:00, 100.66it/s]\n"
     ]
    },
    {
     "metadata": {
      "tags": null
     },
     "name": "stdout",
     "output_type": "stream",
     "text": [
      "\n",
      "Current Mean loss Train Set:  0.19899619707365634\n",
      "\n",
      "Test with test set\n"
     ]
    },
    {
     "metadata": {
      "tags": null
     },
     "name": "stderr",
     "output_type": "stream",
     "text": [
      "100%|██████████| 396/396 [00:03<00:00, 101.87it/s]\n"
     ]
    },
    {
     "metadata": {
      "tags": null
     },
     "name": "stdout",
     "output_type": "stream",
     "text": [
      "\n",
      "Current Mean loss Test Set:  0.2213557262086507\n",
      "\n",
      "\n",
      "Epoch: 150 of 200\n",
      "Training...\n"
     ]
    },
    {
     "metadata": {
      "tags": null
     },
     "name": "stderr",
     "output_type": "stream",
     "text": [
      "100%|██████████| 3563/3563 [01:49<00:00, 32.50it/s]\n"
     ]
    },
    {
     "metadata": {
      "tags": null
     },
     "name": "stdout",
     "output_type": "stream",
     "text": [
      "\n",
      "Test with training set\n"
     ]
    },
    {
     "metadata": {
      "tags": null
     },
     "name": "stderr",
     "output_type": "stream",
     "text": [
      "100%|██████████| 3563/3563 [00:35<00:00, 101.63it/s]\n"
     ]
    },
    {
     "metadata": {
      "tags": null
     },
     "name": "stdout",
     "output_type": "stream",
     "text": [
      "\n",
      "Current Mean loss Train Set:  0.19684159208257446\n",
      "\n",
      "Test with test set\n"
     ]
    },
    {
     "metadata": {
      "tags": null
     },
     "name": "stderr",
     "output_type": "stream",
     "text": [
      "100%|██████████| 396/396 [00:03<00:00, 101.99it/s]\n"
     ]
    },
    {
     "metadata": {
      "tags": null
     },
     "name": "stdout",
     "output_type": "stream",
     "text": [
      "\n",
      "Current Mean loss Test Set:  0.21825807665785155\n",
      "\n",
      "\n",
      "Epoch: 151 of 200\n",
      "Training...\n"
     ]
    },
    {
     "metadata": {
      "tags": null
     },
     "name": "stderr",
     "output_type": "stream",
     "text": [
      "100%|██████████| 3563/3563 [01:49<00:00, 32.42it/s]\n"
     ]
    },
    {
     "metadata": {
      "tags": null
     },
     "name": "stdout",
     "output_type": "stream",
     "text": [
      "\n",
      "Test with training set\n"
     ]
    },
    {
     "metadata": {
      "tags": null
     },
     "name": "stderr",
     "output_type": "stream",
     "text": [
      "100%|██████████| 3563/3563 [00:34<00:00, 102.22it/s]\n"
     ]
    },
    {
     "metadata": {
      "tags": null
     },
     "name": "stdout",
     "output_type": "stream",
     "text": [
      "\n",
      "Current Mean loss Train Set:  0.19874981495308935\n",
      "\n",
      "Test with test set\n"
     ]
    },
    {
     "metadata": {
      "tags": null
     },
     "name": "stderr",
     "output_type": "stream",
     "text": [
      "100%|██████████| 396/396 [00:03<00:00, 102.21it/s]\n"
     ]
    },
    {
     "metadata": {
      "tags": null
     },
     "name": "stdout",
     "output_type": "stream",
     "text": [
      "\n",
      "Current Mean loss Test Set:  0.21913185521885\n",
      "\n",
      "\n",
      "Epoch: 152 of 200\n",
      "Training...\n"
     ]
    },
    {
     "metadata": {
      "tags": null
     },
     "name": "stderr",
     "output_type": "stream",
     "text": [
      "100%|██████████| 3563/3563 [01:48<00:00, 32.90it/s]\n"
     ]
    },
    {
     "metadata": {
      "tags": null
     },
     "name": "stdout",
     "output_type": "stream",
     "text": [
      "\n",
      "Test with training set\n"
     ]
    },
    {
     "metadata": {
      "tags": null
     },
     "name": "stderr",
     "output_type": "stream",
     "text": [
      "100%|██████████| 3563/3563 [00:34<00:00, 102.71it/s]\n"
     ]
    },
    {
     "metadata": {
      "tags": null
     },
     "name": "stdout",
     "output_type": "stream",
     "text": [
      "\n",
      "Current Mean loss Train Set:  0.19873353639220775\n",
      "\n",
      "Test with test set\n"
     ]
    },
    {
     "metadata": {
      "tags": null
     },
     "name": "stderr",
     "output_type": "stream",
     "text": [
      "100%|██████████| 396/396 [00:03<00:00, 101.90it/s]\n"
     ]
    },
    {
     "metadata": {
      "tags": null
     },
     "name": "stdout",
     "output_type": "stream",
     "text": [
      "\n",
      "Current Mean loss Test Set:  0.22312321387833417\n",
      "\n",
      "\n",
      "Epoch: 153 of 200\n",
      "Training...\n"
     ]
    },
    {
     "metadata": {
      "tags": null
     },
     "name": "stderr",
     "output_type": "stream",
     "text": [
      "100%|██████████| 3563/3563 [01:49<00:00, 32.65it/s]\n"
     ]
    },
    {
     "metadata": {
      "tags": null
     },
     "name": "stdout",
     "output_type": "stream",
     "text": [
      "\n",
      "Test with training set\n"
     ]
    },
    {
     "metadata": {
      "tags": null
     },
     "name": "stderr",
     "output_type": "stream",
     "text": [
      "100%|██████████| 3563/3563 [00:34<00:00, 102.95it/s]\n"
     ]
    },
    {
     "metadata": {
      "tags": null
     },
     "name": "stdout",
     "output_type": "stream",
     "text": [
      "\n",
      "Current Mean loss Train Set:  0.19771442812855178\n",
      "\n",
      "Test with test set\n"
     ]
    },
    {
     "metadata": {
      "tags": null
     },
     "name": "stderr",
     "output_type": "stream",
     "text": [
      "100%|██████████| 396/396 [00:03<00:00, 102.85it/s]\n"
     ]
    },
    {
     "metadata": {
      "tags": null
     },
     "name": "stdout",
     "output_type": "stream",
     "text": [
      "\n",
      "Current Mean loss Test Set:  0.22170990009350006\n",
      "\n",
      "\n",
      "Epoch: 154 of 200\n",
      "Training...\n"
     ]
    },
    {
     "metadata": {
      "tags": null
     },
     "name": "stderr",
     "output_type": "stream",
     "text": [
      "100%|██████████| 3563/3563 [01:51<00:00, 32.06it/s]\n"
     ]
    },
    {
     "metadata": {
      "tags": null
     },
     "name": "stdout",
     "output_type": "stream",
     "text": [
      "\n",
      "Test with training set\n"
     ]
    },
    {
     "metadata": {
      "tags": null
     },
     "name": "stderr",
     "output_type": "stream",
     "text": [
      "100%|██████████| 3563/3563 [00:34<00:00, 101.98it/s]\n"
     ]
    },
    {
     "metadata": {
      "tags": null
     },
     "name": "stdout",
     "output_type": "stream",
     "text": [
      "\n",
      "Current Mean loss Train Set:  0.19688386833721286\n",
      "\n",
      "Test with test set\n"
     ]
    },
    {
     "metadata": {
      "tags": null
     },
     "name": "stderr",
     "output_type": "stream",
     "text": [
      "100%|██████████| 396/396 [00:03<00:00, 100.41it/s]\n"
     ]
    },
    {
     "metadata": {
      "tags": null
     },
     "name": "stdout",
     "output_type": "stream",
     "text": [
      "\n",
      "Current Mean loss Test Set:  0.2207087038668117\n",
      "\n",
      "\n",
      "Epoch: 155 of 200\n",
      "Training...\n"
     ]
    },
    {
     "metadata": {
      "tags": null
     },
     "name": "stderr",
     "output_type": "stream",
     "text": [
      "100%|██████████| 3563/3563 [01:51<00:00, 32.04it/s]\n"
     ]
    },
    {
     "metadata": {
      "tags": null
     },
     "name": "stdout",
     "output_type": "stream",
     "text": [
      "\n",
      "Test with training set\n"
     ]
    },
    {
     "metadata": {
      "tags": null
     },
     "name": "stderr",
     "output_type": "stream",
     "text": [
      "100%|██████████| 3563/3563 [00:36<00:00, 98.71it/s]\n"
     ]
    },
    {
     "metadata": {
      "tags": null
     },
     "name": "stdout",
     "output_type": "stream",
     "text": [
      "\n",
      "Current Mean loss Train Set:  0.19729224240724672\n",
      "\n",
      "Test with test set\n"
     ]
    },
    {
     "metadata": {
      "tags": null
     },
     "name": "stderr",
     "output_type": "stream",
     "text": [
      "100%|██████████| 396/396 [00:03<00:00, 99.02it/s]\n"
     ]
    },
    {
     "metadata": {
      "tags": null
     },
     "name": "stdout",
     "output_type": "stream",
     "text": [
      "\n",
      "Current Mean loss Test Set:  0.22167263323008413\n",
      "\n",
      "\n",
      "Epoch: 156 of 200\n",
      "Training...\n"
     ]
    },
    {
     "metadata": {
      "tags": null
     },
     "name": "stderr",
     "output_type": "stream",
     "text": [
      "100%|██████████| 3563/3563 [01:52<00:00, 31.65it/s]\n"
     ]
    },
    {
     "metadata": {
      "tags": null
     },
     "name": "stdout",
     "output_type": "stream",
     "text": [
      "\n",
      "Test with training set\n"
     ]
    },
    {
     "metadata": {
      "tags": null
     },
     "name": "stderr",
     "output_type": "stream",
     "text": [
      "100%|██████████| 3563/3563 [00:35<00:00, 100.40it/s]\n"
     ]
    },
    {
     "metadata": {
      "tags": null
     },
     "name": "stdout",
     "output_type": "stream",
     "text": [
      "\n",
      "Current Mean loss Train Set:  0.19758361735865537\n",
      "\n",
      "Test with test set\n"
     ]
    },
    {
     "metadata": {
      "tags": null
     },
     "name": "stderr",
     "output_type": "stream",
     "text": [
      "100%|██████████| 396/396 [00:03<00:00, 99.92it/s]\n"
     ]
    },
    {
     "metadata": {
      "tags": null
     },
     "name": "stdout",
     "output_type": "stream",
     "text": [
      "\n",
      "Current Mean loss Test Set:  0.22391648980026896\n",
      "\n",
      "\n",
      "Epoch: 157 of 200\n",
      "Training...\n"
     ]
    },
    {
     "metadata": {
      "tags": null
     },
     "name": "stderr",
     "output_type": "stream",
     "text": [
      "100%|██████████| 3563/3563 [01:52<00:00, 31.74it/s]\n"
     ]
    },
    {
     "metadata": {
      "tags": null
     },
     "name": "stdout",
     "output_type": "stream",
     "text": [
      "\n",
      "Test with training set\n"
     ]
    },
    {
     "metadata": {
      "tags": null
     },
     "name": "stderr",
     "output_type": "stream",
     "text": [
      "100%|██████████| 3563/3563 [00:36<00:00, 98.91it/s] \n"
     ]
    },
    {
     "metadata": {
      "tags": null
     },
     "name": "stdout",
     "output_type": "stream",
     "text": [
      "\n",
      "Current Mean loss Train Set:  0.19611750242626805\n",
      "\n",
      "Test with test set\n"
     ]
    },
    {
     "metadata": {
      "tags": null
     },
     "name": "stderr",
     "output_type": "stream",
     "text": [
      "100%|██████████| 396/396 [00:03<00:00, 99.29it/s] \n"
     ]
    },
    {
     "metadata": {
      "tags": null
     },
     "name": "stdout",
     "output_type": "stream",
     "text": [
      "\n",
      "Current Mean loss Test Set:  0.22121684650203796\n",
      "\n",
      "\n",
      "Epoch: 158 of 200\n",
      "Training...\n"
     ]
    },
    {
     "metadata": {
      "tags": null
     },
     "name": "stderr",
     "output_type": "stream",
     "text": [
      "100%|██████████| 3563/3563 [01:53<00:00, 31.45it/s]\n"
     ]
    },
    {
     "metadata": {
      "tags": null
     },
     "name": "stdout",
     "output_type": "stream",
     "text": [
      "\n",
      "Test with training set\n"
     ]
    },
    {
     "metadata": {
      "tags": null
     },
     "name": "stderr",
     "output_type": "stream",
     "text": [
      "100%|██████████| 3563/3563 [00:36<00:00, 97.45it/s]\n"
     ]
    },
    {
     "metadata": {
      "tags": null
     },
     "name": "stdout",
     "output_type": "stream",
     "text": [
      "\n",
      "Current Mean loss Train Set:  0.19632822411919523\n",
      "\n",
      "Test with test set\n"
     ]
    },
    {
     "metadata": {
      "tags": null
     },
     "name": "stderr",
     "output_type": "stream",
     "text": [
      "100%|██████████| 396/396 [00:04<00:00, 96.58it/s]\n"
     ]
    },
    {
     "metadata": {
      "tags": null
     },
     "name": "stdout",
     "output_type": "stream",
     "text": [
      "\n",
      "Current Mean loss Test Set:  0.22362499830849242\n",
      "\n",
      "\n",
      "Epoch: 159 of 200\n",
      "Training...\n"
     ]
    },
    {
     "metadata": {
      "tags": null
     },
     "name": "stderr",
     "output_type": "stream",
     "text": [
      "100%|██████████| 3563/3563 [01:55<00:00, 30.92it/s]\n"
     ]
    },
    {
     "metadata": {
      "tags": null
     },
     "name": "stdout",
     "output_type": "stream",
     "text": [
      "\n",
      "Test with training set\n"
     ]
    },
    {
     "metadata": {
      "tags": null
     },
     "name": "stderr",
     "output_type": "stream",
     "text": [
      "100%|██████████| 3563/3563 [00:36<00:00, 97.03it/s] \n"
     ]
    },
    {
     "metadata": {
      "tags": null
     },
     "name": "stdout",
     "output_type": "stream",
     "text": [
      "\n",
      "Current Mean loss Train Set:  0.19769497094045954\n",
      "\n",
      "Test with test set\n"
     ]
    },
    {
     "metadata": {
      "tags": null
     },
     "name": "stderr",
     "output_type": "stream",
     "text": [
      "100%|██████████| 396/396 [00:04<00:00, 97.29it/s]\n"
     ]
    },
    {
     "metadata": {
      "tags": null
     },
     "name": "stdout",
     "output_type": "stream",
     "text": [
      "\n",
      "Current Mean loss Test Set:  0.22330437103907266\n",
      "\n",
      "\n",
      "Epoch: 160 of 200\n",
      "Training...\n"
     ]
    },
    {
     "metadata": {
      "tags": null
     },
     "name": "stderr",
     "output_type": "stream",
     "text": [
      "100%|██████████| 3563/3563 [01:55<00:00, 30.89it/s]\n"
     ]
    },
    {
     "metadata": {
      "tags": null
     },
     "name": "stdout",
     "output_type": "stream",
     "text": [
      "\n",
      "Test with training set\n"
     ]
    },
    {
     "metadata": {
      "tags": null
     },
     "name": "stderr",
     "output_type": "stream",
     "text": [
      "100%|██████████| 3563/3563 [00:35<00:00, 99.86it/s]\n"
     ]
    },
    {
     "metadata": {
      "tags": null
     },
     "name": "stdout",
     "output_type": "stream",
     "text": [
      "\n",
      "Current Mean loss Train Set:  0.19741763933393147\n",
      "\n",
      "Test with test set\n"
     ]
    },
    {
     "metadata": {
      "tags": null
     },
     "name": "stderr",
     "output_type": "stream",
     "text": [
      "100%|██████████| 396/396 [00:03<00:00, 99.73it/s] \n"
     ]
    },
    {
     "metadata": {
      "tags": null
     },
     "name": "stdout",
     "output_type": "stream",
     "text": [
      "\n",
      "Current Mean loss Test Set:  0.22393832807288025\n",
      "\n",
      "\n",
      "Epoch: 161 of 200\n",
      "Training...\n"
     ]
    },
    {
     "metadata": {
      "tags": null
     },
     "name": "stderr",
     "output_type": "stream",
     "text": [
      "100%|██████████| 3563/3563 [01:51<00:00, 31.98it/s]\n"
     ]
    },
    {
     "metadata": {
      "tags": null
     },
     "name": "stdout",
     "output_type": "stream",
     "text": [
      "\n",
      "Test with training set\n"
     ]
    },
    {
     "metadata": {
      "tags": null
     },
     "name": "stderr",
     "output_type": "stream",
     "text": [
      "100%|██████████| 3563/3563 [00:35<00:00, 101.15it/s]\n"
     ]
    },
    {
     "metadata": {
      "tags": null
     },
     "name": "stdout",
     "output_type": "stream",
     "text": [
      "\n",
      "Current Mean loss Train Set:  0.19741663882530308\n",
      "\n",
      "Test with test set\n"
     ]
    },
    {
     "metadata": {
      "tags": null
     },
     "name": "stderr",
     "output_type": "stream",
     "text": [
      "100%|██████████| 396/396 [00:03<00:00, 101.24it/s]\n"
     ]
    },
    {
     "metadata": {
      "tags": null
     },
     "name": "stdout",
     "output_type": "stream",
     "text": [
      "\n",
      "Current Mean loss Test Set:  0.22172474689932184\n",
      "\n",
      "\n",
      "Epoch: 162 of 200\n",
      "Training...\n"
     ]
    },
    {
     "metadata": {
      "tags": null
     },
     "name": "stderr",
     "output_type": "stream",
     "text": [
      "100%|██████████| 3563/3563 [01:52<00:00, 31.71it/s]\n"
     ]
    },
    {
     "metadata": {
      "tags": null
     },
     "name": "stdout",
     "output_type": "stream",
     "text": [
      "\n",
      "Test with training set\n"
     ]
    },
    {
     "metadata": {
      "tags": null
     },
     "name": "stderr",
     "output_type": "stream",
     "text": [
      "100%|██████████| 3563/3563 [00:35<00:00, 101.04it/s]\n"
     ]
    },
    {
     "metadata": {
      "tags": null
     },
     "name": "stdout",
     "output_type": "stream",
     "text": [
      "\n",
      "Current Mean loss Train Set:  0.19698236120272444\n",
      "\n",
      "Test with test set\n"
     ]
    },
    {
     "metadata": {
      "tags": null
     },
     "name": "stderr",
     "output_type": "stream",
     "text": [
      "100%|██████████| 396/396 [00:03<00:00, 101.10it/s]\n"
     ]
    },
    {
     "metadata": {
      "tags": null
     },
     "name": "stdout",
     "output_type": "stream",
     "text": [
      "\n",
      "Current Mean loss Test Set:  0.22400158241090148\n",
      "\n",
      "\n",
      "Epoch: 163 of 200\n",
      "Training...\n"
     ]
    },
    {
     "metadata": {
      "tags": null
     },
     "name": "stderr",
     "output_type": "stream",
     "text": [
      "100%|██████████| 3563/3563 [01:51<00:00, 31.92it/s]\n"
     ]
    },
    {
     "metadata": {
      "tags": null
     },
     "name": "stdout",
     "output_type": "stream",
     "text": [
      "\n",
      "Test with training set\n"
     ]
    },
    {
     "metadata": {
      "tags": null
     },
     "name": "stderr",
     "output_type": "stream",
     "text": [
      "100%|██████████| 3563/3563 [00:35<00:00, 100.88it/s]\n"
     ]
    },
    {
     "metadata": {
      "tags": null
     },
     "name": "stdout",
     "output_type": "stream",
     "text": [
      "\n",
      "Current Mean loss Train Set:  0.19553610512690367\n",
      "\n",
      "Test with test set\n"
     ]
    },
    {
     "metadata": {
      "tags": null
     },
     "name": "stderr",
     "output_type": "stream",
     "text": [
      "100%|██████████| 396/396 [00:03<00:00, 100.96it/s]\n"
     ]
    },
    {
     "metadata": {
      "tags": null
     },
     "name": "stdout",
     "output_type": "stream",
     "text": [
      "\n",
      "Current Mean loss Test Set:  0.2205866693584907\n",
      "\n",
      "\n",
      "Epoch: 164 of 200\n",
      "Training...\n"
     ]
    },
    {
     "metadata": {
      "tags": null
     },
     "name": "stderr",
     "output_type": "stream",
     "text": [
      "100%|██████████| 3563/3563 [01:51<00:00, 31.96it/s]\n"
     ]
    },
    {
     "metadata": {
      "tags": null
     },
     "name": "stdout",
     "output_type": "stream",
     "text": [
      "\n",
      "Test with training set\n"
     ]
    },
    {
     "metadata": {
      "tags": null
     },
     "name": "stderr",
     "output_type": "stream",
     "text": [
      "100%|██████████| 3563/3563 [00:35<00:00, 100.94it/s]\n"
     ]
    },
    {
     "metadata": {
      "tags": null
     },
     "name": "stdout",
     "output_type": "stream",
     "text": [
      "\n",
      "Current Mean loss Train Set:  0.19622305541218515\n",
      "\n",
      "Test with test set\n"
     ]
    },
    {
     "metadata": {
      "tags": null
     },
     "name": "stderr",
     "output_type": "stream",
     "text": [
      "100%|██████████| 396/396 [00:03<00:00, 101.21it/s]\n"
     ]
    },
    {
     "metadata": {
      "tags": null
     },
     "name": "stdout",
     "output_type": "stream",
     "text": [
      "\n",
      "Current Mean loss Test Set:  0.22239786860617725\n",
      "\n",
      "\n",
      "Epoch: 165 of 200\n",
      "Training...\n"
     ]
    },
    {
     "metadata": {
      "tags": null
     },
     "name": "stderr",
     "output_type": "stream",
     "text": [
      "100%|██████████| 3563/3563 [01:51<00:00, 32.08it/s]\n"
     ]
    },
    {
     "metadata": {
      "tags": null
     },
     "name": "stdout",
     "output_type": "stream",
     "text": [
      "\n",
      "Test with training set\n"
     ]
    },
    {
     "metadata": {
      "tags": null
     },
     "name": "stderr",
     "output_type": "stream",
     "text": [
      "100%|██████████| 3563/3563 [00:35<00:00, 100.46it/s]\n"
     ]
    },
    {
     "metadata": {
      "tags": null
     },
     "name": "stdout",
     "output_type": "stream",
     "text": [
      "\n",
      "Current Mean loss Train Set:  0.19772986865908518\n",
      "\n",
      "Test with test set\n"
     ]
    },
    {
     "metadata": {
      "tags": null
     },
     "name": "stderr",
     "output_type": "stream",
     "text": [
      "100%|██████████| 396/396 [00:03<00:00, 101.58it/s]\n"
     ]
    },
    {
     "metadata": {
      "tags": null
     },
     "name": "stdout",
     "output_type": "stream",
     "text": [
      "\n",
      "Current Mean loss Test Set:  0.22464162758504502\n",
      "\n",
      "\n",
      "Epoch: 166 of 200\n",
      "Training...\n"
     ]
    },
    {
     "metadata": {
      "tags": null
     },
     "name": "stderr",
     "output_type": "stream",
     "text": [
      "100%|██████████| 3563/3563 [01:51<00:00, 31.95it/s]\n"
     ]
    },
    {
     "metadata": {
      "tags": null
     },
     "name": "stdout",
     "output_type": "stream",
     "text": [
      "\n",
      "Test with training set\n"
     ]
    },
    {
     "metadata": {
      "tags": null
     },
     "name": "stderr",
     "output_type": "stream",
     "text": [
      "100%|██████████| 3563/3563 [00:35<00:00, 99.10it/s]\n"
     ]
    },
    {
     "metadata": {
      "tags": null
     },
     "name": "stdout",
     "output_type": "stream",
     "text": [
      "\n",
      "Current Mean loss Train Set:  0.1981014451061679\n",
      "\n",
      "Test with test set\n"
     ]
    },
    {
     "metadata": {
      "tags": null
     },
     "name": "stderr",
     "output_type": "stream",
     "text": [
      "100%|██████████| 396/396 [00:03<00:00, 100.44it/s]\n"
     ]
    },
    {
     "metadata": {
      "tags": null
     },
     "name": "stdout",
     "output_type": "stream",
     "text": [
      "\n",
      "Current Mean loss Test Set:  0.2244584116746079\n",
      "\n",
      "\n",
      "Epoch: 167 of 200\n",
      "Training...\n"
     ]
    },
    {
     "metadata": {
      "tags": null
     },
     "name": "stderr",
     "output_type": "stream",
     "text": [
      "100%|██████████| 3563/3563 [01:53<00:00, 31.52it/s]\n"
     ]
    },
    {
     "metadata": {
      "tags": null
     },
     "name": "stdout",
     "output_type": "stream",
     "text": [
      "\n",
      "Test with training set\n"
     ]
    },
    {
     "metadata": {
      "tags": null
     },
     "name": "stderr",
     "output_type": "stream",
     "text": [
      "100%|██████████| 3563/3563 [00:35<00:00, 99.61it/s] \n"
     ]
    },
    {
     "metadata": {
      "tags": null
     },
     "name": "stdout",
     "output_type": "stream",
     "text": [
      "\n",
      "Current Mean loss Train Set:  0.19638326664570507\n",
      "\n",
      "Test with test set\n"
     ]
    },
    {
     "metadata": {
      "tags": null
     },
     "name": "stderr",
     "output_type": "stream",
     "text": [
      "100%|██████████| 396/396 [00:03<00:00, 99.75it/s] \n"
     ]
    },
    {
     "metadata": {
      "tags": null
     },
     "name": "stdout",
     "output_type": "stream",
     "text": [
      "\n",
      "Current Mean loss Test Set:  0.22161454498542077\n",
      "\n",
      "\n",
      "Epoch: 168 of 200\n",
      "Training...\n"
     ]
    },
    {
     "metadata": {
      "tags": null
     },
     "name": "stderr",
     "output_type": "stream",
     "text": [
      "100%|██████████| 3563/3563 [01:52<00:00, 31.77it/s]\n"
     ]
    },
    {
     "metadata": {
      "tags": null
     },
     "name": "stdout",
     "output_type": "stream",
     "text": [
      "\n",
      "Test with training set\n"
     ]
    },
    {
     "metadata": {
      "tags": null
     },
     "name": "stderr",
     "output_type": "stream",
     "text": [
      "100%|██████████| 3563/3563 [00:35<00:00, 100.73it/s]\n"
     ]
    },
    {
     "metadata": {
      "tags": null
     },
     "name": "stdout",
     "output_type": "stream",
     "text": [
      "\n",
      "Current Mean loss Train Set:  0.195368155494119\n",
      "\n",
      "Test with test set\n"
     ]
    },
    {
     "metadata": {
      "tags": null
     },
     "name": "stderr",
     "output_type": "stream",
     "text": [
      "100%|██████████| 396/396 [00:03<00:00, 100.31it/s]\n"
     ]
    },
    {
     "metadata": {
      "tags": null
     },
     "name": "stdout",
     "output_type": "stream",
     "text": [
      "\n",
      "Current Mean loss Test Set:  0.21982156411942208\n",
      "\n",
      "\n",
      "Epoch: 169 of 200\n",
      "Training...\n"
     ]
    },
    {
     "metadata": {
      "tags": null
     },
     "name": "stderr",
     "output_type": "stream",
     "text": [
      "100%|██████████| 3563/3563 [01:52<00:00, 31.75it/s]\n"
     ]
    },
    {
     "metadata": {
      "tags": null
     },
     "name": "stdout",
     "output_type": "stream",
     "text": [
      "\n",
      "Test with training set\n"
     ]
    },
    {
     "metadata": {
      "tags": null
     },
     "name": "stderr",
     "output_type": "stream",
     "text": [
      "100%|██████████| 3563/3563 [00:35<00:00, 101.47it/s]\n"
     ]
    },
    {
     "metadata": {
      "tags": null
     },
     "name": "stdout",
     "output_type": "stream",
     "text": [
      "\n",
      "Current Mean loss Train Set:  0.19477001347595008\n",
      "\n",
      "Test with test set\n"
     ]
    },
    {
     "metadata": {
      "tags": null
     },
     "name": "stderr",
     "output_type": "stream",
     "text": [
      "100%|██████████| 396/396 [00:03<00:00, 100.38it/s]\n"
     ]
    },
    {
     "metadata": {
      "tags": null
     },
     "name": "stdout",
     "output_type": "stream",
     "text": [
      "\n",
      "Current Mean loss Test Set:  0.22180630592158948\n",
      "\n",
      "\n",
      "Epoch: 170 of 200\n",
      "Training...\n"
     ]
    },
    {
     "metadata": {
      "tags": null
     },
     "name": "stderr",
     "output_type": "stream",
     "text": [
      "100%|██████████| 3563/3563 [01:51<00:00, 31.97it/s]\n"
     ]
    },
    {
     "metadata": {
      "tags": null
     },
     "name": "stdout",
     "output_type": "stream",
     "text": [
      "\n",
      "Test with training set\n"
     ]
    },
    {
     "metadata": {
      "tags": null
     },
     "name": "stderr",
     "output_type": "stream",
     "text": [
      "100%|██████████| 3563/3563 [00:35<00:00, 100.25it/s]\n"
     ]
    },
    {
     "metadata": {
      "tags": null
     },
     "name": "stdout",
     "output_type": "stream",
     "text": [
      "\n",
      "Current Mean loss Train Set:  0.1993249845310707\n",
      "\n",
      "Test with test set\n"
     ]
    },
    {
     "metadata": {
      "tags": null
     },
     "name": "stderr",
     "output_type": "stream",
     "text": [
      "100%|██████████| 396/396 [00:03<00:00, 101.17it/s]\n"
     ]
    },
    {
     "metadata": {
      "tags": null
     },
     "name": "stdout",
     "output_type": "stream",
     "text": [
      "\n",
      "Current Mean loss Test Set:  0.22221305396294955\n",
      "\n",
      "\n",
      "Epoch: 171 of 200\n",
      "Training...\n"
     ]
    },
    {
     "metadata": {
      "tags": null
     },
     "name": "stderr",
     "output_type": "stream",
     "text": [
      "100%|██████████| 3563/3563 [01:53<00:00, 31.50it/s]\n"
     ]
    },
    {
     "metadata": {
      "tags": null
     },
     "name": "stdout",
     "output_type": "stream",
     "text": [
      "\n",
      "Test with training set\n"
     ]
    },
    {
     "metadata": {
      "tags": null
     },
     "name": "stderr",
     "output_type": "stream",
     "text": [
      "100%|██████████| 3563/3563 [00:36<00:00, 98.83it/s]\n"
     ]
    },
    {
     "metadata": {
      "tags": null
     },
     "name": "stdout",
     "output_type": "stream",
     "text": [
      "\n",
      "Current Mean loss Train Set:  0.19418545179602273\n",
      "\n",
      "Test with test set\n"
     ]
    },
    {
     "metadata": {
      "tags": null
     },
     "name": "stderr",
     "output_type": "stream",
     "text": [
      "100%|██████████| 396/396 [00:03<00:00, 101.49it/s]\n"
     ]
    },
    {
     "metadata": {
      "tags": null
     },
     "name": "stdout",
     "output_type": "stream",
     "text": [
      "\n",
      "Current Mean loss Test Set:  0.22121645301354653\n",
      "\n",
      "\n",
      "Epoch: 172 of 200\n",
      "Training...\n"
     ]
    },
    {
     "metadata": {
      "tags": null
     },
     "name": "stderr",
     "output_type": "stream",
     "text": [
      "100%|██████████| 3563/3563 [01:52<00:00, 31.75it/s]\n"
     ]
    },
    {
     "metadata": {
      "tags": null
     },
     "name": "stdout",
     "output_type": "stream",
     "text": [
      "\n",
      "Test with training set\n"
     ]
    },
    {
     "metadata": {
      "tags": null
     },
     "name": "stderr",
     "output_type": "stream",
     "text": [
      "100%|██████████| 3563/3563 [00:35<00:00, 101.02it/s]\n"
     ]
    },
    {
     "metadata": {
      "tags": null
     },
     "name": "stdout",
     "output_type": "stream",
     "text": [
      "\n",
      "Current Mean loss Train Set:  0.19527230772900508\n",
      "\n",
      "Test with test set\n"
     ]
    },
    {
     "metadata": {
      "tags": null
     },
     "name": "stderr",
     "output_type": "stream",
     "text": [
      "100%|██████████| 396/396 [00:03<00:00, 101.64it/s]\n"
     ]
    },
    {
     "metadata": {
      "tags": null
     },
     "name": "stdout",
     "output_type": "stream",
     "text": [
      "\n",
      "Current Mean loss Test Set:  0.22313423221460496\n",
      "\n",
      "\n",
      "Epoch: 173 of 200\n",
      "Training...\n"
     ]
    },
    {
     "metadata": {
      "tags": null
     },
     "name": "stderr",
     "output_type": "stream",
     "text": [
      "100%|██████████| 3563/3563 [01:52<00:00, 31.62it/s]\n"
     ]
    },
    {
     "metadata": {
      "tags": null
     },
     "name": "stdout",
     "output_type": "stream",
     "text": [
      "\n",
      "Test with training set\n"
     ]
    },
    {
     "metadata": {
      "tags": null
     },
     "name": "stderr",
     "output_type": "stream",
     "text": [
      "100%|██████████| 3563/3563 [00:35<00:00, 99.45it/s]\n"
     ]
    },
    {
     "metadata": {
      "tags": null
     },
     "name": "stdout",
     "output_type": "stream",
     "text": [
      "\n",
      "Current Mean loss Train Set:  0.19657621012413531\n",
      "\n",
      "Test with test set\n"
     ]
    },
    {
     "metadata": {
      "tags": null
     },
     "name": "stderr",
     "output_type": "stream",
     "text": [
      "100%|██████████| 396/396 [00:04<00:00, 97.76it/s] \n"
     ]
    },
    {
     "metadata": {
      "tags": null
     },
     "name": "stdout",
     "output_type": "stream",
     "text": [
      "\n",
      "Current Mean loss Test Set:  0.22289489518211344\n",
      "\n",
      "\n",
      "Epoch: 174 of 200\n",
      "Training...\n"
     ]
    },
    {
     "metadata": {
      "tags": null
     },
     "name": "stderr",
     "output_type": "stream",
     "text": [
      "100%|██████████| 3563/3563 [01:51<00:00, 31.82it/s]\n"
     ]
    },
    {
     "metadata": {
      "tags": null
     },
     "name": "stdout",
     "output_type": "stream",
     "text": [
      "\n",
      "Test with training set\n"
     ]
    },
    {
     "metadata": {
      "tags": null
     },
     "name": "stderr",
     "output_type": "stream",
     "text": [
      "100%|██████████| 3563/3563 [00:35<00:00, 101.10it/s]\n"
     ]
    },
    {
     "metadata": {
      "tags": null
     },
     "name": "stdout",
     "output_type": "stream",
     "text": [
      "\n",
      "Current Mean loss Train Set:  0.19311189064518172\n",
      "\n",
      "Test with test set\n"
     ]
    },
    {
     "metadata": {
      "tags": null
     },
     "name": "stderr",
     "output_type": "stream",
     "text": [
      "100%|██████████| 396/396 [00:03<00:00, 100.85it/s]\n"
     ]
    },
    {
     "metadata": {
      "tags": null
     },
     "name": "stdout",
     "output_type": "stream",
     "text": [
      "\n",
      "Current Mean loss Test Set:  0.22054866622343208\n",
      "\n",
      "\n",
      "Epoch: 175 of 200\n",
      "Training...\n"
     ]
    },
    {
     "metadata": {
      "tags": null
     },
     "name": "stderr",
     "output_type": "stream",
     "text": [
      "100%|██████████| 3563/3563 [01:50<00:00, 32.11it/s]\n"
     ]
    },
    {
     "metadata": {
      "tags": null
     },
     "name": "stdout",
     "output_type": "stream",
     "text": [
      "\n",
      "Test with training set\n"
     ]
    },
    {
     "metadata": {
      "tags": null
     },
     "name": "stderr",
     "output_type": "stream",
     "text": [
      "100%|██████████| 3563/3563 [00:35<00:00, 100.96it/s]\n"
     ]
    },
    {
     "metadata": {
      "tags": null
     },
     "name": "stdout",
     "output_type": "stream",
     "text": [
      "\n",
      "Current Mean loss Train Set:  0.19575359871589565\n",
      "\n",
      "Test with test set\n"
     ]
    },
    {
     "metadata": {
      "tags": null
     },
     "name": "stderr",
     "output_type": "stream",
     "text": [
      "100%|██████████| 396/396 [00:03<00:00, 101.44it/s]\n"
     ]
    },
    {
     "metadata": {
      "tags": null
     },
     "name": "stdout",
     "output_type": "stream",
     "text": [
      "\n",
      "Current Mean loss Test Set:  0.2196324300209079\n",
      "\n",
      "\n",
      "Epoch: 176 of 200\n",
      "Training...\n"
     ]
    },
    {
     "metadata": {
      "tags": null
     },
     "name": "stderr",
     "output_type": "stream",
     "text": [
      "100%|██████████| 3563/3563 [01:51<00:00, 32.07it/s]\n"
     ]
    },
    {
     "metadata": {
      "tags": null
     },
     "name": "stdout",
     "output_type": "stream",
     "text": [
      "\n",
      "Test with training set\n"
     ]
    },
    {
     "metadata": {
      "tags": null
     },
     "name": "stderr",
     "output_type": "stream",
     "text": [
      "100%|██████████| 3563/3563 [00:35<00:00, 101.14it/s]\n"
     ]
    },
    {
     "metadata": {
      "tags": null
     },
     "name": "stdout",
     "output_type": "stream",
     "text": [
      "\n",
      "Current Mean loss Train Set:  0.19377242271280543\n",
      "\n",
      "Test with test set\n"
     ]
    },
    {
     "metadata": {
      "tags": null
     },
     "name": "stderr",
     "output_type": "stream",
     "text": [
      "100%|██████████| 396/396 [00:03<00:00, 103.49it/s]\n"
     ]
    },
    {
     "metadata": {
      "tags": null
     },
     "name": "stdout",
     "output_type": "stream",
     "text": [
      "\n",
      "Current Mean loss Test Set:  0.22228297788762685\n",
      "\n",
      "\n",
      "Epoch: 177 of 200\n",
      "Training...\n"
     ]
    },
    {
     "metadata": {
      "tags": null
     },
     "name": "stderr",
     "output_type": "stream",
     "text": [
      "100%|██████████| 3563/3563 [01:50<00:00, 32.12it/s]\n"
     ]
    },
    {
     "metadata": {
      "tags": null
     },
     "name": "stdout",
     "output_type": "stream",
     "text": [
      "\n",
      "Test with training set\n"
     ]
    },
    {
     "metadata": {
      "tags": null
     },
     "name": "stderr",
     "output_type": "stream",
     "text": [
      "100%|██████████| 3563/3563 [00:35<00:00, 101.62it/s]\n"
     ]
    },
    {
     "metadata": {
      "tags": null
     },
     "name": "stdout",
     "output_type": "stream",
     "text": [
      "\n",
      "Current Mean loss Train Set:  0.19353372619547202\n",
      "\n",
      "Test with test set\n"
     ]
    },
    {
     "metadata": {
      "tags": null
     },
     "name": "stderr",
     "output_type": "stream",
     "text": [
      "100%|██████████| 396/396 [00:03<00:00, 100.73it/s]\n"
     ]
    },
    {
     "metadata": {
      "tags": null
     },
     "name": "stdout",
     "output_type": "stream",
     "text": [
      "\n",
      "Current Mean loss Test Set:  0.21898251655276377\n",
      "\n",
      "\n",
      "Epoch: 178 of 200\n",
      "Training...\n"
     ]
    },
    {
     "metadata": {
      "tags": null
     },
     "name": "stderr",
     "output_type": "stream",
     "text": [
      "100%|██████████| 3563/3563 [01:50<00:00, 32.14it/s]\n"
     ]
    },
    {
     "metadata": {
      "tags": null
     },
     "name": "stdout",
     "output_type": "stream",
     "text": [
      "\n",
      "Test with training set\n"
     ]
    },
    {
     "metadata": {
      "tags": null
     },
     "name": "stderr",
     "output_type": "stream",
     "text": [
      "100%|██████████| 3563/3563 [00:34<00:00, 101.80it/s]\n"
     ]
    },
    {
     "metadata": {
      "tags": null
     },
     "name": "stdout",
     "output_type": "stream",
     "text": [
      "\n",
      "Current Mean loss Train Set:  0.1940894968266103\n",
      "\n",
      "Test with test set\n"
     ]
    },
    {
     "metadata": {
      "tags": null
     },
     "name": "stderr",
     "output_type": "stream",
     "text": [
      "100%|██████████| 396/396 [00:03<00:00, 101.19it/s]\n"
     ]
    },
    {
     "metadata": {
      "tags": null
     },
     "name": "stdout",
     "output_type": "stream",
     "text": [
      "\n",
      "Current Mean loss Test Set:  0.22309170710393275\n",
      "\n",
      "\n",
      "Epoch: 179 of 200\n",
      "Training...\n"
     ]
    },
    {
     "metadata": {
      "tags": null
     },
     "name": "stderr",
     "output_type": "stream",
     "text": [
      "100%|██████████| 3563/3563 [01:52<00:00, 31.72it/s]\n"
     ]
    },
    {
     "metadata": {
      "tags": null
     },
     "name": "stdout",
     "output_type": "stream",
     "text": [
      "\n",
      "Test with training set\n"
     ]
    },
    {
     "metadata": {
      "tags": null
     },
     "name": "stderr",
     "output_type": "stream",
     "text": [
      "100%|██████████| 3563/3563 [00:35<00:00, 101.17it/s]\n"
     ]
    },
    {
     "metadata": {
      "tags": null
     },
     "name": "stdout",
     "output_type": "stream",
     "text": [
      "\n",
      "Current Mean loss Train Set:  0.19468217016671635\n",
      "\n",
      "Test with test set\n"
     ]
    },
    {
     "metadata": {
      "tags": null
     },
     "name": "stderr",
     "output_type": "stream",
     "text": [
      "100%|██████████| 396/396 [00:03<00:00, 101.73it/s]\n"
     ]
    },
    {
     "metadata": {
      "tags": null
     },
     "name": "stdout",
     "output_type": "stream",
     "text": [
      "\n",
      "Current Mean loss Test Set:  0.22145175931956432\n",
      "\n",
      "\n",
      "Epoch: 180 of 200\n",
      "Training...\n"
     ]
    },
    {
     "metadata": {
      "tags": null
     },
     "name": "stderr",
     "output_type": "stream",
     "text": [
      "100%|██████████| 3563/3563 [01:53<00:00, 31.53it/s]\n"
     ]
    },
    {
     "metadata": {
      "tags": null
     },
     "name": "stdout",
     "output_type": "stream",
     "text": [
      "\n",
      "Test with training set\n"
     ]
    },
    {
     "metadata": {
      "tags": null
     },
     "name": "stderr",
     "output_type": "stream",
     "text": [
      "100%|██████████| 3563/3563 [00:35<00:00, 99.83it/s]\n"
     ]
    },
    {
     "metadata": {
      "tags": null
     },
     "name": "stdout",
     "output_type": "stream",
     "text": [
      "\n",
      "Current Mean loss Train Set:  0.19334841433859193\n",
      "\n",
      "Test with test set\n"
     ]
    },
    {
     "metadata": {
      "tags": null
     },
     "name": "stderr",
     "output_type": "stream",
     "text": [
      "100%|██████████| 396/396 [00:04<00:00, 98.91it/s]\n"
     ]
    },
    {
     "metadata": {
      "tags": null
     },
     "name": "stdout",
     "output_type": "stream",
     "text": [
      "\n",
      "Current Mean loss Test Set:  0.22036150769528115\n",
      "\n",
      "\n",
      "Epoch: 181 of 200\n",
      "Training...\n"
     ]
    },
    {
     "metadata": {
      "tags": null
     },
     "name": "stderr",
     "output_type": "stream",
     "text": [
      "100%|██████████| 3563/3563 [01:52<00:00, 31.67it/s]\n"
     ]
    },
    {
     "metadata": {
      "tags": null
     },
     "name": "stdout",
     "output_type": "stream",
     "text": [
      "\n",
      "Test with training set\n"
     ]
    },
    {
     "metadata": {
      "tags": null
     },
     "name": "stderr",
     "output_type": "stream",
     "text": [
      "100%|██████████| 3563/3563 [00:35<00:00, 101.50it/s]\n"
     ]
    },
    {
     "metadata": {
      "tags": null
     },
     "name": "stdout",
     "output_type": "stream",
     "text": [
      "\n",
      "Current Mean loss Train Set:  0.19450566445278913\n",
      "\n",
      "Test with test set\n"
     ]
    },
    {
     "metadata": {
      "tags": null
     },
     "name": "stderr",
     "output_type": "stream",
     "text": [
      "100%|██████████| 396/396 [00:03<00:00, 100.06it/s]\n"
     ]
    },
    {
     "metadata": {
      "tags": null
     },
     "name": "stdout",
     "output_type": "stream",
     "text": [
      "\n",
      "Current Mean loss Test Set:  0.22255594147877258\n",
      "\n",
      "\n",
      "Epoch: 182 of 200\n",
      "Training...\n"
     ]
    },
    {
     "metadata": {
      "tags": null
     },
     "name": "stderr",
     "output_type": "stream",
     "text": [
      "100%|██████████| 3563/3563 [01:52<00:00, 31.74it/s]\n"
     ]
    },
    {
     "metadata": {
      "tags": null
     },
     "name": "stdout",
     "output_type": "stream",
     "text": [
      "\n",
      "Test with training set\n"
     ]
    },
    {
     "metadata": {
      "tags": null
     },
     "name": "stderr",
     "output_type": "stream",
     "text": [
      "100%|██████████| 3563/3563 [00:35<00:00, 99.44it/s] \n"
     ]
    },
    {
     "metadata": {
      "tags": null
     },
     "name": "stdout",
     "output_type": "stream",
     "text": [
      "\n",
      "Current Mean loss Train Set:  0.1964345897558095\n",
      "\n",
      "Test with test set\n"
     ]
    },
    {
     "metadata": {
      "tags": null
     },
     "name": "stderr",
     "output_type": "stream",
     "text": [
      "100%|██████████| 396/396 [00:03<00:00, 99.83it/s]\n"
     ]
    },
    {
     "metadata": {
      "tags": null
     },
     "name": "stdout",
     "output_type": "stream",
     "text": [
      "\n",
      "Current Mean loss Test Set:  0.224290775906558\n",
      "\n",
      "\n",
      "Epoch: 183 of 200\n",
      "Training...\n"
     ]
    },
    {
     "metadata": {
      "tags": null
     },
     "name": "stderr",
     "output_type": "stream",
     "text": [
      "100%|██████████| 3563/3563 [01:53<00:00, 31.41it/s]\n"
     ]
    },
    {
     "metadata": {
      "tags": null
     },
     "name": "stdout",
     "output_type": "stream",
     "text": [
      "\n",
      "Test with training set\n"
     ]
    },
    {
     "metadata": {
      "tags": null
     },
     "name": "stderr",
     "output_type": "stream",
     "text": [
      "100%|██████████| 3563/3563 [00:35<00:00, 99.76it/s]\n"
     ]
    },
    {
     "metadata": {
      "tags": null
     },
     "name": "stdout",
     "output_type": "stream",
     "text": [
      "\n",
      "Current Mean loss Train Set:  0.19297632226240022\n",
      "\n",
      "Test with test set\n"
     ]
    },
    {
     "metadata": {
      "tags": null
     },
     "name": "stderr",
     "output_type": "stream",
     "text": [
      "100%|██████████| 396/396 [00:04<00:00, 97.56it/s]\n"
     ]
    },
    {
     "metadata": {
      "tags": null
     },
     "name": "stdout",
     "output_type": "stream",
     "text": [
      "\n",
      "Current Mean loss Test Set:  0.2204639393873889\n",
      "\n",
      "\n",
      "Epoch: 184 of 200\n",
      "Training...\n"
     ]
    },
    {
     "metadata": {
      "tags": null
     },
     "name": "stderr",
     "output_type": "stream",
     "text": [
      "100%|██████████| 3563/3563 [01:53<00:00, 31.45it/s]\n"
     ]
    },
    {
     "metadata": {
      "tags": null
     },
     "name": "stdout",
     "output_type": "stream",
     "text": [
      "\n",
      "Test with training set\n"
     ]
    },
    {
     "metadata": {
      "tags": null
     },
     "name": "stderr",
     "output_type": "stream",
     "text": [
      "100%|██████████| 3563/3563 [00:35<00:00, 99.65it/s] \n"
     ]
    },
    {
     "metadata": {
      "tags": null
     },
     "name": "stdout",
     "output_type": "stream",
     "text": [
      "\n",
      "Current Mean loss Train Set:  0.1924534348680536\n",
      "\n",
      "Test with test set\n"
     ]
    },
    {
     "metadata": {
      "tags": null
     },
     "name": "stderr",
     "output_type": "stream",
     "text": [
      "100%|██████████| 396/396 [00:04<00:00, 98.74it/s] \n"
     ]
    },
    {
     "metadata": {
      "tags": null
     },
     "name": "stdout",
     "output_type": "stream",
     "text": [
      "\n",
      "Current Mean loss Test Set:  0.21843479556793516\n",
      "\n",
      "\n",
      "Epoch: 185 of 200\n",
      "Training...\n"
     ]
    },
    {
     "metadata": {
      "tags": null
     },
     "name": "stderr",
     "output_type": "stream",
     "text": [
      "100%|██████████| 3563/3563 [01:53<00:00, 31.45it/s]\n"
     ]
    },
    {
     "metadata": {
      "tags": null
     },
     "name": "stdout",
     "output_type": "stream",
     "text": [
      "\n",
      "Test with training set\n"
     ]
    },
    {
     "metadata": {
      "tags": null
     },
     "name": "stderr",
     "output_type": "stream",
     "text": [
      "100%|██████████| 3563/3563 [00:35<00:00, 99.92it/s]\n"
     ]
    },
    {
     "metadata": {
      "tags": null
     },
     "name": "stdout",
     "output_type": "stream",
     "text": [
      "\n",
      "Current Mean loss Train Set:  0.1930272773644277\n",
      "\n",
      "Test with test set\n"
     ]
    },
    {
     "metadata": {
      "tags": null
     },
     "name": "stderr",
     "output_type": "stream",
     "text": [
      "100%|██████████| 396/396 [00:03<00:00, 101.19it/s]\n"
     ]
    },
    {
     "metadata": {
      "tags": null
     },
     "name": "stdout",
     "output_type": "stream",
     "text": [
      "\n",
      "Current Mean loss Test Set:  0.2214150485780203\n",
      "\n",
      "\n",
      "Epoch: 186 of 200\n",
      "Training...\n"
     ]
    },
    {
     "metadata": {
      "tags": null
     },
     "name": "stderr",
     "output_type": "stream",
     "text": [
      "100%|██████████| 3563/3563 [01:53<00:00, 31.51it/s]\n"
     ]
    },
    {
     "metadata": {
      "tags": null
     },
     "name": "stdout",
     "output_type": "stream",
     "text": [
      "\n",
      "Test with training set\n"
     ]
    },
    {
     "metadata": {
      "tags": null
     },
     "name": "stderr",
     "output_type": "stream",
     "text": [
      "100%|██████████| 3563/3563 [00:35<00:00, 100.81it/s]\n"
     ]
    },
    {
     "metadata": {
      "tags": null
     },
     "name": "stdout",
     "output_type": "stream",
     "text": [
      "\n",
      "Current Mean loss Train Set:  0.19319287156192164\n",
      "\n",
      "Test with test set\n"
     ]
    },
    {
     "metadata": {
      "tags": null
     },
     "name": "stderr",
     "output_type": "stream",
     "text": [
      "100%|██████████| 396/396 [00:03<00:00, 100.63it/s]\n"
     ]
    },
    {
     "metadata": {
      "tags": null
     },
     "name": "stdout",
     "output_type": "stream",
     "text": [
      "\n",
      "Current Mean loss Test Set:  0.21992551832638604\n",
      "\n",
      "\n",
      "Epoch: 187 of 200\n",
      "Training...\n"
     ]
    },
    {
     "metadata": {
      "tags": null
     },
     "name": "stderr",
     "output_type": "stream",
     "text": [
      "100%|██████████| 3563/3563 [01:50<00:00, 32.18it/s]\n"
     ]
    },
    {
     "metadata": {
      "tags": null
     },
     "name": "stdout",
     "output_type": "stream",
     "text": [
      "\n",
      "Test with training set\n"
     ]
    },
    {
     "metadata": {
      "tags": null
     },
     "name": "stderr",
     "output_type": "stream",
     "text": [
      "100%|██████████| 3563/3563 [00:35<00:00, 100.42it/s]\n"
     ]
    },
    {
     "metadata": {
      "tags": null
     },
     "name": "stdout",
     "output_type": "stream",
     "text": [
      "\n",
      "Current Mean loss Train Set:  0.19166030543442025\n",
      "\n",
      "Test with test set\n"
     ]
    },
    {
     "metadata": {
      "tags": null
     },
     "name": "stderr",
     "output_type": "stream",
     "text": [
      "100%|██████████| 396/396 [00:03<00:00, 99.77it/s] \n"
     ]
    },
    {
     "metadata": {
      "tags": null
     },
     "name": "stdout",
     "output_type": "stream",
     "text": [
      "\n",
      "Current Mean loss Test Set:  0.2198480890894478\n",
      "\n",
      "\n",
      "Epoch: 188 of 200\n",
      "Training...\n"
     ]
    },
    {
     "metadata": {
      "tags": null
     },
     "name": "stderr",
     "output_type": "stream",
     "text": [
      "100%|██████████| 3563/3563 [01:51<00:00, 31.84it/s]\n"
     ]
    },
    {
     "metadata": {
      "tags": null
     },
     "name": "stdout",
     "output_type": "stream",
     "text": [
      "\n",
      "Test with training set\n"
     ]
    },
    {
     "metadata": {
      "tags": null
     },
     "name": "stderr",
     "output_type": "stream",
     "text": [
      "100%|██████████| 3563/3563 [00:35<00:00, 101.27it/s]\n"
     ]
    },
    {
     "metadata": {
      "tags": null
     },
     "name": "stdout",
     "output_type": "stream",
     "text": [
      "\n",
      "Current Mean loss Train Set:  0.19243443180780012\n",
      "\n",
      "Test with test set\n"
     ]
    },
    {
     "metadata": {
      "tags": null
     },
     "name": "stderr",
     "output_type": "stream",
     "text": [
      "100%|██████████| 396/396 [00:03<00:00, 101.99it/s]\n"
     ]
    },
    {
     "metadata": {
      "tags": null
     },
     "name": "stdout",
     "output_type": "stream",
     "text": [
      "\n",
      "Current Mean loss Test Set:  0.2222455134333083\n",
      "\n",
      "\n",
      "Epoch: 189 of 200\n",
      "Training...\n"
     ]
    },
    {
     "metadata": {
      "tags": null
     },
     "name": "stderr",
     "output_type": "stream",
     "text": [
      "100%|██████████| 3563/3563 [01:50<00:00, 32.27it/s]\n"
     ]
    },
    {
     "metadata": {
      "tags": null
     },
     "name": "stdout",
     "output_type": "stream",
     "text": [
      "\n",
      "Test with training set\n"
     ]
    },
    {
     "metadata": {
      "tags": null
     },
     "name": "stderr",
     "output_type": "stream",
     "text": [
      "100%|██████████| 3563/3563 [00:34<00:00, 102.14it/s]\n"
     ]
    },
    {
     "metadata": {
      "tags": null
     },
     "name": "stdout",
     "output_type": "stream",
     "text": [
      "\n",
      "Current Mean loss Train Set:  0.19453419357278928\n",
      "\n",
      "Test with test set\n"
     ]
    },
    {
     "metadata": {
      "tags": null
     },
     "name": "stderr",
     "output_type": "stream",
     "text": [
      "100%|██████████| 396/396 [00:03<00:00, 103.76it/s]\n"
     ]
    },
    {
     "metadata": {
      "tags": null
     },
     "name": "stdout",
     "output_type": "stream",
     "text": [
      "\n",
      "Current Mean loss Test Set:  0.22453924885602913\n",
      "\n",
      "\n",
      "Epoch: 190 of 200\n",
      "Training...\n"
     ]
    },
    {
     "metadata": {
      "tags": null
     },
     "name": "stderr",
     "output_type": "stream",
     "text": [
      "100%|██████████| 3563/3563 [01:50<00:00, 32.18it/s]\n"
     ]
    },
    {
     "metadata": {
      "tags": null
     },
     "name": "stdout",
     "output_type": "stream",
     "text": [
      "\n",
      "Test with training set\n"
     ]
    },
    {
     "metadata": {
      "tags": null
     },
     "name": "stderr",
     "output_type": "stream",
     "text": [
      "100%|██████████| 3563/3563 [00:35<00:00, 101.73it/s]\n"
     ]
    },
    {
     "metadata": {
      "tags": null
     },
     "name": "stdout",
     "output_type": "stream",
     "text": [
      "\n",
      "Current Mean loss Train Set:  0.19402349667496605\n",
      "\n",
      "Test with test set\n"
     ]
    },
    {
     "metadata": {
      "tags": null
     },
     "name": "stderr",
     "output_type": "stream",
     "text": [
      "100%|██████████| 396/396 [00:03<00:00, 101.71it/s]\n"
     ]
    },
    {
     "metadata": {
      "tags": null
     },
     "name": "stdout",
     "output_type": "stream",
     "text": [
      "\n",
      "Current Mean loss Test Set:  0.22149747943110537\n",
      "\n",
      "\n",
      "Epoch: 191 of 200\n",
      "Training...\n"
     ]
    },
    {
     "metadata": {
      "tags": null
     },
     "name": "stderr",
     "output_type": "stream",
     "text": [
      "100%|██████████| 3563/3563 [01:50<00:00, 32.28it/s]\n"
     ]
    },
    {
     "metadata": {
      "tags": null
     },
     "name": "stdout",
     "output_type": "stream",
     "text": [
      "\n",
      "Test with training set\n"
     ]
    },
    {
     "metadata": {
      "tags": null
     },
     "name": "stderr",
     "output_type": "stream",
     "text": [
      "100%|██████████| 3563/3563 [00:35<00:00, 101.79it/s]\n"
     ]
    },
    {
     "metadata": {
      "tags": null
     },
     "name": "stdout",
     "output_type": "stream",
     "text": [
      "\n",
      "Current Mean loss Train Set:  0.195739987274669\n",
      "\n",
      "Test with test set\n"
     ]
    },
    {
     "metadata": {
      "tags": null
     },
     "name": "stderr",
     "output_type": "stream",
     "text": [
      "100%|██████████| 396/396 [00:03<00:00, 100.04it/s]\n"
     ]
    },
    {
     "metadata": {
      "tags": null
     },
     "name": "stdout",
     "output_type": "stream",
     "text": [
      "\n",
      "Current Mean loss Test Set:  0.22329546765170313\n",
      "\n",
      "\n",
      "Epoch: 192 of 200\n",
      "Training...\n"
     ]
    },
    {
     "metadata": {
      "tags": null
     },
     "name": "stderr",
     "output_type": "stream",
     "text": [
      "100%|██████████| 3563/3563 [01:50<00:00, 32.14it/s]\n"
     ]
    },
    {
     "metadata": {
      "tags": null
     },
     "name": "stdout",
     "output_type": "stream",
     "text": [
      "\n",
      "Test with training set\n"
     ]
    },
    {
     "metadata": {
      "tags": null
     },
     "name": "stderr",
     "output_type": "stream",
     "text": [
      "100%|██████████| 3563/3563 [00:35<00:00, 101.35it/s]\n"
     ]
    },
    {
     "metadata": {
      "tags": null
     },
     "name": "stdout",
     "output_type": "stream",
     "text": [
      "\n",
      "Current Mean loss Train Set:  0.19296692240248228\n",
      "\n",
      "Test with test set\n"
     ]
    },
    {
     "metadata": {
      "tags": null
     },
     "name": "stderr",
     "output_type": "stream",
     "text": [
      "100%|██████████| 396/396 [00:03<00:00, 101.17it/s]\n"
     ]
    },
    {
     "metadata": {
      "tags": null
     },
     "name": "stdout",
     "output_type": "stream",
     "text": [
      "\n",
      "Current Mean loss Test Set:  0.222268816723366\n",
      "\n",
      "\n",
      "Epoch: 193 of 200\n",
      "Training...\n"
     ]
    },
    {
     "metadata": {
      "tags": null
     },
     "name": "stderr",
     "output_type": "stream",
     "text": [
      "100%|██████████| 3563/3563 [01:50<00:00, 32.16it/s]\n"
     ]
    },
    {
     "metadata": {
      "tags": null
     },
     "name": "stdout",
     "output_type": "stream",
     "text": [
      "\n",
      "Test with training set\n"
     ]
    },
    {
     "metadata": {
      "tags": null
     },
     "name": "stderr",
     "output_type": "stream",
     "text": [
      "100%|██████████| 3563/3563 [00:34<00:00, 101.82it/s]\n"
     ]
    },
    {
     "metadata": {
      "tags": null
     },
     "name": "stdout",
     "output_type": "stream",
     "text": [
      "\n",
      "Current Mean loss Train Set:  0.19203997142623389\n",
      "\n",
      "Test with test set\n"
     ]
    },
    {
     "metadata": {
      "tags": null
     },
     "name": "stderr",
     "output_type": "stream",
     "text": [
      "100%|██████████| 396/396 [00:03<00:00, 101.19it/s]\n"
     ]
    },
    {
     "metadata": {
      "tags": null
     },
     "name": "stdout",
     "output_type": "stream",
     "text": [
      "\n",
      "Current Mean loss Test Set:  0.22030445464858503\n",
      "\n",
      "\n",
      "Epoch: 194 of 200\n",
      "Training...\n"
     ]
    },
    {
     "metadata": {
      "tags": null
     },
     "name": "stderr",
     "output_type": "stream",
     "text": [
      "100%|██████████| 3563/3563 [01:51<00:00, 31.87it/s]\n"
     ]
    },
    {
     "metadata": {
      "tags": null
     },
     "name": "stdout",
     "output_type": "stream",
     "text": [
      "\n",
      "Test with training set\n"
     ]
    },
    {
     "metadata": {
      "tags": null
     },
     "name": "stderr",
     "output_type": "stream",
     "text": [
      "100%|██████████| 3563/3563 [00:35<00:00, 99.58it/s]\n"
     ]
    },
    {
     "metadata": {
      "tags": null
     },
     "name": "stdout",
     "output_type": "stream",
     "text": [
      "\n",
      "Current Mean loss Train Set:  0.19547713967628302\n",
      "\n",
      "Test with test set\n"
     ]
    },
    {
     "metadata": {
      "tags": null
     },
     "name": "stderr",
     "output_type": "stream",
     "text": [
      "100%|██████████| 396/396 [00:03<00:00, 99.02it/s]\n"
     ]
    },
    {
     "metadata": {
      "tags": null
     },
     "name": "stdout",
     "output_type": "stream",
     "text": [
      "\n",
      "Current Mean loss Test Set:  0.2235216408441163\n",
      "\n",
      "\n",
      "Epoch: 195 of 200\n",
      "Training...\n"
     ]
    },
    {
     "output_type": "stream",
     "name": "stderr",
     "text": [
      "100%|██████████| 3563/3563 [01:54<00:00, 31.11it/s]\n"
     ]
    },
    {
     "output_type": "stream",
     "name": "stdout",
     "text": [
      "\n",
      "Test with training set\n"
     ]
    },
    {
     "output_type": "stream",
     "name": "stderr",
     "text": [
      "100%|██████████| 3563/3563 [00:36<00:00, 98.90it/s]\n"
     ]
    },
    {
     "output_type": "stream",
     "name": "stdout",
     "text": [
      "\n",
      "Current Mean loss Train Set:  0.19231391484202745\n",
      "\n",
      "Test with test set\n"
     ]
    },
    {
     "output_type": "stream",
     "name": "stderr",
     "text": [
      "100%|██████████| 396/396 [00:04<00:00, 95.67it/s]\n"
     ]
    },
    {
     "output_type": "stream",
     "name": "stdout",
     "text": [
      "\n",
      "Current Mean loss Test Set:  0.2207348459409644\n",
      "\n",
      "\n",
      "Epoch: 196 of 200\n",
      "Training...\n"
     ]
    },
    {
     "output_type": "stream",
     "name": "stderr",
     "text": [
      "100%|██████████| 3563/3563 [01:53<00:00, 31.47it/s]\n"
     ]
    },
    {
     "output_type": "stream",
     "name": "stdout",
     "text": [
      "\n",
      "Test with training set\n"
     ]
    },
    {
     "output_type": "stream",
     "name": "stderr",
     "text": [
      "100%|██████████| 3563/3563 [00:36<00:00, 97.63it/s]\n"
     ]
    },
    {
     "output_type": "stream",
     "name": "stdout",
     "text": [
      "\n",
      "Current Mean loss Train Set:  0.19335715008892773\n",
      "\n",
      "Test with test set\n"
     ]
    },
    {
     "output_type": "stream",
     "name": "stderr",
     "text": [
      "100%|██████████| 396/396 [00:04<00:00, 96.56it/s]\n"
     ]
    },
    {
     "output_type": "stream",
     "name": "stdout",
     "text": [
      "\n",
      "Current Mean loss Test Set:  0.22028499924474293\n",
      "\n",
      "\n",
      "Epoch: 197 of 200\n",
      "Training...\n"
     ]
    },
    {
     "output_type": "stream",
     "name": "stderr",
     "text": [
      "100%|██████████| 3563/3563 [01:55<00:00, 30.87it/s]\n"
     ]
    },
    {
     "output_type": "stream",
     "name": "stdout",
     "text": [
      "\n",
      "Test with training set\n"
     ]
    },
    {
     "output_type": "stream",
     "name": "stderr",
     "text": [
      "100%|██████████| 3563/3563 [00:36<00:00, 97.39it/s] \n"
     ]
    },
    {
     "output_type": "stream",
     "name": "stdout",
     "text": [
      "\n",
      "Current Mean loss Train Set:  0.19497941620281964\n",
      "\n",
      "Test with test set\n"
     ]
    },
    {
     "output_type": "stream",
     "name": "stderr",
     "text": [
      "100%|██████████| 396/396 [00:04<00:00, 97.02it/s]\n"
     ]
    },
    {
     "output_type": "stream",
     "name": "stdout",
     "text": [
      "\n",
      "Current Mean loss Test Set:  0.22455273081332144\n",
      "\n",
      "\n",
      "Epoch: 198 of 200\n",
      "Training...\n"
     ]
    },
    {
     "output_type": "stream",
     "name": "stderr",
     "text": [
      "100%|██████████| 3563/3563 [01:57<00:00, 30.32it/s]\n"
     ]
    },
    {
     "output_type": "stream",
     "name": "stdout",
     "text": [
      "\n",
      "Test with training set\n"
     ]
    },
    {
     "output_type": "stream",
     "name": "stderr",
     "text": [
      "100%|██████████| 3563/3563 [00:37<00:00, 95.82it/s]\n"
     ]
    },
    {
     "output_type": "stream",
     "name": "stdout",
     "text": [
      "\n",
      "Current Mean loss Train Set:  0.1920262084013453\n",
      "\n",
      "Test with test set\n"
     ]
    },
    {
     "output_type": "stream",
     "name": "stderr",
     "text": [
      "100%|██████████| 396/396 [00:04<00:00, 93.99it/s]\n"
     ]
    },
    {
     "output_type": "stream",
     "name": "stdout",
     "text": [
      "\n",
      "Current Mean loss Test Set:  0.2207831054587256\n",
      "\n",
      "\n",
      "Epoch: 199 of 200\n",
      "Training...\n"
     ]
    },
    {
     "output_type": "stream",
     "name": "stderr",
     "text": [
      "100%|██████████| 3563/3563 [01:56<00:00, 30.70it/s]\n"
     ]
    },
    {
     "output_type": "stream",
     "name": "stdout",
     "text": [
      "\n",
      "Test with training set\n"
     ]
    },
    {
     "output_type": "stream",
     "name": "stderr",
     "text": [
      "100%|██████████| 3563/3563 [00:36<00:00, 98.60it/s]\n"
     ]
    },
    {
     "output_type": "stream",
     "name": "stdout",
     "text": [
      "\n",
      "Current Mean loss Train Set:  0.19250371358784737\n",
      "\n",
      "Test with test set\n"
     ]
    },
    {
     "output_type": "stream",
     "name": "stderr",
     "text": [
      "100%|██████████| 396/396 [00:03<00:00, 99.36it/s] \n"
     ]
    },
    {
     "output_type": "stream",
     "name": "stdout",
     "text": [
      "\n",
      "Current Mean loss Test Set:  0.22393987976917715\n",
      "\n",
      "\n",
      "Epoch: 200 of 200\n",
      "Training...\n"
     ]
    },
    {
     "output_type": "stream",
     "name": "stderr",
     "text": [
      "100%|██████████| 3563/3563 [01:57<00:00, 30.25it/s]\n"
     ]
    },
    {
     "output_type": "stream",
     "name": "stdout",
     "text": [
      "\n",
      "Test with training set\n"
     ]
    },
    {
     "output_type": "stream",
     "name": "stderr",
     "text": [
      "100%|██████████| 3563/3563 [00:37<00:00, 95.86it/s]\n"
     ]
    },
    {
     "output_type": "stream",
     "name": "stdout",
     "text": [
      "\n",
      "Current Mean loss Train Set:  0.19174649742273275\n",
      "\n",
      "Test with test set\n"
     ]
    },
    {
     "output_type": "stream",
     "name": "stderr",
     "text": [
      "100%|██████████| 396/396 [00:04<00:00, 95.68it/s]\n"
     ]
    },
    {
     "output_type": "stream",
     "name": "stdout",
     "text": [
      "\n",
      "Current Mean loss Test Set:  0.2212627154746742\n",
      "\n",
      "\n",
      "29752447.716 miliseconds\n"
     ]
    },
    {
     "output_type": "display_data",
     "data": {
      "text/plain": [
       "<IPython.core.display.Javascript object>"
      ],
      "application/javascript": [
       "\n",
       "    async function download(id, filename, size) {\n",
       "      if (!google.colab.kernel.accessAllowed) {\n",
       "        return;\n",
       "      }\n",
       "      const div = document.createElement('div');\n",
       "      const label = document.createElement('label');\n",
       "      label.textContent = `Downloading \"${filename}\": `;\n",
       "      div.appendChild(label);\n",
       "      const progress = document.createElement('progress');\n",
       "      progress.max = size;\n",
       "      div.appendChild(progress);\n",
       "      document.body.appendChild(div);\n",
       "\n",
       "      const buffers = [];\n",
       "      let downloaded = 0;\n",
       "\n",
       "      const channel = await google.colab.kernel.comms.open(id);\n",
       "      // Send a message to notify the kernel that we're ready.\n",
       "      channel.send({})\n",
       "\n",
       "      for await (const message of channel.messages) {\n",
       "        // Send a message to notify the kernel that we're ready.\n",
       "        channel.send({})\n",
       "        if (message.buffers) {\n",
       "          for (const buffer of message.buffers) {\n",
       "            buffers.push(buffer);\n",
       "            downloaded += buffer.byteLength;\n",
       "            progress.value = downloaded;\n",
       "          }\n",
       "        }\n",
       "      }\n",
       "      const blob = new Blob(buffers, {type: 'application/binary'});\n",
       "      const a = document.createElement('a');\n",
       "      a.href = window.URL.createObjectURL(blob);\n",
       "      a.download = filename;\n",
       "      div.appendChild(a);\n",
       "      a.click();\n",
       "      div.remove();\n",
       "    }\n",
       "  "
      ]
     },
     "metadata": {}
    },
    {
     "output_type": "display_data",
     "data": {
      "text/plain": [
       "<IPython.core.display.Javascript object>"
      ],
      "application/javascript": [
       "download(\"download_d6301300-4f3d-4a90-bc08-28d8a60cdeca\", \"Transformer_SGDmom_train.npy\", 5700928)"
      ]
     },
     "metadata": {}
    },
    {
     "output_type": "error",
     "ename": "FileNotFoundError",
     "evalue": "ignored",
     "traceback": [
      "\u001B[0;31m---------------------------------------------------------------------------\u001B[0m",
      "\u001B[0;31mFileNotFoundError\u001B[0m                         Traceback (most recent call last)",
      "\u001B[0;32m<ipython-input-64-53395d8008eb>\u001B[0m in \u001B[0;36m<module>\u001B[0;34m()\u001B[0m\n\u001B[1;32m     45\u001B[0m   \u001B[0mnp\u001B[0m\u001B[0;34m.\u001B[0m\u001B[0msave\u001B[0m\u001B[0;34m(\u001B[0m\u001B[0;34m'Transformer_SGDmon_test.npy'\u001B[0m\u001B[0;34m,\u001B[0m \u001B[0mtest_losses_3\u001B[0m\u001B[0;34m)\u001B[0m\u001B[0;34m\u001B[0m\u001B[0;34m\u001B[0m\u001B[0m\n\u001B[1;32m     46\u001B[0m   \u001B[0mfiles\u001B[0m\u001B[0;34m.\u001B[0m\u001B[0mdownload\u001B[0m\u001B[0;34m(\u001B[0m\u001B[0;34m'Transformer_SGDmom_train.npy'\u001B[0m\u001B[0;34m)\u001B[0m\u001B[0;34m\u001B[0m\u001B[0;34m\u001B[0m\u001B[0m\n\u001B[0;32m---> 47\u001B[0;31m   \u001B[0mfiles\u001B[0m\u001B[0;34m.\u001B[0m\u001B[0mdownload\u001B[0m\u001B[0;34m(\u001B[0m\u001B[0;34m'Transformer_SGDmom_test.npy'\u001B[0m\u001B[0;34m)\u001B[0m\u001B[0;34m\u001B[0m\u001B[0;34m\u001B[0m\u001B[0m\n\u001B[0m",
      "\u001B[0;32m/usr/local/lib/python3.7/dist-packages/google/colab/files.py\u001B[0m in \u001B[0;36mdownload\u001B[0;34m(filename)\u001B[0m\n\u001B[1;32m    187\u001B[0m       \u001B[0;32mraise\u001B[0m \u001B[0mOSError\u001B[0m\u001B[0;34m(\u001B[0m\u001B[0mmsg\u001B[0m\u001B[0;34m)\u001B[0m\u001B[0;34m\u001B[0m\u001B[0;34m\u001B[0m\u001B[0m\n\u001B[1;32m    188\u001B[0m     \u001B[0;32melse\u001B[0m\u001B[0;34m:\u001B[0m\u001B[0;34m\u001B[0m\u001B[0;34m\u001B[0m\u001B[0m\n\u001B[0;32m--> 189\u001B[0;31m       \u001B[0;32mraise\u001B[0m \u001B[0mFileNotFoundError\u001B[0m\u001B[0;34m(\u001B[0m\u001B[0mmsg\u001B[0m\u001B[0;34m)\u001B[0m  \u001B[0;31m# pylint: disable=undefined-variable\u001B[0m\u001B[0;34m\u001B[0m\u001B[0;34m\u001B[0m\u001B[0m\n\u001B[0m\u001B[1;32m    190\u001B[0m \u001B[0;34m\u001B[0m\u001B[0m\n\u001B[1;32m    191\u001B[0m   \u001B[0mcomm_manager\u001B[0m \u001B[0;34m=\u001B[0m \u001B[0m_IPython\u001B[0m\u001B[0;34m.\u001B[0m\u001B[0mget_ipython\u001B[0m\u001B[0;34m(\u001B[0m\u001B[0;34m)\u001B[0m\u001B[0;34m.\u001B[0m\u001B[0mkernel\u001B[0m\u001B[0;34m.\u001B[0m\u001B[0mcomm_manager\u001B[0m\u001B[0;34m\u001B[0m\u001B[0;34m\u001B[0m\u001B[0m\n",
      "\u001B[0;31mFileNotFoundError\u001B[0m: Cannot find file: Transformer_SGDmom_test.npy"
     ]
    }
   ]
  },
  {
   "cell_type": "code",
   "source": [
    "if train_transformer is True:\n",
    "\n",
    "  # Show results of the loss function\n",
    "\n",
    "  fig = plt.figure(figsize = (15,15))\n",
    "\n",
    "  ax = fig.add_subplot(111)\n",
    "  plt.ion()\n",
    "\n",
    "  fig.show()\n",
    "  fig.canvas.draw()\n",
    "\n",
    "  ax.plot([np.mean(i) for i in test_losses_1], label= 'Test Loss Vanila Transformer model')\n",
    "\n",
    "  ax.plot([np.mean(i) for i in train_losses_3], label= 'Train_loss Transformer model')\n",
    "  ax.plot([np.mean(i) for i in test_losses_3], label= 'Test_loss Transformer model')\n",
    "  ax.set_title(\"Training results Transformer (6 encoder layers, 1 decoder layer, 6 heads. SGD with momentum\")\n",
    "  ax.set_xlabel('Epoch')\n",
    "  ax.set_ylabel('Mean Squared Error')\n",
    "  ax.legend()\n",
    "  fig.canvas.draw()"
   ],
   "metadata": {
    "id": "G0YW8gdElCjJ",
    "pycharm": {
     "name": "#%%\n"
    }
   },
   "execution_count": null,
   "outputs": []
  },
  {
   "cell_type": "code",
   "source": [
    "# Initialize Transformer Model and Optimizer\n",
    "start_time = datetime.now()\n",
    "continue_training = False\n",
    "\n",
    "if continue_training is False:\n",
    "  model_transformer_small = Transformer (num_encoder_layers=1,\n",
    "                      num_decoder_layers=1,\n",
    "                      feature_size=18,\n",
    "                      output_size=18,\n",
    "                      num_heads=1,\n",
    "                      dim_feedforward=2048,\n",
    "                      device = device,\n",
    "                      batch_first=True)\n",
    "\n",
    "n_epochs = 200\n",
    "\n",
    "print('Setup model Ok')\n",
    "\n",
    "optimizer = torch.optim.SGD(model_transformer.parameters(), lr=0.01, momentum= 0.9)\n",
    "criterion = nn.MSELoss()\n",
    "\n",
    "print('Setup optimizer Ok')\n",
    "\n",
    "train_transformer = False\n",
    "\n",
    "if train_transformer is True:\n",
    "  trained_model_transformer_4, train_losses_4, test_losses_4 = training_transformer(\n",
    "      model= model_transformer, \n",
    "      optimizer= optimizer, \n",
    "      criterion= criterion, \n",
    "      train_loader= loader_train_seq, \n",
    "      test_loader= loader_test_seq, \n",
    "      n_epochs= n_epochs,\n",
    "      device=device)\n",
    "  \n",
    "end_time = datetime.now()\n",
    "time_diff = (end_time - start_time)\n",
    "execution_time = time_diff.total_seconds()\n",
    "\n",
    "print(f'Training time: {execution_time} seconds')\n",
    "\n",
    "# save to npy file\n",
    "if True:\n",
    "  np.save('Transformer_small_train.npy', train_losses_4)\n",
    "  np.save('Transformer_small_test.npy', test_losses_4)\n",
    "  files.download('Transformer_small_train.npy') \n",
    "  files.download('Transformer_small_test.npy') "
   ],
   "metadata": {
    "id": "FrMnb5N0lzpo",
    "pycharm": {
     "name": "#%%\n"
    }
   },
   "execution_count": 52,
   "outputs": [
    {
     "name": "stdout",
     "output_type": "stream",
     "text": [
      "Setup model Ok\n",
      "Setup optimizer Ok\n",
      "Training time: 0.005903 seconds\n"
     ]
    },
    {
     "ename": "NameError",
     "evalue": "name 'train_losses_4' is not defined",
     "output_type": "error",
     "traceback": [
      "\u001B[0;31m---------------------------------------------------------------------------\u001B[0m",
      "\u001B[0;31mNameError\u001B[0m                                 Traceback (most recent call last)",
      "\u001B[0;32m/var/folders/2s/vg97_p793_97vgjwtr42qdm80000gn/T/ipykernel_40021/584299991.py\u001B[0m in \u001B[0;36m<module>\u001B[0;34m\u001B[0m\n\u001B[1;32m     42\u001B[0m \u001B[0;31m# save to npy file\u001B[0m\u001B[0;34m\u001B[0m\u001B[0;34m\u001B[0m\u001B[0;34m\u001B[0m\u001B[0m\n\u001B[1;32m     43\u001B[0m \u001B[0;32mif\u001B[0m \u001B[0;32mTrue\u001B[0m\u001B[0;34m:\u001B[0m\u001B[0;34m\u001B[0m\u001B[0;34m\u001B[0m\u001B[0m\n\u001B[0;32m---> 44\u001B[0;31m   \u001B[0mnp\u001B[0m\u001B[0;34m.\u001B[0m\u001B[0msave\u001B[0m\u001B[0;34m(\u001B[0m\u001B[0;34m'Transformer_small_train.npy'\u001B[0m\u001B[0;34m,\u001B[0m \u001B[0mtrain_losses_4\u001B[0m\u001B[0;34m)\u001B[0m\u001B[0;34m\u001B[0m\u001B[0;34m\u001B[0m\u001B[0m\n\u001B[0m\u001B[1;32m     45\u001B[0m   \u001B[0mnp\u001B[0m\u001B[0;34m.\u001B[0m\u001B[0msave\u001B[0m\u001B[0;34m(\u001B[0m\u001B[0;34m'Transformer_small_test.npy'\u001B[0m\u001B[0;34m,\u001B[0m \u001B[0mtest_losses_4\u001B[0m\u001B[0;34m)\u001B[0m\u001B[0;34m\u001B[0m\u001B[0;34m\u001B[0m\u001B[0m\n\u001B[1;32m     46\u001B[0m   \u001B[0mfiles\u001B[0m\u001B[0;34m.\u001B[0m\u001B[0mdownload\u001B[0m\u001B[0;34m(\u001B[0m\u001B[0;34m'Transformer_small_train.npy'\u001B[0m\u001B[0;34m)\u001B[0m\u001B[0;34m\u001B[0m\u001B[0;34m\u001B[0m\u001B[0m\n",
      "\u001B[0;31mNameError\u001B[0m: name 'train_losses_4' is not defined"
     ]
    }
   ]
  },
  {
   "cell_type": "code",
   "source": [
    "if train_transformer is True:\n",
    "\n",
    "  # Show results of the loss function\n",
    "\n",
    "  fig = plt.figure(figsize = (15,15))\n",
    "\n",
    "  ax = fig.add_subplot(111)\n",
    "  plt.ion()\n",
    "\n",
    "  fig.show()\n",
    "  fig.canvas.draw()\n",
    "\n",
    "  ax.plot([np.mean(i) for i in test_losses_1], label= 'Test Loss Vanila Transformer model')\n",
    "\n",
    "  ax.plot([np.mean(i) for i in train_losses_3], label= 'Train_loss Transformer smallest model')\n",
    "  ax.plot([np.mean(i) for i in test_losses_3], label= 'Test_loss Transformer smallest model')\n",
    "  ax.set_title(\"Training results Transformer (1 encoder layers, 1 decoder layer, 1 heads. SGD with momentum\")\n",
    "  ax.set_xlabel('Epoch')\n",
    "  ax.set_ylabel('Mean Squared Error')\n",
    "  ax.legend()\n",
    "  fig.canvas.draw()"
   ],
   "metadata": {
    "id": "ibc3UxEbm-86",
    "pycharm": {
     "name": "#%%\n"
    }
   },
   "execution_count": null,
   "outputs": []
  },
  {
   "cell_type": "code",
   "source": [
    "# Initialize Transformer Model and Optimizer\n",
    "start_time = datetime.now()\n",
    "continue_training = False\n",
    "\n",
    "if continue_training is False:\n",
    "  model_transformer_big = Transformer (num_encoder_layers=10,\n",
    "                      num_decoder_layers=5,\n",
    "                      feature_size=18,\n",
    "                      output_size=18,\n",
    "                      num_heads=9,\n",
    "                      dim_feedforward=2048,\n",
    "                      device = device,\n",
    "                      batch_first=True)\n",
    "\n",
    "n_epochs = 200\n",
    "\n",
    "print('Setup model Ok')\n",
    "\n",
    "optimizer = torch.optim.SGD(model_transformer.parameters(), lr=0.01, momentum= 0.9)\n",
    "criterion = nn.MSELoss()\n",
    "\n",
    "print('Setup optimizer Ok')\n",
    "\n",
    "train_transformer = False\n",
    "\n",
    "if train_transformer is True:\n",
    "  trained_model_transformer_5, train_losses_5, test_losses_5 = training_transformer(\n",
    "      model= model_transformer, \n",
    "      optimizer= optimizer, \n",
    "      criterion= criterion, \n",
    "      train_loader= loader_train_seq, \n",
    "      test_loader= loader_test_seq, \n",
    "      n_epochs= n_epochs,\n",
    "      device=device)\n",
    "  \n",
    "end_time = datetime.now()\n",
    "time_diff = (end_time - start_time)\n",
    "execution_time = time_diff.total_seconds()\n",
    "\n",
    "print(f'Training time: {execution_time} seconds')\n",
    "\n",
    "# save to npy file\n",
    "if True:\n",
    "  np.save('Transformer_big_train.npy', train_losses_5)\n",
    "  np.save('Transformer_big_test.npy', test_losses_5)\n",
    "  files.download('Transformer_big_train.npy') \n",
    "  files.download('Transformer_big_test.npy') "
   ],
   "metadata": {
    "id": "X4tY2t3Is27X",
    "pycharm": {
     "name": "#%%\n"
    }
   },
   "execution_count": 51,
   "outputs": [
    {
     "name": "stdout",
     "output_type": "stream",
     "text": [
      "Setup model Ok\n",
      "Setup optimizer Ok\n",
      "Training time: 0.014449 seconds\n"
     ]
    },
    {
     "ename": "NameError",
     "evalue": "name 'train_losses_5' is not defined",
     "output_type": "error",
     "traceback": [
      "\u001B[0;31m---------------------------------------------------------------------------\u001B[0m",
      "\u001B[0;31mNameError\u001B[0m                                 Traceback (most recent call last)",
      "\u001B[0;32m/var/folders/2s/vg97_p793_97vgjwtr42qdm80000gn/T/ipykernel_40021/4203378037.py\u001B[0m in \u001B[0;36m<module>\u001B[0;34m\u001B[0m\n\u001B[1;32m     42\u001B[0m \u001B[0;31m# save to npy file\u001B[0m\u001B[0;34m\u001B[0m\u001B[0;34m\u001B[0m\u001B[0;34m\u001B[0m\u001B[0m\n\u001B[1;32m     43\u001B[0m \u001B[0;32mif\u001B[0m \u001B[0;32mTrue\u001B[0m\u001B[0;34m:\u001B[0m\u001B[0;34m\u001B[0m\u001B[0;34m\u001B[0m\u001B[0m\n\u001B[0;32m---> 44\u001B[0;31m   \u001B[0mnp\u001B[0m\u001B[0;34m.\u001B[0m\u001B[0msave\u001B[0m\u001B[0;34m(\u001B[0m\u001B[0;34m'Transformer_big_train.npy'\u001B[0m\u001B[0;34m,\u001B[0m \u001B[0mtrain_losses_5\u001B[0m\u001B[0;34m)\u001B[0m\u001B[0;34m\u001B[0m\u001B[0;34m\u001B[0m\u001B[0m\n\u001B[0m\u001B[1;32m     45\u001B[0m   \u001B[0mnp\u001B[0m\u001B[0;34m.\u001B[0m\u001B[0msave\u001B[0m\u001B[0;34m(\u001B[0m\u001B[0;34m'Transformer_big_test.npy'\u001B[0m\u001B[0;34m,\u001B[0m \u001B[0mtest_losses_5\u001B[0m\u001B[0;34m)\u001B[0m\u001B[0;34m\u001B[0m\u001B[0;34m\u001B[0m\u001B[0m\n\u001B[1;32m     46\u001B[0m   \u001B[0mfiles\u001B[0m\u001B[0;34m.\u001B[0m\u001B[0mdownload\u001B[0m\u001B[0;34m(\u001B[0m\u001B[0;34m'Transformer_big_train.npy'\u001B[0m\u001B[0;34m)\u001B[0m\u001B[0;34m\u001B[0m\u001B[0;34m\u001B[0m\u001B[0m\n",
      "\u001B[0;31mNameError\u001B[0m: name 'train_losses_5' is not defined"
     ]
    }
   ]
  },
  {
   "cell_type": "code",
   "source": [
    "if train_transformer is True:\n",
    "\n",
    "  # Show results of the loss function\n",
    "\n",
    "  fig = plt.figure(figsize = (15,15))\n",
    "\n",
    "  ax = fig.add_subplot(111)\n",
    "  plt.ion()\n",
    "\n",
    "  fig.show()\n",
    "  fig.canvas.draw()\n",
    "\n",
    "  ax.plot([np.mean(i) for i in test_losses_1], label= 'Test Loss Vanila Transformer model')\n",
    "\n",
    "  ax.plot([np.mean(i) for i in train_losses_5], label= 'Train_loss Transformer bigger model')\n",
    "  ax.plot([np.mean(i) for i in test_losses_5], label= 'Test_loss Transformer bigger model')\n",
    "  ax.set_title(\"Training results Transformer (10 encoder layers, 5 decoder layer, 9 heads. SGD with momentum\")\n",
    "  ax.set_xlabel('Epoch')\n",
    "  ax.set_ylabel('Mean Squared Error')\n",
    "  ax.legend()\n",
    "  fig.canvas.draw()"
   ],
   "metadata": {
    "id": "pmaLOKcEr_gV",
    "pycharm": {
     "name": "#%%\n"
    }
   },
   "execution_count": null,
   "outputs": []
  },
  {
   "cell_type": "code",
   "source": [
    "loader_train_seq_short, loader_test_seq_short = create_sequece_dataloaders_new(dataset_norm, 15, 16)"
   ],
   "metadata": {
    "id": "R9xgPdh5pLy7",
    "outputId": "043fa0e1-e92d-4dc7-cf12-05376571513a",
    "colab": {
     "base_uri": "https://localhost:8080/"
    },
    "pycharm": {
     "name": "#%%\n"
    }
   },
   "execution_count": 33,
   "outputs": [
    {
     "output_type": "stream",
     "name": "stderr",
     "text": [
      "100%|██████████| 63344/63344 [00:41<00:00, 1529.11it/s]\n",
      "/usr/local/lib/python3.7/dist-packages/ipykernel_launcher.py:19: VisibleDeprecationWarning: Creating an ndarray from ragged nested sequences (which is a list-or-tuple of lists-or-tuples-or ndarrays with different lengths or shapes) is deprecated. If you meant to do this, you must specify 'dtype=object' when creating the ndarray.\n"
     ]
    },
    {
     "output_type": "stream",
     "name": "stdout",
     "text": [
      "length of training set (whole dataset): 57009\n",
      "length of test set (whole dataset): 6335\n",
      "\n",
      "\n"
     ]
    }
   ]
  },
  {
   "cell_type": "code",
   "source": [
    "# Initialize Transformer Model and Optimizer\n",
    "start_time = datetime.now()\n",
    "continue_training = False\n",
    "\n",
    "if continue_training is False:\n",
    "  model_transformer = Transformer (num_encoder_layers=6,\n",
    "                      num_decoder_layers=1,\n",
    "                      feature_size=18,\n",
    "                      output_size=18,\n",
    "                      num_heads=6,\n",
    "                      dim_feedforward=2048,\n",
    "                      device = device,\n",
    "                      batch_first=True)\n",
    "\n",
    "n_epochs = 200\n",
    "\n",
    "print('Setup model Ok')\n",
    "\n",
    "optimizer = torch.optim.SGD(model_transformer.parameters(), lr=0.01, momentum= 0.9)\n",
    "criterion = nn.MSELoss()\n",
    "\n",
    "print('Setup optimizer Ok')\n",
    "\n",
    "train_transformer = True\n",
    "\n",
    "if train_transformer is True:\n",
    "  trained_model_transformer_short, train_losses_short, test_losses_short = training_transformer(\n",
    "      model= model_transformer, \n",
    "      optimizer= optimizer, \n",
    "      criterion= criterion, \n",
    "      train_loader= loader_train_seq_short, \n",
    "      test_loader= loader_test_seq_short, \n",
    "      n_epochs= n_epochs,\n",
    "      device=device)\n",
    "  \n",
    "end_time = datetime.now()\n",
    "time_diff = (end_time - start_time)\n",
    "execution_time = time_diff.total_seconds()\n",
    "\n",
    "print(f'Training time: {execution_time} seconds')\n",
    "\n",
    "# save to npy file\n",
    "if True:\n",
    "  np.save('Transformer_shortseq_train.npy', train_losses_short)\n",
    "  np.save('Transformer_shortseq_test.npy', test_losses_short)\n",
    "  files.download('Transformer_shortseq_train.npy') \n",
    "  files.download('Transformer_shortseq_test.npy') "
   ],
   "metadata": {
    "id": "YLtU0nwMpUl_",
    "outputId": "f5bbd535-4c54-4aaf-9c71-a9ce045a5cca",
    "colab": {
     "base_uri": "https://localhost:8080/",
     "height": 1000
    },
    "pycharm": {
     "name": "#%%\n"
    }
   },
   "execution_count": 34,
   "outputs": [
    {
     "output_type": "stream",
     "name": "stdout",
     "text": [
      "Setup model Ok\n",
      "Setup optimizer Ok\n",
      "Epoch: 1 of 200\n",
      "Training...\n"
     ]
    },
    {
     "output_type": "stream",
     "name": "stderr",
     "text": [
      "100%|██████████| 3564/3564 [01:29<00:00, 40.00it/s]\n"
     ]
    },
    {
     "output_type": "stream",
     "name": "stdout",
     "text": [
      "\n",
      "Test with training set\n"
     ]
    },
    {
     "output_type": "stream",
     "name": "stderr",
     "text": [
      "100%|██████████| 3564/3564 [00:25<00:00, 138.23it/s]\n"
     ]
    },
    {
     "output_type": "stream",
     "name": "stdout",
     "text": [
      "\n",
      "Current Mean loss Train Set:  0.35778254306510376\n",
      "\n",
      "Test with test set\n"
     ]
    },
    {
     "output_type": "stream",
     "name": "stderr",
     "text": [
      "100%|██████████| 396/396 [00:02<00:00, 136.33it/s]\n"
     ]
    },
    {
     "output_type": "stream",
     "name": "stdout",
     "text": [
      "\n",
      "Current Mean loss Test Set:  0.347094971950006\n",
      "\n",
      "\n",
      "Epoch: 2 of 200\n",
      "Training...\n"
     ]
    },
    {
     "output_type": "stream",
     "name": "stderr",
     "text": [
      "100%|██████████| 3564/3564 [01:28<00:00, 40.44it/s]\n"
     ]
    },
    {
     "output_type": "stream",
     "name": "stdout",
     "text": [
      "\n",
      "Test with training set\n"
     ]
    },
    {
     "output_type": "stream",
     "name": "stderr",
     "text": [
      "100%|██████████| 3564/3564 [00:25<00:00, 139.81it/s]\n"
     ]
    },
    {
     "output_type": "stream",
     "name": "stdout",
     "text": [
      "\n",
      "Current Mean loss Train Set:  0.3409532145476836\n",
      "\n",
      "Test with test set\n"
     ]
    },
    {
     "output_type": "stream",
     "name": "stderr",
     "text": [
      "100%|██████████| 396/396 [00:02<00:00, 141.76it/s]\n"
     ]
    },
    {
     "output_type": "stream",
     "name": "stdout",
     "text": [
      "\n",
      "Current Mean loss Test Set:  0.33139172651701504\n",
      "\n",
      "\n",
      "Epoch: 3 of 200\n",
      "Training...\n"
     ]
    },
    {
     "output_type": "stream",
     "name": "stderr",
     "text": [
      "100%|██████████| 3564/3564 [01:28<00:00, 40.37it/s]\n"
     ]
    },
    {
     "output_type": "stream",
     "name": "stdout",
     "text": [
      "\n",
      "Test with training set\n"
     ]
    },
    {
     "output_type": "stream",
     "name": "stderr",
     "text": [
      "100%|██████████| 3564/3564 [00:26<00:00, 135.92it/s]\n"
     ]
    },
    {
     "output_type": "stream",
     "name": "stdout",
     "text": [
      "\n",
      "Current Mean loss Train Set:  0.3248378017469906\n",
      "\n",
      "Test with test set\n"
     ]
    },
    {
     "output_type": "stream",
     "name": "stderr",
     "text": [
      "100%|██████████| 396/396 [00:03<00:00, 128.50it/s]\n"
     ]
    },
    {
     "output_type": "stream",
     "name": "stdout",
     "text": [
      "\n",
      "Current Mean loss Test Set:  0.3174597368848444\n",
      "\n",
      "\n",
      "Epoch: 4 of 200\n",
      "Training...\n"
     ]
    },
    {
     "output_type": "stream",
     "name": "stderr",
     "text": [
      "100%|██████████| 3564/3564 [01:29<00:00, 39.97it/s]\n"
     ]
    },
    {
     "output_type": "stream",
     "name": "stdout",
     "text": [
      "\n",
      "Test with training set\n"
     ]
    },
    {
     "output_type": "stream",
     "name": "stderr",
     "text": [
      "100%|██████████| 3564/3564 [00:25<00:00, 137.91it/s]\n"
     ]
    },
    {
     "output_type": "stream",
     "name": "stdout",
     "text": [
      "\n",
      "Current Mean loss Train Set:  0.30695137083446805\n",
      "\n",
      "Test with test set\n"
     ]
    },
    {
     "output_type": "stream",
     "name": "stderr",
     "text": [
      "100%|██████████| 396/396 [00:02<00:00, 137.91it/s]\n"
     ]
    },
    {
     "output_type": "stream",
     "name": "stdout",
     "text": [
      "\n",
      "Current Mean loss Test Set:  0.29922878019737476\n",
      "\n",
      "\n",
      "Epoch: 5 of 200\n",
      "Training...\n"
     ]
    },
    {
     "output_type": "stream",
     "name": "stderr",
     "text": [
      "100%|██████████| 3564/3564 [01:28<00:00, 40.32it/s]\n"
     ]
    },
    {
     "output_type": "stream",
     "name": "stdout",
     "text": [
      "\n",
      "Test with training set\n"
     ]
    },
    {
     "output_type": "stream",
     "name": "stderr",
     "text": [
      "100%|██████████| 3564/3564 [00:26<00:00, 135.87it/s]\n"
     ]
    },
    {
     "output_type": "stream",
     "name": "stdout",
     "text": [
      "\n",
      "Current Mean loss Train Set:  0.28996767904128623\n",
      "\n",
      "Test with test set\n"
     ]
    },
    {
     "output_type": "stream",
     "name": "stderr",
     "text": [
      "100%|██████████| 396/396 [00:02<00:00, 134.32it/s]\n"
     ]
    },
    {
     "output_type": "stream",
     "name": "stdout",
     "text": [
      "\n",
      "Current Mean loss Test Set:  0.2813628578953671\n",
      "\n",
      "\n",
      "Epoch: 6 of 200\n",
      "Training...\n"
     ]
    },
    {
     "output_type": "stream",
     "name": "stderr",
     "text": [
      "100%|██████████| 3564/3564 [01:28<00:00, 40.18it/s]\n"
     ]
    },
    {
     "output_type": "stream",
     "name": "stdout",
     "text": [
      "\n",
      "Test with training set\n"
     ]
    },
    {
     "output_type": "stream",
     "name": "stderr",
     "text": [
      "100%|██████████| 3564/3564 [00:25<00:00, 137.50it/s]\n"
     ]
    },
    {
     "output_type": "stream",
     "name": "stdout",
     "text": [
      "\n",
      "Current Mean loss Train Set:  0.2907757669055937\n",
      "\n",
      "Test with test set\n"
     ]
    },
    {
     "output_type": "stream",
     "name": "stderr",
     "text": [
      "100%|██████████| 396/396 [00:02<00:00, 135.21it/s]\n"
     ]
    },
    {
     "output_type": "stream",
     "name": "stdout",
     "text": [
      "\n",
      "Current Mean loss Test Set:  0.28271561810238793\n",
      "\n",
      "\n",
      "Epoch: 7 of 200\n",
      "Training...\n"
     ]
    },
    {
     "output_type": "stream",
     "name": "stderr",
     "text": [
      "100%|██████████| 3564/3564 [01:28<00:00, 40.19it/s]\n"
     ]
    },
    {
     "output_type": "stream",
     "name": "stdout",
     "text": [
      "\n",
      "Test with training set\n"
     ]
    },
    {
     "output_type": "stream",
     "name": "stderr",
     "text": [
      "100%|██████████| 3564/3564 [00:26<00:00, 136.15it/s]\n"
     ]
    },
    {
     "output_type": "stream",
     "name": "stdout",
     "text": [
      "\n",
      "Current Mean loss Train Set:  0.2832001059574277\n",
      "\n",
      "Test with test set\n"
     ]
    },
    {
     "output_type": "stream",
     "name": "stderr",
     "text": [
      "100%|██████████| 396/396 [00:02<00:00, 138.18it/s]\n"
     ]
    },
    {
     "output_type": "stream",
     "name": "stdout",
     "text": [
      "\n",
      "Current Mean loss Test Set:  0.27380430254370275\n",
      "\n",
      "\n",
      "Epoch: 8 of 200\n",
      "Training...\n"
     ]
    },
    {
     "output_type": "stream",
     "name": "stderr",
     "text": [
      "100%|██████████| 3564/3564 [01:28<00:00, 40.27it/s]\n"
     ]
    },
    {
     "output_type": "stream",
     "name": "stdout",
     "text": [
      "\n",
      "Test with training set\n"
     ]
    },
    {
     "output_type": "stream",
     "name": "stderr",
     "text": [
      "100%|██████████| 3564/3564 [00:26<00:00, 135.85it/s]\n"
     ]
    },
    {
     "output_type": "stream",
     "name": "stdout",
     "text": [
      "\n",
      "Current Mean loss Train Set:  0.27352485423813566\n",
      "\n",
      "Test with test set\n"
     ]
    },
    {
     "output_type": "stream",
     "name": "stderr",
     "text": [
      "100%|██████████| 396/396 [00:02<00:00, 138.14it/s]\n"
     ]
    },
    {
     "output_type": "stream",
     "name": "stdout",
     "text": [
      "\n",
      "Current Mean loss Test Set:  0.2659822155279343\n",
      "\n",
      "\n",
      "Epoch: 9 of 200\n",
      "Training...\n"
     ]
    },
    {
     "output_type": "stream",
     "name": "stderr",
     "text": [
      "100%|██████████| 3564/3564 [01:29<00:00, 40.02it/s]\n"
     ]
    },
    {
     "output_type": "stream",
     "name": "stdout",
     "text": [
      "\n",
      "Test with training set\n"
     ]
    },
    {
     "output_type": "stream",
     "name": "stderr",
     "text": [
      "100%|██████████| 3564/3564 [00:25<00:00, 137.78it/s]\n"
     ]
    },
    {
     "output_type": "stream",
     "name": "stdout",
     "text": [
      "\n",
      "Current Mean loss Train Set:  0.28376005016116784\n",
      "\n",
      "Test with test set\n"
     ]
    },
    {
     "output_type": "stream",
     "name": "stderr",
     "text": [
      "100%|██████████| 396/396 [00:02<00:00, 136.73it/s]\n"
     ]
    },
    {
     "output_type": "stream",
     "name": "stdout",
     "text": [
      "\n",
      "Current Mean loss Test Set:  0.2746546105340575\n",
      "\n",
      "\n",
      "Epoch: 10 of 200\n",
      "Training...\n"
     ]
    },
    {
     "output_type": "stream",
     "name": "stderr",
     "text": [
      "100%|██████████| 3564/3564 [01:28<00:00, 40.23it/s]\n"
     ]
    },
    {
     "output_type": "stream",
     "name": "stdout",
     "text": [
      "\n",
      "Test with training set\n"
     ]
    },
    {
     "output_type": "stream",
     "name": "stderr",
     "text": [
      "100%|██████████| 3564/3564 [00:25<00:00, 137.37it/s]\n"
     ]
    },
    {
     "output_type": "stream",
     "name": "stdout",
     "text": [
      "\n",
      "Current Mean loss Train Set:  0.26246805874762513\n",
      "\n",
      "Test with test set\n"
     ]
    },
    {
     "output_type": "stream",
     "name": "stderr",
     "text": [
      "100%|██████████| 396/396 [00:02<00:00, 140.97it/s]\n"
     ]
    },
    {
     "output_type": "stream",
     "name": "stdout",
     "text": [
      "\n",
      "Current Mean loss Test Set:  0.25399820288323394\n",
      "\n",
      "\n",
      "Epoch: 11 of 200\n",
      "Training...\n"
     ]
    },
    {
     "output_type": "stream",
     "name": "stderr",
     "text": [
      "100%|██████████| 3564/3564 [01:31<00:00, 39.14it/s]\n"
     ]
    },
    {
     "output_type": "stream",
     "name": "stdout",
     "text": [
      "\n",
      "Test with training set\n"
     ]
    },
    {
     "output_type": "stream",
     "name": "stderr",
     "text": [
      "100%|██████████| 3564/3564 [00:26<00:00, 136.97it/s]\n"
     ]
    },
    {
     "output_type": "stream",
     "name": "stdout",
     "text": [
      "\n",
      "Current Mean loss Train Set:  0.2682927225190649\n",
      "\n",
      "Test with test set\n"
     ]
    },
    {
     "output_type": "stream",
     "name": "stderr",
     "text": [
      "100%|██████████| 396/396 [00:02<00:00, 139.97it/s]\n"
     ]
    },
    {
     "output_type": "stream",
     "name": "stdout",
     "text": [
      "\n",
      "Current Mean loss Test Set:  0.2602221655913375\n",
      "\n",
      "\n",
      "Epoch: 12 of 200\n",
      "Training...\n"
     ]
    },
    {
     "output_type": "stream",
     "name": "stderr",
     "text": [
      " 77%|███████▋  | 2739/3564 [01:07<00:20, 40.51it/s]\n"
     ]
    },
    {
     "output_type": "error",
     "ename": "KeyboardInterrupt",
     "evalue": "ignored",
     "traceback": [
      "\u001B[0;31m---------------------------------------------------------------------------\u001B[0m",
      "\u001B[0;31mKeyboardInterrupt\u001B[0m                         Traceback (most recent call last)",
      "\u001B[0;32m<ipython-input-34-3dad82c722de>\u001B[0m in \u001B[0;36m<module>\u001B[0;34m()\u001B[0m\n\u001B[1;32m     32\u001B[0m       \u001B[0mtest_loader\u001B[0m\u001B[0;34m=\u001B[0m \u001B[0mloader_test_seq_short\u001B[0m\u001B[0;34m,\u001B[0m\u001B[0;34m\u001B[0m\u001B[0;34m\u001B[0m\u001B[0m\n\u001B[1;32m     33\u001B[0m       \u001B[0mn_epochs\u001B[0m\u001B[0;34m=\u001B[0m \u001B[0mn_epochs\u001B[0m\u001B[0;34m,\u001B[0m\u001B[0;34m\u001B[0m\u001B[0;34m\u001B[0m\u001B[0m\n\u001B[0;32m---> 34\u001B[0;31m       device=device)\n\u001B[0m\u001B[1;32m     35\u001B[0m \u001B[0;34m\u001B[0m\u001B[0m\n\u001B[1;32m     36\u001B[0m \u001B[0mend_time\u001B[0m \u001B[0;34m=\u001B[0m \u001B[0mdatetime\u001B[0m\u001B[0;34m.\u001B[0m\u001B[0mnow\u001B[0m\u001B[0;34m(\u001B[0m\u001B[0;34m)\u001B[0m\u001B[0;34m\u001B[0m\u001B[0;34m\u001B[0m\u001B[0m\n",
      "\u001B[0;32m<ipython-input-27-f9fc8336f266>\u001B[0m in \u001B[0;36mtraining_transformer\u001B[0;34m(model, optimizer, criterion, train_loader, test_loader, n_epochs, device)\u001B[0m\n\u001B[1;32m     15\u001B[0m       \u001B[0mtarget\u001B[0m \u001B[0;34m=\u001B[0m \u001B[0mi\u001B[0m\u001B[0;34m[\u001B[0m\u001B[0;36m2\u001B[0m\u001B[0;34m]\u001B[0m\u001B[0;34m.\u001B[0m\u001B[0munsqueeze\u001B[0m\u001B[0;34m(\u001B[0m\u001B[0;36m0\u001B[0m\u001B[0;34m)\u001B[0m\u001B[0;34m.\u001B[0m\u001B[0mpermute\u001B[0m\u001B[0;34m(\u001B[0m\u001B[0;36m1\u001B[0m\u001B[0;34m,\u001B[0m\u001B[0;36m0\u001B[0m\u001B[0;34m,\u001B[0m\u001B[0;36m2\u001B[0m\u001B[0;34m)\u001B[0m\u001B[0;34m\u001B[0m\u001B[0;34m\u001B[0m\u001B[0m\n\u001B[1;32m     16\u001B[0m \u001B[0;34m\u001B[0m\u001B[0m\n\u001B[0;32m---> 17\u001B[0;31m       \u001B[0mnet_out\u001B[0m \u001B[0;34m=\u001B[0m \u001B[0mmodel\u001B[0m\u001B[0;34m.\u001B[0m\u001B[0mforward\u001B[0m\u001B[0;34m(\u001B[0m\u001B[0minput\u001B[0m\u001B[0;34m,\u001B[0m \u001B[0mout\u001B[0m\u001B[0;34m)\u001B[0m\u001B[0;34m\u001B[0m\u001B[0;34m\u001B[0m\u001B[0m\n\u001B[0m\u001B[1;32m     18\u001B[0m \u001B[0;34m\u001B[0m\u001B[0m\n\u001B[1;32m     19\u001B[0m       \u001B[0;31m#Compute loss\u001B[0m\u001B[0;34m\u001B[0m\u001B[0;34m\u001B[0m\u001B[0;34m\u001B[0m\u001B[0m\n",
      "\u001B[0;32m<ipython-input-26-5205d6c2355f>\u001B[0m in \u001B[0;36mforward\u001B[0;34m(self, enc_input, dec_input)\u001B[0m\n\u001B[1;32m     35\u001B[0m         \u001B[0msrc_pos_dec\u001B[0m \u001B[0;34m=\u001B[0m \u001B[0mdec_input\u001B[0m \u001B[0;34m+\u001B[0m \u001B[0mself\u001B[0m\u001B[0;34m.\u001B[0m\u001B[0mpositional_encoding\u001B[0m\u001B[0;34m(\u001B[0m\u001B[0mseq_len\u001B[0m\u001B[0;34m=\u001B[0m \u001B[0mdec_input\u001B[0m\u001B[0;34m.\u001B[0m\u001B[0mshape\u001B[0m\u001B[0;34m[\u001B[0m\u001B[0;36m1\u001B[0m\u001B[0;34m]\u001B[0m\u001B[0;34m,\u001B[0m \u001B[0mdim_model\u001B[0m\u001B[0;34m=\u001B[0m \u001B[0mdec_input\u001B[0m\u001B[0;34m.\u001B[0m\u001B[0mshape\u001B[0m\u001B[0;34m[\u001B[0m\u001B[0;36m2\u001B[0m\u001B[0;34m]\u001B[0m\u001B[0;34m,\u001B[0m \u001B[0mdevice\u001B[0m\u001B[0;34m=\u001B[0m \u001B[0mself\u001B[0m\u001B[0;34m.\u001B[0m\u001B[0mdevice\u001B[0m\u001B[0;34m)\u001B[0m\u001B[0;34m\u001B[0m\u001B[0;34m\u001B[0m\u001B[0m\n\u001B[1;32m     36\u001B[0m \u001B[0;34m\u001B[0m\u001B[0m\n\u001B[0;32m---> 37\u001B[0;31m         \u001B[0moutput\u001B[0m \u001B[0;34m=\u001B[0m \u001B[0mself\u001B[0m\u001B[0;34m.\u001B[0m\u001B[0mencoder\u001B[0m \u001B[0;34m(\u001B[0m\u001B[0msrc\u001B[0m\u001B[0;34m=\u001B[0m \u001B[0msrc_pos_enc\u001B[0m\u001B[0;34m,\u001B[0m \u001B[0mmask\u001B[0m\u001B[0;34m=\u001B[0m\u001B[0;32mNone\u001B[0m\u001B[0;34m)\u001B[0m\u001B[0;34m\u001B[0m\u001B[0;34m\u001B[0m\u001B[0m\n\u001B[0m\u001B[1;32m     38\u001B[0m         \u001B[0moutput\u001B[0m \u001B[0;34m=\u001B[0m \u001B[0mself\u001B[0m\u001B[0;34m.\u001B[0m\u001B[0mdecoder\u001B[0m \u001B[0;34m(\u001B[0m\u001B[0mtgt\u001B[0m\u001B[0;34m=\u001B[0m \u001B[0msrc_pos_dec\u001B[0m\u001B[0;34m,\u001B[0m \u001B[0mmemory\u001B[0m\u001B[0;34m=\u001B[0m \u001B[0moutput\u001B[0m\u001B[0;34m,\u001B[0m \u001B[0mtgt_mask\u001B[0m\u001B[0;34m=\u001B[0m\u001B[0;32mNone\u001B[0m\u001B[0;34m,\u001B[0m \u001B[0mmemory_mask\u001B[0m\u001B[0;34m=\u001B[0m\u001B[0;32mNone\u001B[0m\u001B[0;34m)\u001B[0m\u001B[0;34m\u001B[0m\u001B[0;34m\u001B[0m\u001B[0m\n\u001B[1;32m     39\u001B[0m \u001B[0;34m\u001B[0m\u001B[0m\n",
      "\u001B[0;32m/usr/local/lib/python3.7/dist-packages/torch/nn/modules/module.py\u001B[0m in \u001B[0;36m_call_impl\u001B[0;34m(self, *input, **kwargs)\u001B[0m\n\u001B[1;32m   1108\u001B[0m         if not (self._backward_hooks or self._forward_hooks or self._forward_pre_hooks or _global_backward_hooks\n\u001B[1;32m   1109\u001B[0m                 or _global_forward_hooks or _global_forward_pre_hooks):\n\u001B[0;32m-> 1110\u001B[0;31m             \u001B[0;32mreturn\u001B[0m \u001B[0mforward_call\u001B[0m\u001B[0;34m(\u001B[0m\u001B[0;34m*\u001B[0m\u001B[0minput\u001B[0m\u001B[0;34m,\u001B[0m \u001B[0;34m**\u001B[0m\u001B[0mkwargs\u001B[0m\u001B[0;34m)\u001B[0m\u001B[0;34m\u001B[0m\u001B[0;34m\u001B[0m\u001B[0m\n\u001B[0m\u001B[1;32m   1111\u001B[0m         \u001B[0;31m# Do not call functions when jit is used\u001B[0m\u001B[0;34m\u001B[0m\u001B[0;34m\u001B[0m\u001B[0;34m\u001B[0m\u001B[0m\n\u001B[1;32m   1112\u001B[0m         \u001B[0mfull_backward_hooks\u001B[0m\u001B[0;34m,\u001B[0m \u001B[0mnon_full_backward_hooks\u001B[0m \u001B[0;34m=\u001B[0m \u001B[0;34m[\u001B[0m\u001B[0;34m]\u001B[0m\u001B[0;34m,\u001B[0m \u001B[0;34m[\u001B[0m\u001B[0;34m]\u001B[0m\u001B[0;34m\u001B[0m\u001B[0;34m\u001B[0m\u001B[0m\n",
      "\u001B[0;32m/usr/local/lib/python3.7/dist-packages/torch/nn/modules/transformer.py\u001B[0m in \u001B[0;36mforward\u001B[0;34m(self, src, mask, src_key_padding_mask)\u001B[0m\n\u001B[1;32m    200\u001B[0m \u001B[0;34m\u001B[0m\u001B[0m\n\u001B[1;32m    201\u001B[0m         \u001B[0;32mfor\u001B[0m \u001B[0mmod\u001B[0m \u001B[0;32min\u001B[0m \u001B[0mself\u001B[0m\u001B[0;34m.\u001B[0m\u001B[0mlayers\u001B[0m\u001B[0;34m:\u001B[0m\u001B[0;34m\u001B[0m\u001B[0;34m\u001B[0m\u001B[0m\n\u001B[0;32m--> 202\u001B[0;31m             \u001B[0moutput\u001B[0m \u001B[0;34m=\u001B[0m \u001B[0mmod\u001B[0m\u001B[0;34m(\u001B[0m\u001B[0moutput\u001B[0m\u001B[0;34m,\u001B[0m \u001B[0msrc_mask\u001B[0m\u001B[0;34m=\u001B[0m\u001B[0mmask\u001B[0m\u001B[0;34m,\u001B[0m \u001B[0msrc_key_padding_mask\u001B[0m\u001B[0;34m=\u001B[0m\u001B[0msrc_key_padding_mask\u001B[0m\u001B[0;34m)\u001B[0m\u001B[0;34m\u001B[0m\u001B[0;34m\u001B[0m\u001B[0m\n\u001B[0m\u001B[1;32m    203\u001B[0m \u001B[0;34m\u001B[0m\u001B[0m\n\u001B[1;32m    204\u001B[0m         \u001B[0;32mif\u001B[0m \u001B[0mself\u001B[0m\u001B[0;34m.\u001B[0m\u001B[0mnorm\u001B[0m \u001B[0;32mis\u001B[0m \u001B[0;32mnot\u001B[0m \u001B[0;32mNone\u001B[0m\u001B[0;34m:\u001B[0m\u001B[0;34m\u001B[0m\u001B[0;34m\u001B[0m\u001B[0m\n",
      "\u001B[0;32m/usr/local/lib/python3.7/dist-packages/torch/nn/modules/module.py\u001B[0m in \u001B[0;36m_call_impl\u001B[0;34m(self, *input, **kwargs)\u001B[0m\n\u001B[1;32m   1108\u001B[0m         if not (self._backward_hooks or self._forward_hooks or self._forward_pre_hooks or _global_backward_hooks\n\u001B[1;32m   1109\u001B[0m                 or _global_forward_hooks or _global_forward_pre_hooks):\n\u001B[0;32m-> 1110\u001B[0;31m             \u001B[0;32mreturn\u001B[0m \u001B[0mforward_call\u001B[0m\u001B[0;34m(\u001B[0m\u001B[0;34m*\u001B[0m\u001B[0minput\u001B[0m\u001B[0;34m,\u001B[0m \u001B[0;34m**\u001B[0m\u001B[0mkwargs\u001B[0m\u001B[0;34m)\u001B[0m\u001B[0;34m\u001B[0m\u001B[0;34m\u001B[0m\u001B[0m\n\u001B[0m\u001B[1;32m   1111\u001B[0m         \u001B[0;31m# Do not call functions when jit is used\u001B[0m\u001B[0;34m\u001B[0m\u001B[0;34m\u001B[0m\u001B[0;34m\u001B[0m\u001B[0m\n\u001B[1;32m   1112\u001B[0m         \u001B[0mfull_backward_hooks\u001B[0m\u001B[0;34m,\u001B[0m \u001B[0mnon_full_backward_hooks\u001B[0m \u001B[0;34m=\u001B[0m \u001B[0;34m[\u001B[0m\u001B[0;34m]\u001B[0m\u001B[0;34m,\u001B[0m \u001B[0;34m[\u001B[0m\u001B[0;34m]\u001B[0m\u001B[0;34m\u001B[0m\u001B[0;34m\u001B[0m\u001B[0m\n",
      "\u001B[0;32m/usr/local/lib/python3.7/dist-packages/torch/nn/modules/transformer.py\u001B[0m in \u001B[0;36mforward\u001B[0;34m(self, src, src_mask, src_key_padding_mask)\u001B[0m\n\u001B[1;32m    342\u001B[0m             \u001B[0mx\u001B[0m \u001B[0;34m=\u001B[0m \u001B[0mx\u001B[0m \u001B[0;34m+\u001B[0m \u001B[0mself\u001B[0m\u001B[0;34m.\u001B[0m\u001B[0m_ff_block\u001B[0m\u001B[0;34m(\u001B[0m\u001B[0mself\u001B[0m\u001B[0;34m.\u001B[0m\u001B[0mnorm2\u001B[0m\u001B[0;34m(\u001B[0m\u001B[0mx\u001B[0m\u001B[0;34m)\u001B[0m\u001B[0;34m)\u001B[0m\u001B[0;34m\u001B[0m\u001B[0;34m\u001B[0m\u001B[0m\n\u001B[1;32m    343\u001B[0m         \u001B[0;32melse\u001B[0m\u001B[0;34m:\u001B[0m\u001B[0;34m\u001B[0m\u001B[0;34m\u001B[0m\u001B[0m\n\u001B[0;32m--> 344\u001B[0;31m             \u001B[0mx\u001B[0m \u001B[0;34m=\u001B[0m \u001B[0mself\u001B[0m\u001B[0;34m.\u001B[0m\u001B[0mnorm1\u001B[0m\u001B[0;34m(\u001B[0m\u001B[0mx\u001B[0m \u001B[0;34m+\u001B[0m \u001B[0mself\u001B[0m\u001B[0;34m.\u001B[0m\u001B[0m_sa_block\u001B[0m\u001B[0;34m(\u001B[0m\u001B[0mx\u001B[0m\u001B[0;34m,\u001B[0m \u001B[0msrc_mask\u001B[0m\u001B[0;34m,\u001B[0m \u001B[0msrc_key_padding_mask\u001B[0m\u001B[0;34m)\u001B[0m\u001B[0;34m)\u001B[0m\u001B[0;34m\u001B[0m\u001B[0;34m\u001B[0m\u001B[0m\n\u001B[0m\u001B[1;32m    345\u001B[0m             \u001B[0mx\u001B[0m \u001B[0;34m=\u001B[0m \u001B[0mself\u001B[0m\u001B[0;34m.\u001B[0m\u001B[0mnorm2\u001B[0m\u001B[0;34m(\u001B[0m\u001B[0mx\u001B[0m \u001B[0;34m+\u001B[0m \u001B[0mself\u001B[0m\u001B[0;34m.\u001B[0m\u001B[0m_ff_block\u001B[0m\u001B[0;34m(\u001B[0m\u001B[0mx\u001B[0m\u001B[0;34m)\u001B[0m\u001B[0;34m)\u001B[0m\u001B[0;34m\u001B[0m\u001B[0;34m\u001B[0m\u001B[0m\n\u001B[1;32m    346\u001B[0m \u001B[0;34m\u001B[0m\u001B[0m\n",
      "\u001B[0;32m/usr/local/lib/python3.7/dist-packages/torch/nn/modules/transformer.py\u001B[0m in \u001B[0;36m_sa_block\u001B[0;34m(self, x, attn_mask, key_padding_mask)\u001B[0m\n\u001B[1;32m    353\u001B[0m                            \u001B[0mattn_mask\u001B[0m\u001B[0;34m=\u001B[0m\u001B[0mattn_mask\u001B[0m\u001B[0;34m,\u001B[0m\u001B[0;34m\u001B[0m\u001B[0;34m\u001B[0m\u001B[0m\n\u001B[1;32m    354\u001B[0m                            \u001B[0mkey_padding_mask\u001B[0m\u001B[0;34m=\u001B[0m\u001B[0mkey_padding_mask\u001B[0m\u001B[0;34m,\u001B[0m\u001B[0;34m\u001B[0m\u001B[0;34m\u001B[0m\u001B[0m\n\u001B[0;32m--> 355\u001B[0;31m                            need_weights=False)[0]\n\u001B[0m\u001B[1;32m    356\u001B[0m         \u001B[0;32mreturn\u001B[0m \u001B[0mself\u001B[0m\u001B[0;34m.\u001B[0m\u001B[0mdropout1\u001B[0m\u001B[0;34m(\u001B[0m\u001B[0mx\u001B[0m\u001B[0;34m)\u001B[0m\u001B[0;34m\u001B[0m\u001B[0;34m\u001B[0m\u001B[0m\n\u001B[1;32m    357\u001B[0m \u001B[0;34m\u001B[0m\u001B[0m\n",
      "\u001B[0;32m/usr/local/lib/python3.7/dist-packages/torch/nn/modules/module.py\u001B[0m in \u001B[0;36m_call_impl\u001B[0;34m(self, *input, **kwargs)\u001B[0m\n\u001B[1;32m   1108\u001B[0m         if not (self._backward_hooks or self._forward_hooks or self._forward_pre_hooks or _global_backward_hooks\n\u001B[1;32m   1109\u001B[0m                 or _global_forward_hooks or _global_forward_pre_hooks):\n\u001B[0;32m-> 1110\u001B[0;31m             \u001B[0;32mreturn\u001B[0m \u001B[0mforward_call\u001B[0m\u001B[0;34m(\u001B[0m\u001B[0;34m*\u001B[0m\u001B[0minput\u001B[0m\u001B[0;34m,\u001B[0m \u001B[0;34m**\u001B[0m\u001B[0mkwargs\u001B[0m\u001B[0;34m)\u001B[0m\u001B[0;34m\u001B[0m\u001B[0;34m\u001B[0m\u001B[0m\n\u001B[0m\u001B[1;32m   1111\u001B[0m         \u001B[0;31m# Do not call functions when jit is used\u001B[0m\u001B[0;34m\u001B[0m\u001B[0;34m\u001B[0m\u001B[0;34m\u001B[0m\u001B[0m\n\u001B[1;32m   1112\u001B[0m         \u001B[0mfull_backward_hooks\u001B[0m\u001B[0;34m,\u001B[0m \u001B[0mnon_full_backward_hooks\u001B[0m \u001B[0;34m=\u001B[0m \u001B[0;34m[\u001B[0m\u001B[0;34m]\u001B[0m\u001B[0;34m,\u001B[0m \u001B[0;34m[\u001B[0m\u001B[0;34m]\u001B[0m\u001B[0;34m\u001B[0m\u001B[0;34m\u001B[0m\u001B[0m\n",
      "\u001B[0;32m/usr/local/lib/python3.7/dist-packages/torch/nn/modules/activation.py\u001B[0m in \u001B[0;36mforward\u001B[0;34m(self, query, key, value, key_padding_mask, need_weights, attn_mask, average_attn_weights)\u001B[0m\n\u001B[1;32m   1043\u001B[0m                 \u001B[0mtraining\u001B[0m\u001B[0;34m=\u001B[0m\u001B[0mself\u001B[0m\u001B[0;34m.\u001B[0m\u001B[0mtraining\u001B[0m\u001B[0;34m,\u001B[0m\u001B[0;34m\u001B[0m\u001B[0;34m\u001B[0m\u001B[0m\n\u001B[1;32m   1044\u001B[0m                 \u001B[0mkey_padding_mask\u001B[0m\u001B[0;34m=\u001B[0m\u001B[0mkey_padding_mask\u001B[0m\u001B[0;34m,\u001B[0m \u001B[0mneed_weights\u001B[0m\u001B[0;34m=\u001B[0m\u001B[0mneed_weights\u001B[0m\u001B[0;34m,\u001B[0m\u001B[0;34m\u001B[0m\u001B[0;34m\u001B[0m\u001B[0m\n\u001B[0;32m-> 1045\u001B[0;31m                 attn_mask=attn_mask, average_attn_weights=average_attn_weights)\n\u001B[0m\u001B[1;32m   1046\u001B[0m         \u001B[0;32mif\u001B[0m \u001B[0mself\u001B[0m\u001B[0;34m.\u001B[0m\u001B[0mbatch_first\u001B[0m \u001B[0;32mand\u001B[0m \u001B[0mis_batched\u001B[0m\u001B[0;34m:\u001B[0m\u001B[0;34m\u001B[0m\u001B[0;34m\u001B[0m\u001B[0m\n\u001B[1;32m   1047\u001B[0m             \u001B[0;32mreturn\u001B[0m \u001B[0mattn_output\u001B[0m\u001B[0;34m.\u001B[0m\u001B[0mtranspose\u001B[0m\u001B[0;34m(\u001B[0m\u001B[0;36m1\u001B[0m\u001B[0;34m,\u001B[0m \u001B[0;36m0\u001B[0m\u001B[0;34m)\u001B[0m\u001B[0;34m,\u001B[0m \u001B[0mattn_output_weights\u001B[0m\u001B[0;34m\u001B[0m\u001B[0;34m\u001B[0m\u001B[0m\n",
      "\u001B[0;32m/usr/local/lib/python3.7/dist-packages/torch/nn/functional.py\u001B[0m in \u001B[0;36mmulti_head_attention_forward\u001B[0;34m(query, key, value, embed_dim_to_check, num_heads, in_proj_weight, in_proj_bias, bias_k, bias_v, add_zero_attn, dropout_p, out_proj_weight, out_proj_bias, training, key_padding_mask, need_weights, attn_mask, use_separate_proj_weight, q_proj_weight, k_proj_weight, v_proj_weight, static_k, static_v, average_attn_weights)\u001B[0m\n\u001B[1;32m   5356\u001B[0m     \u001B[0;31m# (deep breath) calculate attention and out projection\u001B[0m\u001B[0;34m\u001B[0m\u001B[0;34m\u001B[0m\u001B[0;34m\u001B[0m\u001B[0m\n\u001B[1;32m   5357\u001B[0m     \u001B[0;31m#\u001B[0m\u001B[0;34m\u001B[0m\u001B[0;34m\u001B[0m\u001B[0;34m\u001B[0m\u001B[0m\n\u001B[0;32m-> 5358\u001B[0;31m     \u001B[0mattn_output\u001B[0m\u001B[0;34m,\u001B[0m \u001B[0mattn_output_weights\u001B[0m \u001B[0;34m=\u001B[0m \u001B[0m_scaled_dot_product_attention\u001B[0m\u001B[0;34m(\u001B[0m\u001B[0mq\u001B[0m\u001B[0;34m,\u001B[0m \u001B[0mk\u001B[0m\u001B[0;34m,\u001B[0m \u001B[0mv\u001B[0m\u001B[0;34m,\u001B[0m \u001B[0mattn_mask\u001B[0m\u001B[0;34m,\u001B[0m \u001B[0mdropout_p\u001B[0m\u001B[0;34m)\u001B[0m\u001B[0;34m\u001B[0m\u001B[0;34m\u001B[0m\u001B[0m\n\u001B[0m\u001B[1;32m   5359\u001B[0m     \u001B[0mattn_output\u001B[0m \u001B[0;34m=\u001B[0m \u001B[0mattn_output\u001B[0m\u001B[0;34m.\u001B[0m\u001B[0mtranspose\u001B[0m\u001B[0;34m(\u001B[0m\u001B[0;36m0\u001B[0m\u001B[0;34m,\u001B[0m \u001B[0;36m1\u001B[0m\u001B[0;34m)\u001B[0m\u001B[0;34m.\u001B[0m\u001B[0mcontiguous\u001B[0m\u001B[0;34m(\u001B[0m\u001B[0;34m)\u001B[0m\u001B[0;34m.\u001B[0m\u001B[0mview\u001B[0m\u001B[0;34m(\u001B[0m\u001B[0mtgt_len\u001B[0m\u001B[0;34m,\u001B[0m \u001B[0mbsz\u001B[0m\u001B[0;34m,\u001B[0m \u001B[0membed_dim\u001B[0m\u001B[0;34m)\u001B[0m\u001B[0;34m\u001B[0m\u001B[0;34m\u001B[0m\u001B[0m\n\u001B[1;32m   5360\u001B[0m     \u001B[0mattn_output\u001B[0m \u001B[0;34m=\u001B[0m \u001B[0mlinear\u001B[0m\u001B[0;34m(\u001B[0m\u001B[0mattn_output\u001B[0m\u001B[0;34m,\u001B[0m \u001B[0mout_proj_weight\u001B[0m\u001B[0;34m,\u001B[0m \u001B[0mout_proj_bias\u001B[0m\u001B[0;34m)\u001B[0m\u001B[0;34m\u001B[0m\u001B[0;34m\u001B[0m\u001B[0m\n",
      "\u001B[0;32m/usr/local/lib/python3.7/dist-packages/torch/nn/functional.py\u001B[0m in \u001B[0;36m_scaled_dot_product_attention\u001B[0;34m(q, k, v, attn_mask, dropout_p)\u001B[0m\n\u001B[1;32m   5032\u001B[0m     \u001B[0mq\u001B[0m \u001B[0;34m=\u001B[0m \u001B[0mq\u001B[0m \u001B[0;34m/\u001B[0m \u001B[0mmath\u001B[0m\u001B[0;34m.\u001B[0m\u001B[0msqrt\u001B[0m\u001B[0;34m(\u001B[0m\u001B[0mE\u001B[0m\u001B[0;34m)\u001B[0m\u001B[0;34m\u001B[0m\u001B[0;34m\u001B[0m\u001B[0m\n\u001B[1;32m   5033\u001B[0m     \u001B[0;31m# (B, Nt, E) x (B, E, Ns) -> (B, Nt, Ns)\u001B[0m\u001B[0;34m\u001B[0m\u001B[0;34m\u001B[0m\u001B[0;34m\u001B[0m\u001B[0m\n\u001B[0;32m-> 5034\u001B[0;31m     \u001B[0mattn\u001B[0m \u001B[0;34m=\u001B[0m \u001B[0mtorch\u001B[0m\u001B[0;34m.\u001B[0m\u001B[0mbmm\u001B[0m\u001B[0;34m(\u001B[0m\u001B[0mq\u001B[0m\u001B[0;34m,\u001B[0m \u001B[0mk\u001B[0m\u001B[0;34m.\u001B[0m\u001B[0mtranspose\u001B[0m\u001B[0;34m(\u001B[0m\u001B[0;34m-\u001B[0m\u001B[0;36m2\u001B[0m\u001B[0;34m,\u001B[0m \u001B[0;34m-\u001B[0m\u001B[0;36m1\u001B[0m\u001B[0;34m)\u001B[0m\u001B[0;34m)\u001B[0m\u001B[0;34m\u001B[0m\u001B[0;34m\u001B[0m\u001B[0m\n\u001B[0m\u001B[1;32m   5035\u001B[0m     \u001B[0;32mif\u001B[0m \u001B[0mattn_mask\u001B[0m \u001B[0;32mis\u001B[0m \u001B[0;32mnot\u001B[0m \u001B[0;32mNone\u001B[0m\u001B[0;34m:\u001B[0m\u001B[0;34m\u001B[0m\u001B[0;34m\u001B[0m\u001B[0m\n\u001B[1;32m   5036\u001B[0m         \u001B[0mattn\u001B[0m \u001B[0;34m+=\u001B[0m \u001B[0mattn_mask\u001B[0m\u001B[0;34m\u001B[0m\u001B[0;34m\u001B[0m\u001B[0m\n",
      "\u001B[0;31mKeyboardInterrupt\u001B[0m: "
     ]
    }
   ]
  },
  {
   "cell_type": "code",
   "source": [
    "loader_train_seq_long, loader_test_seq_long = create_sequece_dataloaders_new(dataset_norm, 60, 16)"
   ],
   "metadata": {
    "id": "qKHbvQAgp9Y-",
    "outputId": "9bbb23cf-f050-49a0-e8ec-0c6c29021770",
    "colab": {
     "base_uri": "https://localhost:8080/"
    },
    "pycharm": {
     "name": "#%%\n"
    }
   },
   "execution_count": 35,
   "outputs": [
    {
     "output_type": "stream",
     "name": "stderr",
     "text": [
      "100%|██████████| 63299/63299 [00:38<00:00, 1657.44it/s]\n",
      "/usr/local/lib/python3.7/dist-packages/ipykernel_launcher.py:19: VisibleDeprecationWarning: Creating an ndarray from ragged nested sequences (which is a list-or-tuple of lists-or-tuples-or ndarrays with different lengths or shapes) is deprecated. If you meant to do this, you must specify 'dtype=object' when creating the ndarray.\n"
     ]
    },
    {
     "output_type": "stream",
     "name": "stdout",
     "text": [
      "length of training set (whole dataset): 56969\n",
      "length of test set (whole dataset): 6330\n",
      "\n",
      "\n"
     ]
    }
   ]
  },
  {
   "cell_type": "code",
   "source": [
    "# Initialize Transformer Model and Optimizer\n",
    "start_time = datetime.now()\n",
    "continue_training = False\n",
    "\n",
    "if continue_training is False:\n",
    "  model_transformer = Transformer (num_encoder_layers=6,\n",
    "                      num_decoder_layers=1,\n",
    "                      feature_size=18,\n",
    "                      output_size=18,\n",
    "                      num_heads=6,\n",
    "                      dim_feedforward=2048,\n",
    "                      device = device,\n",
    "                      batch_first=True)\n",
    "\n",
    "n_epochs = 200\n",
    "\n",
    "print('Setup model Ok')\n",
    "\n",
    "optimizer = torch.optim.SGD(model_transformer.parameters(), lr=0.01, momentum= 0.9)\n",
    "criterion = nn.MSELoss()\n",
    "\n",
    "print('Setup optimizer Ok')\n",
    "\n",
    "train_transformer = True\n",
    "\n",
    "if train_transformer is True:\n",
    "  trained_model_transformer_long, train_losses_long, test_losses_long = training_transformer(\n",
    "      model= model_transformer, \n",
    "      optimizer= optimizer, \n",
    "      criterion= criterion, \n",
    "      train_loader= loader_train_seq_long, \n",
    "      test_loader= loader_test_seq_long, \n",
    "      n_epochs= n_epochs,\n",
    "      device=device)\n",
    "  \n",
    "end_time = datetime.now()\n",
    "time_diff = (end_time - start_time)\n",
    "execution_time = time_diff.total_seconds()\n",
    "\n",
    "print(f'Training time: {execution_time} seconds')\n",
    "\n",
    "# save to npy file\n",
    "if True:\n",
    "  np.save('Transformer_longseq_train.npy', train_losses_long)\n",
    "  np.save('Transformer_longseq_test.npy', test_losses_long)\n",
    "  files.download('Transformer_longseq_train.npy') \n",
    "  files.download('Transformer_longseq_test.npy') "
   ],
   "metadata": {
    "id": "gn4hV2BLqARx",
    "outputId": "c5c5e327-a7e7-4e9e-efa6-65018f3935ab",
    "colab": {
     "base_uri": "https://localhost:8080/",
     "height": 1000
    },
    "pycharm": {
     "name": "#%%\n"
    }
   },
   "execution_count": 36,
   "outputs": [
    {
     "metadata": {
      "tags": null
     },
     "name": "stdout",
     "output_type": "stream",
     "text": [
      "Setup model Ok\n",
      "Setup optimizer Ok\n",
      "Epoch: 1 of 200\n",
      "Training...\n"
     ]
    },
    {
     "metadata": {
      "tags": null
     },
     "name": "stderr",
     "output_type": "stream",
     "text": [
      "100%|██████████| 3561/3561 [01:48<00:00, 32.76it/s]\n"
     ]
    },
    {
     "metadata": {
      "tags": null
     },
     "name": "stdout",
     "output_type": "stream",
     "text": [
      "\n",
      "Test with training set\n"
     ]
    },
    {
     "metadata": {
      "tags": null
     },
     "name": "stderr",
     "output_type": "stream",
     "text": [
      "100%|██████████| 3561/3561 [00:41<00:00, 85.50it/s]\n"
     ]
    },
    {
     "metadata": {
      "tags": null
     },
     "name": "stdout",
     "output_type": "stream",
     "text": [
      "\n",
      "Current Mean loss Train Set:  0.34977058873388145\n",
      "\n",
      "Test with test set\n"
     ]
    },
    {
     "metadata": {
      "tags": null
     },
     "name": "stderr",
     "output_type": "stream",
     "text": [
      "100%|██████████| 396/396 [00:04<00:00, 85.00it/s]\n"
     ]
    },
    {
     "metadata": {
      "tags": null
     },
     "name": "stdout",
     "output_type": "stream",
     "text": [
      "\n",
      "Current Mean loss Test Set:  0.3519848460199857\n",
      "\n",
      "\n",
      "Epoch: 2 of 200\n",
      "Training...\n"
     ]
    },
    {
     "metadata": {
      "tags": null
     },
     "name": "stderr",
     "output_type": "stream",
     "text": [
      "100%|██████████| 3561/3561 [01:46<00:00, 33.43it/s]\n"
     ]
    },
    {
     "metadata": {
      "tags": null
     },
     "name": "stdout",
     "output_type": "stream",
     "text": [
      "\n",
      "Test with training set\n"
     ]
    },
    {
     "metadata": {
      "tags": null
     },
     "name": "stderr",
     "output_type": "stream",
     "text": [
      "100%|██████████| 3561/3561 [00:41<00:00, 86.00it/s]\n"
     ]
    },
    {
     "metadata": {
      "tags": null
     },
     "name": "stdout",
     "output_type": "stream",
     "text": [
      "\n",
      "Current Mean loss Train Set:  0.338088608200682\n",
      "\n",
      "Test with test set\n"
     ]
    },
    {
     "metadata": {
      "tags": null
     },
     "name": "stderr",
     "output_type": "stream",
     "text": [
      "100%|██████████| 396/396 [00:04<00:00, 84.41it/s]\n"
     ]
    },
    {
     "metadata": {
      "tags": null
     },
     "name": "stdout",
     "output_type": "stream",
     "text": [
      "\n",
      "Current Mean loss Test Set:  0.3412612145672543\n",
      "\n",
      "\n",
      "Epoch: 3 of 200\n",
      "Training...\n"
     ]
    },
    {
     "metadata": {
      "tags": null
     },
     "name": "stderr",
     "output_type": "stream",
     "text": [
      "100%|██████████| 3561/3561 [01:47<00:00, 33.26it/s]\n"
     ]
    },
    {
     "metadata": {
      "tags": null
     },
     "name": "stdout",
     "output_type": "stream",
     "text": [
      "\n",
      "Test with training set\n"
     ]
    },
    {
     "metadata": {
      "tags": null
     },
     "name": "stderr",
     "output_type": "stream",
     "text": [
      "100%|██████████| 3561/3561 [00:42<00:00, 84.57it/s]\n"
     ]
    },
    {
     "metadata": {
      "tags": null
     },
     "name": "stdout",
     "output_type": "stream",
     "text": [
      "\n",
      "Current Mean loss Train Set:  0.3351912399279505\n",
      "\n",
      "Test with test set\n"
     ]
    },
    {
     "metadata": {
      "tags": null
     },
     "name": "stderr",
     "output_type": "stream",
     "text": [
      "100%|██████████| 396/396 [00:04<00:00, 84.41it/s]\n"
     ]
    },
    {
     "metadata": {
      "tags": null
     },
     "name": "stdout",
     "output_type": "stream",
     "text": [
      "\n",
      "Current Mean loss Test Set:  0.3385061717620402\n",
      "\n",
      "\n",
      "Epoch: 4 of 200\n",
      "Training...\n"
     ]
    },
    {
     "metadata": {
      "tags": null
     },
     "name": "stderr",
     "output_type": "stream",
     "text": [
      "100%|██████████| 3561/3561 [01:47<00:00, 33.20it/s]\n"
     ]
    },
    {
     "metadata": {
      "tags": null
     },
     "name": "stdout",
     "output_type": "stream",
     "text": [
      "\n",
      "Test with training set\n"
     ]
    },
    {
     "metadata": {
      "tags": null
     },
     "name": "stderr",
     "output_type": "stream",
     "text": [
      "100%|██████████| 3561/3561 [00:41<00:00, 85.78it/s]\n"
     ]
    },
    {
     "metadata": {
      "tags": null
     },
     "name": "stdout",
     "output_type": "stream",
     "text": [
      "\n",
      "Current Mean loss Train Set:  0.3314065012125713\n",
      "\n",
      "Test with test set\n"
     ]
    },
    {
     "metadata": {
      "tags": null
     },
     "name": "stderr",
     "output_type": "stream",
     "text": [
      "100%|██████████| 396/396 [00:04<00:00, 86.71it/s]\n"
     ]
    },
    {
     "metadata": {
      "tags": null
     },
     "name": "stdout",
     "output_type": "stream",
     "text": [
      "\n",
      "Current Mean loss Test Set:  0.3359854117111124\n",
      "\n",
      "\n",
      "Epoch: 5 of 200\n",
      "Training...\n"
     ]
    },
    {
     "metadata": {
      "tags": null
     },
     "name": "stderr",
     "output_type": "stream",
     "text": [
      "100%|██████████| 3561/3561 [01:46<00:00, 33.53it/s]\n"
     ]
    },
    {
     "metadata": {
      "tags": null
     },
     "name": "stdout",
     "output_type": "stream",
     "text": [
      "\n",
      "Test with training set\n"
     ]
    },
    {
     "metadata": {
      "tags": null
     },
     "name": "stderr",
     "output_type": "stream",
     "text": [
      "100%|██████████| 3561/3561 [00:42<00:00, 84.60it/s]\n"
     ]
    },
    {
     "metadata": {
      "tags": null
     },
     "name": "stdout",
     "output_type": "stream",
     "text": [
      "\n",
      "Current Mean loss Train Set:  0.32889113913122037\n",
      "\n",
      "Test with test set\n"
     ]
    },
    {
     "metadata": {
      "tags": null
     },
     "name": "stderr",
     "output_type": "stream",
     "text": [
      "100%|██████████| 396/396 [00:04<00:00, 84.64it/s]\n"
     ]
    },
    {
     "metadata": {
      "tags": null
     },
     "name": "stdout",
     "output_type": "stream",
     "text": [
      "\n",
      "Current Mean loss Test Set:  0.3333268662670044\n",
      "\n",
      "\n",
      "Epoch: 6 of 200\n",
      "Training...\n"
     ]
    },
    {
     "metadata": {
      "tags": null
     },
     "name": "stderr",
     "output_type": "stream",
     "text": [
      "100%|██████████| 3561/3561 [01:48<00:00, 32.95it/s]\n"
     ]
    },
    {
     "metadata": {
      "tags": null
     },
     "name": "stdout",
     "output_type": "stream",
     "text": [
      "\n",
      "Test with training set\n"
     ]
    },
    {
     "metadata": {
      "tags": null
     },
     "name": "stderr",
     "output_type": "stream",
     "text": [
      "100%|██████████| 3561/3561 [00:40<00:00, 86.88it/s]\n"
     ]
    },
    {
     "metadata": {
      "tags": null
     },
     "name": "stdout",
     "output_type": "stream",
     "text": [
      "\n",
      "Current Mean loss Train Set:  0.3227725488245404\n",
      "\n",
      "Test with test set\n"
     ]
    },
    {
     "metadata": {
      "tags": null
     },
     "name": "stderr",
     "output_type": "stream",
     "text": [
      "100%|██████████| 396/396 [00:04<00:00, 86.64it/s]\n"
     ]
    },
    {
     "metadata": {
      "tags": null
     },
     "name": "stdout",
     "output_type": "stream",
     "text": [
      "\n",
      "Current Mean loss Test Set:  0.32589663038350114\n",
      "\n",
      "\n",
      "Epoch: 7 of 200\n",
      "Training...\n"
     ]
    },
    {
     "output_type": "stream",
     "name": "stderr",
     "text": [
      " 58%|█████▊    | 2057/3561 [01:00<00:44, 33.83it/s]\n"
     ]
    },
    {
     "output_type": "error",
     "ename": "KeyboardInterrupt",
     "evalue": "ignored",
     "traceback": [
      "\u001B[0;31m---------------------------------------------------------------------------\u001B[0m",
      "\u001B[0;31mKeyboardInterrupt\u001B[0m                         Traceback (most recent call last)",
      "\u001B[0;32m<ipython-input-36-e1be911daa18>\u001B[0m in \u001B[0;36m<module>\u001B[0;34m()\u001B[0m\n\u001B[1;32m     32\u001B[0m       \u001B[0mtest_loader\u001B[0m\u001B[0;34m=\u001B[0m \u001B[0mloader_test_seq_long\u001B[0m\u001B[0;34m,\u001B[0m\u001B[0;34m\u001B[0m\u001B[0;34m\u001B[0m\u001B[0m\n\u001B[1;32m     33\u001B[0m       \u001B[0mn_epochs\u001B[0m\u001B[0;34m=\u001B[0m \u001B[0mn_epochs\u001B[0m\u001B[0;34m,\u001B[0m\u001B[0;34m\u001B[0m\u001B[0;34m\u001B[0m\u001B[0m\n\u001B[0;32m---> 34\u001B[0;31m       device=device)\n\u001B[0m\u001B[1;32m     35\u001B[0m \u001B[0;34m\u001B[0m\u001B[0m\n\u001B[1;32m     36\u001B[0m \u001B[0mend_time\u001B[0m \u001B[0;34m=\u001B[0m \u001B[0mdatetime\u001B[0m\u001B[0;34m.\u001B[0m\u001B[0mnow\u001B[0m\u001B[0;34m(\u001B[0m\u001B[0;34m)\u001B[0m\u001B[0;34m\u001B[0m\u001B[0;34m\u001B[0m\u001B[0m\n",
      "\u001B[0;32m<ipython-input-27-f9fc8336f266>\u001B[0m in \u001B[0;36mtraining_transformer\u001B[0;34m(model, optimizer, criterion, train_loader, test_loader, n_epochs, device)\u001B[0m\n\u001B[1;32m     23\u001B[0m \u001B[0;34m\u001B[0m\u001B[0m\n\u001B[1;32m     24\u001B[0m       \u001B[0;31m#Backpropagation\u001B[0m\u001B[0;34m\u001B[0m\u001B[0;34m\u001B[0m\u001B[0;34m\u001B[0m\u001B[0m\n\u001B[0;32m---> 25\u001B[0;31m       \u001B[0mloss\u001B[0m\u001B[0;34m.\u001B[0m\u001B[0mbackward\u001B[0m\u001B[0;34m(\u001B[0m\u001B[0;34m)\u001B[0m\u001B[0;34m\u001B[0m\u001B[0;34m\u001B[0m\u001B[0m\n\u001B[0m\u001B[1;32m     26\u001B[0m \u001B[0;34m\u001B[0m\u001B[0m\n\u001B[1;32m     27\u001B[0m       \u001B[0mtorch\u001B[0m\u001B[0;34m.\u001B[0m\u001B[0mnn\u001B[0m\u001B[0;34m.\u001B[0m\u001B[0mutils\u001B[0m\u001B[0;34m.\u001B[0m\u001B[0mclip_grad_norm_\u001B[0m\u001B[0;34m(\u001B[0m\u001B[0mmodel\u001B[0m\u001B[0;34m.\u001B[0m\u001B[0mparameters\u001B[0m\u001B[0;34m(\u001B[0m\u001B[0;34m)\u001B[0m\u001B[0;34m,\u001B[0m \u001B[0;36m0.5\u001B[0m\u001B[0;34m)\u001B[0m\u001B[0;34m\u001B[0m\u001B[0;34m\u001B[0m\u001B[0m\n",
      "\u001B[0;32m/usr/local/lib/python3.7/dist-packages/torch/_tensor.py\u001B[0m in \u001B[0;36mbackward\u001B[0;34m(self, gradient, retain_graph, create_graph, inputs)\u001B[0m\n\u001B[1;32m    361\u001B[0m                 \u001B[0mcreate_graph\u001B[0m\u001B[0;34m=\u001B[0m\u001B[0mcreate_graph\u001B[0m\u001B[0;34m,\u001B[0m\u001B[0;34m\u001B[0m\u001B[0;34m\u001B[0m\u001B[0m\n\u001B[1;32m    362\u001B[0m                 inputs=inputs)\n\u001B[0;32m--> 363\u001B[0;31m         \u001B[0mtorch\u001B[0m\u001B[0;34m.\u001B[0m\u001B[0mautograd\u001B[0m\u001B[0;34m.\u001B[0m\u001B[0mbackward\u001B[0m\u001B[0;34m(\u001B[0m\u001B[0mself\u001B[0m\u001B[0;34m,\u001B[0m \u001B[0mgradient\u001B[0m\u001B[0;34m,\u001B[0m \u001B[0mretain_graph\u001B[0m\u001B[0;34m,\u001B[0m \u001B[0mcreate_graph\u001B[0m\u001B[0;34m,\u001B[0m \u001B[0minputs\u001B[0m\u001B[0;34m=\u001B[0m\u001B[0minputs\u001B[0m\u001B[0;34m)\u001B[0m\u001B[0;34m\u001B[0m\u001B[0;34m\u001B[0m\u001B[0m\n\u001B[0m\u001B[1;32m    364\u001B[0m \u001B[0;34m\u001B[0m\u001B[0m\n\u001B[1;32m    365\u001B[0m     \u001B[0;32mdef\u001B[0m \u001B[0mregister_hook\u001B[0m\u001B[0;34m(\u001B[0m\u001B[0mself\u001B[0m\u001B[0;34m,\u001B[0m \u001B[0mhook\u001B[0m\u001B[0;34m)\u001B[0m\u001B[0;34m:\u001B[0m\u001B[0;34m\u001B[0m\u001B[0;34m\u001B[0m\u001B[0m\n",
      "\u001B[0;32m/usr/local/lib/python3.7/dist-packages/torch/autograd/__init__.py\u001B[0m in \u001B[0;36mbackward\u001B[0;34m(tensors, grad_tensors, retain_graph, create_graph, grad_variables, inputs)\u001B[0m\n\u001B[1;32m    173\u001B[0m     Variable._execution_engine.run_backward(  # Calls into the C++ engine to run the backward pass\n\u001B[1;32m    174\u001B[0m         \u001B[0mtensors\u001B[0m\u001B[0;34m,\u001B[0m \u001B[0mgrad_tensors_\u001B[0m\u001B[0;34m,\u001B[0m \u001B[0mretain_graph\u001B[0m\u001B[0;34m,\u001B[0m \u001B[0mcreate_graph\u001B[0m\u001B[0;34m,\u001B[0m \u001B[0minputs\u001B[0m\u001B[0;34m,\u001B[0m\u001B[0;34m\u001B[0m\u001B[0;34m\u001B[0m\u001B[0m\n\u001B[0;32m--> 175\u001B[0;31m         allow_unreachable=True, accumulate_grad=True)  # Calls into the C++ engine to run the backward pass\n\u001B[0m\u001B[1;32m    176\u001B[0m \u001B[0;34m\u001B[0m\u001B[0m\n\u001B[1;32m    177\u001B[0m def grad(\n",
      "\u001B[0;31mKeyboardInterrupt\u001B[0m: "
     ]
    }
   ]
  },
  {
   "cell_type": "code",
   "source": [
    "loader_train_seq_veryshort, loader_test_seq_veryshort = create_sequece_dataloaders_new(dataset_norm, 2, 16)"
   ],
   "metadata": {
    "id": "z1szeATCz-m8",
    "outputId": "b03a2da7-99f1-46f1-b309-a0406313f029",
    "colab": {
     "base_uri": "https://localhost:8080/"
    },
    "pycharm": {
     "name": "#%%\n"
    }
   },
   "execution_count": 37,
   "outputs": [
    {
     "output_type": "stream",
     "name": "stderr",
     "text": [
      "100%|██████████| 63357/63357 [00:44<00:00, 1418.16it/s]\n",
      "/usr/local/lib/python3.7/dist-packages/ipykernel_launcher.py:19: VisibleDeprecationWarning: Creating an ndarray from ragged nested sequences (which is a list-or-tuple of lists-or-tuples-or ndarrays with different lengths or shapes) is deprecated. If you meant to do this, you must specify 'dtype=object' when creating the ndarray.\n"
     ]
    },
    {
     "output_type": "stream",
     "name": "stdout",
     "text": [
      "length of training set (whole dataset): 57021\n",
      "length of test set (whole dataset): 6336\n",
      "\n",
      "\n"
     ]
    }
   ]
  },
  {
   "cell_type": "code",
   "source": [
    "# Initialize Transformer Model and Optimizer\n",
    "start_time = datetime.now()\n",
    "continue_training = False\n",
    "\n",
    "if continue_training is False:\n",
    "  model_transformer = Transformer (num_encoder_layers=6,\n",
    "                      num_decoder_layers=1,\n",
    "                      feature_size=18,\n",
    "                      output_size=18,\n",
    "                      num_heads=6,\n",
    "                      dim_feedforward=2048,\n",
    "                      device = device,\n",
    "                      batch_first=True)\n",
    "\n",
    "n_epochs = 200\n",
    "\n",
    "print('Setup model Ok')\n",
    "\n",
    "optimizer = torch.optim.SGD(model_transformer.parameters(), lr=0.01, momentum= 0.9)\n",
    "criterion = nn.MSELoss()\n",
    "\n",
    "print('Setup optimizer Ok')\n",
    "\n",
    "train_transformer = True\n",
    "\n",
    "if train_transformer is True:\n",
    "  trained_model_transformer_veryshort, train_losses_veryshort, test_losses_veryshort = training_transformer(\n",
    "      model= model_transformer, \n",
    "      optimizer= optimizer, \n",
    "      criterion= criterion, \n",
    "      train_loader= loader_train_seq_veryshort, \n",
    "      test_loader= loader_test_seq_veryshort, \n",
    "      n_epochs= n_epochs,\n",
    "      device=device)\n",
    "  \n",
    "end_time = datetime.now()\n",
    "time_diff = (end_time - start_time)\n",
    "execution_time = time_diff.total_seconds()\n",
    "\n",
    "print(f'Training time: {execution_time} seconds')\n",
    "\n",
    "# save to npy file\n",
    "if True:\n",
    "  np.save('Transformer_veryshort_train.npy', train_losses_veryshort)\n",
    "  np.save('Transformer_veryshort_test.npy', test_losses_veryshort)\n",
    "  files.download('Transformer_veryshort_train.npy') \n",
    "  files.download('Transformer_veryshort_test.npy') "
   ],
   "metadata": {
    "id": "Jr3kK4ne0IaG",
    "outputId": "2fdae98c-a8b7-40e6-8377-61b5c4c7f9d1",
    "colab": {
     "base_uri": "https://localhost:8080/",
     "height": 1000
    },
    "pycharm": {
     "name": "#%%\n"
    }
   },
   "execution_count": 38,
   "outputs": [
    {
     "output_type": "stream",
     "name": "stdout",
     "text": [
      "Setup model Ok\n",
      "Setup optimizer Ok\n",
      "Epoch: 1 of 200\n",
      "Training...\n"
     ]
    },
    {
     "output_type": "stream",
     "name": "stderr",
     "text": [
      "100%|██████████| 3564/3564 [01:18<00:00, 45.66it/s]\n"
     ]
    },
    {
     "output_type": "stream",
     "name": "stdout",
     "text": [
      "\n",
      "Test with training set\n"
     ]
    },
    {
     "output_type": "stream",
     "name": "stderr",
     "text": [
      "100%|██████████| 3564/3564 [00:18<00:00, 187.79it/s]\n"
     ]
    },
    {
     "output_type": "stream",
     "name": "stdout",
     "text": [
      "\n",
      "Current Mean loss Train Set:  0.3450235106828638\n",
      "\n",
      "Test with test set\n"
     ]
    },
    {
     "output_type": "stream",
     "name": "stderr",
     "text": [
      "100%|██████████| 396/396 [00:02<00:00, 189.62it/s]\n"
     ]
    },
    {
     "output_type": "stream",
     "name": "stdout",
     "text": [
      "\n",
      "Current Mean loss Test Set:  0.3478867364200679\n",
      "\n",
      "\n",
      "Epoch: 2 of 200\n",
      "Training...\n"
     ]
    },
    {
     "output_type": "stream",
     "name": "stderr",
     "text": [
      "100%|██████████| 3564/3564 [01:17<00:00, 46.24it/s]\n"
     ]
    },
    {
     "output_type": "stream",
     "name": "stdout",
     "text": [
      "\n",
      "Test with training set\n"
     ]
    },
    {
     "output_type": "stream",
     "name": "stderr",
     "text": [
      "100%|██████████| 3564/3564 [00:18<00:00, 189.48it/s]\n"
     ]
    },
    {
     "output_type": "stream",
     "name": "stdout",
     "text": [
      "\n",
      "Current Mean loss Train Set:  0.32581925634232034\n",
      "\n",
      "Test with test set\n"
     ]
    },
    {
     "output_type": "stream",
     "name": "stderr",
     "text": [
      "100%|██████████| 396/396 [00:02<00:00, 191.77it/s]\n"
     ]
    },
    {
     "output_type": "stream",
     "name": "stdout",
     "text": [
      "\n",
      "Current Mean loss Test Set:  0.3284877904436805\n",
      "\n",
      "\n",
      "Epoch: 3 of 200\n",
      "Training...\n"
     ]
    },
    {
     "output_type": "stream",
     "name": "stderr",
     "text": [
      "100%|██████████| 3564/3564 [01:17<00:00, 46.16it/s]\n"
     ]
    },
    {
     "output_type": "stream",
     "name": "stdout",
     "text": [
      "\n",
      "Test with training set\n"
     ]
    },
    {
     "output_type": "stream",
     "name": "stderr",
     "text": [
      "100%|██████████| 3564/3564 [00:18<00:00, 188.35it/s]\n"
     ]
    },
    {
     "output_type": "stream",
     "name": "stdout",
     "text": [
      "\n",
      "Current Mean loss Train Set:  0.31996177427479044\n",
      "\n",
      "Test with test set\n"
     ]
    },
    {
     "output_type": "stream",
     "name": "stderr",
     "text": [
      "100%|██████████| 396/396 [00:02<00:00, 189.12it/s]\n"
     ]
    },
    {
     "output_type": "stream",
     "name": "stdout",
     "text": [
      "\n",
      "Current Mean loss Test Set:  0.32185319096151027\n",
      "\n",
      "\n",
      "Epoch: 4 of 200\n",
      "Training...\n"
     ]
    },
    {
     "output_type": "stream",
     "name": "stderr",
     "text": [
      "100%|██████████| 3564/3564 [01:17<00:00, 46.17it/s]\n"
     ]
    },
    {
     "output_type": "stream",
     "name": "stdout",
     "text": [
      "\n",
      "Test with training set\n"
     ]
    },
    {
     "output_type": "stream",
     "name": "stderr",
     "text": [
      "100%|██████████| 3564/3564 [00:18<00:00, 189.82it/s]\n"
     ]
    },
    {
     "output_type": "stream",
     "name": "stdout",
     "text": [
      "\n",
      "Current Mean loss Train Set:  0.3136601903581392\n",
      "\n",
      "Test with test set\n"
     ]
    },
    {
     "output_type": "stream",
     "name": "stderr",
     "text": [
      "100%|██████████| 396/396 [00:02<00:00, 189.56it/s]\n"
     ]
    },
    {
     "output_type": "stream",
     "name": "stdout",
     "text": [
      "\n",
      "Current Mean loss Test Set:  0.31570686335967046\n",
      "\n",
      "\n",
      "Epoch: 5 of 200\n",
      "Training...\n"
     ]
    },
    {
     "output_type": "stream",
     "name": "stderr",
     "text": [
      "100%|██████████| 3564/3564 [01:16<00:00, 46.40it/s]\n"
     ]
    },
    {
     "output_type": "stream",
     "name": "stdout",
     "text": [
      "\n",
      "Test with training set\n"
     ]
    },
    {
     "output_type": "stream",
     "name": "stderr",
     "text": [
      "100%|██████████| 3564/3564 [00:18<00:00, 188.92it/s]\n"
     ]
    },
    {
     "output_type": "stream",
     "name": "stdout",
     "text": [
      "\n",
      "Current Mean loss Train Set:  0.3149043090858912\n",
      "\n",
      "Test with test set\n"
     ]
    },
    {
     "output_type": "stream",
     "name": "stderr",
     "text": [
      "100%|██████████| 396/396 [00:02<00:00, 185.07it/s]\n"
     ]
    },
    {
     "output_type": "stream",
     "name": "stdout",
     "text": [
      "\n",
      "Current Mean loss Test Set:  0.31638457313782037\n",
      "\n",
      "\n",
      "Epoch: 6 of 200\n",
      "Training...\n"
     ]
    },
    {
     "output_type": "stream",
     "name": "stderr",
     "text": [
      " 91%|█████████ | 3248/3564 [01:10<00:06, 46.28it/s]\n"
     ]
    },
    {
     "output_type": "error",
     "ename": "KeyboardInterrupt",
     "evalue": "ignored",
     "traceback": [
      "\u001B[0;31m---------------------------------------------------------------------------\u001B[0m",
      "\u001B[0;31mKeyboardInterrupt\u001B[0m                         Traceback (most recent call last)",
      "\u001B[0;32m<ipython-input-38-eb44c35c9bc6>\u001B[0m in \u001B[0;36m<module>\u001B[0;34m()\u001B[0m\n\u001B[1;32m     32\u001B[0m       \u001B[0mtest_loader\u001B[0m\u001B[0;34m=\u001B[0m \u001B[0mloader_test_seq_veryshort\u001B[0m\u001B[0;34m,\u001B[0m\u001B[0;34m\u001B[0m\u001B[0;34m\u001B[0m\u001B[0m\n\u001B[1;32m     33\u001B[0m       \u001B[0mn_epochs\u001B[0m\u001B[0;34m=\u001B[0m \u001B[0mn_epochs\u001B[0m\u001B[0;34m,\u001B[0m\u001B[0;34m\u001B[0m\u001B[0;34m\u001B[0m\u001B[0m\n\u001B[0;32m---> 34\u001B[0;31m       device=device)\n\u001B[0m\u001B[1;32m     35\u001B[0m \u001B[0;34m\u001B[0m\u001B[0m\n\u001B[1;32m     36\u001B[0m \u001B[0mend_time\u001B[0m \u001B[0;34m=\u001B[0m \u001B[0mdatetime\u001B[0m\u001B[0;34m.\u001B[0m\u001B[0mnow\u001B[0m\u001B[0;34m(\u001B[0m\u001B[0;34m)\u001B[0m\u001B[0;34m\u001B[0m\u001B[0;34m\u001B[0m\u001B[0m\n",
      "\u001B[0;32m<ipython-input-27-f9fc8336f266>\u001B[0m in \u001B[0;36mtraining_transformer\u001B[0;34m(model, optimizer, criterion, train_loader, test_loader, n_epochs, device)\u001B[0m\n\u001B[1;32m     25\u001B[0m       \u001B[0mloss\u001B[0m\u001B[0;34m.\u001B[0m\u001B[0mbackward\u001B[0m\u001B[0;34m(\u001B[0m\u001B[0;34m)\u001B[0m\u001B[0;34m\u001B[0m\u001B[0;34m\u001B[0m\u001B[0m\n\u001B[1;32m     26\u001B[0m \u001B[0;34m\u001B[0m\u001B[0m\n\u001B[0;32m---> 27\u001B[0;31m       \u001B[0mtorch\u001B[0m\u001B[0;34m.\u001B[0m\u001B[0mnn\u001B[0m\u001B[0;34m.\u001B[0m\u001B[0mutils\u001B[0m\u001B[0;34m.\u001B[0m\u001B[0mclip_grad_norm_\u001B[0m\u001B[0;34m(\u001B[0m\u001B[0mmodel\u001B[0m\u001B[0;34m.\u001B[0m\u001B[0mparameters\u001B[0m\u001B[0;34m(\u001B[0m\u001B[0;34m)\u001B[0m\u001B[0;34m,\u001B[0m \u001B[0;36m0.5\u001B[0m\u001B[0;34m)\u001B[0m\u001B[0;34m\u001B[0m\u001B[0;34m\u001B[0m\u001B[0m\n\u001B[0m\u001B[1;32m     28\u001B[0m \u001B[0;34m\u001B[0m\u001B[0m\n\u001B[1;32m     29\u001B[0m       \u001B[0;31m#Optimization\u001B[0m\u001B[0;34m\u001B[0m\u001B[0;34m\u001B[0m\u001B[0;34m\u001B[0m\u001B[0m\n",
      "\u001B[0;32m/usr/local/lib/python3.7/dist-packages/torch/nn/utils/clip_grad.py\u001B[0m in \u001B[0;36mclip_grad_norm_\u001B[0;34m(parameters, max_norm, norm_type, error_if_nonfinite)\u001B[0m\n\u001B[1;32m     40\u001B[0m         \u001B[0mtotal_norm\u001B[0m \u001B[0;34m=\u001B[0m \u001B[0mnorms\u001B[0m\u001B[0;34m[\u001B[0m\u001B[0;36m0\u001B[0m\u001B[0;34m]\u001B[0m \u001B[0;32mif\u001B[0m \u001B[0mlen\u001B[0m\u001B[0;34m(\u001B[0m\u001B[0mnorms\u001B[0m\u001B[0;34m)\u001B[0m \u001B[0;34m==\u001B[0m \u001B[0;36m1\u001B[0m \u001B[0;32melse\u001B[0m \u001B[0mtorch\u001B[0m\u001B[0;34m.\u001B[0m\u001B[0mmax\u001B[0m\u001B[0;34m(\u001B[0m\u001B[0mtorch\u001B[0m\u001B[0;34m.\u001B[0m\u001B[0mstack\u001B[0m\u001B[0;34m(\u001B[0m\u001B[0mnorms\u001B[0m\u001B[0;34m)\u001B[0m\u001B[0;34m)\u001B[0m\u001B[0;34m\u001B[0m\u001B[0;34m\u001B[0m\u001B[0m\n\u001B[1;32m     41\u001B[0m     \u001B[0;32melse\u001B[0m\u001B[0;34m:\u001B[0m\u001B[0;34m\u001B[0m\u001B[0;34m\u001B[0m\u001B[0m\n\u001B[0;32m---> 42\u001B[0;31m         \u001B[0mtotal_norm\u001B[0m \u001B[0;34m=\u001B[0m \u001B[0mtorch\u001B[0m\u001B[0;34m.\u001B[0m\u001B[0mnorm\u001B[0m\u001B[0;34m(\u001B[0m\u001B[0mtorch\u001B[0m\u001B[0;34m.\u001B[0m\u001B[0mstack\u001B[0m\u001B[0;34m(\u001B[0m\u001B[0;34m[\u001B[0m\u001B[0mtorch\u001B[0m\u001B[0;34m.\u001B[0m\u001B[0mnorm\u001B[0m\u001B[0;34m(\u001B[0m\u001B[0mp\u001B[0m\u001B[0;34m.\u001B[0m\u001B[0mgrad\u001B[0m\u001B[0;34m.\u001B[0m\u001B[0mdetach\u001B[0m\u001B[0;34m(\u001B[0m\u001B[0;34m)\u001B[0m\u001B[0;34m,\u001B[0m \u001B[0mnorm_type\u001B[0m\u001B[0;34m)\u001B[0m\u001B[0;34m.\u001B[0m\u001B[0mto\u001B[0m\u001B[0;34m(\u001B[0m\u001B[0mdevice\u001B[0m\u001B[0;34m)\u001B[0m \u001B[0;32mfor\u001B[0m \u001B[0mp\u001B[0m \u001B[0;32min\u001B[0m \u001B[0mparameters\u001B[0m\u001B[0;34m]\u001B[0m\u001B[0;34m)\u001B[0m\u001B[0;34m,\u001B[0m \u001B[0mnorm_type\u001B[0m\u001B[0;34m)\u001B[0m\u001B[0;34m\u001B[0m\u001B[0;34m\u001B[0m\u001B[0m\n\u001B[0m\u001B[1;32m     43\u001B[0m     \u001B[0;32mif\u001B[0m \u001B[0merror_if_nonfinite\u001B[0m \u001B[0;32mand\u001B[0m \u001B[0mtorch\u001B[0m\u001B[0;34m.\u001B[0m\u001B[0mlogical_or\u001B[0m\u001B[0;34m(\u001B[0m\u001B[0mtotal_norm\u001B[0m\u001B[0;34m.\u001B[0m\u001B[0misnan\u001B[0m\u001B[0;34m(\u001B[0m\u001B[0;34m)\u001B[0m\u001B[0;34m,\u001B[0m \u001B[0mtotal_norm\u001B[0m\u001B[0;34m.\u001B[0m\u001B[0misinf\u001B[0m\u001B[0;34m(\u001B[0m\u001B[0;34m)\u001B[0m\u001B[0;34m)\u001B[0m\u001B[0;34m:\u001B[0m\u001B[0;34m\u001B[0m\u001B[0;34m\u001B[0m\u001B[0m\n\u001B[1;32m     44\u001B[0m         raise RuntimeError(\n",
      "\u001B[0;32m/usr/local/lib/python3.7/dist-packages/torch/nn/utils/clip_grad.py\u001B[0m in \u001B[0;36m<listcomp>\u001B[0;34m(.0)\u001B[0m\n\u001B[1;32m     40\u001B[0m         \u001B[0mtotal_norm\u001B[0m \u001B[0;34m=\u001B[0m \u001B[0mnorms\u001B[0m\u001B[0;34m[\u001B[0m\u001B[0;36m0\u001B[0m\u001B[0;34m]\u001B[0m \u001B[0;32mif\u001B[0m \u001B[0mlen\u001B[0m\u001B[0;34m(\u001B[0m\u001B[0mnorms\u001B[0m\u001B[0;34m)\u001B[0m \u001B[0;34m==\u001B[0m \u001B[0;36m1\u001B[0m \u001B[0;32melse\u001B[0m \u001B[0mtorch\u001B[0m\u001B[0;34m.\u001B[0m\u001B[0mmax\u001B[0m\u001B[0;34m(\u001B[0m\u001B[0mtorch\u001B[0m\u001B[0;34m.\u001B[0m\u001B[0mstack\u001B[0m\u001B[0;34m(\u001B[0m\u001B[0mnorms\u001B[0m\u001B[0;34m)\u001B[0m\u001B[0;34m)\u001B[0m\u001B[0;34m\u001B[0m\u001B[0;34m\u001B[0m\u001B[0m\n\u001B[1;32m     41\u001B[0m     \u001B[0;32melse\u001B[0m\u001B[0;34m:\u001B[0m\u001B[0;34m\u001B[0m\u001B[0;34m\u001B[0m\u001B[0m\n\u001B[0;32m---> 42\u001B[0;31m         \u001B[0mtotal_norm\u001B[0m \u001B[0;34m=\u001B[0m \u001B[0mtorch\u001B[0m\u001B[0;34m.\u001B[0m\u001B[0mnorm\u001B[0m\u001B[0;34m(\u001B[0m\u001B[0mtorch\u001B[0m\u001B[0;34m.\u001B[0m\u001B[0mstack\u001B[0m\u001B[0;34m(\u001B[0m\u001B[0;34m[\u001B[0m\u001B[0mtorch\u001B[0m\u001B[0;34m.\u001B[0m\u001B[0mnorm\u001B[0m\u001B[0;34m(\u001B[0m\u001B[0mp\u001B[0m\u001B[0;34m.\u001B[0m\u001B[0mgrad\u001B[0m\u001B[0;34m.\u001B[0m\u001B[0mdetach\u001B[0m\u001B[0;34m(\u001B[0m\u001B[0;34m)\u001B[0m\u001B[0;34m,\u001B[0m \u001B[0mnorm_type\u001B[0m\u001B[0;34m)\u001B[0m\u001B[0;34m.\u001B[0m\u001B[0mto\u001B[0m\u001B[0;34m(\u001B[0m\u001B[0mdevice\u001B[0m\u001B[0;34m)\u001B[0m \u001B[0;32mfor\u001B[0m \u001B[0mp\u001B[0m \u001B[0;32min\u001B[0m \u001B[0mparameters\u001B[0m\u001B[0;34m]\u001B[0m\u001B[0;34m)\u001B[0m\u001B[0;34m,\u001B[0m \u001B[0mnorm_type\u001B[0m\u001B[0;34m)\u001B[0m\u001B[0;34m\u001B[0m\u001B[0;34m\u001B[0m\u001B[0m\n\u001B[0m\u001B[1;32m     43\u001B[0m     \u001B[0;32mif\u001B[0m \u001B[0merror_if_nonfinite\u001B[0m \u001B[0;32mand\u001B[0m \u001B[0mtorch\u001B[0m\u001B[0;34m.\u001B[0m\u001B[0mlogical_or\u001B[0m\u001B[0;34m(\u001B[0m\u001B[0mtotal_norm\u001B[0m\u001B[0;34m.\u001B[0m\u001B[0misnan\u001B[0m\u001B[0;34m(\u001B[0m\u001B[0;34m)\u001B[0m\u001B[0;34m,\u001B[0m \u001B[0mtotal_norm\u001B[0m\u001B[0;34m.\u001B[0m\u001B[0misinf\u001B[0m\u001B[0;34m(\u001B[0m\u001B[0;34m)\u001B[0m\u001B[0;34m)\u001B[0m\u001B[0;34m:\u001B[0m\u001B[0;34m\u001B[0m\u001B[0;34m\u001B[0m\u001B[0m\n\u001B[1;32m     44\u001B[0m         raise RuntimeError(\n",
      "\u001B[0;31mKeyboardInterrupt\u001B[0m: "
     ]
    }
   ]
  },
  {
   "cell_type": "markdown",
   "source": [
    "# Train RNN"
   ],
   "metadata": {
    "id": "z0zjfAI7TMPH",
    "pycharm": {
     "name": "#%% md\n"
    }
   }
  },
  {
   "cell_type": "code",
   "source": [
    "class ElmanRNN(torch.nn.Module):\n",
    "    \"\"\"\n",
    "    Elman RNN tailored to process latch sequence data.\n",
    "    \"\"\"\n",
    "    \n",
    "    def __init__(self, input_size: int, hidden_size: int, output_size: int):\n",
    "        super(ElmanRNN, self).__init__()\n",
    "        self.rnn1 = torch.nn.RNN(input_size, hidden_size, batch_first=True)\n",
    "        self.fc1 = torch.nn.Linear(self.rnn1.hidden_size, output_size)\n",
    "\n",
    "    def forward(self, x: torch.Tensor) -> torch.Tensor:\n",
    "        x = self.rnn1(x)\n",
    "        return self.fc1(x)"
   ],
   "metadata": {
    "id": "xUiLr_PlRFn9",
    "pycharm": {
     "name": "#%%\n"
    }
   },
   "execution_count": null,
   "outputs": []
  },
  {
   "cell_type": "code",
   "source": [
    "def training_RNN(model, optimizer, criterion, train_loader, test_loader, n_epochs, device):\n",
    "  epoch_loss_train = []\n",
    "  epoch_loss_test = []\n",
    "\n",
    "  for e in range(1, n_epochs + 1):\n",
    "\n",
    "    print(f'Epoch: {e} of {n_epochs}')\n",
    "    print('Training...')\n",
    "    model.train()\n",
    "\n",
    "    for i in tqdm(train_loader):\n",
    "\n",
    "      input = i[0]\n",
    "      out = i[1].unsqueeze(0).permute(1,0,2)\n",
    "      target = i[2].unsqueeze(0).permute(1,0,2)\n",
    "\n",
    "      net_out = model.forward(input, out)\n",
    "\n",
    "      #Compute loss\n",
    "      loss = criterion(net_out, target)\n",
    "\n",
    "      optimizer.zero_grad()\n",
    "\n",
    "      #Backpropagation\n",
    "      loss.backward()\n",
    "\n",
    "      torch.nn.utils.clip_grad_norm_(model.parameters(), 0.5)\n",
    "\n",
    "      #Optimization\n",
    "      optimizer.step()\n",
    "\n",
    "\n",
    "    print('\\nTest with training set')\n",
    "    losses_train = []\n",
    "    model.eval()\n",
    "    with torch.no_grad():\n",
    "      for i in tqdm(train_loader):\n",
    "\n",
    "        input = i[0]\n",
    "        out = i[1].unsqueeze(0).permute(1,0,2)\n",
    "        target = i[2].unsqueeze(0).permute(1,0,2)\n",
    "\n",
    "        net_out = model.forward(input, out)\n",
    "\n",
    "        #Compute loss\n",
    "        losses_train.append (float(criterion(net_out, target).item()))\n",
    "\n",
    "    \n",
    "    print('\\nCurrent Mean loss Train Set: ', np.mean(losses_train))\n",
    "    epoch_loss_train.append(losses_train)\n",
    "\n",
    "    print('\\nTest with test set')\n",
    "    losses_test = []\n",
    "    model.eval()\n",
    "\n",
    "    \n",
    "    with torch.no_grad():\n",
    "      for i in tqdm(test_loader):\n",
    "      \n",
    "        input = i[0]\n",
    "        out = i[1].unsqueeze(0).permute(1,0,2)\n",
    "        target = i[2].unsqueeze(0).permute(1,0,2)\n",
    "\n",
    "        net_out = model.forward(input, out)\n",
    "\n",
    "        #Compute loss\n",
    "        losses_test.append (float(criterion(net_out, target).item()))\n",
    "\n",
    "    print('\\nCurrent Mean loss Test Set: ', np.mean(losses_test))\n",
    "    epoch_loss_test.append(losses_test)\n",
    "\n",
    "    print('\\n')\n",
    "\n",
    "  return model, epoch_loss_train, epoch_loss_test"
   ],
   "metadata": {
    "id": "ECW3DykbTSdD",
    "pycharm": {
     "name": "#%%\n"
    }
   },
   "execution_count": null,
   "outputs": []
  },
  {
   "cell_type": "code",
   "source": [
    "# Initialize Transformer Model and Optimizer\n",
    "start_time = datetime.now()\n",
    "continue_training = False\n",
    "\n",
    "if continue_training is False:\n",
    "  model_transformer = Transformer (num_encoder_layers=10,\n",
    "                      num_decoder_layers=5,\n",
    "                      feature_size=18,\n",
    "                      output_size=18,\n",
    "                      num_heads=9,\n",
    "                      dim_feedforward=2048,\n",
    "                      device = device,\n",
    "                      batch_first=True)\n",
    "\n",
    "n_epochs = 200\n",
    "\n",
    "print('Setup model Ok')\n",
    "\n",
    "optimizer = torch.optim.SGD(model_transformer.parameters(), lr=0.01, momentum= 0.9)\n",
    "criterion = nn.MSELoss()\n",
    "\n",
    "print('Setup optimizer Ok')\n",
    "\n",
    "train_transformer = True\n",
    "\n",
    "if train_transformer is True:\n",
    "  trained_model_transformer_5, train_losses_5, test_losses_5 = training_transformer(\n",
    "      model= model_transformer, \n",
    "      optimizer= optimizer, \n",
    "      criterion= criterion, \n",
    "      train_loader= loader_train_seq, \n",
    "      test_loader= loader_test_seq, \n",
    "      n_epochs= n_epochs,\n",
    "      device=device)\n",
    "  \n",
    "end_time = datetime.now()\n",
    "time_diff = (end_time - start_time)\n",
    "execution_time = time_diff.total_seconds()\n",
    "\n",
    "print(f'Training time: {execution_time} seconds')\n",
    "\n",
    "# save to npy file\n",
    "if True:\n",
    "  np.save('Transformer_big_train.npy', train_losses_5)\n",
    "  np.save('Transformer_big_test.npy', test_losses_5)"
   ],
   "metadata": {
    "id": "5InTFPR-U3OK",
    "pycharm": {
     "name": "#%%\n"
    }
   },
   "execution_count": null,
   "outputs": []
  },
  {
   "cell_type": "code",
   "source": [
    "def count_parameters(model: torch.nn.Module, only_trainable: bool = True) -> int:\n",
    "    \"\"\"\n",
    "    Count (trainable) paramaters of specified model.\n",
    "    \n",
    "    :param model: model for which to compute the amount of (trainable) parameters\n",
    "    :param only_trainable: only include trainable parameters in total count\n",
    "    :return: amount of (trainable) parameters of the specified model\n",
    "    \"\"\"\n",
    "    return sum(parameter.numel() for parameter in model.parameters() if any(\n",
    "        (not only_trainable, only_trainable and parameter.requires_grad)))\n",
    "    \n",
    "for model in (model_FFN, model_transformer, model_transformer_big, model_transformer_small):\n",
    "    print(f'The \"{type(model).__name__}\" comprises \"{count_parameters(model)}\" trainable parameters.')"
   ],
   "metadata": {
    "id": "XRLcHo6DOe-y",
    "outputId": "1c164dae-e44b-4127-a5ac-a493e6e3d39c",
    "colab": {
     "base_uri": "https://localhost:8080/"
    },
    "pycharm": {
     "name": "#%%\n"
    }
   },
   "execution_count": 54,
   "outputs": [
    {
     "name": "stdout",
     "output_type": "stream",
     "text": [
      "The \"ANN_relu\" comprises \"237898\" trainable parameters.\n",
      "The \"Transformer\" comprises \"542042\" trainable parameters.\n",
      "The \"Transformer\" comprises \"1165530\" trainable parameters.\n",
      "The \"Transformer\" comprises \"155872\" trainable parameters.\n"
     ]
    }
   ]
  },
  {
   "cell_type": "markdown",
   "source": [
    "# Training using PCA in the dataset"
   ],
   "metadata": {
    "id": "UhryCh_ovdnb",
    "pycharm": {
     "name": "#%% md\n"
    }
   }
  },
  {
   "cell_type": "code",
   "source": [
    "df =  dataset_norm.copy()\n",
    "\n",
    "df.pop('time')\n",
    "\n",
    "df.head()"
   ],
   "metadata": {
    "colab": {
     "base_uri": "https://localhost:8080/",
     "height": 201
    },
    "id": "sWaeNQzanMNV",
    "outputId": "c029dce6-fce7-40ff-fc9e-d0ea3d59f157",
    "pycharm": {
     "name": "#%%\n"
    }
   },
   "execution_count": null,
   "outputs": [
    {
     "output_type": "execute_result",
     "data": {
      "text/plain": [
       "       PLN1      PLN2      PLN3      ULL1      ULL2      ULL3  COS_PHI1  \\\n",
       "0 -1.075593 -1.045021 -1.051232  0.063478 -0.098312 -0.618908 -1.868350   \n",
       "1 -1.074875 -1.045103 -1.048747  0.027004 -0.107515 -0.632738 -1.884005   \n",
       "2 -1.075615 -0.988316 -1.050631 -0.028760 -0.116055 -0.636846 -1.837041   \n",
       "3 -1.073661 -0.988798 -1.049922  0.089264 -0.043667 -0.556540 -1.643493   \n",
       "4 -1.075401 -0.988670 -1.050114  0.031327 -0.071754 -0.608493 -1.882582   \n",
       "\n",
       "   COS_PHI2  COS_PHI3      FREQ     RC_DC     RC_AC   RC_50Hz  RC_150Hz  \\\n",
       "0 -1.835847 -1.500292 -0.345935 -0.817380  0.632551  1.075812  0.995360   \n",
       "1 -1.803753 -1.486828 -1.139728  0.678985 -0.849829 -0.918340 -0.792166   \n",
       "2  0.147415 -1.532327 -1.123638 -0.817380 -0.849829 -0.918340 -0.792166   \n",
       "3  0.023152 -1.545327 -0.758922  0.678985 -0.740023 -0.253623 -0.643206   \n",
       "4  0.161405 -1.650254 -0.726741 -0.817380  0.303134  1.740530  1.889123   \n",
       "\n",
       "   RC_<100Hz  RC_100Hz-1kHz  RC_>1kHz  RC_>10kHz  \n",
       "0   1.143832       0.694697  0.747095   2.141318  \n",
       "1  -0.630653      -0.822036 -0.777047  -1.175568  \n",
       "2  -0.630653      -0.822036 -0.777047  -1.175568  \n",
       "3  -0.630653      -0.763700 -0.664147  -1.175568  \n",
       "4   1.950416       0.053002 -0.043201   1.477941  "
      ],
      "text/html": [
       "\n",
       "  <div id=\"df-54b49e57-cbac-4fbd-b039-320acb379ba0\">\n",
       "    <div class=\"colab-df-container\">\n",
       "      <div>\n",
       "<style scoped>\n",
       "    .dataframe tbody tr th:only-of-type {\n",
       "        vertical-align: middle;\n",
       "    }\n",
       "\n",
       "    .dataframe tbody tr th {\n",
       "        vertical-align: top;\n",
       "    }\n",
       "\n",
       "    .dataframe thead th {\n",
       "        text-align: right;\n",
       "    }\n",
       "</style>\n",
       "<table border=\"1\" class=\"dataframe\">\n",
       "  <thead>\n",
       "    <tr style=\"text-align: right;\">\n",
       "      <th></th>\n",
       "      <th>PLN1</th>\n",
       "      <th>PLN2</th>\n",
       "      <th>PLN3</th>\n",
       "      <th>ULL1</th>\n",
       "      <th>ULL2</th>\n",
       "      <th>ULL3</th>\n",
       "      <th>COS_PHI1</th>\n",
       "      <th>COS_PHI2</th>\n",
       "      <th>COS_PHI3</th>\n",
       "      <th>FREQ</th>\n",
       "      <th>RC_DC</th>\n",
       "      <th>RC_AC</th>\n",
       "      <th>RC_50Hz</th>\n",
       "      <th>RC_150Hz</th>\n",
       "      <th>RC_&lt;100Hz</th>\n",
       "      <th>RC_100Hz-1kHz</th>\n",
       "      <th>RC_&gt;1kHz</th>\n",
       "      <th>RC_&gt;10kHz</th>\n",
       "    </tr>\n",
       "  </thead>\n",
       "  <tbody>\n",
       "    <tr>\n",
       "      <th>0</th>\n",
       "      <td>-1.075593</td>\n",
       "      <td>-1.045021</td>\n",
       "      <td>-1.051232</td>\n",
       "      <td>0.063478</td>\n",
       "      <td>-0.098312</td>\n",
       "      <td>-0.618908</td>\n",
       "      <td>-1.868350</td>\n",
       "      <td>-1.835847</td>\n",
       "      <td>-1.500292</td>\n",
       "      <td>-0.345935</td>\n",
       "      <td>-0.817380</td>\n",
       "      <td>0.632551</td>\n",
       "      <td>1.075812</td>\n",
       "      <td>0.995360</td>\n",
       "      <td>1.143832</td>\n",
       "      <td>0.694697</td>\n",
       "      <td>0.747095</td>\n",
       "      <td>2.141318</td>\n",
       "    </tr>\n",
       "    <tr>\n",
       "      <th>1</th>\n",
       "      <td>-1.074875</td>\n",
       "      <td>-1.045103</td>\n",
       "      <td>-1.048747</td>\n",
       "      <td>0.027004</td>\n",
       "      <td>-0.107515</td>\n",
       "      <td>-0.632738</td>\n",
       "      <td>-1.884005</td>\n",
       "      <td>-1.803753</td>\n",
       "      <td>-1.486828</td>\n",
       "      <td>-1.139728</td>\n",
       "      <td>0.678985</td>\n",
       "      <td>-0.849829</td>\n",
       "      <td>-0.918340</td>\n",
       "      <td>-0.792166</td>\n",
       "      <td>-0.630653</td>\n",
       "      <td>-0.822036</td>\n",
       "      <td>-0.777047</td>\n",
       "      <td>-1.175568</td>\n",
       "    </tr>\n",
       "    <tr>\n",
       "      <th>2</th>\n",
       "      <td>-1.075615</td>\n",
       "      <td>-0.988316</td>\n",
       "      <td>-1.050631</td>\n",
       "      <td>-0.028760</td>\n",
       "      <td>-0.116055</td>\n",
       "      <td>-0.636846</td>\n",
       "      <td>-1.837041</td>\n",
       "      <td>0.147415</td>\n",
       "      <td>-1.532327</td>\n",
       "      <td>-1.123638</td>\n",
       "      <td>-0.817380</td>\n",
       "      <td>-0.849829</td>\n",
       "      <td>-0.918340</td>\n",
       "      <td>-0.792166</td>\n",
       "      <td>-0.630653</td>\n",
       "      <td>-0.822036</td>\n",
       "      <td>-0.777047</td>\n",
       "      <td>-1.175568</td>\n",
       "    </tr>\n",
       "    <tr>\n",
       "      <th>3</th>\n",
       "      <td>-1.073661</td>\n",
       "      <td>-0.988798</td>\n",
       "      <td>-1.049922</td>\n",
       "      <td>0.089264</td>\n",
       "      <td>-0.043667</td>\n",
       "      <td>-0.556540</td>\n",
       "      <td>-1.643493</td>\n",
       "      <td>0.023152</td>\n",
       "      <td>-1.545327</td>\n",
       "      <td>-0.758922</td>\n",
       "      <td>0.678985</td>\n",
       "      <td>-0.740023</td>\n",
       "      <td>-0.253623</td>\n",
       "      <td>-0.643206</td>\n",
       "      <td>-0.630653</td>\n",
       "      <td>-0.763700</td>\n",
       "      <td>-0.664147</td>\n",
       "      <td>-1.175568</td>\n",
       "    </tr>\n",
       "    <tr>\n",
       "      <th>4</th>\n",
       "      <td>-1.075401</td>\n",
       "      <td>-0.988670</td>\n",
       "      <td>-1.050114</td>\n",
       "      <td>0.031327</td>\n",
       "      <td>-0.071754</td>\n",
       "      <td>-0.608493</td>\n",
       "      <td>-1.882582</td>\n",
       "      <td>0.161405</td>\n",
       "      <td>-1.650254</td>\n",
       "      <td>-0.726741</td>\n",
       "      <td>-0.817380</td>\n",
       "      <td>0.303134</td>\n",
       "      <td>1.740530</td>\n",
       "      <td>1.889123</td>\n",
       "      <td>1.950416</td>\n",
       "      <td>0.053002</td>\n",
       "      <td>-0.043201</td>\n",
       "      <td>1.477941</td>\n",
       "    </tr>\n",
       "  </tbody>\n",
       "</table>\n",
       "</div>\n",
       "      <button class=\"colab-df-convert\" onclick=\"convertToInteractive('df-54b49e57-cbac-4fbd-b039-320acb379ba0')\"\n",
       "              title=\"Convert this dataframe to an interactive table.\"\n",
       "              style=\"display:none;\">\n",
       "        \n",
       "  <svg xmlns=\"http://www.w3.org/2000/svg\" height=\"24px\"viewBox=\"0 0 24 24\"\n",
       "       width=\"24px\">\n",
       "    <path d=\"M0 0h24v24H0V0z\" fill=\"none\"/>\n",
       "    <path d=\"M18.56 5.44l.94 2.06.94-2.06 2.06-.94-2.06-.94-.94-2.06-.94 2.06-2.06.94zm-11 1L8.5 8.5l.94-2.06 2.06-.94-2.06-.94L8.5 2.5l-.94 2.06-2.06.94zm10 10l.94 2.06.94-2.06 2.06-.94-2.06-.94-.94-2.06-.94 2.06-2.06.94z\"/><path d=\"M17.41 7.96l-1.37-1.37c-.4-.4-.92-.59-1.43-.59-.52 0-1.04.2-1.43.59L10.3 9.45l-7.72 7.72c-.78.78-.78 2.05 0 2.83L4 21.41c.39.39.9.59 1.41.59.51 0 1.02-.2 1.41-.59l7.78-7.78 2.81-2.81c.8-.78.8-2.07 0-2.86zM5.41 20L4 18.59l7.72-7.72 1.47 1.35L5.41 20z\"/>\n",
       "  </svg>\n",
       "      </button>\n",
       "      \n",
       "  <style>\n",
       "    .colab-df-container {\n",
       "      display:flex;\n",
       "      flex-wrap:wrap;\n",
       "      gap: 12px;\n",
       "    }\n",
       "\n",
       "    .colab-df-convert {\n",
       "      background-color: #E8F0FE;\n",
       "      border: none;\n",
       "      border-radius: 50%;\n",
       "      cursor: pointer;\n",
       "      display: none;\n",
       "      fill: #1967D2;\n",
       "      height: 32px;\n",
       "      padding: 0 0 0 0;\n",
       "      width: 32px;\n",
       "    }\n",
       "\n",
       "    .colab-df-convert:hover {\n",
       "      background-color: #E2EBFA;\n",
       "      box-shadow: 0px 1px 2px rgba(60, 64, 67, 0.3), 0px 1px 3px 1px rgba(60, 64, 67, 0.15);\n",
       "      fill: #174EA6;\n",
       "    }\n",
       "\n",
       "    [theme=dark] .colab-df-convert {\n",
       "      background-color: #3B4455;\n",
       "      fill: #D2E3FC;\n",
       "    }\n",
       "\n",
       "    [theme=dark] .colab-df-convert:hover {\n",
       "      background-color: #434B5C;\n",
       "      box-shadow: 0px 1px 3px 1px rgba(0, 0, 0, 0.15);\n",
       "      filter: drop-shadow(0px 1px 2px rgba(0, 0, 0, 0.3));\n",
       "      fill: #FFFFFF;\n",
       "    }\n",
       "  </style>\n",
       "\n",
       "      <script>\n",
       "        const buttonEl =\n",
       "          document.querySelector('#df-54b49e57-cbac-4fbd-b039-320acb379ba0 button.colab-df-convert');\n",
       "        buttonEl.style.display =\n",
       "          google.colab.kernel.accessAllowed ? 'block' : 'none';\n",
       "\n",
       "        async function convertToInteractive(key) {\n",
       "          const element = document.querySelector('#df-54b49e57-cbac-4fbd-b039-320acb379ba0');\n",
       "          const dataTable =\n",
       "            await google.colab.kernel.invokeFunction('convertToInteractive',\n",
       "                                                     [key], {});\n",
       "          if (!dataTable) return;\n",
       "\n",
       "          const docLinkHtml = 'Like what you see? Visit the ' +\n",
       "            '<a target=\"_blank\" href=https://colab.research.google.com/notebooks/data_table.ipynb>data table notebook</a>'\n",
       "            + ' to learn more about interactive tables.';\n",
       "          element.innerHTML = '';\n",
       "          dataTable['output_type'] = 'display_data';\n",
       "          await google.colab.output.renderOutput(dataTable, element);\n",
       "          const docLink = document.createElement('div');\n",
       "          docLink.innerHTML = docLinkHtml;\n",
       "          element.appendChild(docLink);\n",
       "        }\n",
       "      </script>\n",
       "    </div>\n",
       "  </div>\n",
       "  "
      ]
     },
     "metadata": {},
     "execution_count": 61
    }
   ]
  },
  {
   "cell_type": "code",
   "source": [
    "# Train using PCA\n",
    "\n",
    "pca = PCA(n_components=6)\n",
    "df_pca = pca.fit(df)\n",
    "df_transformed_pca = df_pca.transform(df)\n",
    "\n",
    "def create_sequece_dataloaders_pca(dataset_norm):\n",
    "\n",
    "  # Create a dataset with pairs data / next /Target (in this case data is one \n",
    "  # sequence of 30 measures (18 features), next is the next value in the sequence \n",
    "  # and target is the following value with the\n",
    "  # measurements (18 features)). When you plug in one measurement, the model should out the next measurement\n",
    "\n",
    "  pair_set = []\n",
    "\n",
    "  for i in tqdm(range(len(dataset_norm) - 60)):    \n",
    "    data = np.array(dataset_norm[i:i+30, :])\n",
    "    next = np.array(dataset_norm[i+30, :], dtype= float)\n",
    "    target = np.array(dataset_norm[i+31, :], dtype= float)\n",
    "    \n",
    "    pair_set.append((data, next, target))\n",
    "\n",
    "  dataset_pairs = np.array(pair_set)\n",
    "\n",
    "  training_data_pairs, testing_data_pairs = train_test_split(dataset_pairs, test_size=0.1)\n",
    "\n",
    "  data = []\n",
    "  next = []\n",
    "  target = []\n",
    "\n",
    "  for i in training_data_pairs:\n",
    "    data.append(i[0])\n",
    "    next.append(i[1])\n",
    "    target.append(i[2])\n",
    "\n",
    "  training_data = torch.from_numpy(np.array(data)).float().to(device)\n",
    "  training_next = torch.from_numpy(np.array(next)).float().to(device)\n",
    "  training_target = torch.from_numpy(np.array(target)).float().to(device)\n",
    "\n",
    "  data = []\n",
    "  next = []\n",
    "  target = []\n",
    "\n",
    "  for i in testing_data_pairs:\n",
    "    data.append(i[0])\n",
    "    next.append(i[1])\n",
    "    target.append(i[2])\n",
    "\n",
    "  test_data = torch.from_numpy(np.array(data)).float().to(device)\n",
    "  test_next = torch.from_numpy(np.array(next)).float().to(device)\n",
    "  test_target = torch.from_numpy(np.array(target)).float().to(device)\n",
    "\n",
    "  print(f'length of training set (whole dataset): {training_data.shape[0]}')\n",
    "  print(f'length of test set (whole dataset): {test_data.shape[0]}')\n",
    "  print('\\n')\n",
    "\n",
    "  # Create data loader to feed the model in mini batches\n",
    "  loader_train = torch.utils.data.DataLoader(\n",
    "      dataset=torch.utils.data.TensorDataset(training_data, training_next, training_target),\n",
    "      batch_size=60,\n",
    "      shuffle=True\n",
    "  )\n",
    "\n",
    "  # Create data loader for testing the model\n",
    "  loader_test = torch.utils.data.DataLoader(\n",
    "      dataset=torch.utils.data.TensorDataset(test_data, test_next, test_target),\n",
    "      batch_size=60,\n",
    "      shuffle=True\n",
    "  )\n",
    "\n",
    "  return loader_train, loader_test\n",
    "\n",
    "loader_train_seq_pca, loader_test_seq_pca = create_sequece_dataloaders_pca(df_transformed_pca)\n",
    "\n",
    "\n",
    "def training_transformer_PCA(model, optimizer, criterion, train_loader, test_loader, n_epochs, device, pca):\n",
    "  epoch_loss_train = []\n",
    "  epoch_loss_test = []\n",
    "\n",
    "  for e in range(1, n_epochs + 1):\n",
    "\n",
    "    print(f'Epoch: {e} of {n_epochs}')\n",
    "    print('Training...')\n",
    "    model.train()\n",
    "\n",
    "    for i in tqdm(train_loader):\n",
    "\n",
    "      input = i[0]\n",
    "      out = i[1].unsqueeze(0).permute(1,0,2)\n",
    "      target = i[2].unsqueeze(0).permute(1,0,2)\n",
    "\n",
    "      net_out = model.forward(input, out)\n",
    "\n",
    "      #Compute loss\n",
    "      loss = criterion(net_out, target)\n",
    "\n",
    "      optimizer.zero_grad()\n",
    "\n",
    "      #Backpropagation\n",
    "      loss.backward()\n",
    "\n",
    "      torch.nn.utils.clip_grad_norm_(model.parameters(), 0.5)\n",
    "\n",
    "      #Optimization\n",
    "      optimizer.step()\n",
    "\n",
    "\n",
    "    print('\\nTest with training set')\n",
    "    losses_train = []\n",
    "    model.eval()\n",
    "    with torch.no_grad():\n",
    "      for i in tqdm(train_loader):\n",
    "\n",
    "        input = i[0]\n",
    "        out = i[1].unsqueeze(0).permute(1,0,2)\n",
    "        target = i[2].unsqueeze(0).permute(1,0,2)\n",
    "\n",
    "        net_out = model.forward(input, out)\n",
    "\n",
    "        #Compute loss\n",
    "        losses_train.append (float(criterion(net_out, target).item()))\n",
    "\n",
    "    \n",
    "    print('\\nCurrent Mean loss Train Set: ', np.mean(losses_train))\n",
    "    epoch_loss_train.append(losses_train)\n",
    "\n",
    "    print('\\nTest with test set')\n",
    "    losses_test = []\n",
    "    model.eval()\n",
    "\n",
    "    \n",
    "    with torch.no_grad():\n",
    "      for i in tqdm(test_loader):\n",
    "      \n",
    "        input = i[0]\n",
    "        out = i[1].unsqueeze(0).permute(1,0,2)\n",
    "        target = i[2].unsqueeze(0).permute(1,0,2)\n",
    "\n",
    "        net_out = model.forward(input, out)\n",
    "\n",
    "        #Compute loss\n",
    "        losses_test.append (float(criterion(net_out, target).item()))\n",
    "\n",
    "    print('\\nCurrent Mean loss Test Set: ', np.mean(losses_test))\n",
    "    epoch_loss_test.append(losses_test)\n",
    "\n",
    "    print('\\n')\n",
    "\n",
    "  return model, epoch_loss_train, epoch_loss_test"
   ],
   "metadata": {
    "colab": {
     "base_uri": "https://localhost:8080/"
    },
    "id": "jRxTLiDimKt6",
    "outputId": "6b69b97e-9357-47ab-bbb7-0b6c83f78733",
    "pycharm": {
     "name": "#%%\n"
    }
   },
   "execution_count": null,
   "outputs": [
    {
     "output_type": "stream",
     "name": "stderr",
     "text": [
      "100%|██████████| 63300/63300 [00:00<00:00, 199403.70it/s]\n",
      "/usr/local/lib/python3.7/dist-packages/ipykernel_launcher.py:23: VisibleDeprecationWarning: Creating an ndarray from ragged nested sequences (which is a list-or-tuple of lists-or-tuples-or ndarrays with different lengths or shapes) is deprecated. If you meant to do this, you must specify 'dtype=object' when creating the ndarray.\n"
     ]
    },
    {
     "output_type": "stream",
     "name": "stdout",
     "text": [
      "length of training set (whole dataset): 56970\n",
      "length of test set (whole dataset): 6330\n",
      "\n",
      "\n"
     ]
    }
   ]
  },
  {
   "cell_type": "code",
   "source": [
    "# Initialize Transformer Model and Optimizer\n",
    "start_time = datetime.now()\n",
    "continue_training = False\n",
    "\n",
    "if continue_training is False:\n",
    "  model_transformer_pca = Transformer (num_encoder_layers=6,\n",
    "                      num_decoder_layers=1,\n",
    "                      feature_size=6,\n",
    "                      output_size=6,\n",
    "                      num_heads=6,\n",
    "                      dim_feedforward=2048,\n",
    "                      device = device,\n",
    "                      batch_first=True)\n",
    "\n",
    "n_epochs = 200\n",
    "\n",
    "print('Setup model Ok')\n",
    "\n",
    "optimizer = torch.optim.SGD(model_transformer_pca.parameters(), lr=0.01, momentum= 0.9)\n",
    "criterion = nn.MSELoss()\n",
    "\n",
    "print('Setup optimizer Ok')\n",
    "\n",
    "train_transformer = True\n",
    "\n",
    "if train_transformer is True:\n",
    "  trained_model_transformer_pca, train_losses_6, test_losses_6 = training_transformer_PCA(\n",
    "      model= model_transformer_pca, \n",
    "      optimizer= optimizer, \n",
    "      criterion= criterion, \n",
    "      train_loader= loader_train_seq_pca, \n",
    "      test_loader= loader_test_seq_pca, \n",
    "      n_epochs= n_epochs,\n",
    "      device=device,\n",
    "      pca=df_pca)\n",
    "  \n",
    "end_time = datetime.now()\n",
    "time_diff = (end_time - start_time)\n",
    "execution_time = time_diff.total_seconds() * 1000\n",
    "\n",
    "print(f'{execution_time} miliseconds')"
   ],
   "metadata": {
    "colab": {
     "base_uri": "https://localhost:8080/",
     "height": 1000
    },
    "id": "mOXJVIS1op-q",
    "outputId": "3624115c-c138-4cc7-ed36-f8b3dcfa33de",
    "pycharm": {
     "name": "#%%\n"
    }
   },
   "execution_count": null,
   "outputs": [
    {
     "output_type": "stream",
     "name": "stdout",
     "text": [
      "Setup model Ok\n",
      "Setup optimizer Ok\n",
      "Epoch: 1 of 200\n",
      "Training...\n"
     ]
    },
    {
     "output_type": "stream",
     "name": "stderr",
     "text": [
      "100%|██████████| 950/950 [00:29<00:00, 31.97it/s]\n"
     ]
    },
    {
     "output_type": "stream",
     "name": "stdout",
     "text": [
      "\n",
      "Test with training set\n"
     ]
    },
    {
     "output_type": "stream",
     "name": "stderr",
     "text": [
      "100%|██████████| 950/950 [00:08<00:00, 113.55it/s]\n"
     ]
    },
    {
     "output_type": "stream",
     "name": "stdout",
     "text": [
      "\n",
      "Current Mean loss Train Set:  1.005661331289693\n",
      "\n",
      "Test with test set\n"
     ]
    },
    {
     "output_type": "stream",
     "name": "stderr",
     "text": [
      "100%|██████████| 106/106 [00:00<00:00, 113.50it/s]\n"
     ]
    },
    {
     "output_type": "stream",
     "name": "stdout",
     "text": [
      "\n",
      "Current Mean loss Test Set:  1.0412167766184177\n",
      "\n",
      "\n",
      "Epoch: 2 of 200\n",
      "Training...\n"
     ]
    },
    {
     "output_type": "stream",
     "name": "stderr",
     "text": [
      "100%|██████████| 950/950 [00:29<00:00, 31.82it/s]\n"
     ]
    },
    {
     "output_type": "stream",
     "name": "stdout",
     "text": [
      "\n",
      "Test with training set\n"
     ]
    },
    {
     "output_type": "stream",
     "name": "stderr",
     "text": [
      "100%|██████████| 950/950 [00:08<00:00, 113.31it/s]\n"
     ]
    },
    {
     "output_type": "stream",
     "name": "stdout",
     "text": [
      "\n",
      "Current Mean loss Train Set:  0.9819152564124057\n",
      "\n",
      "Test with test set\n"
     ]
    },
    {
     "output_type": "stream",
     "name": "stderr",
     "text": [
      "100%|██████████| 106/106 [00:00<00:00, 114.43it/s]\n"
     ]
    },
    {
     "output_type": "stream",
     "name": "stdout",
     "text": [
      "\n",
      "Current Mean loss Test Set:  1.017743021812079\n",
      "\n",
      "\n",
      "Epoch: 3 of 200\n",
      "Training...\n"
     ]
    },
    {
     "output_type": "stream",
     "name": "stderr",
     "text": [
      "100%|██████████| 950/950 [00:29<00:00, 32.18it/s]\n"
     ]
    },
    {
     "output_type": "stream",
     "name": "stdout",
     "text": [
      "\n",
      "Test with training set\n"
     ]
    },
    {
     "output_type": "stream",
     "name": "stderr",
     "text": [
      "100%|██████████| 950/950 [00:08<00:00, 113.36it/s]\n"
     ]
    },
    {
     "output_type": "stream",
     "name": "stdout",
     "text": [
      "\n",
      "Current Mean loss Train Set:  0.9680814192797008\n",
      "\n",
      "Test with test set\n"
     ]
    },
    {
     "output_type": "stream",
     "name": "stderr",
     "text": [
      "100%|██████████| 106/106 [00:00<00:00, 115.10it/s]\n"
     ]
    },
    {
     "output_type": "stream",
     "name": "stdout",
     "text": [
      "\n",
      "Current Mean loss Test Set:  1.0035489555799737\n",
      "\n",
      "\n",
      "Epoch: 4 of 200\n",
      "Training...\n"
     ]
    },
    {
     "output_type": "stream",
     "name": "stderr",
     "text": [
      "100%|██████████| 950/950 [00:32<00:00, 29.56it/s]\n"
     ]
    },
    {
     "output_type": "stream",
     "name": "stdout",
     "text": [
      "\n",
      "Test with training set\n"
     ]
    },
    {
     "output_type": "stream",
     "name": "stderr",
     "text": [
      " 85%|████████▌ | 812/950 [00:07<00:01, 113.53it/s]\n"
     ]
    },
    {
     "output_type": "error",
     "ename": "KeyboardInterrupt",
     "evalue": "ignored",
     "traceback": [
      "\u001B[0;31m---------------------------------------------------------------------------\u001B[0m",
      "\u001B[0;31mKeyboardInterrupt\u001B[0m                         Traceback (most recent call last)",
      "\u001B[0;32m<ipython-input-83-b0cd49a03ad8>\u001B[0m in \u001B[0;36m<module>\u001B[0;34m()\u001B[0m\n\u001B[1;32m     33\u001B[0m       \u001B[0mn_epochs\u001B[0m\u001B[0;34m=\u001B[0m \u001B[0mn_epochs\u001B[0m\u001B[0;34m,\u001B[0m\u001B[0;34m\u001B[0m\u001B[0;34m\u001B[0m\u001B[0m\n\u001B[1;32m     34\u001B[0m       \u001B[0mdevice\u001B[0m\u001B[0;34m=\u001B[0m\u001B[0mdevice\u001B[0m\u001B[0;34m,\u001B[0m\u001B[0;34m\u001B[0m\u001B[0;34m\u001B[0m\u001B[0m\n\u001B[0;32m---> 35\u001B[0;31m       pca=df_pca)\n\u001B[0m\u001B[1;32m     36\u001B[0m \u001B[0;34m\u001B[0m\u001B[0m\n\u001B[1;32m     37\u001B[0m \u001B[0mend_time\u001B[0m \u001B[0;34m=\u001B[0m \u001B[0mdatetime\u001B[0m\u001B[0;34m.\u001B[0m\u001B[0mnow\u001B[0m\u001B[0;34m(\u001B[0m\u001B[0;34m)\u001B[0m\u001B[0;34m\u001B[0m\u001B[0;34m\u001B[0m\u001B[0m\n",
      "\u001B[0;32m<ipython-input-82-426839f8b104>\u001B[0m in \u001B[0;36mtraining_transformer_PCA\u001B[0;34m(model, optimizer, criterion, train_loader, test_loader, n_epochs, device, pca)\u001B[0m\n\u001B[1;32m    116\u001B[0m         \u001B[0mtarget\u001B[0m \u001B[0;34m=\u001B[0m \u001B[0mi\u001B[0m\u001B[0;34m[\u001B[0m\u001B[0;36m2\u001B[0m\u001B[0;34m]\u001B[0m\u001B[0;34m.\u001B[0m\u001B[0munsqueeze\u001B[0m\u001B[0;34m(\u001B[0m\u001B[0;36m0\u001B[0m\u001B[0;34m)\u001B[0m\u001B[0;34m.\u001B[0m\u001B[0mpermute\u001B[0m\u001B[0;34m(\u001B[0m\u001B[0;36m1\u001B[0m\u001B[0;34m,\u001B[0m\u001B[0;36m0\u001B[0m\u001B[0;34m,\u001B[0m\u001B[0;36m2\u001B[0m\u001B[0;34m)\u001B[0m\u001B[0;34m\u001B[0m\u001B[0;34m\u001B[0m\u001B[0m\n\u001B[1;32m    117\u001B[0m \u001B[0;34m\u001B[0m\u001B[0m\n\u001B[0;32m--> 118\u001B[0;31m         \u001B[0mnet_out\u001B[0m \u001B[0;34m=\u001B[0m \u001B[0mmodel\u001B[0m\u001B[0;34m.\u001B[0m\u001B[0mforward\u001B[0m\u001B[0;34m(\u001B[0m\u001B[0minput\u001B[0m\u001B[0;34m,\u001B[0m \u001B[0mout\u001B[0m\u001B[0;34m)\u001B[0m\u001B[0;34m\u001B[0m\u001B[0;34m\u001B[0m\u001B[0m\n\u001B[0m\u001B[1;32m    119\u001B[0m \u001B[0;34m\u001B[0m\u001B[0m\n\u001B[1;32m    120\u001B[0m         \u001B[0;31m#Compute loss\u001B[0m\u001B[0;34m\u001B[0m\u001B[0;34m\u001B[0m\u001B[0;34m\u001B[0m\u001B[0m\n",
      "\u001B[0;32m<ipython-input-60-5205d6c2355f>\u001B[0m in \u001B[0;36mforward\u001B[0;34m(self, enc_input, dec_input)\u001B[0m\n\u001B[1;32m     32\u001B[0m         \u001B[0mmemory_mask\u001B[0m \u001B[0;34m=\u001B[0m \u001B[0mself\u001B[0m\u001B[0;34m.\u001B[0m\u001B[0mgenerate_square_mask\u001B[0m\u001B[0;34m(\u001B[0m\u001B[0mlen\u001B[0m\u001B[0;34m(\u001B[0m\u001B[0menc_input\u001B[0m\u001B[0;34m)\u001B[0m\u001B[0;34m)\u001B[0m\u001B[0;34m\u001B[0m\u001B[0;34m\u001B[0m\u001B[0m\n\u001B[1;32m     33\u001B[0m \u001B[0;34m\u001B[0m\u001B[0m\n\u001B[0;32m---> 34\u001B[0;31m         \u001B[0msrc_pos_enc\u001B[0m \u001B[0;34m=\u001B[0m \u001B[0menc_input\u001B[0m \u001B[0;34m+\u001B[0m \u001B[0mself\u001B[0m\u001B[0;34m.\u001B[0m\u001B[0mpositional_encoding\u001B[0m\u001B[0;34m(\u001B[0m\u001B[0mseq_len\u001B[0m\u001B[0;34m=\u001B[0m \u001B[0menc_input\u001B[0m\u001B[0;34m.\u001B[0m\u001B[0mshape\u001B[0m\u001B[0;34m[\u001B[0m\u001B[0;36m1\u001B[0m\u001B[0;34m]\u001B[0m\u001B[0;34m,\u001B[0m \u001B[0mdim_model\u001B[0m\u001B[0;34m=\u001B[0m \u001B[0menc_input\u001B[0m\u001B[0;34m.\u001B[0m\u001B[0mshape\u001B[0m\u001B[0;34m[\u001B[0m\u001B[0;36m2\u001B[0m\u001B[0;34m]\u001B[0m\u001B[0;34m,\u001B[0m \u001B[0mdevice\u001B[0m\u001B[0;34m=\u001B[0m \u001B[0mself\u001B[0m\u001B[0;34m.\u001B[0m\u001B[0mdevice\u001B[0m\u001B[0;34m)\u001B[0m\u001B[0;34m\u001B[0m\u001B[0;34m\u001B[0m\u001B[0m\n\u001B[0m\u001B[1;32m     35\u001B[0m         \u001B[0msrc_pos_dec\u001B[0m \u001B[0;34m=\u001B[0m \u001B[0mdec_input\u001B[0m \u001B[0;34m+\u001B[0m \u001B[0mself\u001B[0m\u001B[0;34m.\u001B[0m\u001B[0mpositional_encoding\u001B[0m\u001B[0;34m(\u001B[0m\u001B[0mseq_len\u001B[0m\u001B[0;34m=\u001B[0m \u001B[0mdec_input\u001B[0m\u001B[0;34m.\u001B[0m\u001B[0mshape\u001B[0m\u001B[0;34m[\u001B[0m\u001B[0;36m1\u001B[0m\u001B[0;34m]\u001B[0m\u001B[0;34m,\u001B[0m \u001B[0mdim_model\u001B[0m\u001B[0;34m=\u001B[0m \u001B[0mdec_input\u001B[0m\u001B[0;34m.\u001B[0m\u001B[0mshape\u001B[0m\u001B[0;34m[\u001B[0m\u001B[0;36m2\u001B[0m\u001B[0;34m]\u001B[0m\u001B[0;34m,\u001B[0m \u001B[0mdevice\u001B[0m\u001B[0;34m=\u001B[0m \u001B[0mself\u001B[0m\u001B[0;34m.\u001B[0m\u001B[0mdevice\u001B[0m\u001B[0;34m)\u001B[0m\u001B[0;34m\u001B[0m\u001B[0;34m\u001B[0m\u001B[0m\n\u001B[1;32m     36\u001B[0m \u001B[0;34m\u001B[0m\u001B[0m\n",
      "\u001B[0;32m<ipython-input-60-5205d6c2355f>\u001B[0m in \u001B[0;36mpositional_encoding\u001B[0;34m(self, seq_len, dim_model, device)\u001B[0m\n\u001B[1;32m     21\u001B[0m         \u001B[0;32mfor\u001B[0m \u001B[0mpos\u001B[0m \u001B[0;32min\u001B[0m \u001B[0mrange\u001B[0m\u001B[0;34m(\u001B[0m\u001B[0mseq_len\u001B[0m\u001B[0;34m)\u001B[0m\u001B[0;34m:\u001B[0m\u001B[0;34m\u001B[0m\u001B[0;34m\u001B[0m\u001B[0m\n\u001B[1;32m     22\u001B[0m           \u001B[0;32mfor\u001B[0m \u001B[0mi\u001B[0m \u001B[0;32min\u001B[0m \u001B[0mrange\u001B[0m\u001B[0;34m(\u001B[0m\u001B[0;36m0\u001B[0m\u001B[0;34m,\u001B[0m \u001B[0mint\u001B[0m\u001B[0;34m(\u001B[0m\u001B[0mdim_model\u001B[0m \u001B[0;34m/\u001B[0m \u001B[0;36m2\u001B[0m\u001B[0;34m)\u001B[0m\u001B[0;34m)\u001B[0m\u001B[0;34m:\u001B[0m\u001B[0;34m\u001B[0m\u001B[0;34m\u001B[0m\u001B[0m\n\u001B[0;32m---> 23\u001B[0;31m             \u001B[0mposition_encoding\u001B[0m\u001B[0;34m[\u001B[0m\u001B[0mpos\u001B[0m\u001B[0;34m,\u001B[0m \u001B[0;36m2\u001B[0m \u001B[0;34m*\u001B[0m \u001B[0mi\u001B[0m\u001B[0;34m]\u001B[0m \u001B[0;34m=\u001B[0m \u001B[0mmath\u001B[0m\u001B[0;34m.\u001B[0m\u001B[0msin\u001B[0m\u001B[0;34m(\u001B[0m\u001B[0mpos\u001B[0m \u001B[0;34m/\u001B[0m \u001B[0;34m(\u001B[0m\u001B[0;36m10000\u001B[0m \u001B[0;34m**\u001B[0m \u001B[0;34m(\u001B[0m\u001B[0;34m(\u001B[0m\u001B[0;36m2\u001B[0m \u001B[0;34m*\u001B[0m \u001B[0mi\u001B[0m\u001B[0;34m)\u001B[0m\u001B[0;34m/\u001B[0m\u001B[0mdim_model\u001B[0m\u001B[0;34m)\u001B[0m\u001B[0;34m)\u001B[0m\u001B[0;34m)\u001B[0m\u001B[0;34m\u001B[0m\u001B[0;34m\u001B[0m\u001B[0m\n\u001B[0m\u001B[1;32m     24\u001B[0m             \u001B[0mposition_encoding\u001B[0m\u001B[0;34m[\u001B[0m\u001B[0mpos\u001B[0m\u001B[0;34m,\u001B[0m \u001B[0;34m(\u001B[0m\u001B[0;36m2\u001B[0m \u001B[0;34m*\u001B[0m \u001B[0mi\u001B[0m\u001B[0;34m)\u001B[0m \u001B[0;34m+\u001B[0m \u001B[0;36m1\u001B[0m\u001B[0;34m]\u001B[0m \u001B[0;34m=\u001B[0m \u001B[0mmath\u001B[0m\u001B[0;34m.\u001B[0m\u001B[0mcos\u001B[0m\u001B[0;34m(\u001B[0m\u001B[0mpos\u001B[0m \u001B[0;34m/\u001B[0m \u001B[0;34m(\u001B[0m\u001B[0;36m10000\u001B[0m \u001B[0;34m**\u001B[0m \u001B[0;34m(\u001B[0m\u001B[0;34m(\u001B[0m\u001B[0;36m2\u001B[0m \u001B[0;34m*\u001B[0m \u001B[0mi\u001B[0m\u001B[0;34m)\u001B[0m\u001B[0;34m/\u001B[0m\u001B[0mdim_model\u001B[0m\u001B[0;34m)\u001B[0m\u001B[0;34m)\u001B[0m\u001B[0;34m)\u001B[0m\u001B[0;34m\u001B[0m\u001B[0;34m\u001B[0m\u001B[0m\n\u001B[1;32m     25\u001B[0m \u001B[0;34m\u001B[0m\u001B[0m\n",
      "\u001B[0;31mKeyboardInterrupt\u001B[0m: "
     ]
    }
   ]
  },
  {
   "cell_type": "code",
   "source": [
    "from google.colab import files\n",
    "files.download('README.md') "
   ],
   "metadata": {
    "id": "jOz6d0_B-FaE",
    "outputId": "bafccc7f-3386-4f26-996b-b557c613ce57",
    "colab": {
     "base_uri": "https://localhost:8080/",
     "height": 0
    },
    "pycharm": {
     "name": "#%%\n"
    }
   },
   "execution_count": 62,
   "outputs": [
    {
     "output_type": "display_data",
     "data": {
      "text/plain": [
       "<IPython.core.display.Javascript object>"
      ],
      "application/javascript": [
       "\n",
       "    async function download(id, filename, size) {\n",
       "      if (!google.colab.kernel.accessAllowed) {\n",
       "        return;\n",
       "      }\n",
       "      const div = document.createElement('div');\n",
       "      const label = document.createElement('label');\n",
       "      label.textContent = `Downloading \"${filename}\": `;\n",
       "      div.appendChild(label);\n",
       "      const progress = document.createElement('progress');\n",
       "      progress.max = size;\n",
       "      div.appendChild(progress);\n",
       "      document.body.appendChild(div);\n",
       "\n",
       "      const buffers = [];\n",
       "      let downloaded = 0;\n",
       "\n",
       "      const channel = await google.colab.kernel.comms.open(id);\n",
       "      // Send a message to notify the kernel that we're ready.\n",
       "      channel.send({})\n",
       "\n",
       "      for await (const message of channel.messages) {\n",
       "        // Send a message to notify the kernel that we're ready.\n",
       "        channel.send({})\n",
       "        if (message.buffers) {\n",
       "          for (const buffer of message.buffers) {\n",
       "            buffers.push(buffer);\n",
       "            downloaded += buffer.byteLength;\n",
       "            progress.value = downloaded;\n",
       "          }\n",
       "        }\n",
       "      }\n",
       "      const blob = new Blob(buffers, {type: 'application/binary'});\n",
       "      const a = document.createElement('a');\n",
       "      a.href = window.URL.createObjectURL(blob);\n",
       "      a.download = filename;\n",
       "      div.appendChild(a);\n",
       "      a.click();\n",
       "      div.remove();\n",
       "    }\n",
       "  "
      ]
     },
     "metadata": {}
    },
    {
     "output_type": "display_data",
     "data": {
      "text/plain": [
       "<IPython.core.display.Javascript object>"
      ],
      "application/javascript": [
       "download(\"download_53f11f3c-41b4-4642-a5ff-86fd53502f9b\", \"README.md\", 1563)"
      ]
     },
     "metadata": {}
    }
   ]
  }
 ],
 "metadata": {
  "colab": {
   "name": "bsc_arbeit.ipynb",
   "provenance": [],
   "machine_shape": "hm"
  },
  "kernelspec": {
   "display_name": "Python 3.9.2 64-bit",
   "language": "python",
   "name": "python392jvsc74a57bd0aee8b7b246df8f9039afb4144a1f6fd8d2ca17a180786b69acc140d282b71a49"
  },
  "language_info": {
   "codemirror_mode": {
    "name": "ipython",
    "version": 3
   },
   "file_extension": ".py",
   "mimetype": "text/x-python",
   "name": "python",
   "nbconvert_exporter": "python",
   "pygments_lexer": "ipython3",
   "version": "3.9.2"
  },
  "accelerator": "GPU"
 },
 "nbformat": 4,
 "nbformat_minor": 0
}