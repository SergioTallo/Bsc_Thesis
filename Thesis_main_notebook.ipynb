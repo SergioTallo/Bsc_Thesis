{
 "cells": [
  {
   "cell_type": "markdown",
   "source": [
    "# Multivariate Time Series Prediction Using Transformers Architecture\n",
    "\n",
    "The following Notebook shows the coding part of my Bachelor Thesis for the Information and Communication Systems and Services bachelor degree in the University of Applied Science Technikum Wien.\n",
    "\n",
    "Author: Sergio Tallo Torres\n",
    "Date: May 2022"
   ],
   "metadata": {
    "id": "EFhSljeOCnRw",
    "pycharm": {
     "name": "#%% md\n"
    }
   }
  },
  {
   "cell_type": "markdown",
   "metadata": {
    "id": "0esqvQHT2922",
    "pycharm": {
     "name": "#%% md\n"
    }
   },
   "source": [
    "# First: load imports needed for the project and project preparation"
   ]
  },
  {
   "cell_type": "code",
   "execution_count": 2,
   "outputs": [
    {
     "name": "stdout",
     "output_type": "stream",
     "text": [
      "Device: CPU\n"
     ]
    }
   ],
   "source": [
    "import pandas as pd\n",
    "import seaborn as sns\n",
    "import numpy as np\n",
    "import matplotlib.pyplot as plt\n",
    "import torch.nn as nn\n",
    "\n",
    "import os\n",
    "import torch\n",
    "import sklearn\n",
    "import scipy\n",
    "\n",
    "from datetime import datetime\n",
    "from tqdm import tqdm\n",
    "from scipy import stats\n",
    "from platform import python_version\n",
    "\n",
    "import utils_bsc\n",
    "\n",
    "if torch.cuda.is_available():\n",
    "  device = torch.device('cuda:0')\n",
    "  print('Device: GPU =', torch.cuda.get_device_name(0))\n",
    "else:\n",
    "  device = torch.device('cpu')\n",
    "  print('Device: CPU')\n",
    "\n",
    "saved_results = 'training_results'\n",
    "\n",
    "# Check whether the directory where the results files must be saved exists or not\n",
    "if not os.path.exists(saved_results):\n",
    "  # Create a new directory because it does not exist\n",
    "  os.makedirs(saved_results)"
   ],
   "metadata": {
    "collapsed": false,
    "pycharm": {
     "name": "#%%\n"
    }
   }
  },
  {
   "cell_type": "code",
   "execution_count": 3,
   "outputs": [
    {
     "name": "stdout",
     "output_type": "stream",
     "text": [
      "versions of packages:\n",
      "Python: 3.9.2\n",
      "Pandas: 1.3.3\n",
      "Numpy: 1.20.3\n",
      "PyTorch: 1.10.0\n",
      "Sklearn: 1.0\n",
      "seaborn: 0.11.2\n",
      "scipy: 1.7.1\n"
     ]
    }
   ],
   "source": [
    "print('versions of packages:')\n",
    "print(f'Python: {python_version()}')\n",
    "print(f'Pandas: {pd.__version__}')\n",
    "print(f'Numpy: {np.__version__}')\n",
    "print(f'PyTorch: {torch.__version__}')\n",
    "print(f'Sklearn: {sklearn.__version__}')\n",
    "print(f'seaborn: {sns.__version__}')\n",
    "print(f'scipy: {scipy.__version__}')"
   ],
   "metadata": {
    "collapsed": false,
    "pycharm": {
     "name": "#%%\n"
    }
   }
  },
  {
   "cell_type": "code",
   "execution_count": 4,
   "outputs": [],
   "source": [
    "# This cell is necessary to use this notebook in google colab\n",
    "# If you are running this notebook in colab, please change colab to True\n",
    "\n",
    "colab = False\n",
    "\n",
    "if colab is True:\n",
    "    cwd = os.getcwd()\n",
    "\n",
    "    if cwd != \"/content/Bsc_Thesis\":\n",
    "        ! git clone https://github.com/SergioTallo/Bsc_Thesis.git\n",
    "        % cd Bsc_Thesis\n",
    "\n",
    "    print(cwd)"
   ],
   "metadata": {
    "collapsed": false,
    "pycharm": {
     "name": "#%%\n"
    }
   }
  },
  {
   "cell_type": "markdown",
   "source": [
    "# Data loading and preparation"
   ],
   "metadata": {
    "collapsed": false,
    "pycharm": {
     "name": "#%% md\n"
    }
   }
  },
  {
   "cell_type": "markdown",
   "source": [
    "Now, we should create a dataset with all the data stored in the .csv file\n",
    "\n",
    "Description of the data:\n",
    "\n",
    "*   time: Timestamp (YYYY-MM-DD HH:MM:SS)\n",
    "*   PLN1: Power in the phase 1 (W)\n",
    "*   PLN2: Power in the phase 2 (W)\n",
    "*   PLN3: Power in the phase 3 (W)\n",
    "*   ULL1: Current Voltage between 2 phases (V)\n",
    "*   ULL2: Current Voltage between 2 phases (V)\n",
    "*   ULL3: Current Voltage between 2 phases (V)\n",
    "*   COS_PHI1: Phase shift (Cos)\n",
    "*   COS_PHI2: Phase shift (Cos)\n",
    "*   COS_PHI3: Phase shift (Cos)\n",
    "*   FREQ: Electricity Frequency (Hz)\n",
    "*   RC_DC: Fault currents\n",
    "*   RC_AC: Fault currents\n",
    "*   RC_50Hz: Fault currents\n",
    "*   RC_150Hz: Fault currents\n",
    "*   RC_<100Hz: Fault currents\n",
    "*   RC_100Hz-1kHz: Fault currents\n",
    "*   RC_>10kHz: Fault currents\n"
   ],
   "metadata": {
    "collapsed": false,
    "pycharm": {
     "name": "#%% md\n"
    }
   }
  },
  {
   "cell_type": "code",
   "execution_count": 5,
   "outputs": [
    {
     "data": {
      "text/plain": "                  time       PLN1      PLN2      PLN3      ULL1      ULL2  \\\n0  2020-06-01 00:00:00  1141.0819  519.5034  482.9381  398.8613  400.1982   \n1  2020-06-01 00:01:00  1145.1162  519.1807  491.4436  398.6934  400.1579   \n2  2020-06-01 00:02:00  1140.9558  743.3837  484.9942  398.4367  400.1205   \n3  2020-06-01 00:03:00  1151.9409  741.4836  487.4224  398.9800  400.4375   \n4  2020-06-01 00:04:00  1142.1594  741.9858  486.7629  398.7133  400.3145   \n\n       ULL3  COS_PHI1  COS_PHI2  COS_PHI3     FREQ  RC_DC  RC_AC  RC_50Hz  \\\n0  395.6010    0.8091    0.6864    0.4875  49.9927    4.0   91.0     10.0   \n1  395.5431    0.8080    0.6903    0.4904  49.9779    5.0   64.0      7.0   \n2  395.5259    0.8113    0.9274    0.4806  49.9782    4.0   64.0      7.0   \n3  395.8621    0.8249    0.9123    0.4778  49.9850    5.0   66.0      8.0   \n4  395.6446    0.8081    0.9291    0.4552  49.9856    4.0   85.0     11.0   \n\n   RC_150Hz  RC_<100Hz  RC_100Hz-1kHz  RC_>1kHz  RC_>10kHz  \n0      39.0       36.0           86.0      82.0        7.0  \n1      27.0       25.0           60.0      55.0        2.0  \n2      27.0       25.0           60.0      55.0        2.0  \n3      28.0       25.0           61.0      57.0        2.0  \n4      45.0       41.0           75.0      68.0        6.0  ",
      "text/html": "<div>\n<style scoped>\n    .dataframe tbody tr th:only-of-type {\n        vertical-align: middle;\n    }\n\n    .dataframe tbody tr th {\n        vertical-align: top;\n    }\n\n    .dataframe thead th {\n        text-align: right;\n    }\n</style>\n<table border=\"1\" class=\"dataframe\">\n  <thead>\n    <tr style=\"text-align: right;\">\n      <th></th>\n      <th>time</th>\n      <th>PLN1</th>\n      <th>PLN2</th>\n      <th>PLN3</th>\n      <th>ULL1</th>\n      <th>ULL2</th>\n      <th>ULL3</th>\n      <th>COS_PHI1</th>\n      <th>COS_PHI2</th>\n      <th>COS_PHI3</th>\n      <th>FREQ</th>\n      <th>RC_DC</th>\n      <th>RC_AC</th>\n      <th>RC_50Hz</th>\n      <th>RC_150Hz</th>\n      <th>RC_&lt;100Hz</th>\n      <th>RC_100Hz-1kHz</th>\n      <th>RC_&gt;1kHz</th>\n      <th>RC_&gt;10kHz</th>\n    </tr>\n  </thead>\n  <tbody>\n    <tr>\n      <th>0</th>\n      <td>2020-06-01 00:00:00</td>\n      <td>1141.0819</td>\n      <td>519.5034</td>\n      <td>482.9381</td>\n      <td>398.8613</td>\n      <td>400.1982</td>\n      <td>395.6010</td>\n      <td>0.8091</td>\n      <td>0.6864</td>\n      <td>0.4875</td>\n      <td>49.9927</td>\n      <td>4.0</td>\n      <td>91.0</td>\n      <td>10.0</td>\n      <td>39.0</td>\n      <td>36.0</td>\n      <td>86.0</td>\n      <td>82.0</td>\n      <td>7.0</td>\n    </tr>\n    <tr>\n      <th>1</th>\n      <td>2020-06-01 00:01:00</td>\n      <td>1145.1162</td>\n      <td>519.1807</td>\n      <td>491.4436</td>\n      <td>398.6934</td>\n      <td>400.1579</td>\n      <td>395.5431</td>\n      <td>0.8080</td>\n      <td>0.6903</td>\n      <td>0.4904</td>\n      <td>49.9779</td>\n      <td>5.0</td>\n      <td>64.0</td>\n      <td>7.0</td>\n      <td>27.0</td>\n      <td>25.0</td>\n      <td>60.0</td>\n      <td>55.0</td>\n      <td>2.0</td>\n    </tr>\n    <tr>\n      <th>2</th>\n      <td>2020-06-01 00:02:00</td>\n      <td>1140.9558</td>\n      <td>743.3837</td>\n      <td>484.9942</td>\n      <td>398.4367</td>\n      <td>400.1205</td>\n      <td>395.5259</td>\n      <td>0.8113</td>\n      <td>0.9274</td>\n      <td>0.4806</td>\n      <td>49.9782</td>\n      <td>4.0</td>\n      <td>64.0</td>\n      <td>7.0</td>\n      <td>27.0</td>\n      <td>25.0</td>\n      <td>60.0</td>\n      <td>55.0</td>\n      <td>2.0</td>\n    </tr>\n    <tr>\n      <th>3</th>\n      <td>2020-06-01 00:03:00</td>\n      <td>1151.9409</td>\n      <td>741.4836</td>\n      <td>487.4224</td>\n      <td>398.9800</td>\n      <td>400.4375</td>\n      <td>395.8621</td>\n      <td>0.8249</td>\n      <td>0.9123</td>\n      <td>0.4778</td>\n      <td>49.9850</td>\n      <td>5.0</td>\n      <td>66.0</td>\n      <td>8.0</td>\n      <td>28.0</td>\n      <td>25.0</td>\n      <td>61.0</td>\n      <td>57.0</td>\n      <td>2.0</td>\n    </tr>\n    <tr>\n      <th>4</th>\n      <td>2020-06-01 00:04:00</td>\n      <td>1142.1594</td>\n      <td>741.9858</td>\n      <td>486.7629</td>\n      <td>398.7133</td>\n      <td>400.3145</td>\n      <td>395.6446</td>\n      <td>0.8081</td>\n      <td>0.9291</td>\n      <td>0.4552</td>\n      <td>49.9856</td>\n      <td>4.0</td>\n      <td>85.0</td>\n      <td>11.0</td>\n      <td>45.0</td>\n      <td>41.0</td>\n      <td>75.0</td>\n      <td>68.0</td>\n      <td>6.0</td>\n    </tr>\n  </tbody>\n</table>\n</div>"
     },
     "execution_count": 5,
     "metadata": {},
     "output_type": "execute_result"
    }
   ],
   "source": [
    "dataset = pd.read_csv('data_factory.csv')\n",
    "dataset.head()"
   ],
   "metadata": {
    "collapsed": false,
    "pycharm": {
     "name": "#%%\n"
    }
   }
  },
  {
   "cell_type": "markdown",
   "source": [
    "Once we have the dataset, we should prepare it. Finding the missing or the NaN values and replace them with suitable values (in this case we use the value of the previous elemnt in the sequence)."
   ],
   "metadata": {
    "collapsed": false,
    "pycharm": {
     "name": "#%% md\n"
    }
   }
  },
  {
   "cell_type": "code",
   "execution_count": 6,
   "outputs": [
    {
     "name": "stdout",
     "output_type": "stream",
     "text": [
      "Number of rows with NaN values before cleaning: 2546\n",
      "Number of rows with NaN values after cleaning: 0\n",
      "Total number of samples: 63360\n",
      "Number of features: 19\n"
     ]
    }
   ],
   "source": [
    "# Replace all mising values with NaN\n",
    "dataset = dataset.replace(' ', np.nan)\n",
    "# Search for all the rows with NaN values\n",
    "nan_values = dataset[dataset.isna().any(axis=1)]\n",
    "# Print the shape to know how many are there\n",
    "print(f'Number of rows with NaN values before cleaning: {nan_values.shape[0]}') \n",
    "\n",
    "# Fill all NaN values with the previous row value\n",
    "dataset_clean = dataset.fillna(method='ffill')\n",
    "\n",
    "# Check that there isn't any NaN values\n",
    "nan_values = dataset_clean[dataset_clean.isna().any(axis=1)]\n",
    "# Print the shape to know how many are there\n",
    "print(f'Number of rows with NaN values after cleaning: {nan_values.shape[0]}') \n",
    "\n",
    "#Total number of samples\n",
    "print(f'Total number of samples: {dataset_clean.shape[0]}')\n",
    "print(f'Number of features: {dataset_clean.shape[1]}')"
   ],
   "metadata": {
    "collapsed": false,
    "pycharm": {
     "name": "#%%\n"
    }
   }
  },
  {
   "cell_type": "markdown",
   "source": [
    "# Distribution of the data"
   ],
   "metadata": {
    "collapsed": false,
    "pycharm": {
     "name": "#%% md\n"
    }
   }
  },
  {
   "cell_type": "markdown",
   "source": [
    "Now we look at the distribution of the different features of the data over different time intervals.\n",
    "First we take a look of the min and max values, mean and median value and the standard deviation of every feature."
   ],
   "metadata": {
    "collapsed": false,
    "pycharm": {
     "name": "#%% md\n"
    }
   }
  },
  {
   "cell_type": "code",
   "execution_count": 7,
   "outputs": [],
   "source": [
    "print_data = False\n",
    "print_graphs = False"
   ],
   "metadata": {
    "collapsed": false,
    "pycharm": {
     "name": "#%%\n"
    }
   }
  },
  {
   "cell_type": "code",
   "execution_count": 8,
   "outputs": [],
   "source": [
    "if print_data is True:\n",
    "  for column in dataset_clean.columns:\n",
    "    if column == 'time':\n",
    "      print(column)\n",
    "      print('Min value: ', dataset_clean[column].min())\n",
    "      print('Max value: ', dataset_clean[column].max())\n",
    "      print('')\n",
    "    else:\n",
    "      print(column)\n",
    "      print('Min value: ', dataset_clean[column].min())\n",
    "      print('Max value: ', dataset_clean[column].max())\n",
    "      print('Mean value: ', dataset_clean[column].mean())\n",
    "      print('Median value: ', dataset_clean[column].median())\n",
    "      print('Standard deviation: ', dataset_clean[column].std())\n",
    "      print('')"
   ],
   "metadata": {
    "collapsed": false,
    "pycharm": {
     "name": "#%%\n"
    }
   }
  },
  {
   "cell_type": "code",
   "execution_count": 9,
   "outputs": [],
   "source": [
    "if print_graphs is True:\n",
    "\n",
    "  for i, column in enumerate(dataset_clean.columns):\n",
    "    if i > 0:\n",
    "      # Feature in a weekly interval\n",
    "      utils_bsc.week_plot(dataset_clean, i, column)\n",
    "      # Feature in a daily interval (only the values of weekdays between 4:00 and 19:30)\n",
    "      utils_bsc.daily_plot(dataset_clean, i, column)"
   ],
   "metadata": {
    "collapsed": false,
    "pycharm": {
     "name": "#%%\n"
    }
   }
  },
  {
   "cell_type": "code",
   "execution_count": 10,
   "outputs": [],
   "source": [
    "# We print some graphs showing the density distribution of every feature\n",
    "if print_graphs is True:\n",
    "  for column in tqdm(dataset_clean.columns):\n",
    "    if column != 'time':\n",
    "      sns.displot(dataset_clean, x=column, kind=\"kde\")"
   ],
   "metadata": {
    "collapsed": false,
    "pycharm": {
     "name": "#%%\n"
    }
   }
  },
  {
   "cell_type": "markdown",
   "source": [
    "After looking to the different data graphs i notice there two very different \"time slots\" when the data differs. One is Weekdays between 4:00 and 19:30. The other is Weekdays bewteen 19:30 and 4:00 and Weekends."
   ],
   "metadata": {
    "collapsed": false,
    "pycharm": {
     "name": "#%% md\n"
    }
   }
  },
  {
   "cell_type": "code",
   "execution_count": 11,
   "outputs": [
    {
     "name": "stdout",
     "output_type": "stream",
     "text": [
      "Weekdays dataset size: 29792\n",
      "Weekend dataset size: 33568\n"
     ]
    }
   ],
   "source": [
    "# We create two extra data sets, one with the weekdays between 4:00 and 18:30 and one with the rest.\n",
    "dataset_clean_time = pd.to_datetime(dataset_clean['time'])\n",
    "\n",
    "day_mask = dataset_clean_time.dt.day_name()\n",
    "\n",
    "time_mask = (dataset_clean_time.dt.hour >= 4) & ((dataset_clean_time.dt.hour < 19) | ((dataset_clean_time.dt.hour == 19) & (dataset_clean_time.dt.minute <= 30))) & ((day_mask == ('Monday')) | (day_mask == ('Tuesday')) | (day_mask == ('Wednesday')) | (day_mask == ('Thursday')) | (day_mask == ('Friday')))\n",
    "\n",
    "dataset_weekdays = dataset_clean[time_mask]\n",
    "\n",
    "for i in range(len(time_mask)):\n",
    "  if time_mask[i] == False:\n",
    "    time_mask[i] = True\n",
    "  elif time_mask[i] == True:\n",
    "    time_mask[i] = False\n",
    "\n",
    "dataset_weekend = dataset_clean[time_mask]\n",
    "\n",
    "print(f'Weekdays dataset size: {len(dataset_weekdays)}')\n",
    "print(f'Weekend dataset size: {len(dataset_weekend)}')"
   ],
   "metadata": {
    "collapsed": false,
    "pycharm": {
     "name": "#%%\n"
    }
   }
  },
  {
   "cell_type": "code",
   "execution_count": 12,
   "outputs": [],
   "source": [
    "if print_graphs is True:\n",
    "  for column in tqdm(dataset_weekdays.columns):\n",
    "    if column != 'time':\n",
    "      sns.displot(dataset_weekdays, x=column, kind=\"kde\")"
   ],
   "metadata": {
    "collapsed": false,
    "pycharm": {
     "name": "#%%\n"
    }
   }
  },
  {
   "cell_type": "code",
   "execution_count": 13,
   "outputs": [],
   "source": [
    "if print_graphs is True:\n",
    "  for column in tqdm(dataset_weekend.columns):\n",
    "    if column != 'time':\n",
    "      sns.displot(dataset_weekend, x=column, kind=\"kde\")"
   ],
   "metadata": {
    "collapsed": false,
    "pycharm": {
     "name": "#%%\n"
    }
   }
  },
  {
   "cell_type": "markdown",
   "source": [
    "At this time we have three different datasets:\n",
    "\n",
    "* dataset_clean (Whole dataset)\n",
    "* dataset_weekdays (Entries from weekdays from 4:00 to 19:30)\n",
    "* dataset_weekend (Entries from Weekends and from weekdays from 19:30 to 4:00)\n",
    "\n"
   ],
   "metadata": {
    "collapsed": false,
    "pycharm": {
     "name": "#%% md\n"
    }
   }
  },
  {
   "cell_type": "markdown",
   "source": [
    "# Dataset normalisation\n",
    "\n",
    "The scale of the data of the different features is very different. Its better to have all of the features in the same scale. Therefore we perform a data normalisation. We choose to do a mean/stddev normalisation. We substract from every value the mean value of the feature and divide the result value by the std dev of this specific feature to have feature values with mean 0 and stddev of 1."
   ],
   "metadata": {
    "collapsed": false,
    "pycharm": {
     "name": "#%% md\n"
    }
   }
  },
  {
   "cell_type": "code",
   "execution_count": 14,
   "outputs": [
    {
     "name": "stderr",
     "output_type": "stream",
     "text": [
      "100%|██████████| 19/19 [00:00<00:00, 983.95it/s]\n"
     ]
    }
   ],
   "source": [
    "# Perform the data normalisation in the whole dataset. We can print the distribution of the data if we want.\n",
    "dataset_norm = utils_bsc.normalize_mean_std_dataset(dataset_clean)\n",
    "\n",
    "print_graphs = False\n",
    "\n",
    "if print_graphs is True:\n",
    "  for column in tqdm(dataset_norm.columns):\n",
    "    if column != 'time':\n",
    "      sns.displot(dataset_norm, x=column, kind=\"kde\")"
   ],
   "metadata": {
    "collapsed": false,
    "pycharm": {
     "name": "#%%\n"
    }
   }
  },
  {
   "cell_type": "code",
   "execution_count": 15,
   "outputs": [
    {
     "name": "stderr",
     "output_type": "stream",
     "text": [
      "100%|██████████| 19/19 [00:00<00:00, 1922.14it/s]\n"
     ]
    }
   ],
   "source": [
    "# Perform the data normalisation in the weekdays dataset. We can print the distribution of the data if we want.\n",
    "dataset_weekdays_norm = utils_bsc.normalize_mean_std_dataset(dataset_weekdays)\n",
    "\n",
    "print_graphs = False\n",
    "\n",
    "if print_graphs is True:\n",
    "  for column in tqdm(dataset_weekdays_norm.columns):\n",
    "    if column != 'time':\n",
    "      sns.displot(dataset_weekdays_norm, x=column, kind=\"kde\")"
   ],
   "metadata": {
    "collapsed": false,
    "pycharm": {
     "name": "#%%\n"
    }
   }
  },
  {
   "cell_type": "code",
   "execution_count": 16,
   "outputs": [
    {
     "name": "stderr",
     "output_type": "stream",
     "text": [
      "100%|██████████| 19/19 [00:00<00:00, 1791.79it/s]\n"
     ]
    }
   ],
   "source": [
    "# Perform the data normalisation in the weekdays dataset. We can print the distribution of the data if we want.\n",
    "dataset_weekend_norm = utils_bsc.normalize_mean_std_dataset(dataset_weekend)\n",
    "\n",
    "print_graphs = False\n",
    "\n",
    "if print_graphs is True:\n",
    "  for column in tqdm(dataset_weekend_norm.columns):\n",
    "    if column != 'time':\n",
    "      sns.displot(dataset_weekend_norm, x=column, kind=\"kde\")"
   ],
   "metadata": {
    "collapsed": false,
    "pycharm": {
     "name": "#%%\n"
    }
   }
  },
  {
   "cell_type": "code",
   "execution_count": 17,
   "outputs": [
    {
     "data": {
      "text/plain": "                  time      PLN1      PLN2      PLN3      ULL1      ULL2  \\\n0  2020-06-01 00:00:00 -1.075593 -1.045021 -1.051232  0.063478 -0.098312   \n1  2020-06-01 00:01:00 -1.074875 -1.045103 -1.048747  0.027004 -0.107515   \n2  2020-06-01 00:02:00 -1.075615 -0.988316 -1.050631 -0.028760 -0.116055   \n3  2020-06-01 00:03:00 -1.073661 -0.988798 -1.049922  0.089264 -0.043667   \n4  2020-06-01 00:04:00 -1.075401 -0.988670 -1.050114  0.031327 -0.071754   \n\n       ULL3  COS_PHI1  COS_PHI2  COS_PHI3      FREQ     RC_DC     RC_AC  \\\n0 -0.618908 -1.868350 -1.835847 -1.500292 -0.345935 -0.817380  0.632551   \n1 -0.632738 -1.884005 -1.803753 -1.486828 -1.139728  0.678985 -0.849829   \n2 -0.636846 -1.837041  0.147415 -1.532327 -1.123638 -0.817380 -0.849829   \n3 -0.556540 -1.643493  0.023152 -1.545327 -0.758922  0.678985 -0.740023   \n4 -0.608493 -1.882582  0.161405 -1.650254 -0.726741 -0.817380  0.303134   \n\n    RC_50Hz  RC_150Hz  RC_<100Hz  RC_100Hz-1kHz  RC_>1kHz  RC_>10kHz  \n0  1.075812  0.995360   1.143832       0.694697  0.747095   2.141318  \n1 -0.918340 -0.792166  -0.630653      -0.822036 -0.777047  -1.175568  \n2 -0.918340 -0.792166  -0.630653      -0.822036 -0.777047  -1.175568  \n3 -0.253623 -0.643206  -0.630653      -0.763700 -0.664147  -1.175568  \n4  1.740530  1.889123   1.950416       0.053002 -0.043201   1.477941  ",
      "text/html": "<div>\n<style scoped>\n    .dataframe tbody tr th:only-of-type {\n        vertical-align: middle;\n    }\n\n    .dataframe tbody tr th {\n        vertical-align: top;\n    }\n\n    .dataframe thead th {\n        text-align: right;\n    }\n</style>\n<table border=\"1\" class=\"dataframe\">\n  <thead>\n    <tr style=\"text-align: right;\">\n      <th></th>\n      <th>time</th>\n      <th>PLN1</th>\n      <th>PLN2</th>\n      <th>PLN3</th>\n      <th>ULL1</th>\n      <th>ULL2</th>\n      <th>ULL3</th>\n      <th>COS_PHI1</th>\n      <th>COS_PHI2</th>\n      <th>COS_PHI3</th>\n      <th>FREQ</th>\n      <th>RC_DC</th>\n      <th>RC_AC</th>\n      <th>RC_50Hz</th>\n      <th>RC_150Hz</th>\n      <th>RC_&lt;100Hz</th>\n      <th>RC_100Hz-1kHz</th>\n      <th>RC_&gt;1kHz</th>\n      <th>RC_&gt;10kHz</th>\n    </tr>\n  </thead>\n  <tbody>\n    <tr>\n      <th>0</th>\n      <td>2020-06-01 00:00:00</td>\n      <td>-1.075593</td>\n      <td>-1.045021</td>\n      <td>-1.051232</td>\n      <td>0.063478</td>\n      <td>-0.098312</td>\n      <td>-0.618908</td>\n      <td>-1.868350</td>\n      <td>-1.835847</td>\n      <td>-1.500292</td>\n      <td>-0.345935</td>\n      <td>-0.817380</td>\n      <td>0.632551</td>\n      <td>1.075812</td>\n      <td>0.995360</td>\n      <td>1.143832</td>\n      <td>0.694697</td>\n      <td>0.747095</td>\n      <td>2.141318</td>\n    </tr>\n    <tr>\n      <th>1</th>\n      <td>2020-06-01 00:01:00</td>\n      <td>-1.074875</td>\n      <td>-1.045103</td>\n      <td>-1.048747</td>\n      <td>0.027004</td>\n      <td>-0.107515</td>\n      <td>-0.632738</td>\n      <td>-1.884005</td>\n      <td>-1.803753</td>\n      <td>-1.486828</td>\n      <td>-1.139728</td>\n      <td>0.678985</td>\n      <td>-0.849829</td>\n      <td>-0.918340</td>\n      <td>-0.792166</td>\n      <td>-0.630653</td>\n      <td>-0.822036</td>\n      <td>-0.777047</td>\n      <td>-1.175568</td>\n    </tr>\n    <tr>\n      <th>2</th>\n      <td>2020-06-01 00:02:00</td>\n      <td>-1.075615</td>\n      <td>-0.988316</td>\n      <td>-1.050631</td>\n      <td>-0.028760</td>\n      <td>-0.116055</td>\n      <td>-0.636846</td>\n      <td>-1.837041</td>\n      <td>0.147415</td>\n      <td>-1.532327</td>\n      <td>-1.123638</td>\n      <td>-0.817380</td>\n      <td>-0.849829</td>\n      <td>-0.918340</td>\n      <td>-0.792166</td>\n      <td>-0.630653</td>\n      <td>-0.822036</td>\n      <td>-0.777047</td>\n      <td>-1.175568</td>\n    </tr>\n    <tr>\n      <th>3</th>\n      <td>2020-06-01 00:03:00</td>\n      <td>-1.073661</td>\n      <td>-0.988798</td>\n      <td>-1.049922</td>\n      <td>0.089264</td>\n      <td>-0.043667</td>\n      <td>-0.556540</td>\n      <td>-1.643493</td>\n      <td>0.023152</td>\n      <td>-1.545327</td>\n      <td>-0.758922</td>\n      <td>0.678985</td>\n      <td>-0.740023</td>\n      <td>-0.253623</td>\n      <td>-0.643206</td>\n      <td>-0.630653</td>\n      <td>-0.763700</td>\n      <td>-0.664147</td>\n      <td>-1.175568</td>\n    </tr>\n    <tr>\n      <th>4</th>\n      <td>2020-06-01 00:04:00</td>\n      <td>-1.075401</td>\n      <td>-0.988670</td>\n      <td>-1.050114</td>\n      <td>0.031327</td>\n      <td>-0.071754</td>\n      <td>-0.608493</td>\n      <td>-1.882582</td>\n      <td>0.161405</td>\n      <td>-1.650254</td>\n      <td>-0.726741</td>\n      <td>-0.817380</td>\n      <td>0.303134</td>\n      <td>1.740530</td>\n      <td>1.889123</td>\n      <td>1.950416</td>\n      <td>0.053002</td>\n      <td>-0.043201</td>\n      <td>1.477941</td>\n    </tr>\n  </tbody>\n</table>\n</div>"
     },
     "execution_count": 17,
     "metadata": {},
     "output_type": "execute_result"
    }
   ],
   "source": [
    "dataset_norm.head()"
   ],
   "metadata": {
    "collapsed": false,
    "pycharm": {
     "name": "#%%\n"
    }
   }
  },
  {
   "cell_type": "code",
   "execution_count": 18,
   "outputs": [
    {
     "data": {
      "text/plain": "                    time      PLN1      PLN2      PLN3      ULL1      ULL2  \\\n240  2020-06-01 04:00:00 -3.844526 -2.815111 -3.811858  1.679619  1.570822   \n241  2020-06-01 04:01:00 -3.846186 -3.787824 -3.823188  1.763631  1.696076   \n242  2020-06-01 04:02:00 -3.839272 -1.875102 -2.712874  1.852445  1.730759   \n243  2020-06-01 04:03:00 -3.842709 -3.088604 -3.827000  1.832063  1.744944   \n244  2020-06-01 04:04:00 -3.844287 -2.842539 -3.450520  1.753998  1.623568   \n\n         ULL3  COS_PHI1  COS_PHI2   COS_PHI3      FREQ     RC_DC     RC_AC  \\\n240  1.782563 -1.458455 -0.043591 -11.695581 -0.570289 -0.884008 -3.224201   \n241  1.843617 -1.467086 -2.835547 -11.782866  0.903443  2.133621 -3.224201   \n242  1.917486 -1.557711  0.058113  -1.543490  0.445873  0.624807 -1.273229   \n243  1.905749 -1.475716 -0.716154 -12.237347 -0.219683  0.624807 -1.923553   \n244  1.808403 -1.527502 -0.430725  -5.973931 -0.611886 -0.884008 -1.842262   \n\n      RC_50Hz  RC_150Hz  RC_<100Hz  RC_100Hz-1kHz  RC_>1kHz  RC_>10kHz  \n240 -1.568103 -1.701045  -1.466370      -3.271799 -2.865462  -1.695805  \n241 -1.568103 -1.701045  -1.466370      -3.357651 -2.939190  -1.695805  \n242 -0.765503 -1.118658  -0.885575      -1.211362 -0.948518  -0.928865  \n243 -1.568103 -1.312787  -1.272772      -2.069878 -1.538347  -0.928865  \n244 -0.765503 -1.312787  -1.272772      -2.069878 -1.464618  -0.928865  ",
      "text/html": "<div>\n<style scoped>\n    .dataframe tbody tr th:only-of-type {\n        vertical-align: middle;\n    }\n\n    .dataframe tbody tr th {\n        vertical-align: top;\n    }\n\n    .dataframe thead th {\n        text-align: right;\n    }\n</style>\n<table border=\"1\" class=\"dataframe\">\n  <thead>\n    <tr style=\"text-align: right;\">\n      <th></th>\n      <th>time</th>\n      <th>PLN1</th>\n      <th>PLN2</th>\n      <th>PLN3</th>\n      <th>ULL1</th>\n      <th>ULL2</th>\n      <th>ULL3</th>\n      <th>COS_PHI1</th>\n      <th>COS_PHI2</th>\n      <th>COS_PHI3</th>\n      <th>FREQ</th>\n      <th>RC_DC</th>\n      <th>RC_AC</th>\n      <th>RC_50Hz</th>\n      <th>RC_150Hz</th>\n      <th>RC_&lt;100Hz</th>\n      <th>RC_100Hz-1kHz</th>\n      <th>RC_&gt;1kHz</th>\n      <th>RC_&gt;10kHz</th>\n    </tr>\n  </thead>\n  <tbody>\n    <tr>\n      <th>240</th>\n      <td>2020-06-01 04:00:00</td>\n      <td>-3.844526</td>\n      <td>-2.815111</td>\n      <td>-3.811858</td>\n      <td>1.679619</td>\n      <td>1.570822</td>\n      <td>1.782563</td>\n      <td>-1.458455</td>\n      <td>-0.043591</td>\n      <td>-11.695581</td>\n      <td>-0.570289</td>\n      <td>-0.884008</td>\n      <td>-3.224201</td>\n      <td>-1.568103</td>\n      <td>-1.701045</td>\n      <td>-1.466370</td>\n      <td>-3.271799</td>\n      <td>-2.865462</td>\n      <td>-1.695805</td>\n    </tr>\n    <tr>\n      <th>241</th>\n      <td>2020-06-01 04:01:00</td>\n      <td>-3.846186</td>\n      <td>-3.787824</td>\n      <td>-3.823188</td>\n      <td>1.763631</td>\n      <td>1.696076</td>\n      <td>1.843617</td>\n      <td>-1.467086</td>\n      <td>-2.835547</td>\n      <td>-11.782866</td>\n      <td>0.903443</td>\n      <td>2.133621</td>\n      <td>-3.224201</td>\n      <td>-1.568103</td>\n      <td>-1.701045</td>\n      <td>-1.466370</td>\n      <td>-3.357651</td>\n      <td>-2.939190</td>\n      <td>-1.695805</td>\n    </tr>\n    <tr>\n      <th>242</th>\n      <td>2020-06-01 04:02:00</td>\n      <td>-3.839272</td>\n      <td>-1.875102</td>\n      <td>-2.712874</td>\n      <td>1.852445</td>\n      <td>1.730759</td>\n      <td>1.917486</td>\n      <td>-1.557711</td>\n      <td>0.058113</td>\n      <td>-1.543490</td>\n      <td>0.445873</td>\n      <td>0.624807</td>\n      <td>-1.273229</td>\n      <td>-0.765503</td>\n      <td>-1.118658</td>\n      <td>-0.885575</td>\n      <td>-1.211362</td>\n      <td>-0.948518</td>\n      <td>-0.928865</td>\n    </tr>\n    <tr>\n      <th>243</th>\n      <td>2020-06-01 04:03:00</td>\n      <td>-3.842709</td>\n      <td>-3.088604</td>\n      <td>-3.827000</td>\n      <td>1.832063</td>\n      <td>1.744944</td>\n      <td>1.905749</td>\n      <td>-1.475716</td>\n      <td>-0.716154</td>\n      <td>-12.237347</td>\n      <td>-0.219683</td>\n      <td>0.624807</td>\n      <td>-1.923553</td>\n      <td>-1.568103</td>\n      <td>-1.312787</td>\n      <td>-1.272772</td>\n      <td>-2.069878</td>\n      <td>-1.538347</td>\n      <td>-0.928865</td>\n    </tr>\n    <tr>\n      <th>244</th>\n      <td>2020-06-01 04:04:00</td>\n      <td>-3.844287</td>\n      <td>-2.842539</td>\n      <td>-3.450520</td>\n      <td>1.753998</td>\n      <td>1.623568</td>\n      <td>1.808403</td>\n      <td>-1.527502</td>\n      <td>-0.430725</td>\n      <td>-5.973931</td>\n      <td>-0.611886</td>\n      <td>-0.884008</td>\n      <td>-1.842262</td>\n      <td>-0.765503</td>\n      <td>-1.312787</td>\n      <td>-1.272772</td>\n      <td>-2.069878</td>\n      <td>-1.464618</td>\n      <td>-0.928865</td>\n    </tr>\n  </tbody>\n</table>\n</div>"
     },
     "execution_count": 18,
     "metadata": {},
     "output_type": "execute_result"
    }
   ],
   "source": [
    "dataset_weekdays_norm.head()"
   ],
   "metadata": {
    "collapsed": false,
    "pycharm": {
     "name": "#%%\n"
    }
   }
  },
  {
   "cell_type": "code",
   "execution_count": 19,
   "outputs": [
    {
     "data": {
      "text/plain": "                  time      PLN1      PLN2      PLN3      ULL1      ULL2  \\\n0  2020-06-01 00:00:00 -0.520051 -0.469417 -0.491179 -0.852017 -1.003068   \n1  2020-06-01 00:01:00 -0.518390 -0.469592 -0.485656 -0.905465 -1.016009   \n2  2020-06-01 00:02:00 -0.520102 -0.348132 -0.489844 -0.987181 -1.028018   \n3  2020-06-01 00:03:00 -0.515582 -0.349161 -0.488267 -0.814230 -0.926227   \n4  2020-06-01 00:04:00 -0.519607 -0.348889 -0.488696 -0.899130 -0.965723   \n\n       ULL3  COS_PHI1  COS_PHI2  COS_PHI3      FREQ     RC_DC     RC_AC  \\\n0 -1.783292 -1.338808 -1.189834 -0.885658 -0.479759 -0.761410  1.276387   \n1 -1.803094 -1.356629 -1.159350 -0.870606 -1.233069  0.728477 -0.330467   \n2 -1.808977 -1.303165  0.693881 -0.921471 -1.217799 -0.761410 -0.330467   \n3 -1.693993 -1.082826  0.575856 -0.936003 -0.871684  0.728477 -0.211441   \n4 -1.768380 -1.355009  0.707168 -1.053303 -0.841144 -0.761410  0.919308   \n\n    RC_50Hz  RC_150Hz  RC_<100Hz  RC_100Hz-1kHz  RC_>1kHz  RC_>10kHz  \n0  1.388355  1.509262   1.555410       1.427389  1.381491   2.307679  \n1 -0.570467 -0.350376  -0.254028      -0.283821 -0.298828  -0.881879  \n2 -0.570467 -0.350376  -0.254028      -0.283821 -0.298828  -0.881879  \n3  0.082473 -0.195407  -0.254028      -0.218005 -0.174360  -0.881879  \n4  2.041296  2.439081   2.377882       0.703416  0.510214   1.669767  ",
      "text/html": "<div>\n<style scoped>\n    .dataframe tbody tr th:only-of-type {\n        vertical-align: middle;\n    }\n\n    .dataframe tbody tr th {\n        vertical-align: top;\n    }\n\n    .dataframe thead th {\n        text-align: right;\n    }\n</style>\n<table border=\"1\" class=\"dataframe\">\n  <thead>\n    <tr style=\"text-align: right;\">\n      <th></th>\n      <th>time</th>\n      <th>PLN1</th>\n      <th>PLN2</th>\n      <th>PLN3</th>\n      <th>ULL1</th>\n      <th>ULL2</th>\n      <th>ULL3</th>\n      <th>COS_PHI1</th>\n      <th>COS_PHI2</th>\n      <th>COS_PHI3</th>\n      <th>FREQ</th>\n      <th>RC_DC</th>\n      <th>RC_AC</th>\n      <th>RC_50Hz</th>\n      <th>RC_150Hz</th>\n      <th>RC_&lt;100Hz</th>\n      <th>RC_100Hz-1kHz</th>\n      <th>RC_&gt;1kHz</th>\n      <th>RC_&gt;10kHz</th>\n    </tr>\n  </thead>\n  <tbody>\n    <tr>\n      <th>0</th>\n      <td>2020-06-01 00:00:00</td>\n      <td>-0.520051</td>\n      <td>-0.469417</td>\n      <td>-0.491179</td>\n      <td>-0.852017</td>\n      <td>-1.003068</td>\n      <td>-1.783292</td>\n      <td>-1.338808</td>\n      <td>-1.189834</td>\n      <td>-0.885658</td>\n      <td>-0.479759</td>\n      <td>-0.761410</td>\n      <td>1.276387</td>\n      <td>1.388355</td>\n      <td>1.509262</td>\n      <td>1.555410</td>\n      <td>1.427389</td>\n      <td>1.381491</td>\n      <td>2.307679</td>\n    </tr>\n    <tr>\n      <th>1</th>\n      <td>2020-06-01 00:01:00</td>\n      <td>-0.518390</td>\n      <td>-0.469592</td>\n      <td>-0.485656</td>\n      <td>-0.905465</td>\n      <td>-1.016009</td>\n      <td>-1.803094</td>\n      <td>-1.356629</td>\n      <td>-1.159350</td>\n      <td>-0.870606</td>\n      <td>-1.233069</td>\n      <td>0.728477</td>\n      <td>-0.330467</td>\n      <td>-0.570467</td>\n      <td>-0.350376</td>\n      <td>-0.254028</td>\n      <td>-0.283821</td>\n      <td>-0.298828</td>\n      <td>-0.881879</td>\n    </tr>\n    <tr>\n      <th>2</th>\n      <td>2020-06-01 00:02:00</td>\n      <td>-0.520102</td>\n      <td>-0.348132</td>\n      <td>-0.489844</td>\n      <td>-0.987181</td>\n      <td>-1.028018</td>\n      <td>-1.808977</td>\n      <td>-1.303165</td>\n      <td>0.693881</td>\n      <td>-0.921471</td>\n      <td>-1.217799</td>\n      <td>-0.761410</td>\n      <td>-0.330467</td>\n      <td>-0.570467</td>\n      <td>-0.350376</td>\n      <td>-0.254028</td>\n      <td>-0.283821</td>\n      <td>-0.298828</td>\n      <td>-0.881879</td>\n    </tr>\n    <tr>\n      <th>3</th>\n      <td>2020-06-01 00:03:00</td>\n      <td>-0.515582</td>\n      <td>-0.349161</td>\n      <td>-0.488267</td>\n      <td>-0.814230</td>\n      <td>-0.926227</td>\n      <td>-1.693993</td>\n      <td>-1.082826</td>\n      <td>0.575856</td>\n      <td>-0.936003</td>\n      <td>-0.871684</td>\n      <td>0.728477</td>\n      <td>-0.211441</td>\n      <td>0.082473</td>\n      <td>-0.195407</td>\n      <td>-0.254028</td>\n      <td>-0.218005</td>\n      <td>-0.174360</td>\n      <td>-0.881879</td>\n    </tr>\n    <tr>\n      <th>4</th>\n      <td>2020-06-01 00:04:00</td>\n      <td>-0.519607</td>\n      <td>-0.348889</td>\n      <td>-0.488696</td>\n      <td>-0.899130</td>\n      <td>-0.965723</td>\n      <td>-1.768380</td>\n      <td>-1.355009</td>\n      <td>0.707168</td>\n      <td>-1.053303</td>\n      <td>-0.841144</td>\n      <td>-0.761410</td>\n      <td>0.919308</td>\n      <td>2.041296</td>\n      <td>2.439081</td>\n      <td>2.377882</td>\n      <td>0.703416</td>\n      <td>0.510214</td>\n      <td>1.669767</td>\n    </tr>\n  </tbody>\n</table>\n</div>"
     },
     "execution_count": 19,
     "metadata": {},
     "output_type": "execute_result"
    }
   ],
   "source": [
    "dataset_weekend_norm.head()"
   ],
   "metadata": {
    "collapsed": false,
    "pycharm": {
     "name": "#%%\n"
    }
   }
  },
  {
   "cell_type": "markdown",
   "source": [
    "At this moment we have six different datasets to use:\n",
    "* dataset_clean (Whole dataset)\n",
    "* dataset_weekdays (Entries from weekdays from 4:00 to 19:30)\n",
    "* dataset_weekend (Entries from Weekends and from weekdays from 19:30 to 4:00)\n",
    "* dataset_norm (Whole dataset, mean/stddev normalised)\n",
    "* dataset_weekdays_norm (Entries from weekdays from 4:00 to 19:30, mean/stddev normalised)\n",
    "* dataset_weekend_norm (Entries from Weekends and from weekdays from 19:30 to 4:00, mean/stddev normalised)"
   ],
   "metadata": {
    "collapsed": false,
    "pycharm": {
     "name": "#%% md\n"
    }
   }
  },
  {
   "cell_type": "markdown",
   "source": [
    "# Correlation between features"
   ],
   "metadata": {
    "collapsed": false,
    "pycharm": {
     "name": "#%% md\n"
    }
   }
  },
  {
   "cell_type": "markdown",
   "source": [
    "We calculate the pearson correlation of all features and plot them into a heat map"
   ],
   "metadata": {
    "collapsed": false,
    "pycharm": {
     "name": "#%% md\n"
    }
   }
  },
  {
   "cell_type": "code",
   "execution_count": 20,
   "outputs": [
    {
     "name": "stdout",
     "output_type": "stream",
     "text": [
      "Correlation between PLN1 and PLN1\n",
      "Correlation between PLN1 and PLN2\n",
      "0.953063892768616\n",
      "Correlation between PLN1 and PLN3\n",
      "0.9606664987977854\n",
      "Correlation between PLN1 and ULL1\n",
      "-0.7274016376341782\n",
      "Correlation between PLN1 and ULL2\n",
      "-0.6955282277514699\n",
      "Correlation between PLN1 and ULL3\n",
      "-0.7030835410050382\n",
      "Correlation between PLN1 and COS_PHI1\n",
      "0.8410401295195357\n",
      "Correlation between PLN1 and COS_PHI2\n",
      "0.6731338062873107\n",
      "Correlation between PLN1 and COS_PHI3\n",
      "0.812237030919215\n",
      "Correlation between PLN1 and FREQ\n",
      "-0.1545159794969927\n",
      "Correlation between PLN1 and RC_DC\n",
      "0.04144790238090616\n",
      "Correlation between PLN1 and RC_AC\n",
      "0.6311099014117807\n",
      "Correlation between PLN1 and RC_50Hz\n",
      "0.3688113546135111\n",
      "Correlation between PLN1 and RC_150Hz\n",
      "0.5078743784519381\n",
      "Correlation between PLN1 and RC_<100Hz\n",
      "0.43093253308676593\n",
      "Correlation between PLN1 and RC_100Hz-1kHz\n",
      "0.6585953463453893\n",
      "Correlation between PLN1 and RC_>1kHz\n",
      "0.5928797475823844\n",
      "Correlation between PLN1 and RC_>10kHz\n",
      "0.31619183414655383\n",
      "Mean of PLN1 correlations: 0.5922655142470219\n",
      "\n",
      "Correlation between PLN2 and PLN1\n",
      "0.953063892768616\n",
      "Correlation between PLN2 and PLN2\n",
      "Correlation between PLN2 and PLN3\n",
      "0.9452605980705133\n",
      "Correlation between PLN2 and ULL1\n",
      "-0.6920070109902806\n",
      "Correlation between PLN2 and ULL2\n",
      "-0.6704566233203502\n",
      "Correlation between PLN2 and ULL3\n",
      "-0.6734582119423181\n",
      "Correlation between PLN2 and COS_PHI1\n",
      "0.7986365971843632\n",
      "Correlation between PLN2 and COS_PHI2\n",
      "0.7023352006830497\n",
      "Correlation between PLN2 and COS_PHI3\n",
      "0.8038123821731533\n",
      "Correlation between PLN2 and FREQ\n",
      "-0.14213527867385345\n",
      "Correlation between PLN2 and RC_DC\n",
      "0.0392077627338981\n",
      "Correlation between PLN2 and RC_AC\n",
      "0.6232451337648504\n",
      "Correlation between PLN2 and RC_50Hz\n",
      "0.358995472175193\n",
      "Correlation between PLN2 and RC_150Hz\n",
      "0.4908468912124751\n",
      "Correlation between PLN2 and RC_<100Hz\n",
      "0.4172313931163452\n",
      "Correlation between PLN2 and RC_100Hz-1kHz\n",
      "0.6488235868701703\n",
      "Correlation between PLN2 and RC_>1kHz\n",
      "0.5891663952522227\n",
      "Correlation between PLN2 and RC_>10kHz\n",
      "0.31188438312240324\n",
      "Mean of PLN2 correlations: 0.5800333420031798\n",
      "\n",
      "Correlation between PLN3 and PLN1\n",
      "0.9606664987977854\n",
      "Correlation between PLN3 and PLN2\n",
      "0.9452605980705133\n",
      "Correlation between PLN3 and PLN3\n",
      "Correlation between PLN3 and ULL1\n",
      "-0.7002177438968473\n",
      "Correlation between PLN3 and ULL2\n",
      "-0.6722798995076357\n",
      "Correlation between PLN3 and ULL3\n",
      "-0.6821156558367123\n",
      "Correlation between PLN3 and COS_PHI1\n",
      "0.8022338627218529\n",
      "Correlation between PLN3 and COS_PHI2\n",
      "0.669458233835898\n",
      "Correlation between PLN3 and COS_PHI3\n",
      "0.8313797068885322\n",
      "Correlation between PLN3 and FREQ\n",
      "-0.14967487104652202\n",
      "Correlation between PLN3 and RC_DC\n",
      "0.04088450891644738\n",
      "Correlation between PLN3 and RC_AC\n",
      "0.6281657734892848\n",
      "Correlation between PLN3 and RC_50Hz\n",
      "0.36563522876627114\n",
      "Correlation between PLN3 and RC_150Hz\n",
      "0.4989635979541187\n",
      "Correlation between PLN3 and RC_<100Hz\n",
      "0.4239534499789889\n",
      "Correlation between PLN3 and RC_100Hz-1kHz\n",
      "0.6539236685512879\n",
      "Correlation between PLN3 and RC_>1kHz\n",
      "0.5911138593179589\n",
      "Correlation between PLN3 and RC_>10kHz\n",
      "0.3178124150627787\n",
      "Mean of PLN3 correlations: 0.5843376219199667\n",
      "\n",
      "Correlation between ULL1 and PLN1\n",
      "-0.7274016376341782\n",
      "Correlation between ULL1 and PLN2\n",
      "-0.6920070109902806\n",
      "Correlation between ULL1 and PLN3\n",
      "-0.7002177438968473\n",
      "Correlation between ULL1 and ULL1\n",
      "Correlation between ULL1 and ULL2\n",
      "0.9939941350683599\n",
      "Correlation between ULL1 and ULL3\n",
      "0.9618955396414085\n",
      "Correlation between ULL1 and COS_PHI1\n",
      "-0.6035602236966964\n",
      "Correlation between ULL1 and COS_PHI2\n",
      "-0.4998011468511349\n",
      "Correlation between ULL1 and COS_PHI3\n",
      "-0.5935572901249868\n",
      "Correlation between ULL1 and FREQ\n",
      "0.13197327822064747\n",
      "Correlation between ULL1 and RC_DC\n",
      "-0.01942276944563966\n",
      "Correlation between ULL1 and RC_AC\n",
      "-0.42241206935632863\n",
      "Correlation between ULL1 and RC_50Hz\n",
      "-0.27779168346606625\n",
      "Correlation between ULL1 and RC_150Hz\n",
      "-0.39202737581282204\n",
      "Correlation between ULL1 and RC_<100Hz\n",
      "-0.3294053564807617\n",
      "Correlation between ULL1 and RC_100Hz-1kHz\n",
      "-0.43980057374684045\n",
      "Correlation between ULL1 and RC_>1kHz\n",
      "-0.37447740688167575\n",
      "Correlation between ULL1 and RC_>10kHz\n",
      "-0.2542047546423485\n",
      "Mean of ULL1 correlations: 0.4949382350562954\n",
      "\n",
      "Correlation between ULL2 and PLN1\n",
      "-0.6955282277514699\n",
      "Correlation between ULL2 and PLN2\n",
      "-0.6704566233203502\n",
      "Correlation between ULL2 and PLN3\n",
      "-0.6722798995076357\n",
      "Correlation between ULL2 and ULL1\n",
      "0.9939941350683599\n",
      "Correlation between ULL2 and ULL2\n",
      "Correlation between ULL2 and ULL3\n",
      "0.9679344064619084\n",
      "Correlation between ULL2 and COS_PHI1\n",
      "-0.5720923780407855\n",
      "Correlation between ULL2 and COS_PHI2\n",
      "-0.4793783108265882\n",
      "Correlation between ULL2 and COS_PHI3\n",
      "-0.5677001126696042\n",
      "Correlation between ULL2 and FREQ\n",
      "0.1223444971347323\n",
      "Correlation between ULL2 and RC_DC\n",
      "-0.015685463412389886\n",
      "Correlation between ULL2 and RC_AC\n",
      "-0.40423600542104854\n",
      "Correlation between ULL2 and RC_50Hz\n",
      "-0.2726948807281373\n",
      "Correlation between ULL2 and RC_150Hz\n",
      "-0.3823625567194395\n",
      "Correlation between ULL2 and RC_<100Hz\n",
      "-0.32256670279212485\n",
      "Correlation between ULL2 and RC_100Hz-1kHz\n",
      "-0.4200868940113775\n",
      "Correlation between ULL2 and RC_>1kHz\n",
      "-0.357674370583852\n",
      "Correlation between ULL2 and RC_>10kHz\n",
      "-0.2492468841154237\n",
      "Mean of ULL2 correlations: 0.48036837344501343\n",
      "\n",
      "Correlation between ULL3 and PLN1\n",
      "-0.7030835410050382\n",
      "Correlation between ULL3 and PLN2\n",
      "-0.6734582119423181\n",
      "Correlation between ULL3 and PLN3\n",
      "-0.6821156558367123\n",
      "Correlation between ULL3 and ULL1\n",
      "0.9618955396414085\n",
      "Correlation between ULL3 and ULL2\n",
      "0.9679344064619084\n",
      "Correlation between ULL3 and ULL3\n",
      "Correlation between ULL3 and COS_PHI1\n",
      "-0.5631552795349813\n",
      "Correlation between ULL3 and COS_PHI2\n",
      "-0.4605683549411024\n",
      "Correlation between ULL3 and COS_PHI3\n",
      "-0.567874649932713\n",
      "Correlation between ULL3 and FREQ\n",
      "0.11732253505588483\n",
      "Correlation between ULL3 and RC_DC\n",
      "-0.018546293523528327\n",
      "Correlation between ULL3 and RC_AC\n",
      "-0.4237420880482717\n",
      "Correlation between ULL3 and RC_50Hz\n",
      "-0.29724585371272094\n",
      "Correlation between ULL3 and RC_150Hz\n",
      "-0.41496205820273907\n",
      "Correlation between ULL3 and RC_<100Hz\n",
      "-0.35093038054779224\n",
      "Correlation between ULL3 and RC_100Hz-1kHz\n",
      "-0.4408591978999194\n",
      "Correlation between ULL3 and RC_>1kHz\n",
      "-0.37485212788432204\n",
      "Correlation between ULL3 and RC_>10kHz\n",
      "-0.2427669277249783\n",
      "Mean of ULL3 correlations: 0.48595959422919643\n",
      "\n",
      "Correlation between COS_PHI1 and PLN1\n",
      "0.8410401295195357\n",
      "Correlation between COS_PHI1 and PLN2\n",
      "0.7986365971843632\n",
      "Correlation between COS_PHI1 and PLN3\n",
      "0.8022338627218529\n",
      "Correlation between COS_PHI1 and ULL1\n",
      "-0.6035602236966964\n",
      "Correlation between COS_PHI1 and ULL2\n",
      "-0.5720923780407855\n",
      "Correlation between COS_PHI1 and ULL3\n",
      "-0.5631552795349813\n",
      "Correlation between COS_PHI1 and COS_PHI1\n",
      "Correlation between COS_PHI1 and COS_PHI2\n",
      "0.6721486971436306\n",
      "Correlation between COS_PHI1 and COS_PHI3\n",
      "0.7679288479423109\n",
      "Correlation between COS_PHI1 and FREQ\n",
      "-0.14703514716770288\n",
      "Correlation between COS_PHI1 and RC_DC\n",
      "0.028560806482742705\n",
      "Correlation between COS_PHI1 and RC_AC\n",
      "0.5224505954850466\n",
      "Correlation between COS_PHI1 and RC_50Hz\n",
      "0.28598483106508704\n",
      "Correlation between COS_PHI1 and RC_150Hz\n",
      "0.40690341488990645\n",
      "Correlation between COS_PHI1 and RC_<100Hz\n",
      "0.34506225421962533\n",
      "Correlation between COS_PHI1 and RC_100Hz-1kHz\n",
      "0.544358785353723\n",
      "Correlation between COS_PHI1 and RC_>1kHz\n",
      "0.4936793319894298\n",
      "Correlation between COS_PHI1 and RC_>10kHz\n",
      "0.27038433727544176\n",
      "Mean of COS_PHI1 correlations: 0.5097185599831096\n",
      "\n",
      "Correlation between COS_PHI2 and PLN1\n",
      "0.6731338062873107\n",
      "Correlation between COS_PHI2 and PLN2\n",
      "0.7023352006830497\n",
      "Correlation between COS_PHI2 and PLN3\n",
      "0.669458233835898\n",
      "Correlation between COS_PHI2 and ULL1\n",
      "-0.4998011468511349\n",
      "Correlation between COS_PHI2 and ULL2\n",
      "-0.4793783108265882\n",
      "Correlation between COS_PHI2 and ULL3\n",
      "-0.4605683549411024\n",
      "Correlation between COS_PHI2 and COS_PHI1\n",
      "0.6721486971436306\n",
      "Correlation between COS_PHI2 and COS_PHI2\n",
      "Correlation between COS_PHI2 and COS_PHI3\n",
      "0.6853907893926218\n",
      "Correlation between COS_PHI2 and FREQ\n",
      "-0.11239331571367381\n",
      "Correlation between COS_PHI2 and RC_DC\n",
      "0.024512304278753654\n",
      "Correlation between COS_PHI2 and RC_AC\n",
      "0.4295743933735343\n",
      "Correlation between COS_PHI2 and RC_50Hz\n",
      "0.25029130339434136\n",
      "Correlation between COS_PHI2 and RC_150Hz\n",
      "0.34492310440673424\n",
      "Correlation between COS_PHI2 and RC_<100Hz\n",
      "0.29451321192232677\n",
      "Correlation between COS_PHI2 and RC_100Hz-1kHz\n",
      "0.44658403290924636\n",
      "Correlation between COS_PHI2 and RC_>1kHz\n",
      "0.4054288913063591\n",
      "Correlation between COS_PHI2 and RC_>10kHz\n",
      "0.23200703950807847\n",
      "Mean of COS_PHI2 correlations: 0.4342613021631991\n",
      "\n",
      "Correlation between COS_PHI3 and PLN1\n",
      "0.812237030919215\n",
      "Correlation between COS_PHI3 and PLN2\n",
      "0.8038123821731533\n",
      "Correlation between COS_PHI3 and PLN3\n",
      "0.8313797068885322\n",
      "Correlation between COS_PHI3 and ULL1\n",
      "-0.5935572901249868\n",
      "Correlation between COS_PHI3 and ULL2\n",
      "-0.5677001126696042\n",
      "Correlation between COS_PHI3 and ULL3\n",
      "-0.567874649932713\n",
      "Correlation between COS_PHI3 and COS_PHI1\n",
      "0.7679288479423109\n",
      "Correlation between COS_PHI3 and COS_PHI2\n",
      "0.6853907893926218\n",
      "Correlation between COS_PHI3 and COS_PHI3\n",
      "Correlation between COS_PHI3 and FREQ\n",
      "-0.1359345809832145\n",
      "Correlation between COS_PHI3 and RC_DC\n",
      "0.037707015409477136\n",
      "Correlation between COS_PHI3 and RC_AC\n",
      "0.5128776647152186\n",
      "Correlation between COS_PHI3 and RC_50Hz\n",
      "0.29540041121751887\n",
      "Correlation between COS_PHI3 and RC_150Hz\n",
      "0.4161431739321744\n",
      "Correlation between COS_PHI3 and RC_<100Hz\n",
      "0.35102886682817214\n",
      "Correlation between COS_PHI3 and RC_100Hz-1kHz\n",
      "0.5325198797906968\n",
      "Correlation between COS_PHI3 and RC_>1kHz\n",
      "0.4825962763757615\n",
      "Correlation between COS_PHI3 and RC_>10kHz\n",
      "0.25910230165711357\n",
      "Mean of COS_PHI3 correlations: 0.5090112341736757\n",
      "\n",
      "Correlation between FREQ and PLN1\n",
      "-0.1545159794969927\n",
      "Correlation between FREQ and PLN2\n",
      "-0.14213527867385345\n",
      "Correlation between FREQ and PLN3\n",
      "-0.14967487104652202\n",
      "Correlation between FREQ and ULL1\n",
      "0.13197327822064747\n",
      "Correlation between FREQ and ULL2\n",
      "0.1223444971347323\n",
      "Correlation between FREQ and ULL3\n",
      "0.11732253505588483\n",
      "Correlation between FREQ and COS_PHI1\n",
      "-0.14703514716770288\n",
      "Correlation between FREQ and COS_PHI2\n",
      "-0.11239331571367381\n",
      "Correlation between FREQ and COS_PHI3\n",
      "-0.1359345809832145\n",
      "Correlation between FREQ and FREQ\n",
      "Correlation between FREQ and RC_DC\n",
      "-0.010809999367105874\n",
      "Correlation between FREQ and RC_AC\n",
      "-0.10768675608573991\n",
      "Correlation between FREQ and RC_50Hz\n",
      "-0.05995406174004523\n",
      "Correlation between FREQ and RC_150Hz\n",
      "-0.07462007247264733\n",
      "Correlation between FREQ and RC_<100Hz\n",
      "-0.05897914444129211\n",
      "Correlation between FREQ and RC_100Hz-1kHz\n",
      "-0.11163642547386086\n",
      "Correlation between FREQ and RC_>1kHz\n",
      "-0.101356326938774\n",
      "Correlation between FREQ and RC_>10kHz\n",
      "-0.044164438899609276\n",
      "Mean of FREQ correlations: 0.10485510052425286\n",
      "\n",
      "Correlation between RC_DC and PLN1\n",
      "0.04144790238090616\n",
      "Correlation between RC_DC and PLN2\n",
      "0.0392077627338981\n",
      "Correlation between RC_DC and PLN3\n",
      "0.04088450891644738\n",
      "Correlation between RC_DC and ULL1\n",
      "-0.01942276944563966\n",
      "Correlation between RC_DC and ULL2\n",
      "-0.015685463412389886\n",
      "Correlation between RC_DC and ULL3\n",
      "-0.018546293523528327\n",
      "Correlation between RC_DC and COS_PHI1\n",
      "0.028560806482742705\n",
      "Correlation between RC_DC and COS_PHI2\n",
      "0.024512304278753654\n",
      "Correlation between RC_DC and COS_PHI3\n",
      "0.037707015409477136\n",
      "Correlation between RC_DC and FREQ\n",
      "-0.010809999367105874\n",
      "Correlation between RC_DC and RC_DC\n",
      "Correlation between RC_DC and RC_AC\n",
      "0.009408275400609241\n",
      "Correlation between RC_DC and RC_50Hz\n",
      "-0.06680533222156992\n",
      "Correlation between RC_DC and RC_150Hz\n",
      "-0.06653181935938078\n",
      "Correlation between RC_DC and RC_<100Hz\n",
      "-0.08081309086755868\n",
      "Correlation between RC_DC and RC_100Hz-1kHz\n",
      "0.015733176445022118\n",
      "Correlation between RC_DC and RC_>1kHz\n",
      "0.011862953683483874\n",
      "Correlation between RC_DC and RC_>10kHz\n",
      "-0.07707048019590797\n",
      "Mean of RC_DC correlations: 0.03558882083084832\n",
      "\n",
      "Correlation between RC_AC and PLN1\n",
      "0.6311099014117807\n",
      "Correlation between RC_AC and PLN2\n",
      "0.6232451337648504\n",
      "Correlation between RC_AC and PLN3\n",
      "0.6281657734892848\n",
      "Correlation between RC_AC and ULL1\n",
      "-0.42241206935632863\n",
      "Correlation between RC_AC and ULL2\n",
      "-0.40423600542104854\n",
      "Correlation between RC_AC and ULL3\n",
      "-0.4237420880482717\n",
      "Correlation between RC_AC and COS_PHI1\n",
      "0.5224505954850466\n",
      "Correlation between RC_AC and COS_PHI2\n",
      "0.4295743933735343\n",
      "Correlation between RC_AC and COS_PHI3\n",
      "0.5128776647152186\n",
      "Correlation between RC_AC and FREQ\n",
      "-0.10768675608573991\n",
      "Correlation between RC_AC and RC_DC\n",
      "0.009408275400609241\n",
      "Correlation between RC_AC and RC_AC\n",
      "Correlation between RC_AC and RC_50Hz\n",
      "0.5988353180559397\n",
      "Correlation between RC_AC and RC_150Hz\n",
      "0.6870800166525871\n",
      "Correlation between RC_AC and RC_<100Hz\n",
      "0.6478497540541007\n",
      "Correlation between RC_AC and RC_100Hz-1kHz\n",
      "0.9937633088247751\n",
      "Correlation between RC_AC and RC_>1kHz\n",
      "0.9856775813519925\n",
      "Correlation between RC_AC and RC_>10kHz\n",
      "0.6405906580239058\n",
      "Mean of RC_AC correlations: 0.5452179584420597\n",
      "\n",
      "Correlation between RC_50Hz and PLN1\n",
      "0.3688113546135111\n",
      "Correlation between RC_50Hz and PLN2\n",
      "0.358995472175193\n",
      "Correlation between RC_50Hz and PLN3\n",
      "0.36563522876627114\n",
      "Correlation between RC_50Hz and ULL1\n",
      "-0.27779168346606625\n",
      "Correlation between RC_50Hz and ULL2\n",
      "-0.2726948807281373\n",
      "Correlation between RC_50Hz and ULL3\n",
      "-0.29724585371272094\n",
      "Correlation between RC_50Hz and COS_PHI1\n",
      "0.28598483106508704\n",
      "Correlation between RC_50Hz and COS_PHI2\n",
      "0.25029130339434136\n",
      "Correlation between RC_50Hz and COS_PHI3\n",
      "0.29540041121751887\n",
      "Correlation between RC_50Hz and FREQ\n",
      "-0.05995406174004523\n",
      "Correlation between RC_50Hz and RC_DC\n",
      "-0.06680533222156992\n",
      "Correlation between RC_50Hz and RC_AC\n",
      "0.5988353180559397\n",
      "Correlation between RC_50Hz and RC_50Hz\n",
      "Correlation between RC_50Hz and RC_150Hz\n",
      "0.9325844626970938\n",
      "Correlation between RC_50Hz and RC_<100Hz\n",
      "0.9378468651085963\n",
      "Correlation between RC_50Hz and RC_100Hz-1kHz\n",
      "0.5680814090699114\n",
      "Correlation between RC_50Hz and RC_>1kHz\n",
      "0.5226845889912003\n",
      "Correlation between RC_50Hz and RC_>10kHz\n",
      "0.8215943251700448\n",
      "Mean of RC_50Hz correlations: 0.4283080813054852\n",
      "\n",
      "Correlation between RC_150Hz and PLN1\n",
      "0.5078743784519381\n",
      "Correlation between RC_150Hz and PLN2\n",
      "0.4908468912124751\n",
      "Correlation between RC_150Hz and PLN3\n",
      "0.4989635979541187\n",
      "Correlation between RC_150Hz and ULL1\n",
      "-0.39202737581282204\n",
      "Correlation between RC_150Hz and ULL2\n",
      "-0.3823625567194395\n",
      "Correlation between RC_150Hz and ULL3\n",
      "-0.41496205820273907\n",
      "Correlation between RC_150Hz and COS_PHI1\n",
      "0.40690341488990645\n",
      "Correlation between RC_150Hz and COS_PHI2\n",
      "0.34492310440673424\n",
      "Correlation between RC_150Hz and COS_PHI3\n",
      "0.4161431739321744\n",
      "Correlation between RC_150Hz and FREQ\n",
      "-0.07462007247264733\n",
      "Correlation between RC_150Hz and RC_DC\n",
      "-0.06653181935938078\n",
      "Correlation between RC_150Hz and RC_AC\n",
      "0.6870800166525871\n",
      "Correlation between RC_150Hz and RC_50Hz\n",
      "0.9325844626970938\n",
      "Correlation between RC_150Hz and RC_150Hz\n",
      "Correlation between RC_150Hz and RC_<100Hz\n",
      "0.986943158578294\n",
      "Correlation between RC_150Hz and RC_100Hz-1kHz\n",
      "0.6594755799243148\n",
      "Correlation between RC_150Hz and RC_>1kHz\n",
      "0.6031328223115222\n",
      "Correlation between RC_150Hz and RC_>10kHz\n",
      "0.8525990801808153\n",
      "Mean of RC_150Hz correlations: 0.5128219743387649\n",
      "\n",
      "Correlation between RC_<100Hz and PLN1\n",
      "0.43093253308676593\n",
      "Correlation between RC_<100Hz and PLN2\n",
      "0.4172313931163452\n",
      "Correlation between RC_<100Hz and PLN3\n",
      "0.4239534499789889\n",
      "Correlation between RC_<100Hz and ULL1\n",
      "-0.3294053564807617\n",
      "Correlation between RC_<100Hz and ULL2\n",
      "-0.32256670279212485\n",
      "Correlation between RC_<100Hz and ULL3\n",
      "-0.35093038054779224\n",
      "Correlation between RC_<100Hz and COS_PHI1\n",
      "0.34506225421962533\n",
      "Correlation between RC_<100Hz and COS_PHI2\n",
      "0.29451321192232677\n",
      "Correlation between RC_<100Hz and COS_PHI3\n",
      "0.35102886682817214\n",
      "Correlation between RC_<100Hz and FREQ\n",
      "-0.05897914444129211\n",
      "Correlation between RC_<100Hz and RC_DC\n",
      "-0.08081309086755868\n",
      "Correlation between RC_<100Hz and RC_AC\n",
      "0.6478497540541007\n",
      "Correlation between RC_<100Hz and RC_50Hz\n",
      "0.9378468651085963\n",
      "Correlation between RC_<100Hz and RC_150Hz\n",
      "0.986943158578294\n",
      "Correlation between RC_<100Hz and RC_<100Hz\n",
      "Correlation between RC_<100Hz and RC_100Hz-1kHz\n",
      "0.6163156439742203\n",
      "Correlation between RC_<100Hz and RC_>1kHz\n",
      "0.5681934410881461\n",
      "Correlation between RC_<100Hz and RC_>10kHz\n",
      "0.8697462185366112\n",
      "Mean of RC_<100Hz correlations: 0.4724889097424543\n",
      "\n",
      "Correlation between RC_100Hz-1kHz and PLN1\n",
      "0.6585953463453893\n",
      "Correlation between RC_100Hz-1kHz and PLN2\n",
      "0.6488235868701703\n",
      "Correlation between RC_100Hz-1kHz and PLN3\n",
      "0.6539236685512879\n",
      "Correlation between RC_100Hz-1kHz and ULL1\n",
      "-0.43980057374684045\n",
      "Correlation between RC_100Hz-1kHz and ULL2\n",
      "-0.4200868940113775\n",
      "Correlation between RC_100Hz-1kHz and ULL3\n",
      "-0.4408591978999194\n",
      "Correlation between RC_100Hz-1kHz and COS_PHI1\n",
      "0.544358785353723\n",
      "Correlation between RC_100Hz-1kHz and COS_PHI2\n",
      "0.44658403290924636\n",
      "Correlation between RC_100Hz-1kHz and COS_PHI3\n",
      "0.5325198797906968\n",
      "Correlation between RC_100Hz-1kHz and FREQ\n",
      "-0.11163642547386086\n",
      "Correlation between RC_100Hz-1kHz and RC_DC\n",
      "0.015733176445022118\n",
      "Correlation between RC_100Hz-1kHz and RC_AC\n",
      "0.9937633088247751\n",
      "Correlation between RC_100Hz-1kHz and RC_50Hz\n",
      "0.5680814090699114\n",
      "Correlation between RC_100Hz-1kHz and RC_150Hz\n",
      "0.6594755799243148\n",
      "Correlation between RC_100Hz-1kHz and RC_<100Hz\n",
      "0.6163156439742203\n",
      "Correlation between RC_100Hz-1kHz and RC_100Hz-1kHz\n",
      "Correlation between RC_100Hz-1kHz and RC_>1kHz\n",
      "0.9842987879976377\n",
      "Correlation between RC_100Hz-1kHz and RC_>10kHz\n",
      "0.6079125821841562\n",
      "Mean of RC_100Hz-1kHz correlations: 0.5495746399630912\n",
      "\n",
      "Correlation between RC_>1kHz and PLN1\n",
      "0.5928797475823844\n",
      "Correlation between RC_>1kHz and PLN2\n",
      "0.5891663952522227\n",
      "Correlation between RC_>1kHz and PLN3\n",
      "0.5911138593179589\n",
      "Correlation between RC_>1kHz and ULL1\n",
      "-0.37447740688167575\n",
      "Correlation between RC_>1kHz and ULL2\n",
      "-0.357674370583852\n",
      "Correlation between RC_>1kHz and ULL3\n",
      "-0.37485212788432204\n",
      "Correlation between RC_>1kHz and COS_PHI1\n",
      "0.4936793319894298\n",
      "Correlation between RC_>1kHz and COS_PHI2\n",
      "0.4054288913063591\n",
      "Correlation between RC_>1kHz and COS_PHI3\n",
      "0.4825962763757615\n",
      "Correlation between RC_>1kHz and FREQ\n",
      "-0.101356326938774\n",
      "Correlation between RC_>1kHz and RC_DC\n",
      "0.011862953683483874\n",
      "Correlation between RC_>1kHz and RC_AC\n",
      "0.9856775813519925\n",
      "Correlation between RC_>1kHz and RC_50Hz\n",
      "0.5226845889912003\n",
      "Correlation between RC_>1kHz and RC_150Hz\n",
      "0.6031328223115222\n",
      "Correlation between RC_>1kHz and RC_<100Hz\n",
      "0.5681934410881461\n",
      "Correlation between RC_>1kHz and RC_100Hz-1kHz\n",
      "0.9842987879976377\n",
      "Correlation between RC_>1kHz and RC_>1kHz\n",
      "Correlation between RC_>1kHz and RC_>10kHz\n",
      "0.5866515939691286\n",
      "Mean of RC_>1kHz correlations: 0.5073956766768147\n",
      "\n",
      "Correlation between RC_>10kHz and PLN1\n",
      "0.31619183414655383\n",
      "Correlation between RC_>10kHz and PLN2\n",
      "0.31188438312240324\n",
      "Correlation between RC_>10kHz and PLN3\n",
      "0.3178124150627787\n",
      "Correlation between RC_>10kHz and ULL1\n",
      "-0.2542047546423485\n",
      "Correlation between RC_>10kHz and ULL2\n",
      "-0.2492468841154237\n",
      "Correlation between RC_>10kHz and ULL3\n",
      "-0.2427669277249783\n",
      "Correlation between RC_>10kHz and COS_PHI1\n",
      "0.27038433727544176\n",
      "Correlation between RC_>10kHz and COS_PHI2\n",
      "0.23200703950807847\n",
      "Correlation between RC_>10kHz and COS_PHI3\n",
      "0.25910230165711357\n",
      "Correlation between RC_>10kHz and FREQ\n",
      "-0.044164438899609276\n",
      "Correlation between RC_>10kHz and RC_DC\n",
      "-0.07707048019590797\n",
      "Correlation between RC_>10kHz and RC_AC\n",
      "0.6405906580239058\n",
      "Correlation between RC_>10kHz and RC_50Hz\n",
      "0.8215943251700448\n",
      "Correlation between RC_>10kHz and RC_150Hz\n",
      "0.8525990801808153\n",
      "Correlation between RC_>10kHz and RC_<100Hz\n",
      "0.8697462185366112\n",
      "Correlation between RC_>10kHz and RC_100Hz-1kHz\n",
      "0.6079125821841562\n",
      "Correlation between RC_>10kHz and RC_>1kHz\n",
      "0.5866515939691286\n",
      "Correlation between RC_>10kHz and RC_>10kHz\n",
      "Mean of RC_>10kHz correlations: 0.4090547208479588\n",
      "\n",
      "Mean of all correlations: 0.45756664777179923\n"
     ]
    }
   ],
   "source": [
    "correlations = []\n",
    "matrix = []\n",
    "\n",
    "for i in dataset_norm.columns[1:]:\n",
    "  feature = []\n",
    "  for j in dataset_norm.columns[1:]:\n",
    "    print(f'Correlation between {i} and {j}')\n",
    "    correlation = stats.pearsonr(dataset_norm[i], dataset_norm[j])[0]\n",
    "    if i != j:\n",
    "      correlations.append(abs(correlation))\n",
    "      feature.append(abs(correlation))\n",
    "      print(correlation)\n",
    "  print(f'Mean of {i} correlations: {np.mean(feature)}')\n",
    "  print('')\n",
    "  matrix.append(feature)\n",
    "\n",
    "print(f'Mean of all correlations: {np.mean(correlations)}')"
   ],
   "metadata": {
    "collapsed": false,
    "pycharm": {
     "name": "#%%\n"
    }
   }
  },
  {
   "cell_type": "code",
   "execution_count": 21,
   "outputs": [
    {
     "data": {
      "text/plain": "<AxesSubplot:>"
     },
     "execution_count": 21,
     "metadata": {},
     "output_type": "execute_result"
    },
    {
     "data": {
      "text/plain": "<Figure size 432x288 with 2 Axes>",
      "image/png": "[encoded data removed]"
     },
     "metadata": {},
     "output_type": "display_data"
    }
   ],
   "source": [
    "# Features correlations heat map\n",
    "\n",
    "corr = dataset_norm.corr()\n",
    "sns.heatmap(corr, cmap=\"Blues\")"
   ],
   "metadata": {
    "collapsed": false,
    "pycharm": {
     "name": "#%%\n"
    }
   }
  },
  {
   "cell_type": "markdown",
   "source": [],
   "metadata": {
    "collapsed": false,
    "pycharm": {
     "name": "#%% md\n"
    }
   }
  },
  {
   "cell_type": "code",
   "execution_count": 22,
   "outputs": [
    {
     "name": "stdout",
     "output_type": "stream",
     "text": [
      "Explained_variance 1 principal component: 0.5317647804810273 (accumulated 0.5318)\n",
      "Explained_variance 2 principal component: 0.16335739298653476 (accumulated 0.6951)\n",
      "Explained_variance 3 principal component: 0.07511546472382985 (accumulated 0.7702)\n",
      "Explained_variance 4 principal component: 0.0549216270680284 (accumulated 0.8252)\n",
      "Explained_variance 5 principal component: 0.053906168670765774 (accumulated 0.8791)\n",
      "Explained_variance 6 principal component: 0.04952232661739351 (accumulated 0.9286)\n",
      "Explained_variance 7 principal component: 0.022486349463995553 (accumulated 0.9511)\n",
      "Explained_variance 8 principal component: 0.013932731902136352 (accumulated 0.965)\n",
      "Explained_variance 9 principal component: 0.012792662672300312 (accumulated 0.9778)\n",
      "Explained_variance 10 principal component: 0.009829012007199087 (accumulated 0.9876)\n",
      "Explained_variance 11 principal component: 0.004024926426955786 (accumulated 0.9917)\n",
      "Explained_variance 12 principal component: 0.0028939596101033465 (accumulated 0.9945)\n",
      "Explained_variance 13 principal component: 0.0021632712014458657 (accumulated 0.9967)\n",
      "Explained_variance 14 principal component: 0.0017411162226415235 (accumulated 0.9985)\n",
      "Explained_variance 15 principal component: 0.0006928432299862811 (accumulated 0.9991)\n",
      "Explained_variance 16 principal component: 0.00021826337426103076 (accumulated 0.9994)\n",
      "Explained_variance 17 principal component: 0.00023351820917083172 (accumulated 0.9996)\n",
      "Explained_variance 18 principal component: 0.0004035851322243994 (accumulated 1.0)\n"
     ]
    }
   ],
   "source": [
    "# Covariance matrix, eigenvalues and explained variance\n",
    "\n",
    "covmatrix = dataset_norm.cov()\n",
    "eigenvalues, eigenvectors = np.linalg.eig(covmatrix)\n",
    "\n",
    "acc = 0\n",
    "\n",
    "acc_variance = []\n",
    "\n",
    "for i, eigen in enumerate(eigenvalues):\n",
    "  acc += eigen/np.sum(eigenvalues)\n",
    "  acc_variance.append(acc)\n",
    "  print(f'Explained_variance {i +1} principal component: {eigen/np.sum(eigenvalues)} (accumulated {round(acc, 4)})')"
   ],
   "metadata": {
    "collapsed": false,
    "pycharm": {
     "name": "#%%\n"
    }
   }
  },
  {
   "cell_type": "code",
   "execution_count": 23,
   "outputs": [
    {
     "data": {
      "text/plain": "<Figure size 1080x576 with 1 Axes>",
      "image/png": "[encoded data removed]"
     },
     "metadata": {},
     "output_type": "display_data"
    }
   ],
   "source": [
    "fig = plt.figure(figsize=(15,8))\n",
    "\n",
    "a = acc_variance\n",
    "\n",
    "b = [i +1 for i in range(len(acc_variance))]\n",
    "plt.title('Explained variance over number of principal components')\n",
    "plt.xlabel('n principal components')\n",
    "plt.xticks(b)\n",
    "plt.ylabel('explained variance')\n",
    "plt.bar(b, a)\n",
    "plt.show()"
   ],
   "metadata": {
    "collapsed": false,
    "pycharm": {
     "name": "#%%\n"
    }
   }
  },
  {
   "cell_type": "markdown",
   "source": [
    "# Create a Baseline Model\n",
    "\n",
    "I am taking the Last step as prediction of all features to create a baselinemodel. I will use this baseline model to compare the results of the actual model with it. Everything that works better than this baseline model could be an improvement."
   ],
   "metadata": {
    "collapsed": false,
    "pycharm": {
     "name": "#%% md\n"
    }
   }
  },
  {
   "cell_type": "code",
   "execution_count": null,
   "outputs": [],
   "source": [
    "loader_train, loader_test = utils_bsc.create_dataloaders(dataset=dataset_norm, device=device)"
   ],
   "metadata": {
    "collapsed": false,
    "pycharm": {
     "name": "#%%\n"
    }
   }
  },
  {
   "cell_type": "markdown",
   "source": [
    "Baseline model based in: Output element is the Input element"
   ],
   "metadata": {
    "collapsed": false,
    "pycharm": {
     "name": "#%% md\n"
    }
   }
  },
  {
   "cell_type": "code",
   "execution_count": null,
   "outputs": [],
   "source": [
    "criterion = nn.MSELoss()\n",
    "\n",
    "losses_train = []\n",
    "\n",
    "for i in loader_train:\n",
    "  output = i[0]\n",
    "  target = i[1]\n",
    "  loss = criterion(output, target)\n",
    "  losses_train.append(loss.item())\n",
    "\n",
    "losses_test = []\n",
    "\n",
    "for i in loader_test:\n",
    "  output = i[0]\n",
    "  target = i[1]\n",
    "  loss = criterion(output, target)\n",
    "  losses_test.append(loss.item())\n",
    "\n",
    "# save to npy file to keep track of the results and to print graphs\n",
    "np.save(saved_results + '/baseline_train.npy', losses_train)\n",
    "np.save(saved_results + '/baseline_test.npy', losses_test)\n",
    "\n",
    "if colab is True:\n",
    "    files.download(saved_results + '/baseline_train.npy')\n",
    "    files.download(saved_results + '/baseline_test.npy')"
   ],
   "metadata": {
    "collapsed": false,
    "pycharm": {
     "name": "#%%\n"
    }
   }
  },
  {
   "cell_type": "code",
   "execution_count": null,
   "outputs": [],
   "source": [
    "print(\"Training set\")\n",
    "print(\"Mean Loss of baselinemodel: \", np.mean(losses_train))\n",
    "print(\"Standard deviation Loss of baselinemodel: \", np.std(losses_train))\n",
    "print('\\n')\n",
    "print(\"Test set\")\n",
    "print(\"Mean Loss of baselinemodel: \", np.mean(losses_test))\n",
    "print(\"Standard deviation Loss of baselinemodel: \", np.std(losses_test))"
   ],
   "metadata": {
    "collapsed": false,
    "pycharm": {
     "name": "#%%\n"
    }
   }
  },
  {
   "cell_type": "markdown",
   "source": [
    "Create a second baseline model based on a FFN. It predicts output element based on input element"
   ],
   "metadata": {
    "collapsed": false,
    "pycharm": {
     "name": "#%% md\n"
    }
   }
  },
  {
   "cell_type": "code",
   "execution_count": null,
   "outputs": [],
   "source": [
    "start_train_FFN = False\n",
    "\n",
    "# Create model FFN instance\n",
    "model_FFN = utils_bsc.ANN_relu(18, 18).to(device)\n",
    "\n",
    "print(f'Model: {type(model_FFN).__name__}')\n",
    "print(f'{utils_bsc.count_parameters(model_FFN)} trainable parameters.')\n",
    "\n",
    "# Define Loss\n",
    "criterion = nn.MSELoss()\n",
    "\n",
    "# Define Optimizer\n",
    "learning_rate=0.01\n",
    "optimizer_whole = torch.optim.SGD(model_FFN.parameters(), lr=learning_rate)\n",
    "\n",
    "if start_train_FFN is True:\n",
    "    n_epochs = 10\n",
    "\n",
    "    params_not_trained_whole = model_FFN.parameters()\n",
    "\n",
    "    start_time = datetime.now()\n",
    "\n",
    "    best_results , train_losses_FFN, test_losses_FFN = utils_bsc.train_FFN(model_FFN, criterion, optimizer_whole, loader_train, loader_test, n_epochs)\n",
    "\n",
    "    model_FFN = best_results[0]\n",
    "    best_train_loss = best_results[1]\n",
    "    best_test_loss = best_results[2]\n",
    "    best_epoch_number = best_results[3]\n",
    "\n",
    "    end_time = datetime.now()\n",
    "    time_diff = (end_time - start_time)\n",
    "    execution_time = time_diff.total_seconds()\n",
    "\n",
    "    print(f'Best test loss at epoch {best_epoch_number}')\n",
    "    print(f'Train Loss: {best_train_loss}')\n",
    "    print(f'Test Loss: {best_test_loss}')\n",
    "    print(f'\\nTraining time for {n_epochs} epochs: {execution_time} seconds')\n",
    "\n",
    "\n",
    "    # save to npy file\n",
    "    np.save(saved_results + '/FFN_train.npy', train_losses_FFN)\n",
    "    np.save(saved_results + '/FFN_test.npy', test_losses_FFN)\n",
    "    torch.save(model_FFN, saved_results + '/model_FFN.pt')\n",
    "\n",
    "    if colab is True:\n",
    "\n",
    "        from google.colab import files\n",
    "\n",
    "        files.download(saved_results + '/FFN_train.npy')\n",
    "        files.download(saved_results + '/FFN_test.npy')\n",
    "        files.download(saved_results + '/model_FFN.pt')"
   ],
   "metadata": {
    "collapsed": false,
    "pycharm": {
     "name": "#%%\n"
    }
   }
  },
  {
   "cell_type": "code",
   "execution_count": null,
   "outputs": [],
   "source": [
    "if start_train_FFN is True:\n",
    "    baseline_loss = [np.mean(losses_train) for i in range(len(train_losses_FFN))]\n",
    "    utils_bsc.print_results_training(train_loss=train_losses_FFN, test_loss=test_losses_FFN, test_loss_baseline=baseline_loss, baseline_label='Baseline', title=\"Full Forward Neural Network train results\")"
   ],
   "metadata": {
    "collapsed": false,
    "pycharm": {
     "name": "#%%\n"
    }
   }
  },
  {
   "cell_type": "markdown",
   "source": [
    "# Transformer Model settings"
   ],
   "metadata": {
    "collapsed": false,
    "pycharm": {
     "name": "#%% md\n"
    }
   }
  },
  {
   "cell_type": "markdown",
   "source": [
    "Now, we train the actual transformer over the data set and print and store the results in a dictionary and in a file"
   ],
   "metadata": {
    "collapsed": false,
    "pycharm": {
     "name": "#%% md\n"
    }
   }
  },
  {
   "cell_type": "code",
   "execution_count": null,
   "outputs": [],
   "source": [
    "training_results_transformers ={}"
   ],
   "metadata": {
    "collapsed": false,
    "pycharm": {
     "name": "#%%\n"
    }
   }
  },
  {
   "cell_type": "markdown",
   "source": [
    "Train Transformer 'Vanilla' model, with standard hyperparameters"
   ],
   "metadata": {
    "collapsed": false,
    "pycharm": {
     "name": "#%% md\n"
    }
   }
  },
  {
   "cell_type": "markdown",
   "source": [
    "models = {name: [number_of_encoder_layers, number_of_decoder_layers, number_of_heads, optimizer, learning_rate, momentum, train_model, sequence_length, batch_size]}"
   ],
   "metadata": {
    "collapsed": false,
    "pycharm": {
     "name": "#%% md\n"
    }
   }
  },
  {
   "cell_type": "code",
   "execution_count": null,
   "outputs": [],
   "source": [
    "models = {'vanilla': [6, 1, 6, 2048, 'SGD', 0.01, None, True, 30, 16]}"
   ],
   "metadata": {
    "collapsed": false,
    "pycharm": {
     "name": "#%%\n"
    }
   }
  },
  {
   "cell_type": "code",
   "execution_count": null,
   "outputs": [],
   "source": [
    "training_results_transformers = utils_bsc.define_train_transformers(models, device, dataset_norm, training_results_transformers, saved_results, colab)"
   ],
   "metadata": {
    "collapsed": false,
    "pycharm": {
     "name": "#%%\n"
    }
   }
  },
  {
   "cell_type": "code",
   "execution_count": null,
   "outputs": [],
   "source": [
    "if models['vanilla'][7] is True:\n",
    "\n",
    "    baseline_loss = [np.mean(i) for i in test_losses_FFN]\n",
    "    utils_bsc.print_results_training(train_loss=training_results_transformers['vanilla'][4], test_loss=training_results_transformers['vanilla'][5], test_loss_baseline=baseline_loss, baseline_label='FFN Test Loss', title=\"Training results \" + 'vanilla' + \" Transformer (\" + str(models['vanilla'][0]) + \" encoder layers, \" + str(models['vanilla'][1]) + \" decoder layer, \" + str(models['vanilla'][2]) + \" heads. \" + models['vanilla'][4])"
   ],
   "metadata": {
    "collapsed": false,
    "pycharm": {
     "name": "#%%\n"
    }
   }
  },
  {
   "cell_type": "code",
   "execution_count": null,
   "outputs": [],
   "source": [
    "models['vanilla'][7] = False"
   ],
   "metadata": {
    "collapsed": false,
    "pycharm": {
     "name": "#%%\n"
    }
   }
  },
  {
   "cell_type": "markdown",
   "source": [
    "Train same transformer model but this time with ADAM optimizer"
   ],
   "metadata": {
    "collapsed": false,
    "pycharm": {
     "name": "#%% md\n"
    }
   }
  },
  {
   "cell_type": "code",
   "execution_count": null,
   "outputs": [],
   "source": [
    "models['ADAM'] = [6, 1, 6, 2048, 'ADAM', 0.001, None, True, 30, 16]"
   ],
   "metadata": {
    "collapsed": false,
    "pycharm": {
     "name": "#%%\n"
    }
   }
  },
  {
   "cell_type": "code",
   "execution_count": null,
   "outputs": [],
   "source": [
    "training_results_transformers = utils_bsc.define_train_transformers(models, device, dataset_norm, training_results_transformers, saved_results, colab)"
   ],
   "metadata": {
    "collapsed": false,
    "pycharm": {
     "name": "#%%\n"
    }
   }
  },
  {
   "cell_type": "code",
   "execution_count": null,
   "outputs": [],
   "source": [
    "if models['ADAM'][7] is True:\n",
    "\n",
    "    baseline_loss = [np.mean(i) for i in training_results_transformers['vanilla'][5]]\n",
    "    utils_bsc.print_results_training(train_loss=training_results_transformers['ADAM'][4], test_loss=training_results_transformers['ADAM'][5], test_loss_baseline=baseline_loss, baseline_label='Vanilla transformer Test Loss', title=\"Training results \" + 'ADAM' + \" Transformer (\" + str(models['ADAM'][0]) + \" encoder layers, \" + str(models['ADAM'][1]) + \" decoder layer, \" + str(models['ADAM'][2]) + \" heads. \" + models['ADAM'][4])"
   ],
   "metadata": {
    "collapsed": false,
    "pycharm": {
     "name": "#%%\n"
    }
   }
  },
  {
   "cell_type": "code",
   "execution_count": null,
   "outputs": [],
   "source": [
    "models['ADAM'][7] = False"
   ],
   "metadata": {
    "collapsed": false,
    "pycharm": {
     "name": "#%%\n"
    }
   }
  },
  {
   "cell_type": "markdown",
   "source": [
    "Train same transformer but with SGD with momentum as optimiser"
   ],
   "metadata": {
    "collapsed": false,
    "pycharm": {
     "name": "#%% md\n"
    }
   }
  },
  {
   "cell_type": "code",
   "execution_count": null,
   "outputs": [],
   "source": [
    "models['Momentum'] = [6, 1, 6, 2048, 'SGD', 0.001, 0.9, True, 30, 16]"
   ],
   "metadata": {
    "collapsed": false,
    "pycharm": {
     "name": "#%%\n"
    }
   }
  },
  {
   "cell_type": "code",
   "execution_count": null,
   "outputs": [],
   "source": [
    "training_results_transformers = utils_bsc.define_train_transformers(models, device, dataset_norm, training_results_transformers, saved_results, colab)"
   ],
   "metadata": {
    "collapsed": false,
    "pycharm": {
     "name": "#%%\n"
    }
   }
  },
  {
   "cell_type": "code",
   "execution_count": null,
   "outputs": [],
   "source": [
    "if models['Momentum'][7] is True:\n",
    "\n",
    "    baseline_loss = [np.mean(i) for i in training_results_transformers['vanilla'][5]]\n",
    "    utils_bsc.print_results_training(train_loss=training_results_transformers['Momentum'][4], test_loss=training_results_transformers['Momentum'][5], test_loss_baseline=baseline_loss, baseline_label='Vanilla transformer Test Loss', title=\"Training results \" + 'Momentum' + \" Transformer (\" + str(models['Momentum'][0]) + \" encoder layers, \" + str(models['Momentum'][1]) + \" decoder layer, \" + str(models['Momentum'][2]) + \" heads. \" + models['Momentum'][4])"
   ],
   "metadata": {
    "collapsed": false,
    "pycharm": {
     "name": "#%%\n"
    }
   }
  },
  {
   "cell_type": "code",
   "execution_count": null,
   "outputs": [],
   "source": [
    "models['Momentum'][7] = False"
   ],
   "metadata": {
    "collapsed": false,
    "pycharm": {
     "name": "#%%\n"
    }
   }
  },
  {
   "cell_type": "markdown",
   "source": [
    "Train the smallest transformer model with SGD with momentum as optimiser"
   ],
   "metadata": {
    "collapsed": false,
    "pycharm": {
     "name": "#%% md\n"
    }
   }
  },
  {
   "cell_type": "code",
   "execution_count": null,
   "outputs": [],
   "source": [
    "models['smallest'] = [1, 1, 1, 512, 'SGD', 0.001, 0.9, True, 30, 16]"
   ],
   "metadata": {
    "collapsed": false,
    "pycharm": {
     "name": "#%%\n"
    }
   }
  },
  {
   "cell_type": "code",
   "execution_count": null,
   "outputs": [],
   "source": [
    "training_results_transformers = utils_bsc.define_train_transformers(models, device, dataset_norm, training_results_transformers, saved_results, colab)"
   ],
   "metadata": {
    "collapsed": false,
    "pycharm": {
     "name": "#%%\n"
    }
   }
  },
  {
   "cell_type": "code",
   "execution_count": null,
   "outputs": [],
   "source": [
    "if models['smallest'][7] is True:\n",
    "\n",
    "    baseline_loss = [np.mean(i) for i in training_results_transformers['vanilla'][5]]\n",
    "    utils_bsc.print_results_training(train_loss=training_results_transformers['smallest'][4], test_loss=training_results_transformers['smallest'][5], test_loss_baseline=baseline_loss, baseline_label='Vanilla transformer Test Loss', title=\"Training results \" + 'smallest' + \" Transformer (\" + str(models['smallest'][0]) + \" encoder layers, \" + str(models['smallest'][1]) + \" decoder layer, \" + str(models['smallest'][2]) + \" heads. \" + models['smallest'][4])"
   ],
   "metadata": {
    "collapsed": false,
    "pycharm": {
     "name": "#%%\n"
    }
   }
  },
  {
   "cell_type": "code",
   "execution_count": null,
   "outputs": [],
   "source": [
    "models['smallest'][7] = False"
   ],
   "metadata": {
    "collapsed": false,
    "pycharm": {
     "name": "#%%\n"
    }
   }
  },
  {
   "cell_type": "markdown",
   "source": [
    "Train a bigger transformer model with SGD with momentum as optimiser"
   ],
   "metadata": {
    "collapsed": false,
    "pycharm": {
     "name": "#%% md\n"
    }
   }
  },
  {
   "cell_type": "code",
   "execution_count": null,
   "outputs": [],
   "source": [
    "models['bigger'] = [10, 5, 9, 4096, 'SGD', 0.001, 0.9, True, 30, 16]"
   ],
   "metadata": {
    "collapsed": false,
    "pycharm": {
     "name": "#%%\n"
    }
   }
  },
  {
   "cell_type": "code",
   "execution_count": null,
   "outputs": [],
   "source": [
    "training_results_transformers = utils_bsc.define_train_transformers(models, device, dataset_norm, training_results_transformers, saved_results, colab)"
   ],
   "metadata": {
    "collapsed": false,
    "pycharm": {
     "name": "#%%\n"
    }
   }
  },
  {
   "cell_type": "code",
   "execution_count": null,
   "outputs": [],
   "source": [
    "if models['bigger'][7] is True:\n",
    "    baseline_loss = [np.mean(i) for i in training_results_transformers['vanilla'][5]]\n",
    "    utils_bsc.print_results_training(train_loss=training_results_transformers['bigger'][4], test_loss=training_results_transformers['bigger'][5], test_loss_baseline=baseline_loss, baseline_label='Vanilla transformer Test Loss', title=\"Training results \" + 'bigger' + \" Transformer (\" + str(models['bigger'][0]) + \" encoder layers, \" + str(models['bigger'][1]) + \" decoder layer, \" + str(models['bigger'][2]) + \" heads. \" + models['bigger'][4])"
   ],
   "metadata": {
    "collapsed": false,
    "pycharm": {
     "name": "#%%\n"
    }
   }
  },
  {
   "cell_type": "code",
   "execution_count": null,
   "outputs": [],
   "source": [
    "models['bigger'][7] = False"
   ],
   "metadata": {
    "collapsed": false,
    "pycharm": {
     "name": "#%%\n"
    }
   }
  },
  {
   "cell_type": "markdown",
   "source": [
    "Try with different sequence lengths"
   ],
   "metadata": {
    "collapsed": false,
    "pycharm": {
     "name": "#%% md\n"
    }
   }
  },
  {
   "cell_type": "code",
   "execution_count": null,
   "outputs": [],
   "source": [
    "models['seq_15'] = [6, 1, 6, 2048, 'SGD', 0.001, 0.9, True, 15, 16]\n",
    "models['seq_60'] = [6, 1, 6, 2048, 'SGD', 0.001, 0.9, True, 60, 16]\n",
    "models['seq_2'] = [6, 1, 6, 2048, 'SGD', 0.001, 0.9, True, 2, 16]\n",
    "models['seq_20'] = [6, 1, 6, 2048, 'SGD', 0.001, 0.9, True, 20, 16]\n",
    "models['seq_10'] = [6, 1, 6, 2048, 'SGD', 0.001, 0.9, True, 10, 16]\n",
    "models['seq_120'] = [6, 1, 6, 2048, 'SGD', 0.001, 0.9, True, 120, 16]"
   ],
   "metadata": {
    "collapsed": false,
    "pycharm": {
     "name": "#%%\n"
    }
   }
  },
  {
   "cell_type": "code",
   "execution_count": null,
   "outputs": [],
   "source": [
    "print(models)"
   ],
   "metadata": {
    "collapsed": false,
    "pycharm": {
     "name": "#%%\n"
    }
   }
  },
  {
   "cell_type": "code",
   "execution_count": null,
   "outputs": [],
   "source": [
    "training_results_transformers = utils_bsc.define_train_transformers(models, device, dataset_norm, training_results_transformers, saved_results, colab)"
   ],
   "metadata": {
    "collapsed": false,
    "pycharm": {
     "name": "#%%\n"
    }
   }
  },
  {
   "cell_type": "markdown",
   "source": [
    "# Train LSTM"
   ],
   "metadata": {
    "collapsed": false,
    "pycharm": {
     "name": "#%% md\n"
    }
   }
  },
  {
   "cell_type": "code",
   "execution_count": 24,
   "outputs": [],
   "source": [
    "class LSTM(torch.nn.Module):\n",
    "    def __init__(self, input_size: int, hidden_size: int, output_size: int, bias_init: float):\n",
    "        super(LSTM, self).__init__()\n",
    "        self.lstm = torch.nn.LSTM(input_size, hidden_size, batch_first=True)\n",
    "        self.fc = torch.nn.Linear(self.lstm.hidden_size, output_size)\n",
    "\n",
    "        # Deactivate forget gate to be in line with the original definition.\n",
    "        def _reset_forget_gate_hook(_gradients: torch.Tensor) -> torch.Tensor:\n",
    "            _gradients[_gradients.shape[0] // 4:_gradients.shape[0] // 2].fill_(0.0)\n",
    "            return _gradients\n",
    "\n",
    "        for name, parameter in self.lstm.named_parameters():\n",
    "            if 'bias' in name:\n",
    "                parameter.data[(parameter.shape[0] // 4):(parameter.shape[0] // 2)].fill_(bias_init)\n",
    "                parameter.register_hook(_reset_forget_gate_hook)\n",
    "\n",
    "    def forward(self, x: torch.Tensor) -> torch.Tensor:\n",
    "        x = self.lstm(x)[0][:, -1, :]\n",
    "        return self.fc(x)"
   ],
   "metadata": {
    "collapsed": false,
    "pycharm": {
     "name": "#%%\n"
    }
   }
  },
  {
   "cell_type": "code",
   "execution_count": 25,
   "outputs": [],
   "source": [
    "def training_lstm(model, optimizer, criterion, train_loader, test_loader, n_epochs, train_loss=None,\n",
    "                         test_loss=None):\n",
    "    if train_loss is not None:\n",
    "        epoch_loss_train = train_loss\n",
    "        best_train_loss = min([np.mean(i) for i in train_loss])\n",
    "        best_epoch = np.where(min([np.mean(i) for i in test_loss]))\n",
    "    else:\n",
    "        epoch_loss_train = []\n",
    "        best_train_loss = 9999999999\n",
    "        best_epoch = 0\n",
    "\n",
    "    if test_loss is not None:\n",
    "        epoch_loss_test = test_loss\n",
    "        best_test_loss = min([np.mean(i) for i in test_loss])\n",
    "        best_epoch = np.where(min([np.mean(i) for i in train_loss]))\n",
    "    else:\n",
    "        epoch_loss_test = []\n",
    "        best_test_loss = 99999999999\n",
    "        best_epoch = 0\n",
    "\n",
    "    best_model = model\n",
    "    starting_epoch = len(epoch_loss_test)\n",
    "\n",
    "    for e in range(1, n_epochs + 1):\n",
    "\n",
    "        print(f'Epoch: {e + starting_epoch} of {n_epochs}')\n",
    "        print('Training...')\n",
    "        model.train()\n",
    "\n",
    "        for i in tqdm(train_loader):\n",
    "            input = i[0]\n",
    "            target = i[1]\n",
    "\n",
    "            net_out = model.forward(input)\n",
    "\n",
    "            # Compute loss\n",
    "            loss = criterion(net_out, target)\n",
    "\n",
    "            optimizer.zero_grad()\n",
    "\n",
    "            # Backpropagation\n",
    "            loss.backward()\n",
    "\n",
    "            torch.nn.utils.clip_grad_norm_(model.parameters(), 0.5)\n",
    "\n",
    "            # Optimization\n",
    "            optimizer.step()\n",
    "\n",
    "        print('\\nTest with training set')\n",
    "        losses_train = []\n",
    "        model.eval()\n",
    "        with torch.no_grad():\n",
    "            for i in tqdm(train_loader):\n",
    "                input = i[0]\n",
    "                target = i[2]\n",
    "\n",
    "                net_out = model.forward(input)\n",
    "\n",
    "                # Compute loss\n",
    "                losses_train.append(float(criterion(net_out, target).item()))\n",
    "\n",
    "        print('\\nCurrent Mean loss Train Set: ', np.mean(losses_train))\n",
    "        epoch_loss_train.append(losses_train)\n",
    "\n",
    "        print('\\nTest with test set')\n",
    "        losses_test = []\n",
    "        model.eval()\n",
    "\n",
    "        with torch.no_grad():\n",
    "            for i in tqdm(test_loader):\n",
    "                input = i[0]\n",
    "                target = i[1]\n",
    "\n",
    "                net_out = model.forward(input)\n",
    "\n",
    "                # Compute loss\n",
    "                losses_test.append(float(criterion(net_out, target).item()))\n",
    "\n",
    "        print('\\nCurrent Mean loss Test Set: ', np.mean(losses_test))\n",
    "        epoch_loss_test.append(losses_test)\n",
    "\n",
    "        print('\\n')\n",
    "\n",
    "        if np.mean(losses_test) < best_test_loss:\n",
    "            best_test_loss = np.mean(losses_test)\n",
    "            best_train_loss = np.mean(losses_train)\n",
    "            best_model = model\n",
    "            best_epoch = e\n",
    "\n",
    "    return (best_model, best_train_loss, best_test_loss, best_epoch), epoch_loss_train, epoch_loss_test"
   ],
   "metadata": {
    "collapsed": false,
    "pycharm": {
     "name": "#%%\n"
    }
   }
  },
  {
   "cell_type": "code",
   "execution_count": 26,
   "outputs": [],
   "source": [
    "def define_train_lstm(models, device, dataset, training_results_transformers, path_save, colab):\n",
    "    for i in models:\n",
    "        if models[i][7] is True:\n",
    "\n",
    "            loader_train, loader_test = utils_bsc.create_sequece_dataloaders(dataset=dataset, seq_length=models[i][8],\n",
    "                                                                   batch_size=models[i][9], device=device)\n",
    "\n",
    "            target_device = torch.device('cuda' if torch.cuda.is_available() else 'cpu')\n",
    "            model = LSTM(input_size=18, hidden_size= 32, output_size=18, bias_init=0.0).to(target_device)\n",
    "\n",
    "            print(f'Model: {type(model).__name__} - {i}')\n",
    "            print(f'{utils_bsc.count_parameters(model)} trainable parameters.')\n",
    "\n",
    "            n_epochs = 200\n",
    "            learning_rate = 0.01\n",
    "\n",
    "            if models[i][4] == 'SGD':\n",
    "\n",
    "                if models[i][6] is not None:\n",
    "                    optimizer = torch.optim.SGD(model.parameters(), lr=models[i][5], momentum=models[i][6])\n",
    "                else:\n",
    "                    optimizer = torch.optim.SGD(model.parameters(), lr=models[i][5])\n",
    "            elif models[i][4] == 'ADAM':\n",
    "                optimizer = torch.optim.Adam(model.parameters(), lr=models[i][5])\n",
    "\n",
    "            criterion = nn.MSELoss()\n",
    "\n",
    "            start_time = datetime.now()\n",
    "\n",
    "            best_results, train_losses, test_losses = training_lstm(\n",
    "                model=model,\n",
    "                optimizer=optimizer,\n",
    "                criterion=criterion,\n",
    "                train_loader=loader_train,\n",
    "                test_loader=loader_test,\n",
    "                n_epochs=n_epochs)\n",
    "\n",
    "            Transformer_trained_Model = best_results[0]\n",
    "            best_train_loss = best_results[1]\n",
    "            best_test_loss = best_results[2]\n",
    "            best_epoch_number = best_results[3]\n",
    "\n",
    "            end_time = datetime.now()\n",
    "            time_diff = (end_time - start_time)\n",
    "            execution_time = time_diff.total_seconds()\n",
    "\n",
    "            print(f'Best test loss at epoch {best_epoch_number}')\n",
    "            print(f'Train Loss: {best_train_loss}')\n",
    "            print(f'Test Loss: {best_test_loss}')\n",
    "            print(f'\\nTraining time for {n_epochs} epochs: {execution_time} seconds')\n",
    "\n",
    "            print(f'Training time: {execution_time} seconds')\n",
    "\n",
    "            training_results_transformers[i] = [Transformer_trained_Model, best_train_loss, best_test_loss,\n",
    "                                                best_epoch_number, train_losses, test_losses, execution_time]\n",
    "\n",
    "            # save to npy file\n",
    "            np.save(path_save + '/Transformer_' + i + '_train.npy', train_losses)\n",
    "            np.save(path_save + '/Transformer_' + i + '_test.npy', test_losses)\n",
    "            torch.save(Transformer_trained_Model, path_save + '/Transformer_' + models[i][8] + '.pt')\n",
    "\n",
    "            if colab is True:\n",
    "                from google.colab import files\n",
    "\n",
    "                files.download(path_save + '/Transformer_' + i + '_train.npy')\n",
    "                files.download(path_save + '/Transformer_' + i + '_test.npy')\n",
    "                files.download(path_save + '/Transformer_' + i + '.pt')\n",
    "\n",
    "    return training_results_transformers"
   ],
   "metadata": {
    "collapsed": false,
    "pycharm": {
     "name": "#%%\n"
    }
   }
  },
  {
   "cell_type": "code",
   "execution_count": 31,
   "outputs": [
    {
     "name": "stdout",
     "output_type": "stream",
     "text": [
      "Creating train/test data loaders\n"
     ]
    },
    {
     "name": "stderr",
     "output_type": "stream",
     "text": [
      "100%|██████████| 63329/63329 [00:19<00:00, 3173.71it/s]\n"
     ]
    },
    {
     "name": "stdout",
     "output_type": "stream",
     "text": [
      "Sequence length: 30\n",
      "Batch size: 16\n",
      "length of training set: 56996\n",
      "length of test set: 6333\n",
      "\n",
      "\n",
      "Model: LSTM - lstm\n",
      "7250 trainable parameters.\n",
      "Epoch: 1 of 200\n",
      "Training...\n"
     ]
    },
    {
     "name": "stderr",
     "output_type": "stream",
     "text": [
      "100%|██████████| 3563/3563 [00:19<00:00, 184.62it/s]\n"
     ]
    },
    {
     "name": "stdout",
     "output_type": "stream",
     "text": [
      "\n",
      "Test with training set\n"
     ]
    },
    {
     "name": "stderr",
     "output_type": "stream",
     "text": [
      "100%|██████████| 3563/3563 [00:05<00:00, 654.38it/s]\n"
     ]
    },
    {
     "name": "stdout",
     "output_type": "stream",
     "text": [
      "\n",
      "Current Mean loss Train Set:  0.41421601637558025\n",
      "\n",
      "Test with test set\n"
     ]
    },
    {
     "name": "stderr",
     "output_type": "stream",
     "text": [
      "100%|██████████| 396/396 [00:00<00:00, 600.33it/s]\n"
     ]
    },
    {
     "name": "stdout",
     "output_type": "stream",
     "text": [
      "\n",
      "Current Mean loss Test Set:  0.40699310469055416\n",
      "\n",
      "\n",
      "Epoch: 2 of 200\n",
      "Training...\n"
     ]
    },
    {
     "name": "stderr",
     "output_type": "stream",
     "text": [
      "100%|██████████| 3563/3563 [00:19<00:00, 180.58it/s]\n"
     ]
    },
    {
     "name": "stdout",
     "output_type": "stream",
     "text": [
      "\n",
      "Test with training set\n"
     ]
    },
    {
     "name": "stderr",
     "output_type": "stream",
     "text": [
      "100%|██████████| 3563/3563 [00:05<00:00, 647.66it/s]\n"
     ]
    },
    {
     "name": "stdout",
     "output_type": "stream",
     "text": [
      "\n",
      "Current Mean loss Train Set:  0.37420958667416404\n",
      "\n",
      "Test with test set\n"
     ]
    },
    {
     "name": "stderr",
     "output_type": "stream",
     "text": [
      "100%|██████████| 396/396 [00:00<00:00, 603.89it/s]\n"
     ]
    },
    {
     "name": "stdout",
     "output_type": "stream",
     "text": [
      "\n",
      "Current Mean loss Test Set:  0.35885737644452037\n",
      "\n",
      "\n",
      "Epoch: 3 of 200\n",
      "Training...\n"
     ]
    },
    {
     "name": "stderr",
     "output_type": "stream",
     "text": [
      " 11%|█         | 385/3563 [00:02<00:17, 181.30it/s]\n"
     ]
    },
    {
     "ename": "KeyboardInterrupt",
     "evalue": "",
     "output_type": "error",
     "traceback": [
      "\u001B[0;31m---------------------------------------------------------------------------\u001B[0m",
      "\u001B[0;31mKeyboardInterrupt\u001B[0m                         Traceback (most recent call last)",
      "\u001B[0;32m/var/folders/2s/vg97_p793_97vgjwtr42qdm80000gn/T/ipykernel_5751/1116144004.py\u001B[0m in \u001B[0;36m<module>\u001B[0;34m\u001B[0m\n\u001B[1;32m      4\u001B[0m \u001B[0mmodels\u001B[0m\u001B[0;34m[\u001B[0m\u001B[0;34m'lstm'\u001B[0m\u001B[0;34m]\u001B[0m \u001B[0;34m=\u001B[0m \u001B[0;34m[\u001B[0m\u001B[0;36m1\u001B[0m\u001B[0;34m,\u001B[0m \u001B[0;36m1\u001B[0m\u001B[0;34m,\u001B[0m \u001B[0;36m1\u001B[0m\u001B[0;34m,\u001B[0m \u001B[0;36m512\u001B[0m\u001B[0;34m,\u001B[0m \u001B[0;34m'SGD'\u001B[0m\u001B[0;34m,\u001B[0m \u001B[0;36m0.001\u001B[0m\u001B[0;34m,\u001B[0m \u001B[0;36m0.9\u001B[0m\u001B[0;34m,\u001B[0m \u001B[0;32mTrue\u001B[0m\u001B[0;34m,\u001B[0m \u001B[0;36m30\u001B[0m\u001B[0;34m,\u001B[0m \u001B[0;36m16\u001B[0m\u001B[0;34m]\u001B[0m\u001B[0;34m\u001B[0m\u001B[0;34m\u001B[0m\u001B[0m\n\u001B[1;32m      5\u001B[0m \u001B[0;34m\u001B[0m\u001B[0m\n\u001B[0;32m----> 6\u001B[0;31m \u001B[0mtraining_results_lstm\u001B[0m \u001B[0;34m=\u001B[0m \u001B[0mdefine_train_lstm\u001B[0m\u001B[0;34m(\u001B[0m\u001B[0mmodels\u001B[0m\u001B[0;34m,\u001B[0m \u001B[0mdevice\u001B[0m\u001B[0;34m,\u001B[0m \u001B[0mdataset_norm\u001B[0m\u001B[0;34m,\u001B[0m \u001B[0mtraining_results_lstm\u001B[0m\u001B[0;34m,\u001B[0m \u001B[0msaved_results\u001B[0m\u001B[0;34m,\u001B[0m \u001B[0mcolab\u001B[0m\u001B[0;34m)\u001B[0m\u001B[0;34m\u001B[0m\u001B[0;34m\u001B[0m\u001B[0m\n\u001B[0m",
      "\u001B[0;32m/var/folders/2s/vg97_p793_97vgjwtr42qdm80000gn/T/ipykernel_5751/3212640081.py\u001B[0m in \u001B[0;36mdefine_train_lstm\u001B[0;34m(models, device, dataset, training_results_transformers, path_save, colab)\u001B[0m\n\u001B[1;32m     28\u001B[0m             \u001B[0mstart_time\u001B[0m \u001B[0;34m=\u001B[0m \u001B[0mdatetime\u001B[0m\u001B[0;34m.\u001B[0m\u001B[0mnow\u001B[0m\u001B[0;34m(\u001B[0m\u001B[0;34m)\u001B[0m\u001B[0;34m\u001B[0m\u001B[0;34m\u001B[0m\u001B[0m\n\u001B[1;32m     29\u001B[0m \u001B[0;34m\u001B[0m\u001B[0m\n\u001B[0;32m---> 30\u001B[0;31m             best_results, train_losses, test_losses = training_lstm(\n\u001B[0m\u001B[1;32m     31\u001B[0m                 \u001B[0mmodel\u001B[0m\u001B[0;34m=\u001B[0m\u001B[0mmodel\u001B[0m\u001B[0;34m,\u001B[0m\u001B[0;34m\u001B[0m\u001B[0;34m\u001B[0m\u001B[0m\n\u001B[1;32m     32\u001B[0m                 \u001B[0moptimizer\u001B[0m\u001B[0;34m=\u001B[0m\u001B[0moptimizer\u001B[0m\u001B[0;34m,\u001B[0m\u001B[0;34m\u001B[0m\u001B[0;34m\u001B[0m\u001B[0m\n",
      "\u001B[0;32m/var/folders/2s/vg97_p793_97vgjwtr42qdm80000gn/T/ipykernel_5751/1049361322.py\u001B[0m in \u001B[0;36mtraining_lstm\u001B[0;34m(model, optimizer, criterion, train_loader, test_loader, n_epochs, train_loss, test_loss)\u001B[0m\n\u001B[1;32m     37\u001B[0m             \u001B[0mloss\u001B[0m \u001B[0;34m=\u001B[0m \u001B[0mcriterion\u001B[0m\u001B[0;34m(\u001B[0m\u001B[0mnet_out\u001B[0m\u001B[0;34m,\u001B[0m \u001B[0mtarget\u001B[0m\u001B[0;34m)\u001B[0m\u001B[0;34m\u001B[0m\u001B[0;34m\u001B[0m\u001B[0m\n\u001B[1;32m     38\u001B[0m \u001B[0;34m\u001B[0m\u001B[0m\n\u001B[0;32m---> 39\u001B[0;31m             \u001B[0moptimizer\u001B[0m\u001B[0;34m.\u001B[0m\u001B[0mzero_grad\u001B[0m\u001B[0;34m(\u001B[0m\u001B[0;34m)\u001B[0m\u001B[0;34m\u001B[0m\u001B[0;34m\u001B[0m\u001B[0m\n\u001B[0m\u001B[1;32m     40\u001B[0m \u001B[0;34m\u001B[0m\u001B[0m\n\u001B[1;32m     41\u001B[0m             \u001B[0;31m# Backpropagation\u001B[0m\u001B[0;34m\u001B[0m\u001B[0;34m\u001B[0m\u001B[0;34m\u001B[0m\u001B[0m\n",
      "\u001B[0;32m/Library/Frameworks/Python.framework/Versions/3.9/lib/python3.9/site-packages/torch/optim/optimizer.py\u001B[0m in \u001B[0;36mzero_grad\u001B[0;34m(self, set_to_none)\u001B[0m\n\u001B[1;32m    215\u001B[0m                             \u001B[0;32melse\u001B[0m\u001B[0;34m:\u001B[0m\u001B[0;34m\u001B[0m\u001B[0;34m\u001B[0m\u001B[0m\n\u001B[1;32m    216\u001B[0m                                 \u001B[0mp\u001B[0m\u001B[0;34m.\u001B[0m\u001B[0mgrad\u001B[0m\u001B[0;34m.\u001B[0m\u001B[0mrequires_grad_\u001B[0m\u001B[0;34m(\u001B[0m\u001B[0;32mFalse\u001B[0m\u001B[0;34m)\u001B[0m\u001B[0;34m\u001B[0m\u001B[0;34m\u001B[0m\u001B[0m\n\u001B[0;32m--> 217\u001B[0;31m                             \u001B[0mp\u001B[0m\u001B[0;34m.\u001B[0m\u001B[0mgrad\u001B[0m\u001B[0;34m.\u001B[0m\u001B[0mzero_\u001B[0m\u001B[0;34m(\u001B[0m\u001B[0;34m)\u001B[0m\u001B[0;34m\u001B[0m\u001B[0;34m\u001B[0m\u001B[0m\n\u001B[0m\u001B[1;32m    218\u001B[0m \u001B[0;34m\u001B[0m\u001B[0m\n\u001B[1;32m    219\u001B[0m     \u001B[0;32mdef\u001B[0m \u001B[0mstep\u001B[0m\u001B[0;34m(\u001B[0m\u001B[0mself\u001B[0m\u001B[0;34m,\u001B[0m \u001B[0mclosure\u001B[0m\u001B[0;34m)\u001B[0m\u001B[0;34m:\u001B[0m\u001B[0;34m\u001B[0m\u001B[0;34m\u001B[0m\u001B[0m\n",
      "\u001B[0;31mKeyboardInterrupt\u001B[0m: "
     ]
    }
   ],
   "source": [
    "models = {}\n",
    "training_results_lstm = {}\n",
    "\n",
    "models['lstm'] = [1, 1, 1, 512, 'SGD', 0.001, 0.9, True, 30, 16]\n",
    "\n",
    "training_results_lstm = define_train_lstm(models, device, dataset_norm, training_results_lstm, saved_results, colab)"
   ],
   "metadata": {
    "collapsed": false,
    "pycharm": {
     "name": "#%%\n"
    }
   }
  },
  {
   "cell_type": "code",
   "execution_count": null,
   "outputs": [],
   "source": [],
   "metadata": {
    "collapsed": false,
    "pycharm": {
     "name": "#%%\n"
    }
   }
  }
 ],
 "metadata": {
  "colab": {
   "name": "bsc_arbeit.ipynb",
   "provenance": [],
   "machine_shape": "hm"
  },
  "kernelspec": {
   "display_name": "Python 3.9.2 64-bit",
   "language": "python",
   "name": "python392jvsc74a57bd0aee8b7b246df8f9039afb4144a1f6fd8d2ca17a180786b69acc140d282b71a49"
  },
  "language_info": {
   "codemirror_mode": {
    "name": "ipython",
    "version": 3
   },
   "file_extension": ".py",
   "mimetype": "text/x-python",
   "name": "python",
   "nbconvert_exporter": "python",
   "pygments_lexer": "ipython3",
   "version": "3.9.2"
  },
  "accelerator": "GPU"
 },
 "nbformat": 4,
 "nbformat_minor": 0
}