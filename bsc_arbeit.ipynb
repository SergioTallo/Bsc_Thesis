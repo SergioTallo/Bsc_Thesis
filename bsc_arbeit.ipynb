{
 "cells": [
  {
   "cell_type": "markdown",
   "metadata": {},
   "source": [
    "First load imports needed for the project"
   ]
  },
  {
   "cell_type": "code",
   "execution_count": null,
   "metadata": {
    "scrolled": true
   },
   "outputs": [],
   "source": [
    "import pandas as pd\n",
    "from sklearn.model_selection import train_test_split\n",
    "import numpy as np\n",
    "import csv\n",
    "import torch.nn as nn\n",
    "import matplotlib.pyplot as plt\n",
    "import utils_bsc"
   ]
  },
  {
   "cell_type": "markdown",
   "metadata": {
    "collapsed": true
   },
   "source": [
    "Now, we should create a dataset with all the data stored in the .csv file\n",
    "\n",
    "Description of the data:\n",
    "\n",
    "time: Timestamp in format YYYY-MM-DD HH:MM:SS,\n",
    "PLN1:\n",
    "PLN2:\n",
    "PLN3:\n",
    "ULL1:\n",
    "ULL3:\n",
    "COS_PHI1:\n",
    "COS_PHI2:\n",
    "COS_PHI3:\n",
    "FREQ:\n",
    "RC_DC:\n",
    "RC_AC:\n",
    "RC_50Hz:\n",
    "RC_150Hz:\n",
    "RC_<100Hz:\n",
    "RC_100Hz-1kHz:\n",
    "RC_>10kHz:"
   ]
  },
  {
   "cell_type": "code",
   "execution_count": null,
   "metadata": {
    "scrolled": true
   },
   "outputs": [],
   "source": [
    "dataset = pd.read_csv('data_factory.csv')\n",
    "dataset.head()"
   ]
  },
  {
   "cell_type": "markdown",
   "metadata": {},
   "source": [
    "Once we have the dataset, we should prepare it. Finding the missing or the NaN values and replace them with suitable values (in this case we use the previous value)."
   ]
  },
  {
   "cell_type": "code",
   "execution_count": null,
   "metadata": {
    "scrolled": true
   },
   "outputs": [],
   "source": [
    "# Replace all mising values with NaN\n",
    "dataset = dataset.replace(' ', np.nan)\n",
    "# Search for all the rows with NaN values\n",
    "nan_values = dataset[dataset.isna().any(axis=1)]\n",
    "# Print the shape to know how many are there\n",
    "print(f'Number of rows with NaN values before cleaning: {nan_values.shape[0]}') \n",
    "\n",
    "# Fill all NaN values with the previous row value\n",
    "dataset_clean = dataset.fillna(method='ffill')\n",
    "\n",
    "# Check that there isn't any NaN values\n",
    "nan_values = dataset_clean[dataset_clean.isna().any(axis=1)]\n",
    "# Print the shape to know how many are there\n",
    "print(f'Number of rows with NaN values after cleaning: {nan_values.shape[0]}') \n",
    "\n",
    "#Total number of samples\n",
    "print(f'Total number of samples: {dataset_clean.shape[0]}')\n",
    "print(f'Number of features: {dataset_clean.shape[1]}')\n"
   ]
  },
  {
   "cell_type": "markdown",
   "metadata": {},
   "source": [
    "Now we look at the distribution of the different features of the data over different time intervals"
   ]
  },
  {
   "cell_type": "code",
   "execution_count": null,
   "metadata": {
    "scrolled": true
   },
   "outputs": [],
   "source": [
    "# PLN_1 in a weekly interval\n",
    "\n",
    "utils_bsc.week_plot(dataset_clean, 1, 'PLN_1')\n",
    "\n",
    "# PLN_1 in a daily interval (only the values of weekdays between 4:00 and 19:30)\n",
    "\n",
    "utils_bsc.daily_plot(dataset_clean, 1, 'PLN_1')"
   ]
  },
  {
   "cell_type": "code",
   "execution_count": null,
   "metadata": {},
   "outputs": [],
   "source": [
    "# PLN_2 in a weekly interval\n",
    "\n",
    "utils_bsc.week_plot(dataset_clean, 2, 'PLN_2')\n",
    "\n",
    "# PLN_2 in a daily interval (only the values of weekdays between 4:00 and 19:30)\n",
    "\n",
    "utils_bsc.daily_plot(dataset_clean, 2, 'PLN_2')"
   ]
  },
  {
   "cell_type": "code",
   "execution_count": null,
   "metadata": {
    "scrolled": true
   },
   "outputs": [],
   "source": [
    "# PLN_3 in a weekly interval\n",
    "\n",
    "utils_bsc.week_plot(dataset_clean, 3, 'PLN_3')\n",
    "\n",
    "# PLN_3 in a daily interval (only the values of weekdays between 4:00 and 19:30)\n",
    "\n",
    "utils_bsc.daily_plot(dataset_clean, 3, 'PLN_3')"
   ]
  },
  {
   "cell_type": "code",
   "execution_count": null,
   "metadata": {
    "scrolled": true
   },
   "outputs": [],
   "source": [
    "# ULL1 in a weekly interval\n",
    "\n",
    "utils_bsc.week_plot(dataset_clean, 4, 'ULL1')\n",
    "\n",
    "# ULL1 in a daily interval (only the values of weekdays between 4:00 and 19:30)\n",
    "\n",
    "utils_bsc.daily_plot(dataset_clean, 4, 'ULL1')"
   ]
  },
  {
   "cell_type": "code",
   "execution_count": null,
   "metadata": {},
   "outputs": [],
   "source": [
    "# ULL2 in a weekly interval\n",
    "\n",
    "utils_bsc.week_plot(dataset_clean, 5, 'ULL2')\n",
    "\n",
    "# ULL2 in a daily interval (only the values of weekdays between 4:00 and 19:30)\n",
    "\n",
    "utils_bsc.daily_plot(dataset_clean, 5, 'ULL2')"
   ]
  },
  {
   "cell_type": "code",
   "execution_count": null,
   "metadata": {},
   "outputs": [],
   "source": [
    "# ULL3 in a weekly interval\n",
    "\n",
    "utils_bsc.week_plot(dataset_clean, 6, 'ULL3')\n",
    "\n",
    "# ULL3 in a daily interval (only the values of weekdays between 4:00 and 19:30)\n",
    "\n",
    "utils_bsc.daily_plot(dataset_clean, 6, 'ULL3')"
   ]
  },
  {
   "cell_type": "code",
   "execution_count": null,
   "metadata": {
    "scrolled": true
   },
   "outputs": [],
   "source": [
    "# COS_PHI1 in a weekly interval\n",
    "\n",
    "utils_bsc.week_plot(dataset_clean, 7, 'COS_PHI1')\n",
    "\n",
    "# COS_PHI1 in a daily interval (only the values of weekdays between 4:00 and 19:30)\n",
    "\n",
    "utils_bsc.daily_plot(dataset_clean, 7, 'COS_PHI1')"
   ]
  },
  {
   "cell_type": "code",
   "execution_count": null,
   "metadata": {
    "scrolled": true
   },
   "outputs": [],
   "source": [
    "# COS_PHI2 in a weekly interval\n",
    "\n",
    "utils_bsc.week_plot(dataset_clean, 8, 'COS_PHI2')\n",
    "\n",
    "# COS_PHI2 in a daily interval (only the values of weekdays between 4:00 and 19:30)\n",
    "\n",
    "utils_bsc.daily_plot(dataset_clean, 8, 'COS_PHI2')"
   ]
  },
  {
   "cell_type": "code",
   "execution_count": null,
   "metadata": {},
   "outputs": [],
   "source": [
    "# COS_PHI3 in a weekly interval\n",
    "\n",
    "utils_bsc.week_plot(dataset_clean, 9, 'COS_PHI3')\n",
    "\n",
    "# COS_PHI3 in a daily interval (only the values of weekdays between 4:00 and 19:30)\n",
    "\n",
    "utils_bsc.daily_plot(dataset_clean, 9, 'COS_PHI3')"
   ]
  },
  {
   "cell_type": "code",
   "execution_count": null,
   "metadata": {
    "scrolled": true
   },
   "outputs": [],
   "source": [
    "# FREQ in a weekly interval\n",
    "\n",
    "utils_bsc.week_plot(dataset_clean, 10, 'FREQ')\n",
    "\n",
    "# FREQ in a daily interval (only the values of weekdays between 4:00 and 19:30)\n",
    "\n",
    "utils_bsc.daily_plot(dataset_clean, 10, 'FREQ')"
   ]
  },
  {
   "cell_type": "code",
   "execution_count": null,
   "metadata": {
    "scrolled": true
   },
   "outputs": [],
   "source": [
    "# RC_DC in a weekly interval\n",
    "\n",
    "utils_bsc.week_plot(dataset_clean, 11, 'RC_DC')\n",
    "\n",
    "# RC_DC in a daily interval (only the values of weekdays between 4:00 and 19:30)\n",
    "\n",
    "utils_bsc.daily_plot(dataset_clean, 11, 'RC_DC')"
   ]
  },
  {
   "cell_type": "code",
   "execution_count": null,
   "metadata": {},
   "outputs": [],
   "source": [
    "# RC_AC in a weekly interval\n",
    "\n",
    "utils_bsc.week_plot(dataset_clean, 12, 'RC_AC')\n",
    "\n",
    "# RC_AC in a daily interval (only the values of weekdays between 4:00 and 19:30)\n",
    "\n",
    "utils_bsc.daily_plot(dataset_clean, 12, 'RC_AC')"
   ]
  },
  {
   "cell_type": "code",
   "execution_count": null,
   "metadata": {},
   "outputs": [],
   "source": [
    "# RC_50Hz in a weekly interval\n",
    "\n",
    "utils_bsc.week_plot(dataset_clean, 13, 'RC_50Hz')\n",
    "\n",
    "# RC_50Hz in a daily interval (only the values of weekdays between 4:00 and 19:30)\n",
    "\n",
    "utils_bsc.daily_plot(dataset_clean, 13, 'RC_50Hz')"
   ]
  },
  {
   "cell_type": "code",
   "execution_count": null,
   "metadata": {
    "scrolled": true
   },
   "outputs": [],
   "source": [
    "# RC_150Hz in a weekly interval\n",
    "\n",
    "utils_bsc.week_plot(dataset_clean, 14, 'RC_150Hz')\n",
    "\n",
    "# RC_150Hz in a daily interval (only the values of weekdays between 4:00 and 19:30)\n",
    "\n",
    "utils_bsc.daily_plot(dataset_clean, 14, 'RC_150Hz')"
   ]
  },
  {
   "cell_type": "code",
   "execution_count": null,
   "metadata": {},
   "outputs": [],
   "source": [
    "# RC_100Hz_1kHz in a weekly interval\n",
    "\n",
    "utils_bsc.week_plot(dataset_clean, 15, 'RC_100Hz_1kHz')\n",
    "\n",
    "# RC_100Hz_1kHz in a daily interval (only the values of weekdays between 4:00 and 19:30)\n",
    "\n",
    "utils_bsc.daily_plot(dataset_clean, 15, 'RC_100Hz_1kHz')"
   ]
  },
  {
   "cell_type": "code",
   "execution_count": null,
   "metadata": {
    "scrolled": true
   },
   "outputs": [],
   "source": [
    "# RC_100Hz_1kHz in a weekly interval\n",
    "\n",
    "utils_bsc.week_plot(dataset_clean, 16, 'RC_100Hz_1kHz')\n",
    "\n",
    "# RC_100Hz_1kHz in a daily interval (only the values of weekdays between 4:00 and 19:30)\n",
    "\n",
    "utils_bsc.daily_plot(dataset_clean, 16, 'RC_100Hz_1kHz')"
   ]
  },
  {
   "cell_type": "code",
   "execution_count": null,
   "metadata": {
    "scrolled": true
   },
   "outputs": [],
   "source": [
    "# RC_more_1kHz in a weekly interval\n",
    "\n",
    "utils_bsc.week_plot(dataset_clean, 17, 'RC_more_1kHz')\n",
    "\n",
    "# RC_more_1kHz in a daily interval (only the values of weekdays between 4:00 and 19:30)\n",
    "\n",
    "utils_bsc.daily_plot(dataset_clean, 17, 'RC_more_1kHz')"
   ]
  },
  {
   "cell_type": "code",
   "execution_count": null,
   "metadata": {},
   "outputs": [],
   "source": [
    "# RC_more_10kHz in a weekly interval\n",
    "\n",
    "utils_bsc.week_plot(dataset_clean, 18, 'RC_more_10kHz')\n",
    "\n",
    "# RC_more_10kHz in a daily interval (only the values of weekdays between 4:00 and 19:30)\n",
    "\n",
    "utils_bsc.daily_plot(dataset_clean, 18, 'RC_more_10kHz')"
   ]
  },
  {
   "cell_type": "markdown",
   "metadata": {},
   "source": [
    "Once the dataset is prepared, make batches of data,put them togheter in an array and split them into train and test sets.\n",
    "After looking through the dataset and the features, i decided to takeonly the values with a timestap of a weekday between 4:00 and 19:30. In many of the features in the interval otside those timestamps there i only noise, which can be a sign that the machine is off in that time interval."
   ]
  },
  {
   "cell_type": "code",
   "execution_count": null,
   "metadata": {
    "scrolled": true
   },
   "outputs": [],
   "source": [
    "# Create 63300 batches of longitud 60\n",
    "\n",
    "data = []\n",
    "\n",
    "for i in range(0, len(dataset) - 60):\n",
    "    data_set = dataset_clean.iloc[i:i+60, 1:]\n",
    "    data.append(data_set)\n",
    "    \n",
    "data = np.array(data)\n",
    "print(f'{data.shape[0]} sequences of longitud {data.shape[1]} with {data.shape[2]} features')\n",
    "\n",
    "# Spliting into train and test sets\n",
    "\n",
    "training_data, testing_data = train_test_split(data, test_size=0.2, random_state=25)\n",
    "print(f'length of training set: {training_data.shape[0]}')\n",
    "print(f'length of test set: {testing_data.shape[0]}')"
   ]
  },
  {
   "cell_type": "markdown",
   "metadata": {},
   "source": [
    "Now, we define a class with the transformer model that we are going to use:\n",
    "\n",
    "Using the already written pytorch library for Transformers:\n",
    "\n",
    "torch.nn.TransformerEncoderLayer\n",
    "\n",
    "d_model –> the number of expected features in the input (required).\n",
    "\n",
    "nhead –> the number of heads in the multiheadattention models (required).\n",
    "\n",
    "dim_feedforward –> the dimension of the feedforward network model (default=2048).\n",
    "\n",
    "dropout –> the dropout value (default=0.1).\n",
    "\n",
    "activation –> the activation function of the intermediate layer, can be a string (“relu” or “gelu”) or a unary callable. Default: relu\n",
    "\n",
    "layer_norm_eps –> the eps value in layer normalization components (default=1e-5).\n",
    "\n",
    "batch_first –> If True, then the input and output tensors are provided as (batch, seq, feature). Default: False.\n",
    "\n",
    "norm_first –> if True, layer norm is done prior to attention and feedforward operations, respectivaly. Otherwise it’s done after. Default: False (after)."
   ]
  },
  {
   "cell_type": "code",
   "execution_count": null,
   "metadata": {
    "scrolled": true
   },
   "outputs": [],
   "source": [
    "class Transformer(nn.Module):\n",
    "    def __init__(self, feature_size, output_size, num_encoder_layers, dropout):\n",
    "        super(Transformer, self).__init__()\n",
    "        \n",
    "        encoder_layer = nn.TransformerEncoderLayer(d_model= feature_size, nhead= feature_size, dropout= dropout)\n",
    "        \n",
    "        self.encoder = nn.TransformerEncoder(encoder_layer, num_layers= num_encoder_layers)\n",
    "        \n",
    "        self.decoder = nn.Linear (feature_size, output_size)\n",
    "        \n",
    "    def forward (self, src, device):\n",
    "        mask = None\n",
    "        output = self.encoder (src, mask)\n",
    "        output = self.decoder (output, output_size)\n",
    "        return output"
   ]
  },
  {
   "cell_type": "code",
   "execution_count": null,
   "metadata": {
    "scrolled": true
   },
   "outputs": [],
   "source": [
    "transformer = Transformer(training_data.shape[2], training_data.shape[2], 4, 0)\n",
    "\n",
    "transformer.forward(training_data, testing_data)"
   ]
  },
  {
   "cell_type": "code",
   "execution_count": null,
   "metadata": {
    "scrolled": true
   },
   "outputs": [],
   "source": []
  }
 ],
 "metadata": {
  "kernelspec": {
   "display_name": "Python 3 (ipykernel)",
   "language": "python",
   "name": "python3"
  },
  "language_info": {
   "codemirror_mode": {
    "name": "ipython",
    "version": 3
   },
   "file_extension": ".py",
   "mimetype": "text/x-python",
   "name": "python",
   "nbconvert_exporter": "python",
   "pygments_lexer": "ipython3",
   "version": "3.9.7"
  }
 },
 "nbformat": 4,
 "nbformat_minor": 1
}
